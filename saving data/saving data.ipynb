{
 "cells": [
  {
   "cell_type": "code",
   "execution_count": 87,
   "id": "425cc75e",
   "metadata": {},
   "outputs": [],
   "source": [
    "import numpy as np"
   ]
  },
  {
   "cell_type": "code",
   "execution_count": 89,
   "id": "afd59c63",
   "metadata": {},
   "outputs": [],
   "source": [
    "# np.save()"
   ]
  },
  {
   "cell_type": "code",
   "execution_count": 97,
   "id": "ec10b2c5",
   "metadata": {},
   "outputs": [
    {
     "data": {
      "text/plain": [
       "array([['LoanID', 'StringID', 'Product', ..., 'Location', 'Region', 'TotalPrice'],\n",
       "       ['1', 'id_1', 'Product B', ..., 'Location 2', 'Region 2', '16600.0'],\n",
       "       ['2', 'id_2', 'Product B', ..., 'Location 3', '', '16600.0'],\n",
       "       ...,\n",
       "       ['1041', 'id_1041', 'Product B', ..., 'Location 23', 'Region 4', '16600.0'],\n",
       "       ['1042', 'id_1042', 'Product C', ..., 'Location 52', 'Region 6', '15600.0'],\n",
       "       ['1043', 'id_1043', 'Product B', ..., 'Location 142', 'Region 6', '16600.0']], dtype='<U14')"
      ]
     },
     "execution_count": 97,
     "metadata": {},
     "output_type": "execute_result"
    }
   ],
   "source": [
    "lending_co = np.genfromtxt(r\"C:\\Users\\97798\\Desktop\\5.1 Lending-Company-Saving.csv\", \n",
    "                          delimiter=',',\n",
    "                           dtype = np.str_\n",
    "                          )\n",
    "\n",
    "lending_co"
   ]
  },
  {
   "cell_type": "code",
   "execution_count": 98,
   "id": "5b6f2705",
   "metadata": {},
   "outputs": [],
   "source": [
    "np.save(\"Lending-company-saving\", lending_co)"
   ]
  },
  {
   "cell_type": "code",
   "execution_count": 99,
   "id": "a6d9b5b1",
   "metadata": {},
   "outputs": [],
   "source": [
    "# npy is special type of text file native to numpy \n",
    "# npy is much faster\n",
    "# npy files takes up way less memory space\n"
   ]
  },
  {
   "cell_type": "code",
   "execution_count": 101,
   "id": "9fcc0dec",
   "metadata": {},
   "outputs": [],
   "source": [
    "loading_data_save = np.load(\"Lending-company-saving.npy\")\n"
   ]
  },
  {
   "cell_type": "code",
   "execution_count": 102,
   "id": "9a979b4f",
   "metadata": {},
   "outputs": [
    {
     "name": "stdout",
     "output_type": "stream",
     "text": [
      "[['LoanID' 'StringID' 'Product' ... 'Location' 'Region' 'TotalPrice']\n",
      " ['1' 'id_1' 'Product B' ... 'Location 2' 'Region 2' '16600.0']\n",
      " ['2' 'id_2' 'Product B' ... 'Location 3' '' '16600.0']\n",
      " ...\n",
      " ['1041' 'id_1041' 'Product B' ... 'Location 23' 'Region 4' '16600.0']\n",
      " ['1042' 'id_1042' 'Product C' ... 'Location 52' 'Region 6' '15600.0']\n",
      " ['1043' 'id_1043' 'Product B' ... 'Location 142' 'Region 6' '16600.0']]\n"
     ]
    }
   ],
   "source": [
    "print(loading_data_save)"
   ]
  },
  {
   "cell_type": "code",
   "execution_count": 103,
   "id": "d7d4d453",
   "metadata": {},
   "outputs": [
    {
     "data": {
      "text/plain": [
       "True"
      ]
     },
     "execution_count": 103,
     "metadata": {},
     "output_type": "execute_result"
    }
   ],
   "source": [
    "np.array_equal(loading_data_save,lending_co)"
   ]
  },
  {
   "cell_type": "code",
   "execution_count": 105,
   "id": "870a4432",
   "metadata": {},
   "outputs": [],
   "source": [
    "# np.savez()"
   ]
  },
  {
   "cell_type": "code",
   "execution_count": 109,
   "id": "8b79b28c",
   "metadata": {},
   "outputs": [],
   "source": [
    "lending_co = np.genfromtxt(r\"C:\\Users\\97798\\Desktop\\5.1 Lending-Company-Saving.csv\", \n",
    "                          delimiter=',',\n",
    "                           dtype = np.str_\n",
    "                          )\n",
    "\n",
    "loading_data_save = np.load(\"Lending-company-saving.npy\")\n"
   ]
  },
  {
   "cell_type": "code",
   "execution_count": 110,
   "id": "05738a11",
   "metadata": {},
   "outputs": [],
   "source": [
    "np.savez(\"Lending-company-saving\", lending_co)"
   ]
  },
  {
   "cell_type": "code",
   "execution_count": 111,
   "id": "63ba1733",
   "metadata": {},
   "outputs": [],
   "source": [
    "# npz is like an archive of npys that can store multiple arrays\n",
    "\n",
    "# instead of storing different datasets in seperate npy files, we can store all of them in a single npz"
   ]
  },
  {
   "cell_type": "markdown",
   "id": "518870e9",
   "metadata": {},
   "source": [
    "np.savez(\"Lending-company-saving\", lending_co,loading_data_save)"
   ]
  },
  {
   "cell_type": "code",
   "execution_count": 113,
   "id": "1ac5a42e",
   "metadata": {},
   "outputs": [],
   "source": [
    "loading_data_save1 = np.load(\"Lending-company-saving.npz\")\n"
   ]
  },
  {
   "cell_type": "code",
   "execution_count": 115,
   "id": "2127a7a8",
   "metadata": {},
   "outputs": [
    {
     "name": "stdout",
     "output_type": "stream",
     "text": [
      "[['LoanID' 'StringID' 'Product' ... 'Location' 'Region' 'TotalPrice']\n",
      " ['1' 'id_1' 'Product B' ... 'Location 2' 'Region 2' '16600.0']\n",
      " ['2' 'id_2' 'Product B' ... 'Location 3' '' '16600.0']\n",
      " ...\n",
      " ['1041' 'id_1041' 'Product B' ... 'Location 23' 'Region 4' '16600.0']\n",
      " ['1042' 'id_1042' 'Product C' ... 'Location 52' 'Region 6' '15600.0']\n",
      " ['1043' 'id_1043' 'Product B' ... 'Location 142' 'Region 6' '16600.0']]\n"
     ]
    }
   ],
   "source": [
    "print(loading_data_save1[\"arr_0\"])"
   ]
  },
  {
   "cell_type": "code",
   "execution_count": 116,
   "id": "e4eb03ae",
   "metadata": {},
   "outputs": [],
   "source": [
    "np.savez(\"Lending-company-saving\", company = lending_co,data_save = loading_data_save)"
   ]
  },
  {
   "cell_type": "code",
   "execution_count": 117,
   "id": "e24f0208",
   "metadata": {},
   "outputs": [],
   "source": [
    "lending_data_savez = np.load(\"Lending-company-saving.npz\")"
   ]
  },
  {
   "cell_type": "code",
   "execution_count": 120,
   "id": "2276bf7f",
   "metadata": {},
   "outputs": [
    {
     "data": {
      "text/plain": [
       "['company', 'data_save']"
      ]
     },
     "execution_count": 120,
     "metadata": {},
     "output_type": "execute_result"
    }
   ],
   "source": [
    "lending_data_savez.files"
   ]
  },
  {
   "cell_type": "code",
   "execution_count": 122,
   "id": "b4d4c0d5",
   "metadata": {},
   "outputs": [
    {
     "name": "stdout",
     "output_type": "stream",
     "text": [
      "[['LoanID' 'StringID' 'Product' ... 'Location' 'Region' 'TotalPrice']\n",
      " ['1' 'id_1' 'Product B' ... 'Location 2' 'Region 2' '16600.0']\n",
      " ['2' 'id_2' 'Product B' ... 'Location 3' '' '16600.0']\n",
      " ...\n",
      " ['1041' 'id_1041' 'Product B' ... 'Location 23' 'Region 4' '16600.0']\n",
      " ['1042' 'id_1042' 'Product C' ... 'Location 52' 'Region 6' '15600.0']\n",
      " ['1043' 'id_1043' 'Product B' ... 'Location 142' 'Region 6' '16600.0']]\n"
     ]
    }
   ],
   "source": [
    "print(lending_data_savez[\"company\"])"
   ]
  },
  {
   "cell_type": "code",
   "execution_count": 123,
   "id": "4f126fd1",
   "metadata": {},
   "outputs": [
    {
     "data": {
      "text/plain": [
       "True"
      ]
     },
     "execution_count": 123,
     "metadata": {},
     "output_type": "execute_result"
    }
   ],
   "source": [
    "np.array_equal(lending_data_savez[\"company\"],lending_data_savez[\"data_save\"])"
   ]
  },
  {
   "cell_type": "code",
   "execution_count": 124,
   "id": "c66facc5",
   "metadata": {},
   "outputs": [],
   "source": [
    "# # np.savetxt()\n",
    "\n",
    "# store data in text files\n",
    "\n"
   ]
  },
  {
   "cell_type": "code",
   "execution_count": 125,
   "id": "d9d4b8fa",
   "metadata": {},
   "outputs": [],
   "source": [
    "lending_co = np.genfromtxt(r\"C:\\Users\\97798\\Desktop\\5.1 Lending-Company-Saving.csv\", \n",
    "                          delimiter=',',\n",
    "                           dtype = np.str_\n",
    "                          )"
   ]
  },
  {
   "cell_type": "code",
   "execution_count": 127,
   "id": "104c258a",
   "metadata": {},
   "outputs": [],
   "source": [
    "np.savetxt(\"Lending-Company-Saving.txt\",\n",
    "        lending_co,\n",
    "        fmt = '%',\n",
    "        delimiter = ','\n",
    "       )\n"
   ]
  },
  {
   "cell_type": "code",
   "execution_count": 130,
   "id": "6d2f475e",
   "metadata": {},
   "outputs": [
    {
     "name": "stdout",
     "output_type": "stream",
     "text": [
      "[['LoanID' 'StringID' 'Product' ... 'Location' 'Region' 'TotalPrice']\n",
      " ['1' 'id_1' 'Product B' ... 'Location 2' 'Region 2' '16600.0']\n",
      " ['2' 'id_2' 'Product B' ... 'Location 3' '' '16600.0']\n",
      " ...\n",
      " ['1041' 'id_1041' 'Product B' ... 'Location 23' 'Region 4' '16600.0']\n",
      " ['1042' 'id_1042' 'Product C' ... 'Location 52' 'Region 6' '15600.0']\n",
      " ['1043' 'id_1043' 'Product B' ... 'Location 142' 'Region 6' '16600.0']]\n"
     ]
    }
   ],
   "source": [
    "lending_data_savetxt = np.genfromtxt(\"Lending-Company-Saving.txt\",\n",
    "                                     delimiter= ',',\n",
    "                                     dtype=np.str_\n",
    "                                                    \n",
    "    \n",
    ")\n",
    "print(lending_data_savetxt)"
   ]
  },
  {
   "cell_type": "code",
   "execution_count": 131,
   "id": "d123cafa",
   "metadata": {},
   "outputs": [
    {
     "data": {
      "text/plain": [
       "True"
      ]
     },
     "execution_count": 131,
     "metadata": {},
     "output_type": "execute_result"
    }
   ],
   "source": [
    "np.array_equal(lending_data_savetxt,lending_co)"
   ]
  },
  {
   "cell_type": "code",
   "execution_count": null,
   "id": "6964ba7b",
   "metadata": {},
   "outputs": [],
   "source": []
  }
 ],
 "metadata": {
  "kernelspec": {
   "display_name": "Python 3 (ipykernel)",
   "language": "python",
   "name": "python3"
  },
  "language_info": {
   "codemirror_mode": {
    "name": "ipython",
    "version": 3
   },
   "file_extension": ".py",
   "mimetype": "text/x-python",
   "name": "python",
   "nbconvert_exporter": "python",
   "pygments_lexer": "ipython3",
   "version": "3.9.12"
  }
 },
 "nbformat": 4,
 "nbformat_minor": 5
}
