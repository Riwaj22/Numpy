{
 "cells": [
  {
   "cell_type": "code",
   "execution_count": 471,
   "id": "7a430f22",
   "metadata": {},
   "outputs": [],
   "source": [
    "import numpy as np"
   ]
  },
  {
   "cell_type": "code",
   "execution_count": 472,
   "id": "95800b0c",
   "metadata": {},
   "outputs": [],
   "source": [
    "# like functions\n"
   ]
  },
  {
   "cell_type": "code",
   "execution_count": 473,
   "id": "4184b83b",
   "metadata": {},
   "outputs": [],
   "source": [
    "matrix_a = np.array([[1,0,9,2,2],[3,3,3,5,4],[1,2,3,4,1]])"
   ]
  },
  {
   "cell_type": "code",
   "execution_count": 475,
   "id": "82a61e74",
   "metadata": {},
   "outputs": [
    {
     "data": {
      "text/plain": [
       "array([[1, 0, 9, 2, 2],\n",
       "       [3, 3, 3, 5, 4],\n",
       "       [1, 2, 3, 4, 1]])"
      ]
     },
     "execution_count": 475,
     "metadata": {},
     "output_type": "execute_result"
    }
   ],
   "source": [
    "matrix_a"
   ]
  },
  {
   "cell_type": "code",
   "execution_count": 476,
   "id": "5187ba39",
   "metadata": {},
   "outputs": [],
   "source": [
    "array_empty_like = np.empty_like(matrix_a)"
   ]
  },
  {
   "cell_type": "code",
   "execution_count": 477,
   "id": "b6d7f622",
   "metadata": {},
   "outputs": [
    {
     "data": {
      "text/plain": [
       "array([[   0,    0,    0,    0,    0],\n",
       "       [   0,    0,    0,    0,    0],\n",
       "       [1628,    0,    0,  458,    0]])"
      ]
     },
     "execution_count": 477,
     "metadata": {},
     "output_type": "execute_result"
    }
   ],
   "source": [
    "array_empty_like"
   ]
  },
  {
   "cell_type": "code",
   "execution_count": 478,
   "id": "11bbae81",
   "metadata": {},
   "outputs": [
    {
     "data": {
      "text/plain": [
       "(3, 5)"
      ]
     },
     "execution_count": 478,
     "metadata": {},
     "output_type": "execute_result"
    }
   ],
   "source": [
    "array_empty_like.shape"
   ]
  },
  {
   "cell_type": "code",
   "execution_count": 479,
   "id": "ed85323d",
   "metadata": {},
   "outputs": [],
   "source": [
    "# zeroslike\n",
    "array_zero_like = np.zeros_like(matrix_a)"
   ]
  },
  {
   "cell_type": "code",
   "execution_count": 480,
   "id": "0680f3ec",
   "metadata": {},
   "outputs": [
    {
     "data": {
      "text/plain": [
       "array([[0, 0, 0, 0, 0],\n",
       "       [0, 0, 0, 0, 0],\n",
       "       [0, 0, 0, 0, 0]])"
      ]
     },
     "execution_count": 480,
     "metadata": {},
     "output_type": "execute_result"
    }
   ],
   "source": [
    "array_zero_like"
   ]
  },
  {
   "cell_type": "code",
   "execution_count": 481,
   "id": "f174881e",
   "metadata": {},
   "outputs": [],
   "source": [
    "#ones like\n",
    "array_one_like = np.ones_like(matrix_a)"
   ]
  },
  {
   "cell_type": "code",
   "execution_count": 482,
   "id": "fd74381d",
   "metadata": {},
   "outputs": [
    {
     "data": {
      "text/plain": [
       "array([[1, 1, 1, 1, 1],\n",
       "       [1, 1, 1, 1, 1],\n",
       "       [1, 1, 1, 1, 1]])"
      ]
     },
     "execution_count": 482,
     "metadata": {},
     "output_type": "execute_result"
    }
   ],
   "source": [
    "array_one_like"
   ]
  }
 ],
 "metadata": {
  "kernelspec": {
   "display_name": "Python 3 (ipykernel)",
   "language": "python",
   "name": "python3"
  },
  "language_info": {
   "codemirror_mode": {
    "name": "ipython",
    "version": 3
   },
   "file_extension": ".py",
   "mimetype": "text/x-python",
   "name": "python",
   "nbconvert_exporter": "python",
   "pygments_lexer": "ipython3",
   "version": "3.9.12"
  }
 },
 "nbformat": 4,
 "nbformat_minor": 5
}
