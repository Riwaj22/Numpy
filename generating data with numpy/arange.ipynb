{
 "cells": [
  {
   "cell_type": "code",
   "execution_count": 483,
   "id": "0375a9ef",
   "metadata": {},
   "outputs": [],
   "source": [
    "import numpy as np"
   ]
  },
  {
   "cell_type": "code",
   "execution_count": 485,
   "id": "80638cd7",
   "metadata": {},
   "outputs": [],
   "source": [
    "# # np.arange()\n",
    "\n",
    "# arange = array range\n",
    "\n",
    "# creates a sequence og consecutive values"
   ]
  },
  {
   "cell_type": "code",
   "execution_count": 487,
   "id": "b1af7ab5",
   "metadata": {},
   "outputs": [
    {
     "data": {
      "text/plain": [
       "[0, 1, 2, 3, 4, 5, 6, 7, 8, 9]"
      ]
     },
     "execution_count": 487,
     "metadata": {},
     "output_type": "execute_result"
    }
   ],
   "source": [
    "list(range(10))"
   ]
  },
  {
   "cell_type": "code",
   "execution_count": 488,
   "id": "187e9c70",
   "metadata": {},
   "outputs": [],
   "source": [
    "array_range = np.arange(30)"
   ]
  },
  {
   "cell_type": "code",
   "execution_count": 489,
   "id": "63a75495",
   "metadata": {},
   "outputs": [
    {
     "data": {
      "text/plain": [
       "array([ 0,  1,  2,  3,  4,  5,  6,  7,  8,  9, 10, 11, 12, 13, 14, 15, 16,\n",
       "       17, 18, 19, 20, 21, 22, 23, 24, 25, 26, 27, 28, 29])"
      ]
     },
     "execution_count": 489,
     "metadata": {},
     "output_type": "execute_result"
    }
   ],
   "source": [
    "array_range"
   ]
  },
  {
   "cell_type": "code",
   "execution_count": 491,
   "id": "ac850d38",
   "metadata": {},
   "outputs": [
    {
     "data": {
      "text/plain": [
       "array([ 0,  1,  2,  3,  4,  5,  6,  7,  8,  9, 10, 11, 12, 13, 14, 15, 16,\n",
       "       17, 18, 19, 20, 21, 22, 23, 24, 25, 26, 27, 28, 29])"
      ]
     },
     "execution_count": 491,
     "metadata": {},
     "output_type": "execute_result"
    }
   ],
   "source": [
    "array_range = np.arange(start = 0, stop =30)\n",
    "array_range"
   ]
  },
  {
   "cell_type": "code",
   "execution_count": 494,
   "id": "bf4326e9",
   "metadata": {},
   "outputs": [
    {
     "data": {
      "text/plain": [
       "array([ 0. ,  2.5,  5. ,  7.5, 10. , 12.5, 15. , 17.5, 20. , 22.5, 25. ,\n",
       "       27.5])"
      ]
     },
     "execution_count": 494,
     "metadata": {},
     "output_type": "execute_result"
    }
   ],
   "source": [
    "array_range = np.arange(start = 0, stop =30,step = 2.5, dtype = np.float64)\n",
    "array_range"
   ]
  },
  {
   "cell_type": "code",
   "execution_count": 496,
   "id": "750e993a",
   "metadata": {},
   "outputs": [
    {
     "data": {
      "text/plain": [
       "array([ 0,  2,  4,  6,  8, 10, 12, 14, 16, 18, 20, 22])"
      ]
     },
     "execution_count": 496,
     "metadata": {},
     "output_type": "execute_result"
    }
   ],
   "source": [
    "array_range = np.arange(start = 0, stop =30,step = 2.5, dtype = np.int32)\n",
    "array_range"
   ]
  },
  {
   "cell_type": "code",
   "execution_count": null,
   "id": "1cdc238e",
   "metadata": {},
   "outputs": [],
   "source": []
  }
 ],
 "metadata": {
  "kernelspec": {
   "display_name": "Python 3 (ipykernel)",
   "language": "python",
   "name": "python3"
  },
  "language_info": {
   "codemirror_mode": {
    "name": "ipython",
    "version": 3
   },
   "file_extension": ".py",
   "mimetype": "text/x-python",
   "name": "python",
   "nbconvert_exporter": "python",
   "pygments_lexer": "ipython3",
   "version": "3.9.12"
  }
 },
 "nbformat": 4,
 "nbformat_minor": 5
}
