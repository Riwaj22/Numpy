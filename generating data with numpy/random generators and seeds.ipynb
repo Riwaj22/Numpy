{
 "cells": [
  {
   "cell_type": "code",
   "execution_count": 497,
   "id": "26aa2d21",
   "metadata": {},
   "outputs": [],
   "source": [
    "import numpy as np"
   ]
  },
  {
   "cell_type": "code",
   "execution_count": 498,
   "id": "45b16277",
   "metadata": {},
   "outputs": [],
   "source": [
    "from numpy.random import Generator as gen\n",
    "from numpy.random import PCG64 as pcg"
   ]
  },
  {
   "cell_type": "code",
   "execution_count": 499,
   "id": "9ba8d9cb",
   "metadata": {},
   "outputs": [],
   "source": [
    "# the generator function takes a bit generator as an input and creates generator object"
   ]
  },
  {
   "cell_type": "code",
   "execution_count": 501,
   "id": "f9448056",
   "metadata": {},
   "outputs": [
    {
     "data": {
      "text/plain": [
       "array([[ 0.18216682,  1.31046432,  0.89681973, -0.9451938 ,  1.07423717],\n",
       "       [-0.49836978, -0.73463532,  2.24520327, -0.8438425 ,  0.43726786],\n",
       "       [ 0.47552842,  1.78008906, -0.20446408,  0.12124379, -0.49638231],\n",
       "       [ 0.2771853 ,  0.25181678,  0.15791141, -0.26163267, -0.9779416 ],\n",
       "       [-1.65965578, -0.63694472, -0.93196798, -0.67043038, -2.11683345]])"
      ]
     },
     "execution_count": 501,
     "metadata": {},
     "output_type": "execute_result"
    }
   ],
   "source": [
    "array_rg = gen(pcg())\n",
    "array_rg.normal(size = (5,5))"
   ]
  },
  {
   "cell_type": "code",
   "execution_count": 502,
   "id": "d6689485",
   "metadata": {},
   "outputs": [],
   "source": [
    "# every time we call the method, the generator randomly selects a seed\n",
    "# seed is a set of starting parameters for the algorithm"
   ]
  },
  {
   "cell_type": "code",
   "execution_count": 507,
   "id": "ba82c721",
   "metadata": {},
   "outputs": [
    {
     "data": {
      "text/plain": [
       "array([[-0.13640899,  0.09414431, -0.06300442,  1.05391641, -0.6866818 ],\n",
       "       [-0.50922173, -0.7999526 ,  0.73041825,  0.08825439, -2.1177576 ],\n",
       "       [ 0.65526774, -0.48095012, -0.5519114 , -0.58578662, -0.98257896],\n",
       "       [ 1.12378166, -1.30984316, -0.04703774,  0.955272  ,  0.26071745],\n",
       "       [-0.20023668, -1.50172484, -1.4929163 ,  0.96535084,  1.18694633]])"
      ]
     },
     "execution_count": 507,
     "metadata": {},
     "output_type": "execute_result"
    }
   ],
   "source": [
    "array_rg = gen(pcg(seed = 365))\n",
    "array_rg.normal(size = (5,5))"
   ]
  },
  {
   "cell_type": "code",
   "execution_count": 512,
   "id": "7e2f1057",
   "metadata": {},
   "outputs": [
    {
     "data": {
      "text/plain": [
       "array([[-0.25906657, -0.16532638, -0.47735775, -0.52855221,  1.70374643],\n",
       "       [-0.24469883, -0.14733608, -0.4081149 ,  0.85591897,  0.2208273 ],\n",
       "       [-0.50401804, -0.31628129,  0.37721236,  0.72377218, -1.05689925],\n",
       "       [-1.0395866 ,  0.39665421, -0.50851684, -0.38667483, -0.28611018],\n",
       "       [ 0.03041171, -0.86403978,  0.62177882, -0.85974799, -0.16177904]])"
      ]
     },
     "execution_count": 512,
     "metadata": {},
     "output_type": "execute_result"
    }
   ],
   "source": [
    "array_rg.normal(size = (5,5))"
   ]
  },
  {
   "cell_type": "code",
   "execution_count": null,
   "id": "a4875888",
   "metadata": {},
   "outputs": [],
   "source": []
  }
 ],
 "metadata": {
  "kernelspec": {
   "display_name": "Python 3 (ipykernel)",
   "language": "python",
   "name": "python3"
  },
  "language_info": {
   "codemirror_mode": {
    "name": "ipython",
    "version": 3
   },
   "file_extension": ".py",
   "mimetype": "text/x-python",
   "name": "python",
   "nbconvert_exporter": "python",
   "pygments_lexer": "ipython3",
   "version": "3.9.12"
  }
 },
 "nbformat": 4,
 "nbformat_minor": 5
}
