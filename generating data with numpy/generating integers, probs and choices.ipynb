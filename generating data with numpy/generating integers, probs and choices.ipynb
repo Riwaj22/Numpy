{
 "cells": [
  {
   "cell_type": "code",
   "execution_count": 497,
   "id": "94de0575",
   "metadata": {},
   "outputs": [],
   "source": [
    "import numpy as np"
   ]
  },
  {
   "cell_type": "code",
   "execution_count": 513,
   "id": "fd72ca9a",
   "metadata": {},
   "outputs": [],
   "source": [
    "from numpy.random import Generator as gen\n",
    "from numpy.random import PCG64 as pcg"
   ]
  },
  {
   "cell_type": "code",
   "execution_count": 514,
   "id": "8a2d4bea",
   "metadata": {},
   "outputs": [],
   "source": [
    "array_rg = gen(pcg(seed = 365))"
   ]
  },
  {
   "cell_type": "code",
   "execution_count": 518,
   "id": "550e5b88",
   "metadata": {},
   "outputs": [
    {
     "data": {
      "text/plain": [
       "array([[-0.06300442,  1.05391641, -0.6866818 , -0.50922173, -0.7999526 ,\n",
       "         0.73041825,  0.08825439],\n",
       "       [-2.1177576 ,  0.65526774, -0.48095012, -0.5519114 , -0.58578662,\n",
       "        -0.98257896,  1.12378166],\n",
       "       [-1.30984316, -0.04703774,  0.955272  ,  0.26071745, -0.20023668,\n",
       "        -1.50172484, -1.4929163 ],\n",
       "       [ 0.96535084,  1.18694633, -0.76065577,  1.48158358,  0.01200258,\n",
       "        -0.06846959,  0.25301664],\n",
       "       [-0.52640788,  0.79613109,  0.28203421,  1.80238008,  0.93932117,\n",
       "        -0.53693283, -0.26317689],\n",
       "       [-1.77723035,  1.14900013, -2.20733915,  1.54116775, -0.5124932 ,\n",
       "        -2.14564563,  1.98878673],\n",
       "       [ 0.32208907, -1.2651495 ,  3.2714633 ,  1.78650493, -0.20233675,\n",
       "         0.20427467,  0.58830139]])"
      ]
     },
     "execution_count": 518,
     "metadata": {},
     "output_type": "execute_result"
    }
   ],
   "source": [
    "array_rg.normal(size = (7,7))"
   ]
  },
  {
   "cell_type": "code",
   "execution_count": 520,
   "id": "e00426b6",
   "metadata": {},
   "outputs": [
    {
     "data": {
      "text/plain": [
       "array([[43, 48, 58, 22, 83],\n",
       "       [67, 16, 34, 94, 13],\n",
       "       [53, 60, 93, 11, 30],\n",
       "       [35, 68, 70, 12, 51],\n",
       "       [97, 83, 41, 96, 16]], dtype=int64)"
      ]
     },
     "execution_count": 520,
     "metadata": {},
     "output_type": "execute_result"
    }
   ],
   "source": [
    "array_rg.integers(low = 10, high =100, size =(5,5))"
   ]
  },
  {
   "cell_type": "code",
   "execution_count": 521,
   "id": "fd97dafa",
   "metadata": {},
   "outputs": [
    {
     "data": {
      "text/plain": [
       "array([[0.75915734, 0.7662218 , 0.6291028 , 0.20336599, 0.66501486],\n",
       "       [0.06559111, 0.71326309, 0.10812106, 0.87969046, 0.49405844],\n",
       "       [0.82472673, 0.45652944, 0.07367232, 0.69628564, 0.36690736],\n",
       "       [0.29787156, 0.4996155 , 0.4865245 , 0.62740703, 0.54952637],\n",
       "       [0.64894629, 0.04411757, 0.7206516 , 0.84594003, 0.17159792]])"
      ]
     },
     "execution_count": 521,
     "metadata": {},
     "output_type": "execute_result"
    }
   ],
   "source": [
    "array_rg = gen(pcg(seed = 365))\n",
    "array_rg.random( size =(5,5))"
   ]
  },
  {
   "cell_type": "code",
   "execution_count": 522,
   "id": "eb270394",
   "metadata": {},
   "outputs": [],
   "source": [
    "# numpy.choice()\n",
    "# simulates the idea of making an arbitary choice out of a given sequence"
   ]
  },
  {
   "cell_type": "code",
   "execution_count": 526,
   "id": "3f353575",
   "metadata": {},
   "outputs": [
    {
     "data": {
      "text/plain": [
       "array([[1, 4, 4, 4, 5],\n",
       "       [4, 4, 2, 1, 4],\n",
       "       [2, 1, 2, 4, 5],\n",
       "       [1, 1, 5, 4, 3],\n",
       "       [3, 5, 4, 3, 5]])"
      ]
     },
     "execution_count": 526,
     "metadata": {},
     "output_type": "execute_result"
    }
   ],
   "source": [
    "array_rg = gen(pcg(seed = 365))\n",
    "array_rg.choice([1,2,3,4,5]\n",
    "                , size =(5,5))"
   ]
  },
  {
   "cell_type": "code",
   "execution_count": 527,
   "id": "32b677e0",
   "metadata": {},
   "outputs": [
    {
     "data": {
      "text/plain": [
       "array([[5, 5, 5, 3, 5],\n",
       "       [1, 5, 2, 5, 5],\n",
       "       [5, 5, 1, 5, 4],\n",
       "       [3, 5, 5, 5, 5],\n",
       "       [5, 1, 5, 5, 2]])"
      ]
     },
     "execution_count": 527,
     "metadata": {},
     "output_type": "execute_result"
    }
   ],
   "source": [
    "array_rg = gen(pcg(seed = 365))\n",
    "array_rg.choice([1,2,3,4,5],p=[0.1,0.1,0.1,0.1,0.6], size =(5,5))"
   ]
  },
  {
   "cell_type": "code",
   "execution_count": null,
   "id": "9e234f49",
   "metadata": {},
   "outputs": [],
   "source": []
  }
 ],
 "metadata": {
  "kernelspec": {
   "display_name": "Python 3 (ipykernel)",
   "language": "python",
   "name": "python3"
  },
  "language_info": {
   "codemirror_mode": {
    "name": "ipython",
    "version": 3
   },
   "file_extension": ".py",
   "mimetype": "text/x-python",
   "name": "python",
   "nbconvert_exporter": "python",
   "pygments_lexer": "ipython3",
   "version": "3.9.12"
  }
 },
 "nbformat": 4,
 "nbformat_minor": 5
}
