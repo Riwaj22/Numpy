{
 "cells": [
  {
   "cell_type": "code",
   "execution_count": 346,
   "id": "55cd17af",
   "metadata": {},
   "outputs": [],
   "source": [
    "import numpy as np"
   ]
  },
  {
   "cell_type": "code",
   "execution_count": 347,
   "id": "a3bc9691",
   "metadata": {},
   "outputs": [],
   "source": [
    "matrix_d = np.array([[1,1,1,2,0],[3,6,6,7,4],[4,5,3,0,0]])"
   ]
  },
  {
   "cell_type": "code",
   "execution_count": 348,
   "id": "eb54d4ea",
   "metadata": {},
   "outputs": [
    {
     "data": {
      "text/plain": [
       "array([[1, 1, 1, 2, 0],\n",
       "       [3, 6, 6, 7, 4],\n",
       "       [4, 5, 3, 0, 0]])"
      ]
     },
     "execution_count": 348,
     "metadata": {},
     "output_type": "execute_result"
    }
   ],
   "source": [
    "matrix_d"
   ]
  },
  {
   "cell_type": "code",
   "execution_count": 349,
   "id": "50840b58",
   "metadata": {},
   "outputs": [
    {
     "data": {
      "text/plain": [
       "numpy.int32"
      ]
     },
     "execution_count": 349,
     "metadata": {},
     "output_type": "execute_result"
    }
   ],
   "source": [
    "type(matrix_d[0,0])"
   ]
  },
  {
   "cell_type": "code",
   "execution_count": 350,
   "id": "a71048b3",
   "metadata": {},
   "outputs": [
    {
     "name": "stdout",
     "output_type": "stream",
     "text": [
      "1\n"
     ]
    }
   ],
   "source": [
    "print(matrix_d[0,0])"
   ]
  },
  {
   "cell_type": "code",
   "execution_count": 351,
   "id": "bf390f51",
   "metadata": {},
   "outputs": [
    {
     "data": {
      "text/plain": [
       "numpy.ndarray"
      ]
     },
     "execution_count": 351,
     "metadata": {},
     "output_type": "execute_result"
    }
   ],
   "source": [
    "type(matrix_d[0,0:1])"
   ]
  },
  {
   "cell_type": "code",
   "execution_count": 352,
   "id": "82315a9f",
   "metadata": {},
   "outputs": [
    {
     "name": "stdout",
     "output_type": "stream",
     "text": [
      "[1]\n"
     ]
    }
   ],
   "source": [
    "print(matrix_d[0,0:1])"
   ]
  },
  {
   "cell_type": "code",
   "execution_count": 354,
   "id": "a006e761",
   "metadata": {},
   "outputs": [
    {
     "name": "stdout",
     "output_type": "stream",
     "text": [
      "[[1]]\n"
     ]
    }
   ],
   "source": [
    "print(matrix_d[0:1,0:1])"
   ]
  },
  {
   "cell_type": "code",
   "execution_count": 356,
   "id": "3c5b8383",
   "metadata": {},
   "outputs": [
    {
     "name": "stdout",
     "output_type": "stream",
     "text": [
      "(5,)\n",
      "(1,)\n",
      "(1, 1)\n"
     ]
    }
   ],
   "source": [
    "print(matrix_d[0].shape)\n",
    "print(matrix_d[0,0:1].shape)\n",
    "print(matrix_d[0:1,0:1].shape)"
   ]
  },
  {
   "cell_type": "code",
   "execution_count": 357,
   "id": "0d48345f",
   "metadata": {},
   "outputs": [],
   "source": [
    "# first notation gives an scaler value\n",
    "# second notation gives an vector value \n",
    "# whereas third notation gives an matrix"
   ]
  },
  {
   "cell_type": "code",
   "execution_count": 358,
   "id": "1812d2f3",
   "metadata": {},
   "outputs": [],
   "source": [
    "# squezze method:\n",
    "#     removes all the uneccesary dimensions"
   ]
  },
  {
   "cell_type": "code",
   "execution_count": 359,
   "id": "dfb45ddf",
   "metadata": {},
   "outputs": [
    {
     "data": {
      "text/plain": [
       "array(1)"
      ]
     },
     "execution_count": 359,
     "metadata": {},
     "output_type": "execute_result"
    }
   ],
   "source": [
    "matrix_d[0:1,0:1].squeeze()"
   ]
  },
  {
   "cell_type": "code",
   "execution_count": 360,
   "id": "2cfba8f7",
   "metadata": {},
   "outputs": [
    {
     "data": {
      "text/plain": [
       "numpy.ndarray"
      ]
     },
     "execution_count": 360,
     "metadata": {},
     "output_type": "execute_result"
    }
   ],
   "source": [
    "type(matrix_d[0:1,0:1].squeeze())"
   ]
  },
  {
   "cell_type": "code",
   "execution_count": 361,
   "id": "172fa002",
   "metadata": {},
   "outputs": [
    {
     "name": "stdout",
     "output_type": "stream",
     "text": [
      "1\n"
     ]
    }
   ],
   "source": [
    "print(matrix_d[0:1,0:1].squeeze())"
   ]
  },
  {
   "cell_type": "code",
   "execution_count": 362,
   "id": "4aca477f",
   "metadata": {},
   "outputs": [
    {
     "data": {
      "text/plain": [
       "array(1)"
      ]
     },
     "execution_count": 362,
     "metadata": {},
     "output_type": "execute_result"
    }
   ],
   "source": [
    "np.squeeze(matrix_d[0:1,0:1])"
   ]
  },
  {
   "cell_type": "code",
   "execution_count": 364,
   "id": "98203ca2",
   "metadata": {},
   "outputs": [
    {
     "data": {
      "text/plain": [
       "()"
      ]
     },
     "execution_count": 364,
     "metadata": {},
     "output_type": "execute_result"
    }
   ],
   "source": [
    "np.squeeze(matrix_d[0:1,0:1]).shape"
   ]
  },
  {
   "cell_type": "code",
   "execution_count": 365,
   "id": "d125e1bb",
   "metadata": {},
   "outputs": [
    {
     "name": "stdout",
     "output_type": "stream",
     "text": [
      "(5,)\n",
      "()\n",
      "()\n"
     ]
    }
   ],
   "source": [
    "print(matrix_d[0].squeeze().shape)\n",
    "print(matrix_d[0,0:1].squeeze().shape)\n",
    "print(matrix_d[0:1,0:1].squeeze().shape)"
   ]
  },
  {
   "cell_type": "code",
   "execution_count": null,
   "id": "0bb26e3d",
   "metadata": {},
   "outputs": [],
   "source": []
  }
 ],
 "metadata": {
  "kernelspec": {
   "display_name": "Python 3 (ipykernel)",
   "language": "python",
   "name": "python3"
  },
  "language_info": {
   "codemirror_mode": {
    "name": "ipython",
    "version": 3
   },
   "file_extension": ".py",
   "mimetype": "text/x-python",
   "name": "python",
   "nbconvert_exporter": "python",
   "pygments_lexer": "ipython3",
   "version": "3.9.12"
  }
 },
 "nbformat": 4,
 "nbformat_minor": 5
}
