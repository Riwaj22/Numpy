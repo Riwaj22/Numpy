{
 "cells": [
  {
   "cell_type": "code",
   "execution_count": 313,
   "id": "50bdb149",
   "metadata": {},
   "outputs": [],
   "source": [
    "import numpy as np"
   ]
  },
  {
   "cell_type": "code",
   "execution_count": 325,
   "id": "08f72a3d",
   "metadata": {},
   "outputs": [],
   "source": [
    "# stepwise splicing\n",
    "\n",
    "# slicing where we donot take consecutive values\n",
    "# values which are a certain distance apart given by steps"
   ]
  },
  {
   "cell_type": "code",
   "execution_count": 315,
   "id": "ef0efa9e",
   "metadata": {},
   "outputs": [],
   "source": [
    "matrix_b = np.array([[1,1,1,2,0],[3,6,5,4,7],[4,5,3,8,0]])"
   ]
  },
  {
   "cell_type": "code",
   "execution_count": 316,
   "id": "521173d7",
   "metadata": {},
   "outputs": [
    {
     "data": {
      "text/plain": [
       "array([[1, 1, 1, 2, 0],\n",
       "       [3, 6, 5, 4, 7],\n",
       "       [4, 5, 3, 8, 0]])"
      ]
     },
     "execution_count": 316,
     "metadata": {},
     "output_type": "execute_result"
    }
   ],
   "source": [
    "matrix_b"
   ]
  },
  {
   "cell_type": "code",
   "execution_count": 318,
   "id": "9e879a55",
   "metadata": {},
   "outputs": [
    {
     "data": {
      "text/plain": [
       "array([[1, 1, 1, 2, 0],\n",
       "       [3, 6, 5, 4, 7],\n",
       "       [4, 5, 3, 8, 0]])"
      ]
     },
     "execution_count": 318,
     "metadata": {},
     "output_type": "execute_result"
    }
   ],
   "source": [
    "matrix_b[::,::]"
   ]
  },
  {
   "cell_type": "code",
   "execution_count": 319,
   "id": "210fb92e",
   "metadata": {},
   "outputs": [],
   "source": [
    "# syntax:\n",
    "#     matrix_b[start:end:step]"
   ]
  },
  {
   "cell_type": "code",
   "execution_count": 324,
   "id": "45bf4456",
   "metadata": {},
   "outputs": [
    {
     "data": {
      "text/plain": [
       "array([[1, 1, 0],\n",
       "       [3, 5, 7],\n",
       "       [4, 3, 0]])"
      ]
     },
     "execution_count": 324,
     "metadata": {},
     "output_type": "execute_result"
    }
   ],
   "source": [
    "matrix_b[::1,::2]"
   ]
  },
  {
   "cell_type": "code",
   "execution_count": 327,
   "id": "503e6ba6",
   "metadata": {},
   "outputs": [
    {
     "data": {
      "text/plain": [
       "array([[4, 3, 0],\n",
       "       [1, 1, 0]])"
      ]
     },
     "execution_count": 327,
     "metadata": {},
     "output_type": "execute_result"
    }
   ],
   "source": [
    "matrix_b[-1::-2,::2]"
   ]
  }
 ],
 "metadata": {
  "kernelspec": {
   "display_name": "Python 3 (ipykernel)",
   "language": "python",
   "name": "python3"
  },
  "language_info": {
   "codemirror_mode": {
    "name": "ipython",
    "version": 3
   },
   "file_extension": ".py",
   "mimetype": "text/x-python",
   "name": "python",
   "nbconvert_exporter": "python",
   "pygments_lexer": "ipython3",
   "version": "3.9.12"
  }
 },
 "nbformat": 4,
 "nbformat_minor": 5
}
