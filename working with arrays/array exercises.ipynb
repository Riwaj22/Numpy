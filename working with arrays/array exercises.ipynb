{
 "cells": [
  {
   "cell_type": "code",
   "execution_count": 366,
   "id": "018cf066",
   "metadata": {},
   "outputs": [],
   "source": [
    "import numpy as np"
   ]
  },
  {
   "cell_type": "code",
   "execution_count": 367,
   "id": "2ed0c369",
   "metadata": {},
   "outputs": [
    {
     "data": {
      "text/plain": [
       "array([10, 11, 12, 13, 14])"
      ]
     },
     "execution_count": 367,
     "metadata": {},
     "output_type": "execute_result"
    }
   ],
   "source": [
    "array_1D = np.array([10,11,12,13, 14])\n",
    "array_1D"
   ]
  },
  {
   "cell_type": "code",
   "execution_count": 368,
   "id": "b5f1bc73",
   "metadata": {},
   "outputs": [
    {
     "data": {
      "text/plain": [
       "array([[20, 30, 40, 50, 60],\n",
       "       [43, 54, 65, 76, 87],\n",
       "       [11, 22, 33, 44, 55]])"
      ]
     },
     "execution_count": 368,
     "metadata": {},
     "output_type": "execute_result"
    }
   ],
   "source": [
    "array_2D = np.array([[20,30,40,50,60], [43,54,65,76,87], [11,22,33,44,55]])\n",
    "array_2D"
   ]
  },
  {
   "cell_type": "code",
   "execution_count": 369,
   "id": "d7abc1eb",
   "metadata": {},
   "outputs": [
    {
     "data": {
      "text/plain": [
       "array([[[ 1,  2,  3,  4,  5],\n",
       "        [11, 21, 31, 41, 51]],\n",
       "\n",
       "       [[11, 12, 13, 14, 15],\n",
       "        [51, 52, 53, 54,  5]]])"
      ]
     },
     "execution_count": 369,
     "metadata": {},
     "output_type": "execute_result"
    }
   ],
   "source": [
    "array_3D = np.array([[[1,2,3,4,5], [11,21,31,41,51]], [[11,12,13,14,15], [51,52,53,54,5]]])\n",
    "array_3D"
   ]
  },
  {
   "cell_type": "code",
   "execution_count": 370,
   "id": "a28f43a4",
   "metadata": {},
   "outputs": [],
   "source": [
    "### 2. Slice the first column of the 2-D array. "
   ]
  },
  {
   "cell_type": "code",
   "execution_count": 374,
   "id": "5f2df73b",
   "metadata": {},
   "outputs": [
    {
     "data": {
      "text/plain": [
       "array([20, 43, 11])"
      ]
     },
     "execution_count": 374,
     "metadata": {},
     "output_type": "execute_result"
    }
   ],
   "source": [
    "array_2D[:,0]"
   ]
  },
  {
   "cell_type": "code",
   "execution_count": 375,
   "id": "c31a048a",
   "metadata": {},
   "outputs": [],
   "source": [
    "### 3. Slice the last column of the 2-D array"
   ]
  },
  {
   "cell_type": "code",
   "execution_count": 377,
   "id": "3f40bc15",
   "metadata": {},
   "outputs": [
    {
     "data": {
      "text/plain": [
       "array([60, 87, 55])"
      ]
     },
     "execution_count": 377,
     "metadata": {},
     "output_type": "execute_result"
    }
   ],
   "source": [
    "array_2D[:,-1]"
   ]
  },
  {
   "cell_type": "code",
   "execution_count": 378,
   "id": "8235e416",
   "metadata": {},
   "outputs": [],
   "source": [
    "### 4. Slice the second row of the 2-D array"
   ]
  },
  {
   "cell_type": "code",
   "execution_count": 379,
   "id": "5a553c54",
   "metadata": {},
   "outputs": [
    {
     "data": {
      "text/plain": [
       "array([43, 54, 65, 76, 87])"
      ]
     },
     "execution_count": 379,
     "metadata": {},
     "output_type": "execute_result"
    }
   ],
   "source": [
    "array_2D[1,:]"
   ]
  },
  {
   "cell_type": "code",
   "execution_count": 380,
   "id": "07be3f9d",
   "metadata": {},
   "outputs": [],
   "source": [
    "### 5. Slice the last two columns of the 2-nd row of the 2-D array"
   ]
  },
  {
   "cell_type": "code",
   "execution_count": 385,
   "id": "0d481c15",
   "metadata": {},
   "outputs": [
    {
     "data": {
      "text/plain": [
       "array([76, 87])"
      ]
     },
     "execution_count": 385,
     "metadata": {},
     "output_type": "execute_result"
    }
   ],
   "source": [
    "array_2D[1,3:5]"
   ]
  },
  {
   "cell_type": "code",
   "execution_count": 386,
   "id": "fef8de8e",
   "metadata": {},
   "outputs": [],
   "source": [
    "### 6. Slice the 2-nd row of the 2-D array excluding the last two columns"
   ]
  },
  {
   "cell_type": "code",
   "execution_count": 389,
   "id": "2bb207b4",
   "metadata": {},
   "outputs": [
    {
     "data": {
      "text/plain": [
       "array([43, 54, 65])"
      ]
     },
     "execution_count": 389,
     "metadata": {},
     "output_type": "execute_result"
    }
   ],
   "source": [
    "array_2D[1,0:3]"
   ]
  },
  {
   "cell_type": "code",
   "execution_count": 390,
   "id": "147dd14a",
   "metadata": {},
   "outputs": [],
   "source": [
    "### 7. Slice everything excluding the first row and last column of the 2-D array"
   ]
  },
  {
   "cell_type": "code",
   "execution_count": 395,
   "id": "b1c0dae0",
   "metadata": {},
   "outputs": [
    {
     "data": {
      "text/plain": [
       "array([[43, 54, 65, 76],\n",
       "       [11, 22, 33, 44]])"
      ]
     },
     "execution_count": 395,
     "metadata": {},
     "output_type": "execute_result"
    }
   ],
   "source": [
    "array_2D[1:,0:-1]"
   ]
  },
  {
   "cell_type": "code",
   "execution_count": 396,
   "id": "5212bd10",
   "metadata": {},
   "outputs": [],
   "source": [
    "### 8. Slice the 1st, 3rd and 5th columns of the 2-D array\n"
   ]
  },
  {
   "cell_type": "code",
   "execution_count": 403,
   "id": "5d616b0e",
   "metadata": {},
   "outputs": [
    {
     "data": {
      "text/plain": [
       "array([[20, 40, 60],\n",
       "       [43, 65, 87],\n",
       "       [11, 33, 55]])"
      ]
     },
     "execution_count": 403,
     "metadata": {},
     "output_type": "execute_result"
    }
   ],
   "source": [
    "array_2D[::,::2]"
   ]
  },
  {
   "cell_type": "code",
   "execution_count": 404,
   "id": "ce8b2b04",
   "metadata": {},
   "outputs": [],
   "source": [
    "### 9. Slice the first columns of both matrices in the 3-D array\n"
   ]
  },
  {
   "cell_type": "code",
   "execution_count": 405,
   "id": "e22dae0b",
   "metadata": {},
   "outputs": [
    {
     "data": {
      "text/plain": [
       "array([[[ 1,  2,  3,  4,  5],\n",
       "        [11, 21, 31, 41, 51]],\n",
       "\n",
       "       [[11, 12, 13, 14, 15],\n",
       "        [51, 52, 53, 54,  5]]])"
      ]
     },
     "execution_count": 405,
     "metadata": {},
     "output_type": "execute_result"
    }
   ],
   "source": [
    "array_3D"
   ]
  },
  {
   "cell_type": "code",
   "execution_count": 407,
   "id": "6ce2fabd",
   "metadata": {},
   "outputs": [
    {
     "data": {
      "text/plain": [
       "array([[[ 1],\n",
       "        [11]],\n",
       "\n",
       "       [[11],\n",
       "        [51]]])"
      ]
     },
     "execution_count": 407,
     "metadata": {},
     "output_type": "execute_result"
    }
   ],
   "source": [
    "array_3D[:,:,:1]"
   ]
  },
  {
   "cell_type": "code",
   "execution_count": 408,
   "id": "6ce877dd",
   "metadata": {},
   "outputs": [],
   "source": [
    "### 10. Slice every other column of both matrices in the 3-D array"
   ]
  },
  {
   "cell_type": "code",
   "execution_count": 416,
   "id": "7220e3d3",
   "metadata": {},
   "outputs": [
    {
     "data": {
      "text/plain": [
       "array([[[ 2,  3,  4,  5],\n",
       "        [21, 31, 41, 51]],\n",
       "\n",
       "       [[12, 13, 14, 15],\n",
       "        [52, 53, 54,  5]]])"
      ]
     },
     "execution_count": 416,
     "metadata": {},
     "output_type": "execute_result"
    }
   ],
   "source": [
    "array_3D[:,:,1:]"
   ]
  },
  {
   "cell_type": "code",
   "execution_count": 417,
   "id": "665ee232",
   "metadata": {},
   "outputs": [],
   "source": [
    "### 11. Use conditional slicing to check if the individual elements of each array satisfy a given condition (e.g. greater than 10)"
   ]
  },
  {
   "cell_type": "code",
   "execution_count": 420,
   "id": "dc9b9c66",
   "metadata": {},
   "outputs": [
    {
     "data": {
      "text/plain": [
       "array([20, 30, 40, 50, 60, 43, 54, 65, 76, 87, 11, 22, 33, 44, 55])"
      ]
     },
     "execution_count": 420,
     "metadata": {},
     "output_type": "execute_result"
    }
   ],
   "source": [
    "array_2D[array_2D[:,:]>10]"
   ]
  },
  {
   "cell_type": "code",
   "execution_count": 421,
   "id": "ff966424",
   "metadata": {},
   "outputs": [],
   "source": [
    "### 13. Add a second condition and disaply which individual elements satisfy both (e.g. greater than 10 and odd)"
   ]
  },
  {
   "cell_type": "code",
   "execution_count": 427,
   "id": "954ee9b2",
   "metadata": {},
   "outputs": [
    {
     "ename": "ValueError",
     "evalue": "The truth value of an array with more than one element is ambiguous. Use a.any() or a.all()",
     "output_type": "error",
     "traceback": [
      "\u001b[1;31m---------------------------------------------------------------------------\u001b[0m",
      "\u001b[1;31mValueError\u001b[0m                                Traceback (most recent call last)",
      "Input \u001b[1;32mIn [427]\u001b[0m, in \u001b[0;36m<cell line: 1>\u001b[1;34m()\u001b[0m\n\u001b[1;32m----> 1\u001b[0m array_2D[(array_2D[:,:]\u001b[38;5;241m>\u001b[39m\u001b[38;5;241m10\u001b[39m )\u001b[38;5;129;01mor\u001b[39;00m (array_2D[:,:]\u001b[38;5;241m%\u001b[39m\u001b[38;5;241m2\u001b[39m \u001b[38;5;241m!=\u001b[39m \u001b[38;5;241m0\u001b[39m)]\n",
      "\u001b[1;31mValueError\u001b[0m: The truth value of an array with more than one element is ambiguous. Use a.any() or a.all()"
     ]
    }
   ],
   "source": [
    "array_2D[(array_2D[:,:]>10 )| (array_2D[:,:]%2 != 0)]"
   ]
  },
  {
   "cell_type": "code",
   "execution_count": 430,
   "id": "83843b2f",
   "metadata": {},
   "outputs": [],
   "source": [
    "# ### 14. Call the first row of the first 2-D array in the 3-D array in 3 different ways:\n",
    "#     A) Use precise indices for both dimensions. \n",
    "#     B) Use a precise index for one dimension and a slice for the second dimension. \n",
    "#     C) Uses slices (from the origin, up to the second value) for both dimensions.a "
   ]
  },
  {
   "cell_type": "code",
   "execution_count": 431,
   "id": "d0b3c998",
   "metadata": {},
   "outputs": [
    {
     "data": {
      "text/plain": [
       "array([[[ 1,  2,  3,  4,  5],\n",
       "        [11, 21, 31, 41, 51]],\n",
       "\n",
       "       [[11, 12, 13, 14, 15],\n",
       "        [51, 52, 53, 54,  5]]])"
      ]
     },
     "execution_count": 431,
     "metadata": {},
     "output_type": "execute_result"
    }
   ],
   "source": [
    "array_3D"
   ]
  },
  {
   "cell_type": "code",
   "execution_count": 433,
   "id": "2f9b2573",
   "metadata": {},
   "outputs": [
    {
     "data": {
      "text/plain": [
       "array([1, 2, 3, 4, 5])"
      ]
     },
     "execution_count": 433,
     "metadata": {},
     "output_type": "execute_result"
    }
   ],
   "source": [
    "array_3D[0][0]"
   ]
  },
  {
   "cell_type": "code",
   "execution_count": 444,
   "id": "70d1bc51",
   "metadata": {},
   "outputs": [
    {
     "data": {
      "text/plain": [
       "array([[[1, 2, 3, 4, 5]]])"
      ]
     },
     "execution_count": 444,
     "metadata": {},
     "output_type": "execute_result"
    }
   ],
   "source": [
    "array_3D[:1,:1]"
   ]
  },
  {
   "cell_type": "code",
   "execution_count": 448,
   "id": "5ec86a1a",
   "metadata": {},
   "outputs": [
    {
     "data": {
      "text/plain": [
       "array([[[1, 2, 3, 4, 5]]])"
      ]
     },
     "execution_count": 448,
     "metadata": {},
     "output_type": "execute_result"
    }
   ],
   "source": [
    "array_3D[:1,:1,:]"
   ]
  },
  {
   "cell_type": "code",
   "execution_count": 449,
   "id": "d6d2ad3c",
   "metadata": {},
   "outputs": [
    {
     "data": {
      "text/plain": [
       "(5,)"
      ]
     },
     "execution_count": 449,
     "metadata": {},
     "output_type": "execute_result"
    }
   ],
   "source": [
    "array_3D[0][0].shape"
   ]
  },
  {
   "cell_type": "code",
   "execution_count": 455,
   "id": "74933ed8",
   "metadata": {},
   "outputs": [
    {
     "data": {
      "text/plain": [
       "(5,)"
      ]
     },
     "execution_count": 455,
     "metadata": {},
     "output_type": "execute_result"
    }
   ],
   "source": [
    "array_3D[:1,:1].squeeze().shape\n"
   ]
  },
  {
   "cell_type": "code",
   "execution_count": 456,
   "id": "044673fc",
   "metadata": {},
   "outputs": [
    {
     "data": {
      "text/plain": [
       "(5,)"
      ]
     },
     "execution_count": 456,
     "metadata": {},
     "output_type": "execute_result"
    }
   ],
   "source": [
    "array_3D[:1,:1,:].squeeze().shape"
   ]
  },
  {
   "cell_type": "code",
   "execution_count": null,
   "id": "79f9c73c",
   "metadata": {},
   "outputs": [],
   "source": []
  }
 ],
 "metadata": {
  "kernelspec": {
   "display_name": "Python 3 (ipykernel)",
   "language": "python",
   "name": "python3"
  },
  "language_info": {
   "codemirror_mode": {
    "name": "ipython",
    "version": 3
   },
   "file_extension": ".py",
   "mimetype": "text/x-python",
   "name": "python",
   "nbconvert_exporter": "python",
   "pygments_lexer": "ipython3",
   "version": "3.9.12"
  }
 },
 "nbformat": 4,
 "nbformat_minor": 5
}
