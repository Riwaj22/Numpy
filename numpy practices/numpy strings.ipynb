{
 "cells": [
  {
   "cell_type": "code",
   "execution_count": 336,
   "id": "f517db27",
   "metadata": {},
   "outputs": [],
   "source": [
    "import numpy as np"
   ]
  },
  {
   "cell_type": "code",
   "execution_count": 341,
   "id": "0ee0e6c0",
   "metadata": {},
   "outputs": [],
   "source": [
    "# Write a NumPy program to concatenate element-wise two arrays of string\n",
    "\n",
    "array_1 = np.array(['Python' 'PHP'])"
   ]
  },
  {
   "cell_type": "code",
   "execution_count": 342,
   "id": "89c4f10b",
   "metadata": {},
   "outputs": [
    {
     "data": {
      "text/plain": [
       "array(['PythonPHP'], dtype='<U9')"
      ]
     },
     "execution_count": 342,
     "metadata": {},
     "output_type": "execute_result"
    }
   ],
   "source": [
    "array_1"
   ]
  },
  {
   "cell_type": "code",
   "execution_count": 343,
   "id": "726dad80",
   "metadata": {},
   "outputs": [],
   "source": [
    "array_2 = np.array([' Java' ' C++'])"
   ]
  },
  {
   "cell_type": "code",
   "execution_count": 344,
   "id": "783843aa",
   "metadata": {},
   "outputs": [
    {
     "data": {
      "text/plain": [
       "array([' Java C++'], dtype='<U9')"
      ]
     },
     "execution_count": 344,
     "metadata": {},
     "output_type": "execute_result"
    }
   ],
   "source": [
    "array_2"
   ]
  },
  {
   "cell_type": "code",
   "execution_count": 350,
   "id": "ed5644c5",
   "metadata": {},
   "outputs": [
    {
     "data": {
      "text/plain": [
       "array(['PythonPHP Java C++'], dtype='<U18')"
      ]
     },
     "execution_count": 350,
     "metadata": {},
     "output_type": "execute_result"
    }
   ],
   "source": [
    "np.char.add(array_1,array_2)"
   ]
  },
  {
   "cell_type": "code",
   "execution_count": 351,
   "id": "3ba75984",
   "metadata": {},
   "outputs": [],
   "source": [
    "# Write a NumPy program to repeat all the elements three times of a given array of string\n",
    "\n",
    "original_array = np.array(['Python', 'PHP' ,'Java' ,'C++']\n",
    ")"
   ]
  },
  {
   "cell_type": "code",
   "execution_count": 352,
   "id": "59e9b2fd",
   "metadata": {},
   "outputs": [
    {
     "data": {
      "text/plain": [
       "array(['Python', 'PHP', 'Java', 'C++'], dtype='<U6')"
      ]
     },
     "execution_count": 352,
     "metadata": {},
     "output_type": "execute_result"
    }
   ],
   "source": [
    "original_array"
   ]
  },
  {
   "cell_type": "code",
   "execution_count": 354,
   "id": "d19b0d02",
   "metadata": {},
   "outputs": [
    {
     "data": {
      "text/plain": [
       "array(['PythonPythonPython', 'PHPPHPPHP', 'JavaJavaJava', 'C++C++C++'],\n",
       "      dtype='<U18')"
      ]
     },
     "execution_count": 354,
     "metadata": {},
     "output_type": "execute_result"
    }
   ],
   "source": [
    "np.char.multiply(original_array,3\n",
    "                )"
   ]
  },
  {
   "cell_type": "code",
   "execution_count": 355,
   "id": "3be716a8",
   "metadata": {},
   "outputs": [
    {
     "data": {
      "text/plain": [
       "array(['Python', 'PHP', 'Java', 'C++'], dtype='<U6')"
      ]
     },
     "execution_count": 355,
     "metadata": {},
     "output_type": "execute_result"
    }
   ],
   "source": [
    "# Write a NumPy program to capitalize the first letter, lowercase, uppercase, swapcase, title-case of all the elements of a given array. \n",
    "\n",
    "original_array"
   ]
  },
  {
   "cell_type": "code",
   "execution_count": 356,
   "id": "55cf7b33",
   "metadata": {},
   "outputs": [
    {
     "data": {
      "text/plain": [
       "array(['PYTHON', 'PHP', 'JAVA', 'C++'], dtype='<U6')"
      ]
     },
     "execution_count": 356,
     "metadata": {},
     "output_type": "execute_result"
    }
   ],
   "source": [
    "np.char.upper(original_array)"
   ]
  },
  {
   "cell_type": "code",
   "execution_count": 357,
   "id": "7b193c44",
   "metadata": {},
   "outputs": [
    {
     "data": {
      "text/plain": [
       "array(['python', 'php', 'java', 'c++'], dtype='<U6')"
      ]
     },
     "execution_count": 357,
     "metadata": {},
     "output_type": "execute_result"
    }
   ],
   "source": [
    "np.char.lower(original_array)"
   ]
  },
  {
   "cell_type": "code",
   "execution_count": 358,
   "id": "b9c6c5a2",
   "metadata": {},
   "outputs": [
    {
     "data": {
      "text/plain": [
       "array(['Python', 'Php', 'Java', 'C++'], dtype='<U6')"
      ]
     },
     "execution_count": 358,
     "metadata": {},
     "output_type": "execute_result"
    }
   ],
   "source": [
    "np.char.capitalize(original_array)"
   ]
  },
  {
   "cell_type": "code",
   "execution_count": 359,
   "id": "789ed782",
   "metadata": {},
   "outputs": [
    {
     "data": {
      "text/plain": [
       "array(['pYTHON', 'php', 'jAVA', 'c++'], dtype='<U6')"
      ]
     },
     "execution_count": 359,
     "metadata": {},
     "output_type": "execute_result"
    }
   ],
   "source": [
    "np.char.swapcase(original_array)"
   ]
  },
  {
   "cell_type": "code",
   "execution_count": 360,
   "id": "696b85f3",
   "metadata": {},
   "outputs": [
    {
     "data": {
      "text/plain": [
       "array(['Python', 'Php', 'Java', 'C++'], dtype='<U6')"
      ]
     },
     "execution_count": 360,
     "metadata": {},
     "output_type": "execute_result"
    }
   ],
   "source": [
    "np.char.title(original_array)"
   ]
  },
  {
   "cell_type": "code",
   "execution_count": 362,
   "id": "6a7059bd",
   "metadata": {},
   "outputs": [
    {
     "data": {
      "text/plain": [
       "array(['python exercises', 'PHP', 'java', 'C++'], dtype='<U16')"
      ]
     },
     "execution_count": 362,
     "metadata": {},
     "output_type": "execute_result"
    }
   ],
   "source": [
    "# Write a NumPy program to make the length of each element 15 of a given array and the string centered / left-justified / right-justified with paddings of _.\n",
    "\n",
    "x = np.array(['python exercises', 'PHP', 'java', 'C++'], dtype=np.str_)\n",
    "x"
   ]
  },
  {
   "cell_type": "code",
   "execution_count": 363,
   "id": "20d6ca1d",
   "metadata": {},
   "outputs": [],
   "source": [
    "centered = np.char.center(x,15,fillchar='_')"
   ]
  },
  {
   "cell_type": "code",
   "execution_count": 364,
   "id": "887a7dd4",
   "metadata": {},
   "outputs": [],
   "source": [
    "left = np.char.ljust(x, 15,fillchar='_')\n",
    "right = np.char.rjust(x,15,fillchar='_')\n"
   ]
  },
  {
   "cell_type": "code",
   "execution_count": 365,
   "id": "81802a04",
   "metadata": {},
   "outputs": [
    {
     "data": {
      "text/plain": [
       "array(['python exercise', '______PHP______', '______java_____',\n",
       "       '______C++______'], dtype='<U15')"
      ]
     },
     "execution_count": 365,
     "metadata": {},
     "output_type": "execute_result"
    }
   ],
   "source": [
    "centered"
   ]
  },
  {
   "cell_type": "code",
   "execution_count": 366,
   "id": "b9d91867",
   "metadata": {},
   "outputs": [
    {
     "data": {
      "text/plain": [
       "array(['python exercise', 'PHP____________', 'java___________',\n",
       "       'C++____________'], dtype='<U15')"
      ]
     },
     "execution_count": 366,
     "metadata": {},
     "output_type": "execute_result"
    }
   ],
   "source": [
    "left"
   ]
  },
  {
   "cell_type": "code",
   "execution_count": 367,
   "id": "5363bc81",
   "metadata": {},
   "outputs": [
    {
     "data": {
      "text/plain": [
       "array(['python exercise', '____________PHP', '___________java',\n",
       "       '____________C++'], dtype='<U15')"
      ]
     },
     "execution_count": 367,
     "metadata": {},
     "output_type": "execute_result"
    }
   ],
   "source": [
    "right"
   ]
  },
  {
   "cell_type": "code",
   "execution_count": 368,
   "id": "c9f2dd24",
   "metadata": {},
   "outputs": [
    {
     "data": {
      "text/plain": [
       "array(['Python', 'PHP', 'Java', 'C++'], dtype='<U6')"
      ]
     },
     "execution_count": 368,
     "metadata": {},
     "output_type": "execute_result"
    }
   ],
   "source": [
    "# Write a NumPy program to insert a space between characters of all the elements of a given array. \n",
    "\n",
    "original_array"
   ]
  },
  {
   "cell_type": "code",
   "execution_count": 369,
   "id": "eb9c078f",
   "metadata": {},
   "outputs": [
    {
     "data": {
      "text/plain": [
       "array(['P y t h o n', 'P H P', 'J a v a', 'C + +'], dtype='<U11')"
      ]
     },
     "execution_count": 369,
     "metadata": {},
     "output_type": "execute_result"
    }
   ],
   "source": [
    "np.char.join(\" \",original_array)"
   ]
  },
  {
   "cell_type": "code",
   "execution_count": 373,
   "id": "06154708",
   "metadata": {},
   "outputs": [
    {
     "data": {
      "text/plain": [
       "array([b'\\xd7\\xa8\\xa3\\x88\\x96\\x95', b'\\xd7\\xc8\\xd7', b'\\xd1\\x81\\xa5\\x81',\n",
       "       b'\\xc3NN'], dtype='|S6')"
      ]
     },
     "execution_count": 373,
     "metadata": {},
     "output_type": "execute_result"
    }
   ],
   "source": [
    "# Write a NumPy program to encode all the elements of a given array in cp500 and decode it again\n",
    "\n",
    "a=np.char.encode(original_array,'cp500')\n",
    "a"
   ]
  },
  {
   "cell_type": "code",
   "execution_count": 374,
   "id": "26048134",
   "metadata": {},
   "outputs": [
    {
     "data": {
      "text/plain": [
       "array(['Python', 'PHP', 'Java', 'C++'], dtype='<U6')"
      ]
     },
     "execution_count": 374,
     "metadata": {},
     "output_type": "execute_result"
    }
   ],
   "source": [
    "b=np.char.decode(a,'cp500')\n",
    "b\n"
   ]
  },
  {
   "cell_type": "code",
   "execution_count": 377,
   "id": "2377a42d",
   "metadata": {},
   "outputs": [
    {
     "name": "stdout",
     "output_type": "stream",
     "text": [
      "Original Array:\n"
     ]
    }
   ],
   "source": [
    "# Write a NumPy program to remove the leading and trailing whitespaces of all the elements of a given array\n",
    "\n",
    "x = np.array([' python exercises ', ' PHP  ', ' java  ', '  C++'], dtype=np.str_)\n",
    "print(\"Original Array:\")\n",
    "\n"
   ]
  },
  {
   "cell_type": "code",
   "execution_count": 378,
   "id": "329197d9",
   "metadata": {},
   "outputs": [
    {
     "data": {
      "text/plain": [
       "array(['python exercises', 'PHP', 'java', 'C++'], dtype='<U18')"
      ]
     },
     "execution_count": 378,
     "metadata": {},
     "output_type": "execute_result"
    }
   ],
   "source": [
    "np.char.strip(x)"
   ]
  },
  {
   "cell_type": "code",
   "execution_count": 379,
   "id": "df29be86",
   "metadata": {},
   "outputs": [],
   "source": [
    "#  Write a NumPy program to remove the leading whitespaces of all the elements of a given arra"
   ]
  },
  {
   "cell_type": "code",
   "execution_count": 380,
   "id": "15e998b8",
   "metadata": {},
   "outputs": [
    {
     "data": {
      "text/plain": [
       "array(['Python', 'PHP', 'Java', 'C++'], dtype='<U6')"
      ]
     },
     "execution_count": 380,
     "metadata": {},
     "output_type": "execute_result"
    }
   ],
   "source": [
    "original_array"
   ]
  },
  {
   "cell_type": "code",
   "execution_count": 381,
   "id": "ea38c7ed",
   "metadata": {},
   "outputs": [
    {
     "data": {
      "text/plain": [
       "array(['Python', 'PHP', 'Java', 'C++'], dtype='<U6')"
      ]
     },
     "execution_count": 381,
     "metadata": {},
     "output_type": "execute_result"
    }
   ],
   "source": [
    "np.char.lstrip(original_array)"
   ]
  },
  {
   "cell_type": "code",
   "execution_count": 382,
   "id": "0bb56473",
   "metadata": {},
   "outputs": [
    {
     "data": {
      "text/plain": [
       "array(['Python', 'PHP', 'Java', 'C++'], dtype='<U6')"
      ]
     },
     "execution_count": 382,
     "metadata": {},
     "output_type": "execute_result"
    }
   ],
   "source": [
    "# Write a NumPy program to remove the trailing whitespaces of all the elements of a given array\n",
    "\n",
    "np.char.rstrip(original_array)"
   ]
  },
  {
   "cell_type": "code",
   "execution_count": 383,
   "id": "ff784525",
   "metadata": {},
   "outputs": [],
   "source": [
    "# Write a NumPy program to split the element of a given array to multiple lines.\n"
   ]
  },
  {
   "cell_type": "code",
   "execution_count": 385,
   "id": "2f1d2451",
   "metadata": {},
   "outputs": [
    {
     "data": {
      "text/plain": [
       "array(['Python\\\\Exercises, Practice, Solution'], dtype='<U36')"
      ]
     },
     "execution_count": 385,
     "metadata": {},
     "output_type": "execute_result"
    }
   ],
   "source": [
    "x = np.array(['Python\\Exercises, Practice, Solution'], dtype=np.str_)\n",
    "x\n"
   ]
  },
  {
   "cell_type": "code",
   "execution_count": 386,
   "id": "96c41ba8",
   "metadata": {},
   "outputs": [
    {
     "data": {
      "text/plain": [
       "array([list(['Python\\\\Exercises, Practice, Solution'])], dtype=object)"
      ]
     },
     "execution_count": 386,
     "metadata": {},
     "output_type": "execute_result"
    }
   ],
   "source": [
    "np.char.splitlines(x)"
   ]
  },
  {
   "cell_type": "code",
   "execution_count": 388,
   "id": "eb6c2518",
   "metadata": {},
   "outputs": [
    {
     "name": "stdout",
     "output_type": "stream",
     "text": [
      "\n",
      "Original Array:\n"
     ]
    }
   ],
   "source": [
    "# Write a NumPy program to make all the elements of a given string to a numeric string of 5 digits with zeros on its left.\n",
    "\n",
    "x = np.array(['2', '11', '234', '1234', '12345'], dtype=np.str_)\n",
    "print(\"\\nOriginal Array:\")"
   ]
  },
  {
   "cell_type": "code",
   "execution_count": 389,
   "id": "556979dd",
   "metadata": {},
   "outputs": [
    {
     "data": {
      "text/plain": [
       "array(['2', '11', '234', '1234', '12345'], dtype='<U5')"
      ]
     },
     "execution_count": 389,
     "metadata": {},
     "output_type": "execute_result"
    }
   ],
   "source": [
    "x"
   ]
  },
  {
   "cell_type": "code",
   "execution_count": 390,
   "id": "a42cdb39",
   "metadata": {},
   "outputs": [
    {
     "data": {
      "text/plain": [
       "array(['00002', '00011', '00234', '01234', '12345'], dtype='<U5')"
      ]
     },
     "execution_count": 390,
     "metadata": {},
     "output_type": "execute_result"
    }
   ],
   "source": [
    "np.char.zfill(x,5)"
   ]
  },
  {
   "cell_type": "code",
   "execution_count": 391,
   "id": "13443bd4",
   "metadata": {},
   "outputs": [
    {
     "data": {
      "text/plain": [
       "array(['Python', 'PHP', 'Java', 'C++'], dtype='<U6')"
      ]
     },
     "execution_count": 391,
     "metadata": {},
     "output_type": "execute_result"
    }
   ],
   "source": [
    "# Write a NumPy program to replace \"PHP\" with \"Python\" in the element of a given array.\n",
    "\n",
    "original_array"
   ]
  },
  {
   "cell_type": "code",
   "execution_count": 393,
   "id": "31ceb741",
   "metadata": {},
   "outputs": [
    {
     "data": {
      "text/plain": [
       "array(['Python', 'Python', 'Java', 'C++'], dtype='<U6')"
      ]
     },
     "execution_count": 393,
     "metadata": {},
     "output_type": "execute_result"
    }
   ],
   "source": [
    "np.char.replace(original_array,'PHP','Python')"
   ]
  },
  {
   "cell_type": "code",
   "execution_count": 394,
   "id": "7bb55ec4",
   "metadata": {},
   "outputs": [],
   "source": [
    "# Write a NumPy program to test equal, not equal, greater equal, greater and less test of all the elements of two given arrays\n",
    "\n",
    "x1 = np.array(['Hello', 'PHP', 'JS', 'examples', 'html'], dtype=np.str_)\n",
    "x2 = np.array(['Hello', 'php', 'Java', 'examples', 'html'], dtype=np.str_)"
   ]
  },
  {
   "cell_type": "code",
   "execution_count": 395,
   "id": "5a7401fc",
   "metadata": {},
   "outputs": [
    {
     "data": {
      "text/plain": [
       "array([ True, False, False,  True,  True])"
      ]
     },
     "execution_count": 395,
     "metadata": {},
     "output_type": "execute_result"
    }
   ],
   "source": [
    "np.char.equal(x1,x2)"
   ]
  },
  {
   "cell_type": "code",
   "execution_count": 396,
   "id": "89a45084",
   "metadata": {},
   "outputs": [
    {
     "data": {
      "text/plain": [
       "array([ True,  True,  True,  True,  True])"
      ]
     },
     "execution_count": 396,
     "metadata": {},
     "output_type": "execute_result"
    }
   ],
   "source": [
    "np.char.less_equal(x1,x2)"
   ]
  },
  {
   "cell_type": "code",
   "execution_count": 397,
   "id": "82116695",
   "metadata": {},
   "outputs": [
    {
     "data": {
      "text/plain": [
       "array([ True, False, False,  True,  True])"
      ]
     },
     "execution_count": 397,
     "metadata": {},
     "output_type": "execute_result"
    }
   ],
   "source": [
    "np.char.greater_equal(x1,x2)"
   ]
  },
  {
   "cell_type": "code",
   "execution_count": 398,
   "id": "bb07fe62",
   "metadata": {},
   "outputs": [
    {
     "data": {
      "text/plain": [
       "array(['Python', 'PHP', 'Java', 'C++'], dtype='<U6')"
      ]
     },
     "execution_count": 398,
     "metadata": {},
     "output_type": "execute_result"
    }
   ],
   "source": [
    "# Write a NumPy program to count the number of \"P\" in a given array, element-wise. \n",
    "\n",
    "original_array"
   ]
  },
  {
   "cell_type": "code",
   "execution_count": 399,
   "id": "a96b2f18",
   "metadata": {},
   "outputs": [
    {
     "data": {
      "text/plain": [
       "array([1, 2, 0, 0])"
      ]
     },
     "execution_count": 399,
     "metadata": {},
     "output_type": "execute_result"
    }
   ],
   "source": [
    "np.char.count(original_array,\"P\")"
   ]
  },
  {
   "cell_type": "code",
   "execution_count": 401,
   "id": "168dbc9d",
   "metadata": {},
   "outputs": [
    {
     "name": "stdout",
     "output_type": "stream",
     "text": [
      "\n",
      "Original Array:\n",
      "['Python' 'PHP' 'JS' 'EXAMPLES' 'HTML']\n",
      "count the lowest index of ‘P’:\n",
      "[ 0  0 -1  4 -1]\n"
     ]
    }
   ],
   "source": [
    "# Write a NumPy program to count the lowest index of \"P\" in a given array, element-wise.\n",
    "\n",
    "x1 = np.array(['Python', 'PHP', 'JS', 'EXAMPLES', 'HTML'], dtype=np.str_)\n",
    "print(\"\\nOriginal Array:\")\n",
    "print(x1)\n",
    "print(\"count the lowest index of ‘P’:\")\n",
    "r = np.char.find(x1, \"P\")\n",
    "print(r)"
   ]
  },
  {
   "cell_type": "code",
   "execution_count": 403,
   "id": "6e674655",
   "metadata": {},
   "outputs": [
    {
     "name": "stdout",
     "output_type": "stream",
     "text": [
      "\n",
      "Original Array:\n",
      "['Python' 'PHP' 'JS' 'Examples' 'html5' '5']\n"
     ]
    }
   ],
   "source": [
    "# Write a NumPy program to check whether each element of a given array is composed of digits only, lower case letters only and upper case letters only\n",
    "\n",
    "x = np.array(['Python', 'PHP', 'JS', 'Examples', 'html5', '5'], dtype=np.str_)\n",
    "print(\"\\nOriginal Array:\")\n",
    "print(x)"
   ]
  },
  {
   "cell_type": "code",
   "execution_count": 404,
   "id": "e66de726",
   "metadata": {},
   "outputs": [
    {
     "data": {
      "text/plain": [
       "array([False, False, False, False])"
      ]
     },
     "execution_count": 404,
     "metadata": {},
     "output_type": "execute_result"
    }
   ],
   "source": [
    "np.char.isdigit(original_array)"
   ]
  },
  {
   "cell_type": "code",
   "execution_count": 405,
   "id": "d0d2bf9f",
   "metadata": {},
   "outputs": [
    {
     "data": {
      "text/plain": [
       "array([False, False, False, False])"
      ]
     },
     "execution_count": 405,
     "metadata": {},
     "output_type": "execute_result"
    }
   ],
   "source": [
    "np.char.islower(original_array)"
   ]
  },
  {
   "cell_type": "code",
   "execution_count": 406,
   "id": "80bb1a72",
   "metadata": {},
   "outputs": [
    {
     "data": {
      "text/plain": [
       "array([False,  True, False,  True])"
      ]
     },
     "execution_count": 406,
     "metadata": {},
     "output_type": "execute_result"
    }
   ],
   "source": [
    "np.char.isupper(original_array)"
   ]
  },
  {
   "cell_type": "code",
   "execution_count": 407,
   "id": "8e80c3e2",
   "metadata": {},
   "outputs": [
    {
     "data": {
      "text/plain": [
       "array(['Python', 'PHP', 'Java', 'C++'], dtype='<U6')"
      ]
     },
     "execution_count": 407,
     "metadata": {},
     "output_type": "execute_result"
    }
   ],
   "source": [
    "# Write a NumPy program to check whether each element of a given array starts with \"P\".\n",
    "\n",
    "original_array"
   ]
  },
  {
   "cell_type": "code",
   "execution_count": 408,
   "id": "db001195",
   "metadata": {},
   "outputs": [
    {
     "data": {
      "text/plain": [
       "array([ True,  True, False, False])"
      ]
     },
     "execution_count": 408,
     "metadata": {},
     "output_type": "execute_result"
    }
   ],
   "source": [
    "np.char.startswith(original_array,'P')"
   ]
  },
  {
   "cell_type": "code",
   "execution_count": 412,
   "id": "7726a6ee",
   "metadata": {},
   "outputs": [
    {
     "name": "stdout",
     "output_type": "stream",
     "text": [
      "Original array:\n",
      "['1.12' '2.23' '3.71' '4.23' '5.11']\n",
      "['1.1200' '2.2300' '3.7100' '4.2300' '5.1100']\n"
     ]
    }
   ],
   "source": [
    "# Write a NumPy program to add two zeros to the beginning of each element of a given array of string values.\n",
    "\n",
    "nums = np.array(['1.12', '2.23', '3.71', '4.23', '5.11'], dtype=np.str_)\n",
    "print(\"Original array:\")\n",
    "print(nums)\n",
    "\n",
    "print(np.char.add(nums,'00'))"
   ]
  },
  {
   "cell_type": "code",
   "execution_count": 413,
   "id": "5c0b5de9",
   "metadata": {},
   "outputs": [
    {
     "name": "stdout",
     "output_type": "stream",
     "text": [
      "Original array of string values:\n",
      "[['Python' 'NumPy' 'Exercises']\n",
      " ['Python' 'Pandas' 'Exercises']\n",
      " ['Python' 'Machine learning' 'Python']]\n"
     ]
    }
   ],
   "source": [
    "# Write a NumPy program to count a given word in each row of a given array of string values.\n",
    "\n",
    "str1 = np.array([['Python','NumPy','Exercises'],\n",
    "                 ['Python','Pandas','Exercises'],\n",
    "                 ['Python','Machine learning','Python']])\n",
    "print(\"Original array of string values:\") \n",
    "print(str1)"
   ]
  },
  {
   "cell_type": "code",
   "execution_count": 414,
   "id": "cb30a887",
   "metadata": {},
   "outputs": [
    {
     "data": {
      "text/plain": [
       "array([[1, 0, 0],\n",
       "       [1, 0, 0],\n",
       "       [1, 0, 1]])"
      ]
     },
     "execution_count": 414,
     "metadata": {},
     "output_type": "execute_result"
    }
   ],
   "source": [
    "np.char.count(str1,'Python')"
   ]
  },
  {
   "cell_type": "code",
   "execution_count": 415,
   "id": "a7d8fba9",
   "metadata": {},
   "outputs": [],
   "source": [
    "# Write a NumPy program to split a given text into lines and split the single line into array values.\n",
    "\n",
    "student = \"\"\"01\tV\tDebby Pramod\n",
    "02\tV\tArtemiy Ellie\n",
    "03\tV\tBaptist Kamal\n",
    "04\tV\tLavanya Davide\n",
    "05\tV\tFulton Antwan\n",
    "06\tV\tEuanthe Sandeep\n",
    "07\tV\tEndzela Sanda\n",
    "08\tV\tVictoire Waman\n",
    "09\tV\tBriar Nur\n",
    "10\tV\tRose Lykos\"\"\""
   ]
  },
  {
   "cell_type": "code",
   "execution_count": 417,
   "id": "9e109921",
   "metadata": {},
   "outputs": [
    {
     "name": "stdout",
     "output_type": "stream",
     "text": [
      "01\tV\tDebby Pramod\n",
      "02\tV\tArtemiy Ellie\n",
      "03\tV\tBaptist Kamal\n",
      "04\tV\tLavanya Davide\n",
      "05\tV\tFulton Antwan\n",
      "06\tV\tEuanthe Sandeep\n",
      "07\tV\tEndzela Sanda\n",
      "08\tV\tVictoire Waman\n",
      "09\tV\tBriar Nur\n",
      "10\tV\tRose Lykos\n"
     ]
    }
   ],
   "source": [
    "print(student)"
   ]
  },
  {
   "cell_type": "code",
   "execution_count": 419,
   "id": "b2cd3029",
   "metadata": {},
   "outputs": [],
   "source": [
    "text_lines = student.splitlines()\n",
    "text_lines = [r.split('\\t') for r in text_lines]\n",
    "result = np.array(text_lines, dtype=np.str_)"
   ]
  },
  {
   "cell_type": "code",
   "execution_count": 420,
   "id": "be06796b",
   "metadata": {},
   "outputs": [
    {
     "name": "stdout",
     "output_type": "stream",
     "text": [
      "[['01' 'V' 'Debby Pramod']\n",
      " ['02' 'V' 'Artemiy Ellie']\n",
      " ['03' 'V' 'Baptist Kamal']\n",
      " ['04' 'V' 'Lavanya Davide']\n",
      " ['05' 'V' 'Fulton Antwan']\n",
      " ['06' 'V' 'Euanthe Sandeep']\n",
      " ['07' 'V' 'Endzela Sanda']\n",
      " ['08' 'V' 'Victoire Waman']\n",
      " ['09' 'V' 'Briar Nur']\n",
      " ['10' 'V' 'Rose Lykos']]\n"
     ]
    }
   ],
   "source": [
    "print(result)"
   ]
  },
  {
   "cell_type": "code",
   "execution_count": null,
   "id": "e585d0a9",
   "metadata": {},
   "outputs": [],
   "source": []
  }
 ],
 "metadata": {
  "kernelspec": {
   "display_name": "Python 3 (ipykernel)",
   "language": "python",
   "name": "python3"
  },
  "language_info": {
   "codemirror_mode": {
    "name": "ipython",
    "version": 3
   },
   "file_extension": ".py",
   "mimetype": "text/x-python",
   "name": "python",
   "nbconvert_exporter": "python",
   "pygments_lexer": "ipython3",
   "version": "3.9.12"
  }
 },
 "nbformat": 4,
 "nbformat_minor": 5
}
