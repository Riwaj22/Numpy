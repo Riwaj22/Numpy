{
 "cells": [
  {
   "cell_type": "code",
   "execution_count": 320,
   "id": "6524572a",
   "metadata": {},
   "outputs": [],
   "source": [
    "import numpy as np"
   ]
  },
  {
   "cell_type": "code",
   "execution_count": 323,
   "id": "68db15d2",
   "metadata": {},
   "outputs": [
    {
     "name": "stdout",
     "output_type": "stream",
     "text": [
      "['2017-03-01' '2017-03-02' '2017-03-03' '2017-03-04' '2017-03-05'\n",
      " '2017-03-06' '2017-03-07' '2017-03-08' '2017-03-09' '2017-03-10'\n",
      " '2017-03-11' '2017-03-12' '2017-03-13' '2017-03-14' '2017-03-15'\n",
      " '2017-03-16' '2017-03-17' '2017-03-18' '2017-03-19' '2017-03-20'\n",
      " '2017-03-21' '2017-03-22' '2017-03-23' '2017-03-24' '2017-03-25'\n",
      " '2017-03-26' '2017-03-27' '2017-03-28' '2017-03-29' '2017-03-30'\n",
      " '2017-03-31']\n"
     ]
    }
   ],
   "source": [
    "# Write a NumPy program to display all the dates for the month of March, 2017\n",
    "\n",
    "dates = np.arange('2017-03','2017-04',dtype = 'datetime64[D]')\n",
    "\n",
    "may_dates = dates[np.datetime_as_string(dates, unit = 'M') == '2017-03']\n",
    "\n",
    "print(may_dates)"
   ]
  },
  {
   "cell_type": "code",
   "execution_count": 325,
   "id": "01268916",
   "metadata": {},
   "outputs": [
    {
     "name": "stdout",
     "output_type": "stream",
     "text": [
      "2023-05-09\n"
     ]
    }
   ],
   "source": [
    "# Write a NumPy program to get the dates of yesterday, today and tomorrow\n",
    "\n",
    "from datetime import date \n",
    "\n",
    "today = date.today()\n",
    "\n",
    "today_np = np.datetime64(today)\n",
    "\n",
    "print(today_np)"
   ]
  },
  {
   "cell_type": "code",
   "execution_count": 327,
   "id": "fc13819a",
   "metadata": {},
   "outputs": [
    {
     "name": "stdout",
     "output_type": "stream",
     "text": [
      "2023-05-08\n"
     ]
    }
   ],
   "source": [
    "from datetime import date , timedelta\n",
    "\n",
    "\n",
    "yesterday = date.today() - timedelta(days=1)\n",
    "\n",
    "yesterday_np = np.datetime64(yesterday)\n",
    "\n",
    "print(yesterday_np)"
   ]
  },
  {
   "cell_type": "code",
   "execution_count": 329,
   "id": "ee0c26dd",
   "metadata": {},
   "outputs": [
    {
     "name": "stdout",
     "output_type": "stream",
     "text": [
      "2023-05-10\n"
     ]
    }
   ],
   "source": [
    "from datetime import date , timedelta\n",
    "\n",
    "\n",
    "tommorow = date.today() + timedelta(days=1)\n",
    "\n",
    "tommorow_np = np.datetime64(tommorow)\n",
    "\n",
    "print(tommorow_np)"
   ]
  },
  {
   "cell_type": "code",
   "execution_count": 330,
   "id": "1483b0ec",
   "metadata": {},
   "outputs": [
    {
     "name": "stdout",
     "output_type": "stream",
     "text": [
      "Number of days, February, 2016: \n",
      "29 days\n",
      "Number of days, February, 2017: \n",
      "28 days\n",
      "Number of days, February, 2018: \n",
      "28 days\n"
     ]
    }
   ],
   "source": [
    "# Write a NumPy program to count the number of days of specific month\n",
    "print(\"Number of days, February, 2016: \")\n",
    "print(np.datetime64('2016-03-01') - np.datetime64('2016-02-01'))\n",
    "print(\"Number of days, February, 2017: \")\n",
    "print(np.datetime64('2017-03-01') - np.datetime64('2017-02-01'))\n",
    "print(\"Number of days, February, 2018: \")\n",
    "print(np.datetime64('2018-03-01') - np.datetime64('2018-02-01'))\n"
   ]
  },
  {
   "cell_type": "code",
   "execution_count": 332,
   "id": "0ac9a6d1",
   "metadata": {},
   "outputs": [
    {
     "name": "stdout",
     "output_type": "stream",
     "text": [
      "[datetime.datetime(2000, 1, 1, 0, 0) datetime.datetime(2000, 1, 1, 1, 0)\n",
      " datetime.datetime(2000, 1, 1, 2, 0) datetime.datetime(2000, 1, 1, 3, 0)\n",
      " datetime.datetime(2000, 1, 1, 4, 0) datetime.datetime(2000, 1, 1, 5, 0)\n",
      " datetime.datetime(2000, 1, 1, 6, 0) datetime.datetime(2000, 1, 1, 7, 0)\n",
      " datetime.datetime(2000, 1, 1, 8, 0) datetime.datetime(2000, 1, 1, 9, 0)\n",
      " datetime.datetime(2000, 1, 1, 10, 0) datetime.datetime(2000, 1, 1, 11, 0)\n",
      " datetime.datetime(2000, 1, 1, 12, 0) datetime.datetime(2000, 1, 1, 13, 0)\n",
      " datetime.datetime(2000, 1, 1, 14, 0) datetime.datetime(2000, 1, 1, 15, 0)\n",
      " datetime.datetime(2000, 1, 1, 16, 0) datetime.datetime(2000, 1, 1, 17, 0)\n",
      " datetime.datetime(2000, 1, 1, 18, 0) datetime.datetime(2000, 1, 1, 19, 0)\n",
      " datetime.datetime(2000, 1, 1, 20, 0) datetime.datetime(2000, 1, 1, 21, 0)\n",
      " datetime.datetime(2000, 1, 1, 22, 0) datetime.datetime(2000, 1, 1, 23, 0)]\n"
     ]
    }
   ],
   "source": [
    "# Write a NumPy program to create 24 python datetime.datetime objects (single object for every hour), and then put it in a numpy array\n",
    "import datetime\n",
    "start = datetime.datetime(2000, 1, 1)\n",
    "dt_array = np.array([start + datetime.timedelta(hours=i) for i in range(24)])\n",
    "print(dt_array)"
   ]
  },
  {
   "cell_type": "code",
   "execution_count": 333,
   "id": "1272f530",
   "metadata": {},
   "outputs": [
    {
     "name": "stdout",
     "output_type": "stream",
     "text": [
      "First Monday in May 2017:\n",
      "2017-05-01\n"
     ]
    }
   ],
   "source": [
    "# Write a NumPy program to find the first Monday in May 2017\n",
    "print(\"First Monday in May 2017:\")\n",
    "print(np.busday_offset('2017-05', 0, roll='forward', weekmask='Mon'))\n"
   ]
  },
  {
   "cell_type": "code",
   "execution_count": 334,
   "id": "2eb1d7b3",
   "metadata": {},
   "outputs": [
    {
     "data": {
      "text/plain": [
       "23"
      ]
     },
     "execution_count": 334,
     "metadata": {},
     "output_type": "execute_result"
    }
   ],
   "source": [
    "# Write a NumPy program to find the number of weekdays in March 2017.\n",
    "\n",
    "np.busday_count('2017-03','2017-04')"
   ]
  },
  {
   "cell_type": "code",
   "execution_count": 335,
   "id": "dab2142d",
   "metadata": {},
   "outputs": [
    {
     "name": "stdout",
     "output_type": "stream",
     "text": [
      "Current date:\n",
      "2023-05-09 11:40:42.939112\n",
      "Timestamp:\n",
      "1683632442.939112\n",
      "UTC from Timestamp:\n",
      "2023-05-09 11:40:42.939112\n"
     ]
    },
    {
     "name": "stderr",
     "output_type": "stream",
     "text": [
      "C:\\Users\\97798\\AppData\\Local\\Temp\\ipykernel_15388\\1193230137.py:8: DeprecationWarning: parsing timezone aware datetimes is deprecated; this will raise an error in the future\n",
      "  ts = (dt64 - np.datetime64('1970-01-01T00:00:00Z')) / np.timedelta64(1, 's')\n"
     ]
    }
   ],
   "source": [
    "# Write a NumPy program to convert numpy datetime64 to Timestamp.\n",
    "\n",
    "from datetime import datetime\n",
    "dt = datetime.utcnow()\n",
    "print(\"Current date:\")\n",
    "print(dt)\n",
    "dt64 = np.datetime64(dt)\n",
    "ts = (dt64 - np.datetime64('1970-01-01T00:00:00Z')) / np.timedelta64(1, 's')\n",
    "print(\"Timestamp:\")\n",
    "print(ts)\n",
    "print(\"UTC from Timestamp:\")\n",
    "print(datetime.utcfromtimestamp(ts))"
   ]
  },
  {
   "cell_type": "code",
   "execution_count": null,
   "id": "daee4c22",
   "metadata": {},
   "outputs": [],
   "source": []
  }
 ],
 "metadata": {
  "kernelspec": {
   "display_name": "Python 3 (ipykernel)",
   "language": "python",
   "name": "python3"
  },
  "language_info": {
   "codemirror_mode": {
    "name": "ipython",
    "version": 3
   },
   "file_extension": ".py",
   "mimetype": "text/x-python",
   "name": "python",
   "nbconvert_exporter": "python",
   "pygments_lexer": "ipython3",
   "version": "3.9.12"
  }
 },
 "nbformat": 4,
 "nbformat_minor": 5
}
