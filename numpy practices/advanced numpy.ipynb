{
 "cells": [
  {
   "cell_type": "code",
   "execution_count": 1,
   "id": "ed6011a2",
   "metadata": {},
   "outputs": [],
   "source": [
    "import numpy as np"
   ]
  },
  {
   "cell_type": "code",
   "execution_count": 3,
   "id": "fe302076",
   "metadata": {},
   "outputs": [
    {
     "name": "stdout",
     "output_type": "stream",
     "text": [
      "Original arrays:\n",
      "[[1 2]\n",
      " [3 4]\n",
      " [5 6]]\n",
      "[7 8]\n"
     ]
    }
   ],
   "source": [
    "# Write a NumPy program to find the dot product of two arrays of different dimensions.\n",
    "\n",
    "nums1 = np.array([[1, 2], [3, 4], [5, 6]])\n",
    "nums2 = np.array([7, 8])\n",
    "print(\"Original arrays:\")\n",
    "print(nums1)\n",
    "print(nums2)"
   ]
  },
  {
   "cell_type": "code",
   "execution_count": 4,
   "id": "66783f3c",
   "metadata": {},
   "outputs": [
    {
     "data": {
      "text/plain": [
       "array([23, 53, 83])"
      ]
     },
     "execution_count": 4,
     "metadata": {},
     "output_type": "execute_result"
    }
   ],
   "source": [
    "np.dot(nums1,nums2)"
   ]
  },
  {
   "cell_type": "code",
   "execution_count": 5,
   "id": "f2b23bbe",
   "metadata": {},
   "outputs": [],
   "source": [
    "# Write a NumPy program to create a 3x3 identity matrix and stack it vertically and horizontally.\n",
    "\n",
    "matrix = np.identity(3)"
   ]
  },
  {
   "cell_type": "code",
   "execution_count": 6,
   "id": "e4da4879",
   "metadata": {},
   "outputs": [
    {
     "data": {
      "text/plain": [
       "array([[1., 0., 0.],\n",
       "       [0., 1., 0.],\n",
       "       [0., 0., 1.]])"
      ]
     },
     "execution_count": 6,
     "metadata": {},
     "output_type": "execute_result"
    }
   ],
   "source": [
    "matrix"
   ]
  },
  {
   "cell_type": "code",
   "execution_count": 8,
   "id": "68be9862",
   "metadata": {},
   "outputs": [],
   "source": [
    "vertical_stack = np.vstack((matrix,matrix,matrix))"
   ]
  },
  {
   "cell_type": "code",
   "execution_count": 9,
   "id": "c0829219",
   "metadata": {},
   "outputs": [
    {
     "data": {
      "text/plain": [
       "array([[1., 0., 0.],\n",
       "       [0., 1., 0.],\n",
       "       [0., 0., 1.],\n",
       "       [1., 0., 0.],\n",
       "       [0., 1., 0.],\n",
       "       [0., 0., 1.],\n",
       "       [1., 0., 0.],\n",
       "       [0., 1., 0.],\n",
       "       [0., 0., 1.]])"
      ]
     },
     "execution_count": 9,
     "metadata": {},
     "output_type": "execute_result"
    }
   ],
   "source": [
    "vertical_stack"
   ]
  },
  {
   "cell_type": "code",
   "execution_count": 10,
   "id": "b7ff84ea",
   "metadata": {},
   "outputs": [],
   "source": [
    "horizontal_stack = np.hstack((matrix,matrix,matrix))"
   ]
  },
  {
   "cell_type": "code",
   "execution_count": 11,
   "id": "c0aab84e",
   "metadata": {},
   "outputs": [
    {
     "data": {
      "text/plain": [
       "array([[1., 0., 0., 1., 0., 0., 1., 0., 0.],\n",
       "       [0., 1., 0., 0., 1., 0., 0., 1., 0.],\n",
       "       [0., 0., 1., 0., 0., 1., 0., 0., 1.]])"
      ]
     },
     "execution_count": 11,
     "metadata": {},
     "output_type": "execute_result"
    }
   ],
   "source": [
    "horizontal_stack"
   ]
  },
  {
   "cell_type": "code",
   "execution_count": 14,
   "id": "227799eb",
   "metadata": {},
   "outputs": [],
   "source": [
    "# Write a NumPy program to create a 4x4 array with random values and find the sum of each row.\n",
    "\n",
    "a= np.random.random((4,4))"
   ]
  },
  {
   "cell_type": "code",
   "execution_count": 15,
   "id": "8ed79f63",
   "metadata": {},
   "outputs": [
    {
     "data": {
      "text/plain": [
       "array([[0.40977881, 0.63926678, 0.14306947, 0.25944309],\n",
       "       [0.61157059, 0.83865199, 0.96644586, 0.64005603],\n",
       "       [0.26071056, 0.49694576, 0.02176555, 0.84440688],\n",
       "       [0.86908582, 0.2235753 , 0.15250635, 0.63865154]])"
      ]
     },
     "execution_count": 15,
     "metadata": {},
     "output_type": "execute_result"
    }
   ],
   "source": [
    "a"
   ]
  },
  {
   "cell_type": "code",
   "execution_count": 16,
   "id": "d73dc012",
   "metadata": {},
   "outputs": [
    {
     "data": {
      "text/plain": [
       "array([1.45155815, 3.05672446, 1.62382876, 1.88381901])"
      ]
     },
     "execution_count": 16,
     "metadata": {},
     "output_type": "execute_result"
    }
   ],
   "source": [
    "np.sum(a,axis =1)"
   ]
  },
  {
   "cell_type": "code",
   "execution_count": 18,
   "id": "06231be2",
   "metadata": {},
   "outputs": [],
   "source": [
    "# Write a NumPy program to create a 3x3 array with random values and subtract the mean of each row from each element. \n",
    "\n",
    "arr = np.random.random((3,3))"
   ]
  },
  {
   "cell_type": "code",
   "execution_count": 19,
   "id": "44cb5520",
   "metadata": {},
   "outputs": [],
   "source": [
    "mean_values = np.mean(arr,axis=1)"
   ]
  },
  {
   "cell_type": "code",
   "execution_count": 20,
   "id": "b733b81c",
   "metadata": {},
   "outputs": [
    {
     "name": "stdout",
     "output_type": "stream",
     "text": [
      "[0.51206631 0.87551536 0.48854857]\n"
     ]
    }
   ],
   "source": [
    "print(mean_values)"
   ]
  },
  {
   "cell_type": "code",
   "execution_count": 21,
   "id": "189e5d97",
   "metadata": {},
   "outputs": [],
   "source": [
    "arr = arr - mean_values"
   ]
  },
  {
   "cell_type": "code",
   "execution_count": 22,
   "id": "4f326f79",
   "metadata": {},
   "outputs": [
    {
     "name": "stdout",
     "output_type": "stream",
     "text": [
      "[[ 0.12819138 -0.61375922  0.14563654]\n",
      " [ 0.46106365 -0.21616046  0.50551265]\n",
      " [ 0.43931271 -0.58893695 -0.26086028]]\n"
     ]
    }
   ],
   "source": [
    "print(arr)"
   ]
  },
  {
   "cell_type": "code",
   "execution_count": 23,
   "id": "693647c4",
   "metadata": {},
   "outputs": [],
   "source": [
    "# Write a NumPy program to create a 3x3 array with random values and subtract the mean of each column from each element. "
   ]
  },
  {
   "cell_type": "code",
   "execution_count": 24,
   "id": "86909418",
   "metadata": {},
   "outputs": [
    {
     "data": {
      "text/plain": [
       "array([[ 0.12819138, -0.61375922,  0.14563654],\n",
       "       [ 0.46106365, -0.21616046,  0.50551265],\n",
       "       [ 0.43931271, -0.58893695, -0.26086028]])"
      ]
     },
     "execution_count": 24,
     "metadata": {},
     "output_type": "execute_result"
    }
   ],
   "source": [
    "arr"
   ]
  },
  {
   "cell_type": "code",
   "execution_count": 25,
   "id": "ea048d67",
   "metadata": {},
   "outputs": [
    {
     "name": "stdout",
     "output_type": "stream",
     "text": [
      "[ 0.34285591 -0.47295221  0.1300963 ]\n"
     ]
    }
   ],
   "source": [
    "mean_column_wise = np.mean(arr, axis = 0)\n",
    "print(mean_column_wise)"
   ]
  },
  {
   "cell_type": "code",
   "execution_count": 26,
   "id": "8d4a0dce",
   "metadata": {},
   "outputs": [],
   "source": [
    "arr = arr -mean_column_wise"
   ]
  },
  {
   "cell_type": "code",
   "execution_count": 27,
   "id": "566bd1d0",
   "metadata": {},
   "outputs": [
    {
     "name": "stdout",
     "output_type": "stream",
     "text": [
      "[[-0.21466453 -0.14080701  0.01554024]\n",
      " [ 0.11820774  0.25679175  0.37541635]\n",
      " [ 0.0964568  -0.11598474 -0.39095658]]\n"
     ]
    }
   ],
   "source": [
    "print(arr)"
   ]
  },
  {
   "cell_type": "code",
   "execution_count": 28,
   "id": "adb23d3a",
   "metadata": {},
   "outputs": [],
   "source": [
    "# Write a NumPy program to create a 5x5 array with random values and normalize it row-wise. \n",
    "\n",
    "arr = np.random.random((5,5))"
   ]
  },
  {
   "cell_type": "code",
   "execution_count": 29,
   "id": "ee8ae84f",
   "metadata": {},
   "outputs": [
    {
     "data": {
      "text/plain": [
       "array([[0.22971707, 0.84564472, 0.73763404, 0.97629796, 0.27824341],\n",
       "       [0.97555658, 0.94719969, 0.62099798, 0.37343373, 0.01310488],\n",
       "       [0.79933597, 0.68032897, 0.27188104, 0.26780657, 0.95205442],\n",
       "       [0.01313288, 0.70480407, 0.45594994, 0.8569024 , 0.09521359],\n",
       "       [0.11526443, 0.18541077, 0.84706474, 0.53455723, 0.75153595]])"
      ]
     },
     "execution_count": 29,
     "metadata": {},
     "output_type": "execute_result"
    }
   ],
   "source": [
    "arr"
   ]
  },
  {
   "cell_type": "code",
   "execution_count": 32,
   "id": "d557be9e",
   "metadata": {},
   "outputs": [
    {
     "name": "stdout",
     "output_type": "stream",
     "text": [
      "\n",
      "Normalize Array row-wise:\n",
      "[[0.15008847 0.55251239 0.48194228 0.6378763  0.18179376]\n",
      " [0.63313656 0.61473293 0.40302791 0.24235862 0.00850507]\n",
      " [0.54465734 0.46356749 0.18525628 0.18247998 0.64871775]\n",
      " [0.01091319 0.58567986 0.37888643 0.71207091 0.07912083]\n",
      " [0.09067961 0.14586439 0.66639379 0.4205412  0.59124039]]\n"
     ]
    }
   ],
   "source": [
    "norm_arr = arr / np.linalg.norm(arr, axis=1, keepdims=True)\n",
    "print(\"\\nNormalize Array row-wise:\")\n",
    "print(norm_arr)"
   ]
  },
  {
   "cell_type": "code",
   "execution_count": 33,
   "id": "08bb831a",
   "metadata": {},
   "outputs": [
    {
     "name": "stdout",
     "output_type": "stream",
     "text": [
      "\n",
      "Normalize Array Column-wise:\n",
      "[[0.17846298 0.5238148  0.53108846 0.66057157 0.22292521]\n",
      " [0.75789203 0.58672065 0.44711177 0.25266846 0.01049947]\n",
      " [0.62098946 0.42141383 0.19575138 0.18120022 0.76277434]\n",
      " [0.01020269 0.43657436 0.32827898 0.57978751 0.07628397]\n",
      " [0.08954682 0.11484835 0.60987737 0.36168601 0.6021214 ]]\n"
     ]
    }
   ],
   "source": [
    "#  Write a NumPy program to create a 5x5 array with random values and normalize it column-wise. \n",
    "\n",
    "norm_arr = arr / np.linalg.norm(arr, axis=0, keepdims=True)\n",
    "print(\"\\nNormalize Array Column-wise:\")\n",
    "print(norm_arr)"
   ]
  },
  {
   "cell_type": "code",
   "execution_count": 34,
   "id": "aa6b21c3",
   "metadata": {},
   "outputs": [],
   "source": [
    "# Write a NumPy program to create a 3x3x3 array with random values and find the sum along the last axis.\n",
    "\n",
    "arr =np.random.random((3,3,3))"
   ]
  },
  {
   "cell_type": "code",
   "execution_count": 35,
   "id": "8bb4a8bb",
   "metadata": {},
   "outputs": [
    {
     "data": {
      "text/plain": [
       "array([[[7.75098549e-01, 6.97320673e-01, 5.83516807e-01],\n",
       "        [5.74884662e-01, 1.20505034e-01, 2.52466378e-01],\n",
       "        [9.87929294e-01, 3.29500199e-01, 7.56309953e-01]],\n",
       "\n",
       "       [[2.85684046e-01, 4.74567915e-01, 3.20255741e-01],\n",
       "        [7.50857471e-01, 6.95865383e-01, 8.87058418e-01],\n",
       "        [5.28401620e-01, 5.83922286e-01, 8.12518726e-01]],\n",
       "\n",
       "       [[9.17314291e-01, 4.60015780e-01, 1.68378642e-01],\n",
       "        [6.46699277e-01, 3.65505259e-01, 7.36933667e-04],\n",
       "        [1.93354636e-01, 1.97427835e-01, 9.45627204e-02]]])"
      ]
     },
     "execution_count": 35,
     "metadata": {},
     "output_type": "execute_result"
    }
   ],
   "source": [
    "arr"
   ]
  },
  {
   "cell_type": "code",
   "execution_count": 36,
   "id": "2f260cde",
   "metadata": {},
   "outputs": [
    {
     "data": {
      "text/plain": [
       "array([[2.05593603, 0.94785607, 2.07373945],\n",
       "       [1.0805077 , 2.33378127, 1.92484263],\n",
       "       [1.54570871, 1.01294147, 0.48534519]])"
      ]
     },
     "execution_count": 36,
     "metadata": {},
     "output_type": "execute_result"
    }
   ],
   "source": [
    "np.sum(arr, axis = -1)"
   ]
  },
  {
   "cell_type": "code",
   "execution_count": 37,
   "id": "91341f63",
   "metadata": {},
   "outputs": [],
   "source": [
    "#  Write a NumPy program to create a 5x5 array with random values and sort each row. "
   ]
  },
  {
   "cell_type": "code",
   "execution_count": 40,
   "id": "0430fca1",
   "metadata": {},
   "outputs": [],
   "source": [
    "arr = np.random.random((5,5))"
   ]
  },
  {
   "cell_type": "code",
   "execution_count": 41,
   "id": "362c1365",
   "metadata": {},
   "outputs": [
    {
     "data": {
      "text/plain": [
       "array([[0.34527759, 0.68983896, 0.88426754, 0.88871205, 0.68492123],\n",
       "       [0.77086168, 0.29016077, 0.00389681, 0.27775836, 0.55091277],\n",
       "       [0.17000818, 0.25106571, 0.28459236, 0.20759113, 0.92964076],\n",
       "       [0.428823  , 0.81206892, 0.6664439 , 0.95040024, 0.18926872],\n",
       "       [0.39425256, 0.74654767, 0.71272004, 0.75004476, 0.32495236]])"
      ]
     },
     "execution_count": 41,
     "metadata": {},
     "output_type": "execute_result"
    }
   ],
   "source": [
    "arr"
   ]
  },
  {
   "cell_type": "code",
   "execution_count": 42,
   "id": "724a0d9f",
   "metadata": {},
   "outputs": [
    {
     "data": {
      "text/plain": [
       "array([[0.34527759, 0.68492123, 0.68983896, 0.88426754, 0.88871205],\n",
       "       [0.00389681, 0.27775836, 0.29016077, 0.55091277, 0.77086168],\n",
       "       [0.17000818, 0.20759113, 0.25106571, 0.28459236, 0.92964076],\n",
       "       [0.18926872, 0.428823  , 0.6664439 , 0.81206892, 0.95040024],\n",
       "       [0.32495236, 0.39425256, 0.71272004, 0.74654767, 0.75004476]])"
      ]
     },
     "execution_count": 42,
     "metadata": {},
     "output_type": "execute_result"
    }
   ],
   "source": [
    "np.sort(arr,axis=1)"
   ]
  },
  {
   "cell_type": "code",
   "execution_count": 43,
   "id": "fe44be4b",
   "metadata": {},
   "outputs": [
    {
     "data": {
      "text/plain": [
       "array([[0.17000818, 0.25106571, 0.00389681, 0.20759113, 0.18926872],\n",
       "       [0.34527759, 0.29016077, 0.28459236, 0.27775836, 0.32495236],\n",
       "       [0.39425256, 0.68983896, 0.6664439 , 0.75004476, 0.55091277],\n",
       "       [0.428823  , 0.74654767, 0.71272004, 0.88871205, 0.68492123],\n",
       "       [0.77086168, 0.81206892, 0.88426754, 0.95040024, 0.92964076]])"
      ]
     },
     "execution_count": 43,
     "metadata": {},
     "output_type": "execute_result"
    }
   ],
   "source": [
    "# Write a NumPy program to create a 5x5 array with random values and sort each column. \n",
    "\n",
    "np.sort(arr, axis =0)"
   ]
  },
  {
   "cell_type": "code",
   "execution_count": 44,
   "id": "ad6cac28",
   "metadata": {},
   "outputs": [],
   "source": [
    "#Write a NumPy program to create a 5x5 array with random values and find the second-largest value in each row. "
   ]
  },
  {
   "cell_type": "code",
   "execution_count": 46,
   "id": "01ff46a9",
   "metadata": {},
   "outputs": [],
   "source": [
    "nums = np.random.random((5,5))"
   ]
  },
  {
   "cell_type": "code",
   "execution_count": 47,
   "id": "165c530d",
   "metadata": {},
   "outputs": [
    {
     "name": "stdout",
     "output_type": "stream",
     "text": [
      "[[0.25588293 0.63671775 0.62791762 0.86283018 0.53144367]\n",
      " [0.54875082 0.39837557 0.33537626 0.46944235 0.67407752]\n",
      " [0.65809366 0.98728001 0.70456306 0.41720402 0.9802833 ]\n",
      " [0.58431316 0.93186778 0.27901528 0.37422857 0.52006935]\n",
      " [0.8682785  0.51025684 0.13203306 0.67614657 0.83513512]]\n"
     ]
    }
   ],
   "source": [
    "print(nums)"
   ]
  },
  {
   "cell_type": "code",
   "execution_count": 48,
   "id": "9a80efdc",
   "metadata": {},
   "outputs": [
    {
     "name": "stdout",
     "output_type": "stream",
     "text": [
      "[0.63671775 0.54875082 0.9802833  0.58431316 0.83513512]\n"
     ]
    }
   ],
   "source": [
    "second_largest = np.partition(nums,-2,axis =1 )[:,-2]\n",
    "print(second_largest)"
   ]
  },
  {
   "cell_type": "code",
   "execution_count": 49,
   "id": "6496a54f",
   "metadata": {},
   "outputs": [
    {
     "name": "stdout",
     "output_type": "stream",
     "text": [
      "[0.37422857 0.41720402 0.46944235 0.67614657 0.86283018]\n"
     ]
    }
   ],
   "source": [
    "# Write a NumPy program to create a 5x5 array with random values and find the second-largest value in each column. \n",
    "\n",
    "second_largest = np.partition(nums,-2,axis =0 )[:,-2]\n",
    "print(second_largest)"
   ]
  },
  {
   "cell_type": "code",
   "execution_count": 59,
   "id": "eb3d3424",
   "metadata": {},
   "outputs": [],
   "source": [
    "# Write a NumPy program to create a 5x5 array with random values and replace the maximum value with 0. \n",
    "matrix = np.random.random((5,5))"
   ]
  },
  {
   "cell_type": "code",
   "execution_count": 60,
   "id": "97ef6273",
   "metadata": {},
   "outputs": [
    {
     "name": "stdout",
     "output_type": "stream",
     "text": [
      "[[0.31172218 0.54833128 0.6335731  0.95536951 0.0342931 ]\n",
      " [0.26492479 0.93042374 0.69478201 0.75552011 0.00480323]\n",
      " [0.65217318 0.77613216 0.46161795 0.20899384 0.7250774 ]\n",
      " [0.16820698 0.91967361 0.41033693 0.57256092 0.01086904]\n",
      " [0.83919882 0.58369317 0.86512889 0.52963212 0.65093536]]\n"
     ]
    }
   ],
   "source": [
    "print(matrix)"
   ]
  },
  {
   "cell_type": "code",
   "execution_count": 62,
   "id": "a19a6ca4",
   "metadata": {},
   "outputs": [
    {
     "name": "stdout",
     "output_type": "stream",
     "text": [
      "0.9553695109125371\n"
     ]
    }
   ],
   "source": [
    "max_value = np.max(matrix)\n",
    "print(max_value)"
   ]
  },
  {
   "cell_type": "code",
   "execution_count": 64,
   "id": "ca496529",
   "metadata": {},
   "outputs": [],
   "source": [
    "nums[nums == max_value] = 0"
   ]
  },
  {
   "cell_type": "markdown",
   "id": "d0a66080",
   "metadata": {},
   "source": [
    "nums"
   ]
  },
  {
   "cell_type": "code",
   "execution_count": 65,
   "id": "526fe538",
   "metadata": {},
   "outputs": [
    {
     "data": {
      "text/plain": [
       "array([[0.25588293, 0.63671775, 0.62791762, 0.86283018, 0.53144367],\n",
       "       [0.54875082, 0.39837557, 0.33537626, 0.46944235, 0.67407752],\n",
       "       [0.65809366, 0.98728001, 0.70456306, 0.41720402, 0.9802833 ],\n",
       "       [0.58431316, 0.93186778, 0.27901528, 0.37422857, 0.52006935],\n",
       "       [0.8682785 , 0.51025684, 0.13203306, 0.67614657, 0.83513512]])"
      ]
     },
     "execution_count": 65,
     "metadata": {},
     "output_type": "execute_result"
    }
   ],
   "source": [
    "nums"
   ]
  },
  {
   "cell_type": "code",
   "execution_count": 66,
   "id": "7ae709aa",
   "metadata": {},
   "outputs": [
    {
     "name": "stdout",
     "output_type": "stream",
     "text": [
      "0.004803230202853004\n"
     ]
    }
   ],
   "source": [
    "# Write a NumPy program to create a 5x5 array with random values and replace the minimum value with 0. \n",
    "\n",
    "min_values = np.min(matrix)\n",
    "print(min_values)"
   ]
  },
  {
   "cell_type": "code",
   "execution_count": 68,
   "id": "dfc59f31",
   "metadata": {},
   "outputs": [],
   "source": [
    "nums[nums == min_values] = 0"
   ]
  },
  {
   "cell_type": "code",
   "execution_count": 69,
   "id": "e4e431c5",
   "metadata": {},
   "outputs": [
    {
     "name": "stdout",
     "output_type": "stream",
     "text": [
      "[[0.25588293 0.63671775 0.62791762 0.86283018 0.53144367]\n",
      " [0.54875082 0.39837557 0.33537626 0.46944235 0.67407752]\n",
      " [0.65809366 0.98728001 0.70456306 0.41720402 0.9802833 ]\n",
      " [0.58431316 0.93186778 0.27901528 0.37422857 0.52006935]\n",
      " [0.8682785  0.51025684 0.13203306 0.67614657 0.83513512]]\n"
     ]
    }
   ],
   "source": [
    "print(nums)"
   ]
  },
  {
   "cell_type": "code",
   "execution_count": 70,
   "id": "124a6732",
   "metadata": {},
   "outputs": [
    {
     "data": {
      "text/plain": [
       "array([[0.31172218, 0.54833128, 0.6335731 , 0.95536951, 0.0342931 ],\n",
       "       [0.26492479, 0.93042374, 0.69478201, 0.75552011, 0.00480323],\n",
       "       [0.65217318, 0.77613216, 0.46161795, 0.20899384, 0.7250774 ],\n",
       "       [0.16820698, 0.91967361, 0.41033693, 0.57256092, 0.01086904],\n",
       "       [0.83919882, 0.58369317, 0.86512889, 0.52963212, 0.65093536]])"
      ]
     },
     "execution_count": 70,
     "metadata": {},
     "output_type": "execute_result"
    }
   ],
   "source": [
    "#  Write a NumPy program to create a 5x5 array with random values and calculate the exponential of each element\n",
    "\n",
    "matrix"
   ]
  },
  {
   "cell_type": "code",
   "execution_count": 71,
   "id": "5cd8578a",
   "metadata": {},
   "outputs": [
    {
     "data": {
      "text/plain": [
       "array([[1.36577519, 1.73036312, 1.88433146, 2.599631  , 1.03488789],\n",
       "       [1.30333295, 2.53558337, 2.00327234, 2.1287184 , 1.00481478],\n",
       "       [1.91970817, 2.17305098, 1.58663901, 1.2324374 , 2.06489092],\n",
       "       [1.18318148, 2.50847151, 1.50732557, 1.77280124, 1.01092832],\n",
       "       [2.31451189, 1.79264676, 2.37531221, 1.69830743, 1.91733339]])"
      ]
     },
     "execution_count": 71,
     "metadata": {},
     "output_type": "execute_result"
    }
   ],
   "source": [
    "np.exp(matrix)"
   ]
  },
  {
   "cell_type": "code",
   "execution_count": null,
   "id": "0674efb5",
   "metadata": {},
   "outputs": [],
   "source": []
  }
 ],
 "metadata": {
  "kernelspec": {
   "display_name": "Python 3 (ipykernel)",
   "language": "python",
   "name": "python3"
  },
  "language_info": {
   "codemirror_mode": {
    "name": "ipython",
    "version": 3
   },
   "file_extension": ".py",
   "mimetype": "text/x-python",
   "name": "python",
   "nbconvert_exporter": "python",
   "pygments_lexer": "ipython3",
   "version": "3.9.12"
  }
 },
 "nbformat": 4,
 "nbformat_minor": 5
}
