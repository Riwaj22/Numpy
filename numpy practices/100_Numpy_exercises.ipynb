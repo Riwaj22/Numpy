{
 "cells": [
  {
   "cell_type": "markdown",
   "id": "6293cc50",
   "metadata": {},
   "source": [
    "# 100 numpy exercises\n",
    "\n",
    "This is a collection of exercises that have been collected in the numpy mailing list, on stack overflow\n",
    "and in the numpy documentation. The goal of this collection is to offer a quick reference for both old\n",
    "and new users but also to provide a set of exercises for those who teach.\n",
    "\n",
    "\n",
    "If you find an error or think you've a better way to solve some of them, feel\n",
    "free to open an issue at <https://github.com/rougier/numpy-100>."
   ]
  },
  {
   "cell_type": "markdown",
   "id": "a167c052",
   "metadata": {},
   "source": [
    "File automatically generated. See the documentation to update questions/answers/hints programmatically."
   ]
  },
  {
   "cell_type": "markdown",
   "id": "57fc0ee5",
   "metadata": {},
   "source": [
    "Run the `initialize.py` module, then for each question you can query the\n",
    "answer or an hint with `hint(n)` or `answer(n)` for `n` question number."
   ]
  },
  {
   "cell_type": "code",
   "execution_count": null,
   "id": "3d46fba2",
   "metadata": {},
   "outputs": [],
   "source": [
    "%run initialise.py"
   ]
  },
  {
   "cell_type": "markdown",
   "id": "3c1222ff",
   "metadata": {},
   "source": [
    "#### 1. Import the numpy package under the name `np` (★☆☆)"
   ]
  },
  {
   "cell_type": "code",
   "execution_count": 2,
   "id": "f52e6a0b",
   "metadata": {},
   "outputs": [],
   "source": [
    "import numpy as np"
   ]
  },
  {
   "cell_type": "markdown",
   "id": "9d9f4753",
   "metadata": {},
   "source": [
    "#### 2. Print the numpy version and the configuration (★☆☆)"
   ]
  },
  {
   "cell_type": "code",
   "execution_count": 5,
   "id": "b7fa5fa1",
   "metadata": {},
   "outputs": [
    {
     "data": {
      "text/plain": [
       "<module 'numpy.version' from 'C:\\\\Users\\\\97798\\\\anaconda3\\\\lib\\\\site-packages\\\\numpy\\\\version.py'>"
      ]
     },
     "execution_count": 5,
     "metadata": {},
     "output_type": "execute_result"
    }
   ],
   "source": [
    "np.version"
   ]
  },
  {
   "cell_type": "markdown",
   "id": "3e4c23c6",
   "metadata": {},
   "source": [
    "#### 3. Create a null vector of size 10 (★☆☆)"
   ]
  },
  {
   "cell_type": "code",
   "execution_count": 7,
   "id": "083c5c46",
   "metadata": {},
   "outputs": [],
   "source": [
    "a=np.zeros(10)"
   ]
  },
  {
   "cell_type": "markdown",
   "id": "c38bbe82",
   "metadata": {},
   "source": [
    "#### 4. How to find the memory size of any array (★☆☆)"
   ]
  },
  {
   "cell_type": "code",
   "execution_count": 8,
   "id": "02b04021",
   "metadata": {},
   "outputs": [
    {
     "data": {
      "text/plain": [
       "80"
      ]
     },
     "execution_count": 8,
     "metadata": {},
     "output_type": "execute_result"
    }
   ],
   "source": [
    "a.itemsize * a.size"
   ]
  },
  {
   "cell_type": "markdown",
   "id": "67f893d4",
   "metadata": {},
   "source": [
    "#### 5. How to get the documentation of the numpy add function from the command line? (★☆☆)"
   ]
  },
  {
   "cell_type": "code",
   "execution_count": null,
   "id": "40e6b70d",
   "metadata": {},
   "outputs": [],
   "source": [
    "np.add"
   ]
  },
  {
   "cell_type": "markdown",
   "id": "e0c739c6",
   "metadata": {},
   "source": [
    "#### 6. Create a null vector of size 10 but the fifth value which is 1 (★☆☆)"
   ]
  },
  {
   "cell_type": "code",
   "execution_count": 15,
   "id": "bcceacf7",
   "metadata": {},
   "outputs": [
    {
     "data": {
      "text/plain": [
       "array([0., 0., 0., 0., 1., 0., 0., 0., 0., 0.])"
      ]
     },
     "execution_count": 15,
     "metadata": {},
     "output_type": "execute_result"
    }
   ],
   "source": [
    "a= np.zeros(10)\n",
    "a[4]=1\n",
    "a"
   ]
  },
  {
   "cell_type": "markdown",
   "id": "fbebedab",
   "metadata": {},
   "source": [
    "#### 7. Create a vector with values ranging from 10 to 49 (★☆☆)"
   ]
  },
  {
   "cell_type": "code",
   "execution_count": 19,
   "id": "3d117d54",
   "metadata": {},
   "outputs": [
    {
     "data": {
      "text/plain": [
       "array([10, 11, 12, 13, 14, 15, 16, 17, 18, 19, 20, 21, 22, 23, 24, 25, 26,\n",
       "       27, 28, 29, 30, 31, 32, 33, 34, 35, 36, 37, 38, 39, 40, 41, 42, 43,\n",
       "       44, 45, 46, 47, 48, 49, 50])"
      ]
     },
     "execution_count": 19,
     "metadata": {},
     "output_type": "execute_result"
    }
   ],
   "source": [
    "np.arange(10,51\n",
    "         )"
   ]
  },
  {
   "cell_type": "markdown",
   "id": "ad0bff02",
   "metadata": {},
   "source": [
    "#### 8. Reverse a vector (first element becomes last) (★☆☆)"
   ]
  },
  {
   "cell_type": "code",
   "execution_count": 25,
   "id": "22d23470",
   "metadata": {},
   "outputs": [
    {
     "data": {
      "text/plain": [
       "array([9, 8, 7, 6, 5, 4, 3, 2, 1])"
      ]
     },
     "execution_count": 25,
     "metadata": {},
     "output_type": "execute_result"
    }
   ],
   "source": [
    "a = np.array([1,2,3,4,5,6,7,8,9])\n",
    "a = np.flip(a)\n",
    "a"
   ]
  },
  {
   "cell_type": "markdown",
   "id": "9f59d7e1",
   "metadata": {},
   "source": [
    "#### 9. Create a 3x3 matrix with values ranging from 0 to 8 (★☆☆)"
   ]
  },
  {
   "cell_type": "code",
   "execution_count": 29,
   "id": "7449e82d",
   "metadata": {},
   "outputs": [
    {
     "data": {
      "text/plain": [
       "array([[0, 1, 2],\n",
       "       [3, 4, 5],\n",
       "       [6, 7, 8]])"
      ]
     },
     "execution_count": 29,
     "metadata": {},
     "output_type": "execute_result"
    }
   ],
   "source": [
    "a = np.arange(9).reshape(3,3)\n",
    "a"
   ]
  },
  {
   "cell_type": "markdown",
   "id": "f374c4cf",
   "metadata": {},
   "source": [
    "#### 10. Find indices of non-zero elements from [1,2,0,0,4,0] (★☆☆)"
   ]
  },
  {
   "cell_type": "code",
   "execution_count": 33,
   "id": "1a84bed8",
   "metadata": {},
   "outputs": [
    {
     "data": {
      "text/plain": [
       "array([[2],\n",
       "       [3],\n",
       "       [5]], dtype=int64)"
      ]
     },
     "execution_count": 33,
     "metadata": {},
     "output_type": "execute_result"
    }
   ],
   "source": [
    "a = np.array([1,2,0,0,4,0])\n",
    "a\n",
    "np.argwhere(a[:] == 0)"
   ]
  },
  {
   "cell_type": "markdown",
   "id": "9c4707f5",
   "metadata": {},
   "source": [
    "#### 11. Create a 3x3 identity matrix (★☆☆)"
   ]
  },
  {
   "cell_type": "code",
   "execution_count": 34,
   "id": "29dc1fd3",
   "metadata": {},
   "outputs": [
    {
     "data": {
      "text/plain": [
       "array([[1., 0., 0.],\n",
       "       [0., 1., 0.],\n",
       "       [0., 0., 1.]])"
      ]
     },
     "execution_count": 34,
     "metadata": {},
     "output_type": "execute_result"
    }
   ],
   "source": [
    "np.eye(3,3)"
   ]
  },
  {
   "cell_type": "markdown",
   "id": "3bac294a",
   "metadata": {},
   "source": [
    "#### 12. Create a 3x3x3 array with random values (★☆☆)"
   ]
  },
  {
   "cell_type": "code",
   "execution_count": 36,
   "id": "eadfae67",
   "metadata": {},
   "outputs": [
    {
     "data": {
      "text/plain": [
       "array([[[-0.30635915,  1.41236416, -0.62169083],\n",
       "        [ 0.68921832,  0.8281943 ,  0.45587008],\n",
       "        [-0.45906587, -1.21528361, -0.29536581]],\n",
       "\n",
       "       [[-0.0095564 ,  2.67140938,  0.44852229],\n",
       "        [-0.63301046, -1.32293462,  1.40479557],\n",
       "        [-1.08799357,  1.63430782, -0.06544566]],\n",
       "\n",
       "       [[ 0.19537954,  0.31898516, -0.22486615],\n",
       "        [ 1.74820314, -1.2902965 , -0.88341601],\n",
       "        [-0.4776658 , -0.28663632, -1.49480821]]])"
      ]
     },
     "execution_count": 36,
     "metadata": {},
     "output_type": "execute_result"
    }
   ],
   "source": [
    "np.random.randn(27).reshape(3,3,3)"
   ]
  },
  {
   "cell_type": "markdown",
   "id": "466c2989",
   "metadata": {},
   "source": [
    "#### 13. Create a 10x10 array with random values and find the minimum and maximum values (★☆☆)"
   ]
  },
  {
   "cell_type": "code",
   "execution_count": 39,
   "id": "9a74dbfc",
   "metadata": {},
   "outputs": [
    {
     "data": {
      "text/plain": [
       "-2.3185087719910014"
      ]
     },
     "execution_count": 39,
     "metadata": {},
     "output_type": "execute_result"
    }
   ],
   "source": [
    "a=np.random.randn(100).reshape(10,10)\n",
    "a\n",
    "\n",
    "np.max(a)\n",
    "np.min(a)"
   ]
  },
  {
   "cell_type": "markdown",
   "id": "53a8edb2",
   "metadata": {},
   "source": [
    "#### 14. Create a random vector of size 30 and find the mean value (★☆☆)"
   ]
  },
  {
   "cell_type": "code",
   "execution_count": 41,
   "id": "6691530b",
   "metadata": {},
   "outputs": [
    {
     "data": {
      "text/plain": [
       "0.47638530543317115"
      ]
     },
     "execution_count": 41,
     "metadata": {},
     "output_type": "execute_result"
    }
   ],
   "source": [
    "np.mean(np.random.random(30))"
   ]
  },
  {
   "cell_type": "markdown",
   "id": "cbaad31c",
   "metadata": {},
   "source": [
    "#### 15. Create a 2d array with 1 on the border and 0 inside (★☆☆)"
   ]
  },
  {
   "cell_type": "code",
   "execution_count": 42,
   "id": "ad8308e3",
   "metadata": {},
   "outputs": [
    {
     "name": "stdout",
     "output_type": "stream",
     "text": [
      "[[1 1 1 1 1]\n",
      " [1 0 0 0 1]\n",
      " [1 0 0 0 1]\n",
      " [1 0 0 0 1]\n",
      " [1 1 1 1 1]]\n"
     ]
    }
   ],
   "source": [
    "# Define the dimensions of the array\n",
    "n_rows = 5\n",
    "n_cols = 5\n",
    "\n",
    "# Create a new array with zeros\n",
    "arr = np.zeros((n_rows, n_cols), dtype=int)\n",
    "\n",
    "# Set the first and last rows to 1\n",
    "arr[0, :] = 1\n",
    "arr[-1, :] = 1\n",
    "\n",
    "# Set the first and last columns to 1, except for the corners which are already 1\n",
    "arr[1:-1, 0] = 1\n",
    "arr[1:-1, -1] = 1\n",
    "\n",
    "# Print the resulting array\n",
    "print(arr)"
   ]
  },
  {
   "cell_type": "markdown",
   "id": "c5ecc267",
   "metadata": {},
   "source": [
    "#### 16. How to add a border (filled with 0's) around an existing array? (★☆☆)"
   ]
  },
  {
   "cell_type": "code",
   "execution_count": 43,
   "id": "9d5c78c4",
   "metadata": {},
   "outputs": [
    {
     "name": "stdout",
     "output_type": "stream",
     "text": [
      "[[0 0 0 0 0]\n",
      " [0 0 0 0 0]\n",
      " [0 0 0 0 0]\n",
      " [0 0 0 0 0]\n",
      " [0 0 0 0 0]]\n"
     ]
    }
   ],
   "source": [
    "# Define the dimensions of the array\n",
    "n_rows = 5\n",
    "n_cols = 5\n",
    "\n",
    "# Create a new array with zeros\n",
    "arr = np.zeros((n_rows, n_cols), dtype=int)\n",
    "\n",
    "# Set the first and last rows to 1\n",
    "arr[0, :] = 0\n",
    "arr[-1, :] = 0\n",
    "\n",
    "# Set the first and last columns to 1, except for the corners which are already 1\n",
    "arr[1:-1, 0] = 0\n",
    "arr[1:-1, -1] = 0\n",
    "\n",
    "# Print the resulting array\n",
    "print(arr)"
   ]
  },
  {
   "cell_type": "markdown",
   "id": "ef909b72",
   "metadata": {},
   "source": [
    "#### 17. What is the result of the following expression? (★☆☆)\n",
    "```python\n",
    "0 * np.nan\n",
    "np.nan == np.nan\n",
    "np.inf > np.nan\n",
    "np.nan - np.nan\n",
    "np.nan in set([np.nan])\n",
    "0.3 == 3 * 0.1\n",
    "```"
   ]
  },
  {
   "cell_type": "code",
   "execution_count": 9,
   "id": "3b4985f2",
   "metadata": {},
   "outputs": [
    {
     "data": {
      "text/plain": [
       "False"
      ]
     },
     "execution_count": 9,
     "metadata": {},
     "output_type": "execute_result"
    }
   ],
   "source": [
    "0 * np.nan\n",
    "np.nan == np.nan\n",
    "np.inf > np.nan\n",
    "np.nan - np.nan\n",
    "\n",
    "np.nan in set([np.nan])\n",
    "\n",
    "0.3 == 3*0.1"
   ]
  },
  {
   "cell_type": "markdown",
   "id": "502738ac",
   "metadata": {},
   "source": [
    "#### 18. Create a 5x5 matrix with values 1,2,3,4 just below the diagonal (★☆☆)"
   ]
  },
  {
   "cell_type": "code",
   "execution_count": 13,
   "id": "faed6e2b",
   "metadata": {},
   "outputs": [
    {
     "data": {
      "text/plain": [
       "array([[1, 0, 0, 0],\n",
       "       [1, 2, 0, 0],\n",
       "       [1, 2, 3, 0],\n",
       "       [1, 2, 3, 4]])"
      ]
     },
     "execution_count": 13,
     "metadata": {},
     "output_type": "execute_result"
    }
   ],
   "source": [
    "np.zeros((5,5))\n",
    "\n",
    "matrix = np.tril(np.array([1,2,3,4]))\n",
    "matrix"
   ]
  },
  {
   "cell_type": "markdown",
   "id": "a65da660",
   "metadata": {},
   "source": [
    "#### 19. Create a 8x8 matrix and fill it with a checkerboard pattern (★☆☆)"
   ]
  },
  {
   "cell_type": "code",
   "execution_count": 17,
   "id": "ed150400",
   "metadata": {},
   "outputs": [
    {
     "data": {
      "text/plain": [
       "array([[1., 0., 1., 0., 1., 0., 1., 0.],\n",
       "       [0., 1., 0., 1., 0., 1., 0., 1.],\n",
       "       [1., 0., 1., 0., 1., 0., 1., 0.],\n",
       "       [0., 1., 0., 1., 0., 1., 0., 1.],\n",
       "       [1., 0., 1., 0., 1., 0., 1., 0.],\n",
       "       [0., 1., 0., 1., 0., 1., 0., 1.],\n",
       "       [1., 0., 1., 0., 1., 0., 1., 0.],\n",
       "       [0., 1., 0., 1., 0., 1., 0., 1.]])"
      ]
     },
     "execution_count": 17,
     "metadata": {},
     "output_type": "execute_result"
    }
   ],
   "source": [
    "matrix = np.zeros((8,8))\n",
    "matrix\n",
    "\n",
    "matrix[::2,::2]=1\n",
    "matrix[1::2,1::2]=1\n",
    "matrix"
   ]
  },
  {
   "cell_type": "markdown",
   "id": "9f7f9c49",
   "metadata": {},
   "source": [
    "#### 20. Consider a (6,7,8) shape array, what is the index (x,y,z) of the 100th element? (★☆☆)"
   ]
  },
  {
   "cell_type": "code",
   "execution_count": 21,
   "id": "3782b5a9",
   "metadata": {},
   "outputs": [
    {
     "data": {
      "text/plain": [
       "(1, 5, 4)"
      ]
     },
     "execution_count": 21,
     "metadata": {},
     "output_type": "execute_result"
    }
   ],
   "source": [
    "matrix = np.zeros([6,7,8])\n",
    "matrix\n",
    "\n",
    "np.unravel_index(100,matrix.shape)"
   ]
  },
  {
   "cell_type": "markdown",
   "id": "66bfda35",
   "metadata": {},
   "source": [
    "#### 21. Create a checkerboard 8x8 matrix using the tile function (★☆☆)"
   ]
  },
  {
   "cell_type": "code",
   "execution_count": 24,
   "id": "4c07477c",
   "metadata": {},
   "outputs": [
    {
     "name": "stdout",
     "output_type": "stream",
     "text": [
      "[[0 1 1 0 0 1 1 0]\n",
      " [1 0 0 1 1 0 0 1]\n",
      " [1 0 0 1 1 0 0 1]\n",
      " [0 1 1 0 0 1 1 0]\n",
      " [0 1 1 0 0 1 1 0]\n",
      " [1 0 0 1 1 0 0 1]\n",
      " [1 0 0 1 1 0 0 1]\n",
      " [0 1 1 0 0 1 1 0]]\n"
     ]
    }
   ],
   "source": [
    "matrix = np.zeros((8,8))\n",
    "matrix\n",
    "\n",
    "black_square = np.array([[0, 1], [1, 0]])\n",
    "white_square = np.array([[1, 0], [0, 1]])\n",
    "\n",
    "# Use tile to create an 8x8 chessboard pattern\n",
    "chessboard = np.tile(np.bmat([[black_square, white_square], [white_square, black_square]]), (4, 4))[:8, :8]\n",
    "\n",
    "print(chessboard)"
   ]
  },
  {
   "cell_type": "markdown",
   "id": "d5bcfc08",
   "metadata": {},
   "source": [
    "#### 22. Normalize a 5x5 random matrix (★☆☆)"
   ]
  },
  {
   "cell_type": "code",
   "execution_count": 28,
   "id": "cea6c993",
   "metadata": {},
   "outputs": [
    {
     "data": {
      "text/plain": [
       "array([[0.57909758, 0.30110697, 0.48117059, 0.43060122, 0.39628025],\n",
       "       [0.03276498, 0.16371904, 0.70590865, 0.42259182, 0.54335224],\n",
       "       [0.0688854 , 0.64080073, 0.16884825, 0.40585168, 0.62562282],\n",
       "       [0.48903001, 0.59518189, 0.4512475 , 0.32022655, 0.31692083],\n",
       "       [0.31939034, 0.38143534, 0.05247854, 0.52320427, 0.68992767]])"
      ]
     },
     "execution_count": 28,
     "metadata": {},
     "output_type": "execute_result"
    }
   ],
   "source": [
    "matrix = np.random.random((5,5))\n",
    "matrix\n",
    "\n",
    "norm_matrix = np.linalg.norm(matrix, axis=1, keepdims=True)\n",
    "norm_matrix[norm_matrix == 0] = 1\n",
    "matrix_normalized = matrix / norm_matrix\n",
    "matrix_normalized"
   ]
  },
  {
   "cell_type": "markdown",
   "id": "f9a0911e",
   "metadata": {},
   "source": [
    "#### 23. Create a custom dtype that describes a color as four unsigned bytes (RGBA) (★☆☆)"
   ]
  },
  {
   "cell_type": "code",
   "execution_count": 29,
   "id": "d165044b",
   "metadata": {},
   "outputs": [
    {
     "name": "stdout",
     "output_type": "stream",
     "text": [
      "[(255,   0,   0, 255) (  0, 255,   0, 255) (  0,   0, 255, 255)]\n"
     ]
    }
   ],
   "source": [
    "\n",
    "# Define custom dtype for RGBA color\n",
    "color_dtype = np.dtype([('r', np.uint8), ('g', np.uint8), ('b', np.uint8), ('a', np.uint8)])\n",
    "\n",
    "# Create a 1D array of colors using the custom dtype\n",
    "colors = np.array([(255, 0, 0, 255), (0, 255, 0, 255), (0, 0, 255, 255)], dtype=color_dtype)\n",
    "\n",
    "print(colors)\n"
   ]
  },
  {
   "cell_type": "markdown",
   "id": "654805b1",
   "metadata": {},
   "source": [
    "#### 24. Multiply a 5x3 matrix by a 3x2 matrix (real matrix product) (★☆☆)"
   ]
  },
  {
   "cell_type": "code",
   "execution_count": 32,
   "id": "6a42619f",
   "metadata": {},
   "outputs": [
    {
     "data": {
      "text/plain": [
       "array([[0.21232956, 0.87231736],\n",
       "       [0.28962283, 1.04422089],\n",
       "       [0.14576833, 0.584348  ],\n",
       "       [0.2278553 , 0.66254255],\n",
       "       [0.14477777, 0.5314691 ]])"
      ]
     },
     "execution_count": 32,
     "metadata": {},
     "output_type": "execute_result"
    }
   ],
   "source": [
    "matrix_1 = np.random.random((5,3))\n",
    "matrix_1\n",
    "\n",
    "matrix_2 = np.random.random((3,2))\n",
    "matrix_2\n",
    "\n",
    "matrix_1.dot(matrix_2)"
   ]
  },
  {
   "cell_type": "markdown",
   "id": "994c25df",
   "metadata": {},
   "source": [
    "#### 25. Given a 1D array, negate all elements which are between 3 and 8, in place. (★☆☆)"
   ]
  },
  {
   "cell_type": "code",
   "execution_count": 46,
   "id": "e4b39c03",
   "metadata": {},
   "outputs": [
    {
     "data": {
      "text/plain": [
       "array([ 1,  2, -3, -4, -5, -6, -7, -8,  9])"
      ]
     },
     "execution_count": 46,
     "metadata": {},
     "output_type": "execute_result"
    }
   ],
   "source": [
    "a= np.array([1,2,3,4,5,6,7,8,9])\n",
    "\n",
    "a[(a>=3) & (a<=8) ]*= -1\n",
    "a"
   ]
  },
  {
   "cell_type": "markdown",
   "id": "b7d15d1a",
   "metadata": {},
   "source": [
    " #### 26. What is the output of the following script? (★☆☆)\n",
    "```python\n",
    "# Author: Jake VanderPlas\n",
    "\n",
    "print(sum(range(5),-1))\n",
    "from numpy import *\n",
    "print(sum(range(5),-1))\n",
    "```"
   ]
  },
  {
   "cell_type": "code",
   "execution_count": null,
   "id": "4c95bc3f",
   "metadata": {},
   "outputs": [],
   "source": []
  },
  {
   "cell_type": "markdown",
   "id": "a34f0d08",
   "metadata": {},
   "source": [
    "#### 27. Consider an integer vector Z, which of these expressions are legal? (★☆☆)\n",
    "```python\n",
    "Z**Z\n",
    "2 << Z >> 2\n",
    "Z <- Z\n",
    "1j*Z\n",
    "Z/1/1\n",
    "Z<Z>Z\n",
    "```"
   ]
  },
  {
   "cell_type": "code",
   "execution_count": null,
   "id": "564658fc",
   "metadata": {},
   "outputs": [],
   "source": []
  },
  {
   "cell_type": "markdown",
   "id": "c34e94bf",
   "metadata": {},
   "source": [
    "#### 28. What are the result of the following expressions? (★☆☆)\n",
    "```python\n",
    "np.array(0) / np.array(0)\n",
    "np.array(0) // np.array(0)\n",
    "np.array([np.nan]).astype(int).astype(float)\n",
    "```"
   ]
  },
  {
   "cell_type": "code",
   "execution_count": 49,
   "id": "56663562",
   "metadata": {},
   "outputs": [
    {
     "name": "stderr",
     "output_type": "stream",
     "text": [
      "C:\\Users\\97798\\AppData\\Local\\Temp\\ipykernel_14012\\3335945171.py:1: RuntimeWarning: invalid value encountered in divide\n",
      "  np.array(0)/np.array(0)\n",
      "C:\\Users\\97798\\AppData\\Local\\Temp\\ipykernel_14012\\3335945171.py:3: RuntimeWarning: divide by zero encountered in floor_divide\n",
      "  np.array(0)//np.array(0)\n",
      "C:\\Users\\97798\\AppData\\Local\\Temp\\ipykernel_14012\\3335945171.py:5: RuntimeWarning: invalid value encountered in cast\n",
      "  np.array([np.nan]).astype(int).astype(float)\n"
     ]
    },
    {
     "data": {
      "text/plain": [
       "array([-2.14748365e+09])"
      ]
     },
     "execution_count": 49,
     "metadata": {},
     "output_type": "execute_result"
    }
   ],
   "source": [
    "np.array(0)/np.array(0)\n",
    "\n",
    "np.array(0)//np.array(0)\n",
    "\n",
    "np.array([np.nan]).astype(int).astype(float)"
   ]
  },
  {
   "cell_type": "markdown",
   "id": "546f5e7b",
   "metadata": {},
   "source": [
    "#### 29. How to round away from zero a float array ? (★☆☆)"
   ]
  },
  {
   "cell_type": "code",
   "execution_count": 51,
   "id": "f725a6d2",
   "metadata": {},
   "outputs": [
    {
     "name": "stdout",
     "output_type": "stream",
     "text": [
      "[2. 3. 4. 6. 8.]\n"
     ]
    }
   ],
   "source": [
    "a = np.array([1.2,3,4,5.6,7.8])\n",
    "np.ceil(a)\n",
    "print(np.ceil(a))"
   ]
  },
  {
   "cell_type": "markdown",
   "id": "eadca856",
   "metadata": {},
   "source": [
    "#### 30. How to find common values between two arrays? (★☆☆)"
   ]
  },
  {
   "cell_type": "code",
   "execution_count": 60,
   "id": "e0270b5b",
   "metadata": {},
   "outputs": [
    {
     "data": {
      "text/plain": [
       "array([5, 6, 7, 8, 9])"
      ]
     },
     "execution_count": 60,
     "metadata": {},
     "output_type": "execute_result"
    }
   ],
   "source": [
    "array_1 = np.array([1,2,3,4,5,6,7,8,9])\n",
    "array_2=np.arange(5,10)\n",
    "array_1\n",
    "array_2\n",
    "np.intersect1d(array_1,array_2)"
   ]
  },
  {
   "cell_type": "markdown",
   "id": "ca16ca22",
   "metadata": {},
   "source": [
    "#### 31. How to ignore all numpy warnings (not recommended)? (★☆☆)"
   ]
  },
  {
   "cell_type": "code",
   "execution_count": null,
   "id": "7d7208ef",
   "metadata": {},
   "outputs": [],
   "source": []
  },
  {
   "cell_type": "markdown",
   "id": "c7871d0d",
   "metadata": {},
   "source": [
    "#### 32. Is the following expressions true? (★☆☆)\n",
    "```python\n",
    "np.sqrt(-1) == np.emath.sqrt(-1)\n",
    "```"
   ]
  },
  {
   "cell_type": "code",
   "execution_count": 61,
   "id": "acc3701a",
   "metadata": {},
   "outputs": [
    {
     "name": "stderr",
     "output_type": "stream",
     "text": [
      "C:\\Users\\97798\\AppData\\Local\\Temp\\ipykernel_14012\\244602691.py:1: RuntimeWarning: invalid value encountered in sqrt\n",
      "  np.sqrt(-1) == np.emath.sqrt(-1)\n"
     ]
    },
    {
     "data": {
      "text/plain": [
       "False"
      ]
     },
     "execution_count": 61,
     "metadata": {},
     "output_type": "execute_result"
    }
   ],
   "source": [
    "np.sqrt(-1) == np.emath.sqrt(-1)"
   ]
  },
  {
   "cell_type": "markdown",
   "id": "e0433e30",
   "metadata": {},
   "source": [
    "#### 33. How to get the dates of yesterday, today and tomorrow? (★☆☆)"
   ]
  },
  {
   "cell_type": "code",
   "execution_count": 72,
   "id": "9c4d2152",
   "metadata": {},
   "outputs": [
    {
     "name": "stdout",
     "output_type": "stream",
     "text": [
      "Today is 2023-05-10 11:12:17.065084\n",
      "Yesterday is 2023-05-10 11:12:17.065084\n",
      "Tomorrow is 2023-05-10 11:12:17.066084\n"
     ]
    }
   ],
   "source": [
    "from datetime import datetime, timedelta\n",
    "\n",
    "today = datetime.today()\n",
    "today\n",
    "print(\"Today is {}\".format(today))\n",
    "\n",
    "yesterday = datetime.today()  - timedelta()\n",
    "yesterday\n",
    "print(\"Yesterday is {}\".format(yesterday))\n",
    "\n",
    "tomorrow = datetime.today() + timedelta()\n",
    "tomorrow\n",
    "print(\"Tomorrow is {}\".format(tomorrow))"
   ]
  },
  {
   "cell_type": "markdown",
   "id": "9f52a2ef",
   "metadata": {},
   "source": [
    "#### 34. How to get all the dates corresponding to the month of July 2016? (★★☆)"
   ]
  },
  {
   "cell_type": "code",
   "execution_count": 75,
   "id": "d6c34dec",
   "metadata": {},
   "outputs": [
    {
     "name": "stdout",
     "output_type": "stream",
     "text": [
      "['2016-07-01' '2016-07-02' '2016-07-03' '2016-07-04' '2016-07-05'\n",
      " '2016-07-06' '2016-07-07' '2016-07-08' '2016-07-09' '2016-07-10'\n",
      " '2016-07-11' '2016-07-12' '2016-07-13' '2016-07-14' '2016-07-15'\n",
      " '2016-07-16' '2016-07-17' '2016-07-18' '2016-07-19' '2016-07-20'\n",
      " '2016-07-21' '2016-07-22' '2016-07-23' '2016-07-24' '2016-07-25'\n",
      " '2016-07-26' '2016-07-27' '2016-07-28' '2016-07-29' '2016-07-30'\n",
      " '2016-07-31']\n"
     ]
    }
   ],
   "source": [
    "dates = np.arange('2016-07','2016-08',dtype = 'datetime64[D]')\n",
    "\n",
    "july_months = dates[np.datetime_as_string(dates, unit = 'M') == '2016-07']\n",
    "\n",
    "print(july_months)"
   ]
  },
  {
   "cell_type": "markdown",
   "id": "4a64e059",
   "metadata": {},
   "source": [
    "#### 35. How to compute ((A+B)*(-A/2)) in place (without copy)? (★★☆)"
   ]
  },
  {
   "cell_type": "code",
   "execution_count": 82,
   "id": "49267f60",
   "metadata": {},
   "outputs": [
    {
     "name": "stdout",
     "output_type": "stream",
     "text": [
      "[-12.5 -24.5 -40.5]\n"
     ]
    }
   ],
   "source": [
    "A = np.array([1, 2, 3], dtype = np.float32)\n",
    "B = np.array([4, 5, 6],dtype = np.float32)\n",
    "\n",
    "# Compute ((A+B)*(-A/2)) in place\n",
    "np.add(A, B, out=A)\n",
    "np.multiply(A, np.negative(A/2), out=A)\n",
    "print(A)"
   ]
  },
  {
   "cell_type": "markdown",
   "id": "8a98c2a8",
   "metadata": {},
   "source": [
    "#### 36. Extract the integer part of a random array of positive numbers using 4 different methods (★★☆)"
   ]
  },
  {
   "cell_type": "code",
   "execution_count": 87,
   "id": "368130b3",
   "metadata": {},
   "outputs": [
    {
     "data": {
      "text/plain": [
       "array([1., 2., 3., 4., 6., 8., 9.])"
      ]
     },
     "execution_count": 87,
     "metadata": {},
     "output_type": "execute_result"
    }
   ],
   "source": [
    "a = np.array([1.2,2.3,3.4,4.5,5.6,7.8,9.0])\n",
    "\n",
    "np.trunc(a)\n",
    "\n",
    "np.ceil(a)\n",
    "\n",
    "np.floor(a)\n",
    "\n",
    "np.round(a)"
   ]
  },
  {
   "cell_type": "markdown",
   "id": "5a2e3d85",
   "metadata": {},
   "source": [
    "#### 37. Create a 5x5 matrix with row values ranging from 0 to 4 (★★☆)"
   ]
  },
  {
   "cell_type": "code",
   "execution_count": 91,
   "id": "1d974e8f",
   "metadata": {},
   "outputs": [
    {
     "name": "stdout",
     "output_type": "stream",
     "text": [
      "[[0. 0. 0. 0. 0.]\n",
      " [1. 1. 1. 1. 1.]\n",
      " [2. 2. 2. 2. 2.]\n",
      " [3. 3. 3. 3. 3.]\n",
      " [4. 4. 4. 4. 4.]]\n"
     ]
    }
   ],
   "source": [
    "row_vector = np.arange(5)\n",
    "\n",
    "matrix = row_vector.reshape(-1, 1) + np.zeros((5, 5))\n",
    "\n",
    "print(matrix)"
   ]
  },
  {
   "cell_type": "markdown",
   "id": "9720e2d5",
   "metadata": {},
   "source": [
    "#### 38. Consider a generator function that generates 10 integers and use it to build an array (★☆☆)"
   ]
  },
  {
   "cell_type": "code",
   "execution_count": 102,
   "id": "e5dd8fc9",
   "metadata": {},
   "outputs": [
    {
     "name": "stdout",
     "output_type": "stream",
     "text": [
      "[0 1 2 3 4 5 6 7 8 9]\n"
     ]
    }
   ],
   "source": [
    "def generate_integers():\n",
    "    for i in range(10):\n",
    "        yield i\n",
    "\n",
    "array = np.fromiter(generate_integers(),dtype =int) \n",
    "print(array)\n",
    "        "
   ]
  },
  {
   "cell_type": "markdown",
   "id": "c6f2c912",
   "metadata": {},
   "source": [
    "#### 39. Create a vector of size 10 with values ranging from 0 to 1, both excluded (★★☆)"
   ]
  },
  {
   "cell_type": "code",
   "execution_count": 105,
   "id": "6aaa27d3",
   "metadata": {},
   "outputs": [
    {
     "name": "stdout",
     "output_type": "stream",
     "text": [
      "[0.09090909 0.18181818 0.27272727 0.36363636 0.45454545 0.54545455\n",
      " 0.63636364 0.72727273 0.81818182 0.90909091]\n"
     ]
    }
   ],
   "source": [
    "vector = np.linspace(0, 1, 12, endpoint=True)[1:-1]\n",
    "print(vector)"
   ]
  },
  {
   "cell_type": "markdown",
   "id": "a36d6ee4",
   "metadata": {},
   "source": [
    "#### 40. Create a random vector of size 10 and sort it (★★☆)"
   ]
  },
  {
   "cell_type": "code",
   "execution_count": 110,
   "id": "e589d216",
   "metadata": {},
   "outputs": [
    {
     "data": {
      "text/plain": [
       "array([-0.68161817, -0.61827161, -0.26867211, -0.01740531,  0.02739586,\n",
       "        0.1959559 ,  0.85110368,  1.18772364,  1.4365472 ,  1.51292277])"
      ]
     },
     "execution_count": 110,
     "metadata": {},
     "output_type": "execute_result"
    }
   ],
   "source": [
    "vector = np.random.randn(10)\n",
    "vector\n",
    "np.sort(vector)"
   ]
  },
  {
   "cell_type": "markdown",
   "id": "0fb4ad68",
   "metadata": {},
   "source": [
    "#### 41. How to sum a small array faster than np.sum? (★★☆)"
   ]
  },
  {
   "cell_type": "code",
   "execution_count": 120,
   "id": "a1ba05a0",
   "metadata": {},
   "outputs": [
    {
     "name": "stdout",
     "output_type": "stream",
     "text": [
      "0.0\n",
      "52.65045859665538\n"
     ]
    },
    {
     "ename": "TypeError",
     "evalue": "'numpy.float64' object is not callable",
     "output_type": "error",
     "traceback": [
      "\u001b[1;31m---------------------------------------------------------------------------\u001b[0m",
      "\u001b[1;31mTypeError\u001b[0m                                 Traceback (most recent call last)",
      "Input \u001b[1;32mIn [120]\u001b[0m, in \u001b[0;36m<cell line: 14>\u001b[1;34m()\u001b[0m\n\u001b[0;32m     11\u001b[0m \u001b[38;5;28mprint\u001b[39m(\u001b[38;5;28msum\u001b[39m)\n\u001b[0;32m     13\u001b[0m start_time \u001b[38;5;241m=\u001b[39m time\u001b[38;5;241m.\u001b[39mtime()\n\u001b[1;32m---> 14\u001b[0m sum_2 \u001b[38;5;241m=\u001b[39m \u001b[38;5;28;43msum\u001b[39;49m\u001b[43m(\u001b[49m\u001b[43ma\u001b[49m\u001b[43m)\u001b[49m\n\u001b[0;32m     15\u001b[0m end_time \u001b[38;5;241m=\u001b[39m time\u001b[38;5;241m.\u001b[39mtime()\n\u001b[0;32m     16\u001b[0m time_taken \u001b[38;5;241m=\u001b[39m end_time \u001b[38;5;241m-\u001b[39m start_time\n",
      "\u001b[1;31mTypeError\u001b[0m: 'numpy.float64' object is not callable"
     ]
    }
   ],
   "source": [
    "import time\n",
    "\n",
    "a= np.random.rand(100)\n",
    "a\n",
    "\n",
    "start_time = time.time()\n",
    "sum1 = np.sum(a)\n",
    "end_time = time.time()\n",
    "time_taken = end_time - start_time\n",
    "print(time_taken)\n",
    "print(sum)\n",
    "\n",
    "start_time = time.time()\n",
    "sum_2 = sum(a)\n",
    "end_time = time.time()\n",
    "time_taken = end_time - start_time\n",
    "print(time_taken)\n",
    "print(sum1)"
   ]
  },
  {
   "cell_type": "markdown",
   "id": "024ac365",
   "metadata": {},
   "source": [
    "#### 42. Consider two random array A and B, check if they are equal (★★☆)"
   ]
  },
  {
   "cell_type": "code",
   "execution_count": 121,
   "id": "7db3846d",
   "metadata": {},
   "outputs": [
    {
     "data": {
      "text/plain": [
       "False"
      ]
     },
     "execution_count": 121,
     "metadata": {},
     "output_type": "execute_result"
    }
   ],
   "source": [
    "matrix_A = np.arange(1,100)\n",
    "matrix_b = np.arange(50,100)\n",
    "np.array_equal(matrix_A,matrix_b)"
   ]
  },
  {
   "cell_type": "markdown",
   "id": "c68d2401",
   "metadata": {},
   "source": [
    "#### 43. Make an array immutable (read-only) (★★☆)"
   ]
  },
  {
   "cell_type": "code",
   "execution_count": 124,
   "id": "7828539d",
   "metadata": {},
   "outputs": [
    {
     "data": {
      "text/plain": [
       "array([  1,   2,   3,   4,   5, 100,   7,   8,   9,  10,  11,  12,  13,\n",
       "        14,  15,  16,  17,  18,  19,  20,  21,  22,  23,  24,  25,  26,\n",
       "        27,  28,  29,  30,  31,  32,  33,  34,  35,  36,  37,  38,  39,\n",
       "        40,  41,  42,  43,  44,  45,  46,  47,  48,  49,  50,  51,  52,\n",
       "        53,  54,  55,  56,  57,  58,  59,  60,  61,  62,  63,  64,  65,\n",
       "        66,  67,  68,  69,  70,  71,  72,  73,  74,  75,  76,  77,  78,\n",
       "        79,  80,  81,  82,  83,  84,  85,  86,  87,  88,  89,  90,  91,\n",
       "        92,  93,  94,  95,  96,  97,  98,  99])"
      ]
     },
     "execution_count": 124,
     "metadata": {},
     "output_type": "execute_result"
    }
   ],
   "source": [
    "matrix_A.flags.writeable == False \n",
    "\n",
    "matrix_A[5] = 100\n",
    "matrix_A"
   ]
  },
  {
   "cell_type": "markdown",
   "id": "55df6280",
   "metadata": {},
   "source": [
    "#### 44. Consider a random 10x2 matrix representing cartesian coordinates, convert them to polar coordinates (★★☆)"
   ]
  },
  {
   "cell_type": "code",
   "execution_count": 125,
   "id": "f1c86ea0",
   "metadata": {},
   "outputs": [
    {
     "name": "stdout",
     "output_type": "stream",
     "text": [
      "Cartesian coordinates:\n",
      "[[0.27292408 0.47962231]\n",
      " [0.88547944 0.72231058]\n",
      " [0.92909701 0.27117017]\n",
      " [0.39651108 0.59355341]\n",
      " [0.80237722 0.90742071]\n",
      " [0.6059114  0.92894439]\n",
      " [0.93930279 0.77352538]\n",
      " [0.85867863 0.88959885]\n",
      " [0.70436195 0.64507321]\n",
      " [0.61792748 0.25013408]]\n",
      "Polar coordinates:\n",
      "[[0.55183794 1.053453  ]\n",
      " [1.14271887 0.68425802]\n",
      " [0.9678608  0.28397616]\n",
      " [0.71381138 0.98185094]\n",
      " [1.21128921 0.84675725]\n",
      " [1.10908355 0.99283541]\n",
      " [1.21681192 0.68891291]\n",
      " [1.23641219 0.80308243]\n",
      " [0.95511529 0.74149044]\n",
      " [0.6666344  0.38463333]]\n"
     ]
    }
   ],
   "source": [
    "cartesian = np.random.rand(10, 2)\n",
    "\n",
    "\n",
    "magnitude = np.linalg.norm(cartesian, axis=1)\n",
    "angle = np.arctan2(cartesian[:, 1], cartesian[:, 0])\n",
    "\n",
    "\n",
    "polar = np.column_stack((magnitude, angle))\n",
    "\n",
    "print(\"Cartesian coordinates:\")\n",
    "print(cartesian)\n",
    "print(\"Polar coordinates:\")\n",
    "print(polar)"
   ]
  },
  {
   "cell_type": "markdown",
   "id": "2f60f1ec",
   "metadata": {},
   "source": [
    "#### 45. Create random vector of size 10 and replace the maximum value by 0 (★★☆)"
   ]
  },
  {
   "cell_type": "code",
   "execution_count": 131,
   "id": "d9f48f1c",
   "metadata": {},
   "outputs": [
    {
     "data": {
      "text/plain": [
       "array([ 0.30331758, -0.09996253,  0.16761974, -0.81388337, -0.18304811,\n",
       "       -0.92191386,  0.        ,  1.29258479,  0.15140888, -0.74269328])"
      ]
     },
     "execution_count": 131,
     "metadata": {},
     "output_type": "execute_result"
    }
   ],
   "source": [
    "a= np.random.randn(10)\n",
    "\n",
    "max_val = np.max(a)\n",
    "max_val\n",
    "\n",
    "a[a==max_val] = 0\n",
    "a"
   ]
  },
  {
   "cell_type": "markdown",
   "id": "084e8ad4",
   "metadata": {},
   "source": [
    "#### 46. Create a structured array with `x` and `y` coordinates covering the [0,1]x[0,1] area (★★☆)"
   ]
  },
  {
   "cell_type": "code",
   "execution_count": 132,
   "id": "58b47c13",
   "metadata": {},
   "outputs": [
    {
     "name": "stdout",
     "output_type": "stream",
     "text": [
      "[(0.  , 0.  ) (0.25, 0.  ) (0.5 , 0.  ) (0.75, 0.  ) (1.  , 0.  )\n",
      " (0.  , 0.25) (0.25, 0.25) (0.5 , 0.25) (0.75, 0.25) (1.  , 0.25)\n",
      " (0.  , 0.5 ) (0.25, 0.5 ) (0.5 , 0.5 ) (0.75, 0.5 ) (1.  , 0.5 )\n",
      " (0.  , 0.75) (0.25, 0.75) (0.5 , 0.75) (0.75, 0.75) (1.  , 0.75)\n",
      " (0.  , 1.  ) (0.25, 1.  ) (0.5 , 1.  ) (0.75, 1.  ) (1.  , 1.  )]\n"
     ]
    }
   ],
   "source": [
    "\n",
    "\n",
    "# Define the data type for the structured array\n",
    "dtype = [('x', float), ('y', float)]\n",
    "\n",
    "# Define the number of points in each dimension\n",
    "n = 5\n",
    "\n",
    "# Create a grid of x and y values using NumPy's meshgrid function\n",
    "x, y = np.meshgrid(np.linspace(0, 1, n), np.linspace(0, 1, n))\n",
    "\n",
    "# Combine the x and y arrays into a single structured array\n",
    "points = np.empty((n**2,), dtype=dtype)\n",
    "points['x'] = x.ravel()\n",
    "points['y'] = y.ravel()\n",
    "\n",
    "# Print the resulting structured array\n",
    "print(points)\n"
   ]
  },
  {
   "cell_type": "markdown",
   "id": "d7b9bc42",
   "metadata": {},
   "source": [
    "#### 47. Given two arrays, X and Y, construct the Cauchy matrix C (Cij =1/(xi - yj)) (★★☆)"
   ]
  },
  {
   "cell_type": "code",
   "execution_count": 133,
   "id": "a24824fb",
   "metadata": {},
   "outputs": [
    {
     "name": "stdout",
     "output_type": "stream",
     "text": [
      "[[        inf -1.         -0.5        -0.33333333 -0.25      ]\n",
      " [ 1.                 inf -1.         -0.5        -0.33333333]\n",
      " [ 0.5         1.                 inf -1.         -0.5       ]\n",
      " [ 0.33333333  0.5         1.                 inf -1.        ]\n",
      " [ 0.25        0.33333333  0.5         1.                 inf]]\n"
     ]
    },
    {
     "name": "stderr",
     "output_type": "stream",
     "text": [
      "C:\\Users\\97798\\AppData\\Local\\Temp\\ipykernel_14012\\2187076719.py:4: RuntimeWarning: divide by zero encountered in divide\n",
      "  cauchy_matrix = 1.0 / (indices[:, np.newaxis] - indices[np.newaxis, :])\n"
     ]
    }
   ],
   "source": [
    "n =5\n",
    "indices = np.arange(n)\n",
    "\n",
    "cauchy_matrix = 1.0 / (indices[:, np.newaxis] - indices[np.newaxis, :])\n",
    "print(cauchy_matrix)"
   ]
  },
  {
   "cell_type": "markdown",
   "id": "65ebc11b",
   "metadata": {},
   "source": [
    "#### 48. Print the minimum and maximum representable value for each numpy scalar type (★★☆)"
   ]
  },
  {
   "cell_type": "code",
   "execution_count": 136,
   "id": "e45d38fb",
   "metadata": {},
   "outputs": [
    {
     "ename": "ValueError",
     "evalue": "data type <class 'numpy.bool_'> not inexact",
     "output_type": "error",
     "traceback": [
      "\u001b[1;31m---------------------------------------------------------------------------\u001b[0m",
      "\u001b[1;31mValueError\u001b[0m                                Traceback (most recent call last)",
      "Input \u001b[1;32mIn [136]\u001b[0m, in \u001b[0;36m<cell line: 5>\u001b[1;34m()\u001b[0m\n\u001b[0;32m      4\u001b[0m \u001b[38;5;66;03m# Loop over all scalar types and print the min and max value\u001b[39;00m\n\u001b[0;32m      5\u001b[0m \u001b[38;5;28;01mfor\u001b[39;00m dtype \u001b[38;5;129;01min\u001b[39;00m dtypes:\n\u001b[1;32m----> 6\u001b[0m     info \u001b[38;5;241m=\u001b[39m np\u001b[38;5;241m.\u001b[39mfinfo(dtype) \u001b[38;5;28;01mif\u001b[39;00m np\u001b[38;5;241m.\u001b[39missubdtype(dtype, np\u001b[38;5;241m.\u001b[39minteger) \u001b[38;5;28;01melse\u001b[39;00m \u001b[43mnp\u001b[49m\u001b[38;5;241;43m.\u001b[39;49m\u001b[43mfinfo\u001b[49m\u001b[43m(\u001b[49m\u001b[43mdtype\u001b[49m\u001b[43m)\u001b[49m\n\u001b[0;32m      7\u001b[0m     \u001b[38;5;28mprint\u001b[39m(\u001b[38;5;124mf\u001b[39m\u001b[38;5;124m\"\u001b[39m\u001b[38;5;132;01m{\u001b[39;00mdtype\u001b[38;5;241m.\u001b[39m\u001b[38;5;18m__name__\u001b[39m\u001b[38;5;132;01m:\u001b[39;00m\u001b[38;5;124m8\u001b[39m\u001b[38;5;132;01m}\u001b[39;00m\u001b[38;5;124m   min: \u001b[39m\u001b[38;5;132;01m{\u001b[39;00minfo\u001b[38;5;241m.\u001b[39mmin\u001b[38;5;132;01m:\u001b[39;00m\u001b[38;5;124m<20\u001b[39m\u001b[38;5;132;01m}\u001b[39;00m\u001b[38;5;124m   max: \u001b[39m\u001b[38;5;132;01m{\u001b[39;00minfo\u001b[38;5;241m.\u001b[39mmax\u001b[38;5;132;01m:\u001b[39;00m\u001b[38;5;124m<20\u001b[39m\u001b[38;5;132;01m}\u001b[39;00m\u001b[38;5;124m\"\u001b[39m)\n",
      "File \u001b[1;32m~\\anaconda3\\lib\\site-packages\\numpy\\core\\getlimits.py:492\u001b[0m, in \u001b[0;36mfinfo.__new__\u001b[1;34m(cls, dtype)\u001b[0m\n\u001b[0;32m    490\u001b[0m     dtype \u001b[38;5;241m=\u001b[39m newdtype\n\u001b[0;32m    491\u001b[0m \u001b[38;5;28;01mif\u001b[39;00m \u001b[38;5;129;01mnot\u001b[39;00m \u001b[38;5;28missubclass\u001b[39m(dtype, numeric\u001b[38;5;241m.\u001b[39minexact):\n\u001b[1;32m--> 492\u001b[0m     \u001b[38;5;28;01mraise\u001b[39;00m \u001b[38;5;167;01mValueError\u001b[39;00m(\u001b[38;5;124m\"\u001b[39m\u001b[38;5;124mdata type \u001b[39m\u001b[38;5;132;01m%r\u001b[39;00m\u001b[38;5;124m not inexact\u001b[39m\u001b[38;5;124m\"\u001b[39m \u001b[38;5;241m%\u001b[39m (dtype))\n\u001b[0;32m    493\u001b[0m obj \u001b[38;5;241m=\u001b[39m \u001b[38;5;28mcls\u001b[39m\u001b[38;5;241m.\u001b[39m_finfo_cache\u001b[38;5;241m.\u001b[39mget(dtype, \u001b[38;5;28;01mNone\u001b[39;00m)\n\u001b[0;32m    494\u001b[0m \u001b[38;5;28;01mif\u001b[39;00m obj \u001b[38;5;129;01mis\u001b[39;00m \u001b[38;5;129;01mnot\u001b[39;00m \u001b[38;5;28;01mNone\u001b[39;00m:\n",
      "\u001b[1;31mValueError\u001b[0m: data type <class 'numpy.bool_'> not inexact"
     ]
    }
   ],
   "source": [
    "\n",
    "\n",
    "# List of all NumPy scalar types\n",
    "dtypes = [np.bool_, np.int8, np.int16, np.int32, np.int64, np.uint8, np.uint16, np.uint32, np.uint64, np.float16, np.float32, np.float64, np.complex64, np.complex128]\n",
    "\n",
    "# Loop over all scalar types and print the min and max value\n",
    "for dtype in dtypes:\n",
    "    info = np.finfo(dtype) if np.issubdtype(dtype, np.integer) else np.finfo(dtype)\n",
    "    print(f\"{dtype.__name__:8}   min: {info.min:<20}   max: {info.max:<20}\")\n"
   ]
  },
  {
   "cell_type": "markdown",
   "id": "9b317a98",
   "metadata": {},
   "source": [
    "#### 49. How to print all the values of an array? (★★☆)"
   ]
  },
  {
   "cell_type": "code",
   "execution_count": 137,
   "id": "309cdeb9",
   "metadata": {},
   "outputs": [
    {
     "name": "stdout",
     "output_type": "stream",
     "text": [
      "[1 2 3 4 5 6 7 8 9 0]\n"
     ]
    }
   ],
   "source": [
    "array_1 = np.array([1,2,3,4,5,6,7,8,9,0])\n",
    "print(array_1[:])"
   ]
  },
  {
   "cell_type": "markdown",
   "id": "b580f9d0",
   "metadata": {},
   "source": [
    "#### 50. How to find the closest value (to a given scalar) in a vector? (★★☆)"
   ]
  },
  {
   "cell_type": "code",
   "execution_count": 140,
   "id": "ebfb6714",
   "metadata": {},
   "outputs": [
    {
     "data": {
      "text/plain": [
       "array([1.04310134, 2.37986438, 1.00066441, 0.25104118, 1.76567873,\n",
       "       0.62062994, 1.00281059, 0.59972838, 1.65664237, 0.770836  ])"
      ]
     },
     "execution_count": 140,
     "metadata": {},
     "output_type": "execute_result"
    }
   ],
   "source": [
    "vec = np.random.randn(10)\n",
    "vec\n",
    "\n",
    "np.absolute(vec)"
   ]
  },
  {
   "cell_type": "markdown",
   "id": "602e6252",
   "metadata": {},
   "source": [
    "#### 51. Create a structured array representing a position (x,y) and a color (r,g,b) (★★☆)"
   ]
  },
  {
   "cell_type": "code",
   "execution_count": 141,
   "id": "cf002b3a",
   "metadata": {},
   "outputs": [
    {
     "name": "stdout",
     "output_type": "stream",
     "text": [
      "[((1., 2.), (0.5, 0.2, 0.8)) ((3., 4.), (0.1, 0.9, 0.3))]\n"
     ]
    }
   ],
   "source": [
    "\n",
    "\n",
    "# Define the data type for the structured array\n",
    "dtype = [('position', [('x', float), ('y', float)]),\n",
    "         ('color', [('r', float), ('g', float), ('b', float)])]\n",
    "\n",
    "# Create a structured array with two elements\n",
    "arr = np.zeros(2, dtype=dtype)\n",
    "\n",
    "# Set values for the first element\n",
    "arr[0]['position']['x'] = 1.0\n",
    "arr[0]['position']['y'] = 2.0\n",
    "arr[0]['color']['r'] = 0.5\n",
    "arr[0]['color']['g'] = 0.2\n",
    "arr[0]['color']['b'] = 0.8\n",
    "\n",
    "# Set values for the second element\n",
    "arr[1]['position']['x'] = 3.0\n",
    "arr[1]['position']['y'] = 4.0\n",
    "arr[1]['color']['r'] = 0.1\n",
    "arr[1]['color']['g'] = 0.9\n",
    "arr[1]['color']['b'] = 0.3\n",
    "\n",
    "# Print the structured array\n",
    "print(arr)\n"
   ]
  },
  {
   "cell_type": "markdown",
   "id": "78bcd92f",
   "metadata": {},
   "source": [
    "#### 52. Consider a random vector with shape (100,2) representing coordinates, find point by point distances (★★☆)"
   ]
  },
  {
   "cell_type": "code",
   "execution_count": 144,
   "id": "fea7f9a6",
   "metadata": {},
   "outputs": [
    {
     "name": "stderr",
     "output_type": "stream",
     "text": [
      "C:\\Users\\97798\\anaconda3\\lib\\site-packages\\scipy\\__init__.py:146: UserWarning: A NumPy version >=1.16.5 and <1.23.0 is required for this version of SciPy (detected version 1.24.3\n",
      "  warnings.warn(f\"A NumPy version >={np_minversion} and <{np_maxversion}\"\n"
     ]
    },
    {
     "name": "stdout",
     "output_type": "stream",
     "text": [
      "[[0.         0.67738622 0.74621978 ... 0.34286943 0.22179041 0.33771638]\n",
      " [0.67738622 0.         0.28012282 ... 1.01914675 0.88053435 0.34086599]\n",
      " [0.74621978 0.28012282 0.         ... 1.06187522 0.96731663 0.46446945]\n",
      " ...\n",
      " [0.34286943 1.01914675 1.06187522 ... 0.         0.19738072 0.68045605]\n",
      " [0.22179041 0.88053435 0.96731663 ... 0.19738072 0.         0.54054571]\n",
      " [0.33771638 0.34086599 0.46446945 ... 0.68045605 0.54054571 0.        ]]\n"
     ]
    }
   ],
   "source": [
    "random_vector = np.random.random((100,2))\n",
    "from scipy.spatial.distance import cdist\n",
    "\n",
    "distances = cdist(random_vector, random_vector)\n",
    "print(distances)"
   ]
  },
  {
   "cell_type": "markdown",
   "id": "343c5a85",
   "metadata": {},
   "source": [
    "#### 53. How to convert a float (32 bits) array into an integer (32 bits) in place?"
   ]
  },
  {
   "cell_type": "code",
   "execution_count": 146,
   "id": "fc1b687b",
   "metadata": {},
   "outputs": [],
   "source": [
    "a = np.arange(100,dtype = np.float32).astype(dtype=np.int32)"
   ]
  },
  {
   "cell_type": "markdown",
   "id": "a69e1ace",
   "metadata": {},
   "source": [
    "#### 54. How to read the following file? (★★☆)\n",
    "```\n",
    "1, 2, 3, 4, 5\n",
    "6,  ,  , 7, 8\n",
    " ,  , 9,10,11\n",
    "```"
   ]
  },
  {
   "cell_type": "code",
   "execution_count": null,
   "id": "1c7957d4",
   "metadata": {},
   "outputs": [],
   "source": []
  },
  {
   "cell_type": "markdown",
   "id": "c23bd80d",
   "metadata": {},
   "source": [
    "#### 55. What is the equivalent of enumerate for numpy arrays? (★★☆)"
   ]
  },
  {
   "cell_type": "code",
   "execution_count": null,
   "id": "d95d9578",
   "metadata": {},
   "outputs": [],
   "source": []
  },
  {
   "cell_type": "markdown",
   "id": "2153a5ec",
   "metadata": {},
   "source": []
  },
  {
   "cell_type": "code",
   "execution_count": null,
   "id": "61122d1e",
   "metadata": {},
   "outputs": [],
   "source": []
  },
  {
   "cell_type": "markdown",
   "id": "2e76d589",
   "metadata": {},
   "source": [
    "#### 57. How to randomly place p elements in a 2D array? (★★☆)"
   ]
  },
  {
   "cell_type": "code",
   "execution_count": 147,
   "id": "0c2e4fcc",
   "metadata": {},
   "outputs": [
    {
     "name": "stdout",
     "output_type": "stream",
     "text": [
      "[[1. 0. 0. 1. 0.]\n",
      " [1. 1. 0. 0. 0.]\n",
      " [0. 0. 0. 0. 0.]\n",
      " [1. 0. 0. 0. 0.]\n",
      " [0. 0. 0. 0. 0.]]\n"
     ]
    }
   ],
   "source": [
    "\n",
    "# Create a 5x5 array with zeros\n",
    "arr = np.zeros((5,5))\n",
    "\n",
    "# Define the probability of placing an element\n",
    "p = 0.2\n",
    "\n",
    "# Compute the number of elements to be placed\n",
    "num_elements = int(p * arr.size)\n",
    "\n",
    "# Generate random indices for the elements to be placed\n",
    "indices = np.random.choice(arr.size, num_elements, replace=False)\n",
    "\n",
    "# Assign the desired value (e.g. 1) to the selected indices\n",
    "arr.flat[indices] = 1\n",
    "\n",
    "print(arr)\n"
   ]
  },
  {
   "cell_type": "markdown",
   "id": "8b3933eb",
   "metadata": {},
   "source": [
    "#### 58. Subtract the mean of each row of a matrix (★★☆)"
   ]
  },
  {
   "cell_type": "code",
   "execution_count": 157,
   "id": "a306c9ef",
   "metadata": {},
   "outputs": [
    {
     "name": "stdout",
     "output_type": "stream",
     "text": [
      "[[-4.5 -4.5 -4.5]\n",
      " [-1.5 -1.5 -1.5]\n",
      " [ 1.5  1.5  1.5]\n",
      " [ 4.5  4.5  4.5]]\n"
     ]
    }
   ],
   "source": [
    "matrix = np.arange(12).reshape(4,3)\n",
    "matrix\n",
    "\n",
    "means = np.mean(matrix, axis= 0)\n",
    "means\n",
    "\n",
    "difference = matrix - means\n",
    "print(difference)"
   ]
  },
  {
   "cell_type": "markdown",
   "id": "ea8807c0",
   "metadata": {},
   "source": [
    "#### 59. How to sort an array by the nth column? (★★☆)"
   ]
  },
  {
   "cell_type": "code",
   "execution_count": 158,
   "id": "cc89a699",
   "metadata": {},
   "outputs": [
    {
     "name": "stdout",
     "output_type": "stream",
     "text": [
      "[[3 2 1]\n",
      " [6 5 4]\n",
      " [9 8 7]]\n"
     ]
    }
   ],
   "source": [
    "\n",
    "\n",
    "# Create a 3x3 array\n",
    "arr = np.array([[3, 2, 1], [6, 5, 4], [9, 8, 7]])\n",
    "\n",
    "# Sort the array by the second column\n",
    "n = 1  # 0-indexed\n",
    "indices = np.argsort(arr[:, n])\n",
    "arr_sorted = arr[indices]\n",
    "\n",
    "print(arr_sorted)\n"
   ]
  },
  {
   "cell_type": "markdown",
   "id": "00fa00a1",
   "metadata": {},
   "source": [
    "#### 60. How to tell if a given 2D array has null columns? (★★☆)"
   ]
  },
  {
   "cell_type": "code",
   "execution_count": 159,
   "id": "3436e165",
   "metadata": {},
   "outputs": [
    {
     "name": "stdout",
     "output_type": "stream",
     "text": [
      "[[3 2 1]\n",
      " [6 5 4]\n",
      " [9 8 7]]\n"
     ]
    }
   ],
   "source": [
    "\n",
    "# Create a 3x3 array\n",
    "arr = np.array([[3, 2, 1], [6, 5, 4], [9, 8, 7]])\n",
    "\n",
    "# Sort the array by the second column\n",
    "n = 1  # 0-indexed\n",
    "indices = np.argsort(arr[:, n])\n",
    "arr_sorted = arr[indices]\n",
    "\n",
    "print(arr_sorted)\n"
   ]
  },
  {
   "cell_type": "markdown",
   "id": "5a65c7a2",
   "metadata": {},
   "source": [
    "#### 61. Find the nearest value from a given value in an array (★★☆)"
   ]
  },
  {
   "cell_type": "code",
   "execution_count": 160,
   "id": "73f149d6",
   "metadata": {},
   "outputs": [
    {
     "data": {
      "text/plain": [
       "array([[ 0,  1,  2],\n",
       "       [ 3,  4,  5],\n",
       "       [ 6,  7,  8],\n",
       "       [ 9, 10, 11]])"
      ]
     },
     "execution_count": 160,
     "metadata": {},
     "output_type": "execute_result"
    }
   ],
   "source": [
    "np.abs(matrix)"
   ]
  },
  {
   "cell_type": "markdown",
   "id": "dd83e8af",
   "metadata": {},
   "source": [
    "#### 62. Considering two arrays with shape (1,3) and (3,1), how to compute their sum using an iterator? (★★☆)"
   ]
  },
  {
   "cell_type": "code",
   "execution_count": 173,
   "id": "29a709a1",
   "metadata": {},
   "outputs": [
    {
     "data": {
      "text/plain": [
       "<numpy.nditer at 0x1c081f1ddf0>"
      ]
     },
     "execution_count": 173,
     "metadata": {},
     "output_type": "execute_result"
    }
   ],
   "source": [
    "matrix = np.arange(3).reshape(1,3)\n",
    "matrix_1 = np.arange(3).reshape(3,1)\n",
    "\n",
    "matrix_iter = np.nditer(matrix)\n",
    "matrix_1_iter = np.nditer(matrix_1)\n",
    "matrix_1_iter"
   ]
  },
  {
   "cell_type": "code",
   "execution_count": 174,
   "id": "c2de6059",
   "metadata": {},
   "outputs": [
    {
     "name": "stdout",
     "output_type": "stream",
     "text": [
      "6\n"
     ]
    }
   ],
   "source": [
    "matrix\n",
    "matrix_1\n",
    "sum = 0\n",
    "\n",
    "# Loop over the elements of the arrays and sum them up\n",
    "for i in range(3):\n",
    "    for j in range(3):\n",
    "        if i == j:\n",
    "            sum += next(matrix_iter) + next(matrix_1_iter)\n",
    "\n",
    "print(sum)"
   ]
  },
  {
   "cell_type": "markdown",
   "id": "6c042efa",
   "metadata": {},
   "source": [
    "#### 63. Create an array class that has a name attribute (★★☆)"
   ]
  },
  {
   "cell_type": "code",
   "execution_count": 175,
   "id": "45b3d2e0",
   "metadata": {},
   "outputs": [],
   "source": [
    "\n",
    "class NamedArray(np.ndarray):\n",
    "    def __new__(cls, input_array, name=None):\n",
    "        obj = np.asarray(input_array).view(cls)\n",
    "        obj.name = name\n",
    "        return obj\n"
   ]
  },
  {
   "cell_type": "markdown",
   "id": "0a075c3d",
   "metadata": {},
   "source": [
    "#### 64. Consider a given vector, how to add 1 to each element indexed by a second vector (be careful with repeated indices)? (★★★)"
   ]
  },
  {
   "cell_type": "code",
   "execution_count": 177,
   "id": "36c50470",
   "metadata": {},
   "outputs": [
    {
     "name": "stdout",
     "output_type": "stream",
     "text": [
      "[3 2 4 5 6]\n"
     ]
    }
   ],
   "source": [
    "\n",
    "# Given vector\n",
    "v = np.array([1, 2, 3, 4, 5])\n",
    "\n",
    "# Index vector\n",
    "idx = np.array([0, 2, 4, 0, 3])\n",
    "\n",
    "# Add 1 to elements indexed by the second vector\n",
    "np.add.at(v, idx, 1)\n",
    "\n",
    "print(v)\n"
   ]
  },
  {
   "cell_type": "markdown",
   "id": "0fb2f0c5",
   "metadata": {},
   "source": [
    "#### 65. How to accumulate elements of a vector (X) to an array (F) based on an index list (I)? (★★★)"
   ]
  },
  {
   "cell_type": "code",
   "execution_count": 178,
   "id": "58aa5f82",
   "metadata": {},
   "outputs": [
    {
     "ename": "ValueError",
     "evalue": "array is not broadcastable to correct shape",
     "output_type": "error",
     "traceback": [
      "\u001b[1;31m---------------------------------------------------------------------------\u001b[0m",
      "\u001b[1;31mValueError\u001b[0m                                Traceback (most recent call last)",
      "Input \u001b[1;32mIn [178]\u001b[0m, in \u001b[0;36m<cell line: 11>\u001b[1;34m()\u001b[0m\n\u001b[0;32m      8\u001b[0m F \u001b[38;5;241m=\u001b[39m np\u001b[38;5;241m.\u001b[39mzeros(np\u001b[38;5;241m.\u001b[39munique(I)\u001b[38;5;241m.\u001b[39mshape)\n\u001b[0;32m     10\u001b[0m \u001b[38;5;66;03m# Accumulate the values of X to F based on the values of I\u001b[39;00m\n\u001b[1;32m---> 11\u001b[0m \u001b[43mnp\u001b[49m\u001b[38;5;241;43m.\u001b[39;49m\u001b[43madd\u001b[49m\u001b[38;5;241;43m.\u001b[39;49m\u001b[43mat\u001b[49m\u001b[43m(\u001b[49m\u001b[43mF\u001b[49m\u001b[43m,\u001b[49m\u001b[43m \u001b[49m\u001b[43mI\u001b[49m\u001b[43m,\u001b[49m\u001b[43m \u001b[49m\u001b[43mX\u001b[49m\u001b[43m)\u001b[49m\n\u001b[0;32m     13\u001b[0m \u001b[38;5;28mprint\u001b[39m(F)\n",
      "\u001b[1;31mValueError\u001b[0m: array is not broadcastable to correct shape"
     ]
    }
   ],
   "source": [
    "import numpy as np\n",
    "\n",
    "# Input vector X and index list I\n",
    "X = np.array([1, 2, 3, 4, 5])\n",
    "I = np.array([0, 0, 1, 1, 2, 2, 2])\n",
    "\n",
    "# Create an array F with the same shape as the unique values of I\n",
    "F = np.zeros(np.unique(I).shape)\n",
    "\n",
    "# Accumulate the values of X to F based on the values of I\n",
    "np.add.at(F, I, X)\n",
    "\n",
    "print(F) # Output: [ 3.  7. 12.]\n"
   ]
  },
  {
   "cell_type": "markdown",
   "id": "d89dc506",
   "metadata": {},
   "source": [
    "#### 66. Considering a (w,h,3) image of (dtype=ubyte), compute the number of unique colors (★★☆)"
   ]
  },
  {
   "cell_type": "code",
   "execution_count": 179,
   "id": "8fb43a49",
   "metadata": {},
   "outputs": [
    {
     "name": "stdout",
     "output_type": "stream",
     "text": [
      "Number of unique colors: 9999\n"
     ]
    }
   ],
   "source": [
    "\n",
    "# Create a random image\n",
    "w, h = 100, 100\n",
    "img = np.random.randint(0, 256, (w, h, 3), dtype=np.uint8)\n",
    "\n",
    "# Reshape the image to a 2D array of shape (w*h, 3)\n",
    "img_2d = img.reshape((w*h, 3))\n",
    "\n",
    "# Find the unique colors\n",
    "unique_colors = np.unique(img_2d, axis=0)\n",
    "\n",
    "# Print the number of unique colors\n",
    "print(\"Number of unique colors:\", unique_colors.shape[0])\n"
   ]
  },
  {
   "cell_type": "markdown",
   "id": "535a5d81",
   "metadata": {},
   "source": [
    "#### 67. Considering a four dimensions array, how to get sum over the last two axis at once? (★★★)"
   ]
  },
  {
   "cell_type": "code",
   "execution_count": 182,
   "id": "f954ab9d",
   "metadata": {},
   "outputs": [
    {
     "name": "stdout",
     "output_type": "stream",
     "text": [
      "[[10.70243219 11.06409002 10.78518082]\n",
      " [ 9.14557167 11.008289   10.0433257 ]]\n"
     ]
    }
   ],
   "source": [
    "arr = np.random.rand(2, 3, 4, 5)\n",
    "\n",
    "sum =np.sum(arr,axis= (2,3))\n",
    "print(sum)"
   ]
  },
  {
   "cell_type": "markdown",
   "id": "eee66d3c",
   "metadata": {},
   "source": [
    "#### 68. Considering a one-dimensional vector D, how to compute means of subsets of D using a vector S of same size describing subset  indices? (★★★)"
   ]
  },
  {
   "cell_type": "code",
   "execution_count": 184,
   "id": "8929773a",
   "metadata": {},
   "outputs": [
    {
     "name": "stdout",
     "output_type": "stream",
     "text": [
      "[1.5 4.  7.  9.5]\n"
     ]
    }
   ],
   "source": [
    "\n",
    "D = np.array([1, 2, 3, 4, 5, 6, 7, 8, 9, 10])\n",
    "S = np.array([0, 0, 1, 1, 1, 2, 2, 2, 3, 3])\n",
    "\n",
    "means = np.bincount(S, weights=D) / np.bincount(S)\n",
    "\n",
    "print(means)\n"
   ]
  },
  {
   "cell_type": "markdown",
   "id": "f90d4c40",
   "metadata": {},
   "source": [
    "#### 69. How to get the diagonal of a dot product? (★★★)"
   ]
  },
  {
   "cell_type": "code",
   "execution_count": 186,
   "id": "b47d392d",
   "metadata": {},
   "outputs": [
    {
     "name": "stdout",
     "output_type": "stream",
     "text": [
      "[0.75135673 1.09630953 1.21023263]\n"
     ]
    }
   ],
   "source": [
    "# create two matrices\n",
    "A = np.random.rand(3, 4)\n",
    "B = np.random.rand(4, 3)\n",
    "\n",
    "# compute dot product and extract diagonal\n",
    "C = np.einsum('ij,jk->ik', A, B)\n",
    "diagonal = np.diagonal(C)\n",
    "print(diagonal)"
   ]
  },
  {
   "cell_type": "markdown",
   "id": "a8a97e7d",
   "metadata": {},
   "source": [
    "#### 70. Consider the vector [1, 2, 3, 4, 5], how to build a new vector with 3 consecutive zeros interleaved between each value? (★★★)"
   ]
  },
  {
   "cell_type": "code",
   "execution_count": 190,
   "id": "ee6c6c37",
   "metadata": {},
   "outputs": [
    {
     "ename": "IndexError",
     "evalue": "index 10 is out of bounds for axis 0 with size 10",
     "output_type": "error",
     "traceback": [
      "\u001b[1;31m---------------------------------------------------------------------------\u001b[0m",
      "\u001b[1;31mIndexError\u001b[0m                                Traceback (most recent call last)",
      "Input \u001b[1;32mIn [190]\u001b[0m, in \u001b[0;36m<cell line: 4>\u001b[1;34m()\u001b[0m\n\u001b[0;32m      2\u001b[0m n_zeros \u001b[38;5;241m=\u001b[39m \u001b[38;5;241m3\u001b[39m\n\u001b[0;32m      3\u001b[0m z \u001b[38;5;241m=\u001b[39m np\u001b[38;5;241m.\u001b[39mzeros(n_zeros, dtype\u001b[38;5;241m=\u001b[39m\u001b[38;5;28mint\u001b[39m)\n\u001b[1;32m----> 4\u001b[0m result \u001b[38;5;241m=\u001b[39m \u001b[43mnp\u001b[49m\u001b[38;5;241;43m.\u001b[39;49m\u001b[43minsert\u001b[49m\u001b[43m(\u001b[49m\u001b[43mv\u001b[49m\u001b[43m,\u001b[49m\u001b[43m \u001b[49m\u001b[43mnp\u001b[49m\u001b[38;5;241;43m.\u001b[39;49m\u001b[43marange\u001b[49m\u001b[43m(\u001b[49m\u001b[38;5;28;43mlen\u001b[39;49m\u001b[43m(\u001b[49m\u001b[43mv\u001b[49m\u001b[43m)\u001b[49m\u001b[43m)\u001b[49m\u001b[43m \u001b[49m\u001b[38;5;241;43m*\u001b[39;49m\u001b[43m \u001b[49m\u001b[43m(\u001b[49m\u001b[43mn_zeros\u001b[49m\u001b[38;5;241;43m+\u001b[39;49m\u001b[38;5;241;43m1\u001b[39;49m\u001b[43m)\u001b[49m\u001b[43m,\u001b[49m\u001b[43m \u001b[49m\u001b[43mz\u001b[49m\u001b[43m)\u001b[49m\n\u001b[0;32m      5\u001b[0m \u001b[38;5;28mprint\u001b[39m(result)\n",
      "File \u001b[1;32m<__array_function__ internals>:200\u001b[0m, in \u001b[0;36minsert\u001b[1;34m(*args, **kwargs)\u001b[0m\n",
      "File \u001b[1;32m~\\anaconda3\\lib\\site-packages\\numpy\\lib\\function_base.py:5426\u001b[0m, in \u001b[0;36minsert\u001b[1;34m(arr, obj, values, axis)\u001b[0m\n\u001b[0;32m   5424\u001b[0m newshape[axis] \u001b[38;5;241m+\u001b[39m\u001b[38;5;241m=\u001b[39m numnew\n\u001b[0;32m   5425\u001b[0m old_mask \u001b[38;5;241m=\u001b[39m ones(newshape[axis], dtype\u001b[38;5;241m=\u001b[39m\u001b[38;5;28mbool\u001b[39m)\n\u001b[1;32m-> 5426\u001b[0m old_mask[indices] \u001b[38;5;241m=\u001b[39m \u001b[38;5;28;01mFalse\u001b[39;00m\n\u001b[0;32m   5428\u001b[0m new \u001b[38;5;241m=\u001b[39m empty(newshape, arr\u001b[38;5;241m.\u001b[39mdtype, arrorder)\n\u001b[0;32m   5429\u001b[0m slobj2 \u001b[38;5;241m=\u001b[39m [\u001b[38;5;28mslice\u001b[39m(\u001b[38;5;28;01mNone\u001b[39;00m)]\u001b[38;5;241m*\u001b[39mndim\n",
      "\u001b[1;31mIndexError\u001b[0m: index 10 is out of bounds for axis 0 with size 10"
     ]
    }
   ],
   "source": [
    "\n",
    "v = np.array([1, 2, 3, 4, 5])\n",
    "n_zeros = 3\n",
    "z = np.zeros(n_zeros, dtype=int)\n",
    "result = np.insert(v, np.arange(len(v)) * (n_zeros+1), z)\n",
    "print(result)"
   ]
  },
  {
   "cell_type": "markdown",
   "id": "d6a30d60",
   "metadata": {},
   "source": [
    "#### 71. Consider an array of dimension (5,5,3), how to mulitply it by an array with dimensions (5,5)? (★★★)"
   ]
  },
  {
   "cell_type": "code",
   "execution_count": 204,
   "id": "e9703f2e",
   "metadata": {},
   "outputs": [
    {
     "name": "stdout",
     "output_type": "stream",
     "text": [
      "[[[0.01959851 0.02166554 0.01757627]\n",
      "  [0.22718956 0.6751252  0.0367754 ]\n",
      "  [0.06600985 0.04802249 0.005159  ]\n",
      "  [0.20167432 0.06535318 0.3090754 ]\n",
      "  [0.24980004 0.05817179 0.09784854]]\n",
      "\n",
      " [[0.20338066 0.00156335 0.34050877]\n",
      "  [0.01976634 0.00565833 0.22035796]\n",
      "  [0.14531801 0.16127814 0.30155422]\n",
      "  [0.21128397 0.33270702 0.03807821]\n",
      "  [0.00989597 0.07268389 0.03495619]]\n",
      "\n",
      " [[0.17986012 0.01077516 0.11689429]\n",
      "  [0.63100891 0.16145335 0.60867668]\n",
      "  [0.05615862 0.18173862 0.11094866]\n",
      "  [0.25121421 0.19129284 0.17247244]\n",
      "  [0.55011081 0.53396875 0.11615571]]\n",
      "\n",
      " [[0.72130189 0.03414262 0.70575537]\n",
      "  [0.24437051 0.56095913 0.19622075]\n",
      "  [0.55394773 0.20915134 0.15404222]\n",
      "  [0.12170354 0.01130228 0.52988104]\n",
      "  [0.2537861  0.03887584 0.17943314]]\n",
      "\n",
      " [[0.19922966 0.48808954 0.03532865]\n",
      "  [0.49922794 0.2007965  0.7582568 ]\n",
      "  [0.01333495 0.0236231  0.0359812 ]\n",
      "  [0.00540638 0.03067838 0.01258787]\n",
      "  [0.40285413 0.66248878 0.58444716]]]\n"
     ]
    }
   ],
   "source": [
    "a = np.random.random((5,5,3))\n",
    "b = np.random.random((5,5))\n",
    "b = b[:,:,np.newaxis]\n",
    "\n",
    "result = a * b\n",
    "print(result)"
   ]
  },
  {
   "cell_type": "markdown",
   "id": "bac359a9",
   "metadata": {},
   "source": [
    "#### 72. How to swap two rows of an array? (★★★)"
   ]
  },
  {
   "cell_type": "code",
   "execution_count": 206,
   "id": "f1b432b1",
   "metadata": {},
   "outputs": [
    {
     "name": "stdout",
     "output_type": "stream",
     "text": [
      "[[7 8 9]\n",
      " [4 5 6]\n",
      " [7 8 9]]\n"
     ]
    }
   ],
   "source": [
    "arr = np.array([[1, 2, 3], [4, 5, 6], [7, 8, 9]])\n",
    "\n",
    "arr[0] = arr[2]\n",
    "print(arr)"
   ]
  },
  {
   "cell_type": "markdown",
   "id": "620c9f83",
   "metadata": {},
   "source": [
    "#### 73. Consider a set of 10 triplets describing 10 triangles (with shared vertices), find the set of unique line segments composing all the  triangles (★★★)"
   ]
  },
  {
   "cell_type": "code",
   "execution_count": 207,
   "id": "4e595ffc",
   "metadata": {},
   "outputs": [
    {
     "name": "stdout",
     "output_type": "stream",
     "text": [
      "{(4, 9), (1, 6), (1, 3), (2, 8), (6, 8), (4, 5), (5, 6), (4, 8), (3, 6), (8, 8), (2, 4), (0, 4), (1, 5), (1, 8), (7, 9), (4, 7), (3, 5), (4, 4), (0, 9), (1, 4), (2, 6), (6, 6), (7, 8)}\n"
     ]
    }
   ],
   "source": [
    "\n",
    "\n",
    "# create a set of 10 triplets describing 10 triangles\n",
    "triangles = np.random.randint(0, 10, size=(10, 3))\n",
    "\n",
    "# extract all the line segments from the triangles\n",
    "segments = set()\n",
    "for triangle in triangles:\n",
    "    a, b, c = triangle\n",
    "    segment1 = (min(a, b), max(a, b))\n",
    "    segment2 = (min(b, c), max(b, c))\n",
    "    segment3 = (min(c, a), max(c, a))\n",
    "    segments.update([segment1, segment2, segment3])\n",
    "\n",
    "# print the set of unique line segments\n",
    "print(segments)\n"
   ]
  },
  {
   "cell_type": "markdown",
   "id": "a76c55a2",
   "metadata": {},
   "source": [
    "#### 74. Given a sorted array C that corresponds to a bincount, how to produce an array A such that np.bincount(A) == C? (★★★)"
   ]
  },
  {
   "cell_type": "code",
   "execution_count": 208,
   "id": "2d2ae65a",
   "metadata": {},
   "outputs": [
    {
     "name": "stdout",
     "output_type": "stream",
     "text": [
      "[1 2 2 3 3 4 4 4 5 5 5 6 6 6 7 7 7 7]\n"
     ]
    }
   ],
   "source": [
    "\n",
    "# create a sorted array C that corresponds to a bincount\n",
    "C = np.array([0, 1, 2, 2, 3, 3, 3, 4])\n",
    "\n",
    "# produce an array A such that np.bincount(A) == C\n",
    "A = np.repeat(np.arange(len(C)), C)\n",
    "\n",
    "# print the resulting array A\n",
    "print(A)\n"
   ]
  },
  {
   "cell_type": "markdown",
   "id": "d550c8e2",
   "metadata": {},
   "source": [
    "#### 75. How to compute averages using a sliding window over an array? (★★★)"
   ]
  },
  {
   "cell_type": "code",
   "execution_count": 211,
   "id": "841c457c",
   "metadata": {},
   "outputs": [
    {
     "name": "stdout",
     "output_type": "stream",
     "text": [
      "[2. 3. 4. 5. 6. 7. 8.]\n"
     ]
    }
   ],
   "source": [
    "arr = np.array([1,2,3,4,5,6,7,8,9])\n",
    "arr\n",
    " \n",
    "k = 3\n",
    "kernels = np.ones(k)/k\n",
    "\n",
    "averages = np.convolve(arr,kernels,mode='valid')\n",
    "print(averages)"
   ]
  },
  {
   "cell_type": "markdown",
   "id": "6b170b00",
   "metadata": {},
   "source": [
    "#### 76. Consider a one-dimensional array Z, build a two-dimensional array whose first row is (Z[0],Z[1],Z[2]) and each subsequent row is  shifted by 1 (last row should be (Z[-3],Z[-2],Z[-1]) (★★★)"
   ]
  },
  {
   "cell_type": "code",
   "execution_count": 212,
   "id": "d9a0cf4e",
   "metadata": {},
   "outputs": [
    {
     "name": "stdout",
     "output_type": "stream",
     "text": [
      "[[1 2 3]\n",
      " [2 3 4]\n",
      " [3 4 5]\n",
      " [4 5 6]]\n"
     ]
    }
   ],
   "source": [
    "\n",
    "# Define the one-dimensional array Z\n",
    "Z = np.array([1, 2, 3, 4, 5, 6])\n",
    "\n",
    "# Define the window size and number of rows in the output array\n",
    "win_size = 3\n",
    "num_rows = len(Z) - win_size + 1\n",
    "\n",
    "# Create the two-dimensional array using stride_tricks.as_strided()\n",
    "strides = Z.strides + (Z.strides[0],)\n",
    "Z_2d = np.lib.stride_tricks.as_strided(Z, shape=(num_rows, win_size), strides=strides)\n",
    "\n",
    "# Print the two-dimensional array\n",
    "print(Z_2d)\n"
   ]
  },
  {
   "cell_type": "markdown",
   "id": "e94a5c1d",
   "metadata": {},
   "source": [
    "#### 77. How to negate a boolean, or to change the sign of a float inplace? (★★★)"
   ]
  },
  {
   "cell_type": "code",
   "execution_count": 214,
   "id": "c0f9504f",
   "metadata": {},
   "outputs": [
    {
     "name": "stdout",
     "output_type": "stream",
     "text": [
      "True\n",
      "False\n"
     ]
    }
   ],
   "source": [
    "a = True\n",
    "b = not a\n",
    "\n",
    "print(a) # True\n",
    "print(b) # False"
   ]
  },
  {
   "cell_type": "markdown",
   "id": "4eb8b5c1",
   "metadata": {},
   "source": [
    "#### 78. Consider 2 sets of points P0,P1 describing lines (2d) and a point p, how to compute distance from p to each line i (P0[i],P1[i])? (★★★)"
   ]
  },
  {
   "cell_type": "code",
   "execution_count": 222,
   "id": "487f47ec",
   "metadata": {},
   "outputs": [
    {
     "name": "stdout",
     "output_type": "stream",
     "text": [
      "[0.70710678 1.41421356 1.41421356]\n"
     ]
    }
   ],
   "source": [
    "def distance_to_lines(P0, P1, p):\n",
    "    # Compute the direction vectors of the lines\n",
    "    u = P1 - P0\n",
    "    \n",
    "    # Compute the vector from P0 to p\n",
    "    v = p - P0\n",
    "    \n",
    "    # Compute the cross product of u and v\n",
    "    cross_product = np.cross(u, v)\n",
    "    \n",
    "    # Compute the magnitude of u\n",
    "    u_mag = np.linalg.norm(u, axis=1)\n",
    "    \n",
    "    # Compute the distance to each line\n",
    "    distance = np.abs(cross_product) / u_mag\n",
    "    \n",
    "    return distance\n",
    "\n",
    "# Define the lines and the point\n",
    "P0 = np.array([[1, 1], [2, 3], [4, 5]])\n",
    "P1 = np.array([[4, 4], [6, 7], [8, 9]])\n",
    "p = np.array([3, 2])\n",
    "\n",
    "# Compute the distance from p to each line\n",
    "distance = distance_to_lines(P0, P1, p)\n",
    "\n",
    "# Print the distances\n",
    "print(distance)\n"
   ]
  },
  {
   "cell_type": "markdown",
   "id": "3df99948",
   "metadata": {},
   "source": [
    "#### 79. Consider 2 sets of points P0,P1 describing lines (2d) and a set of points P, how to compute distance from each point j (P[j]) to each line i (P0[i],P1[i])? (★★★)"
   ]
  },
  {
   "cell_type": "code",
   "execution_count": null,
   "id": "dc2df37b",
   "metadata": {},
   "outputs": [],
   "source": []
  },
  {
   "cell_type": "markdown",
   "id": "11e972c2",
   "metadata": {},
   "source": [
    "#### 80. Consider an arbitrary array, write a function that extract a subpart with a fixed shape and centered on a given element (pad with a `fill` value when necessary) (★★★)"
   ]
  },
  {
   "cell_type": "code",
   "execution_count": 223,
   "id": "0291247f",
   "metadata": {},
   "outputs": [],
   "source": [
    "\n",
    "def extract_subpart(arr, shape, center, fill_value=0):\n",
    "    # Compute the indices of the subpart\n",
    "    indices = [slice(c - s // 2, c + (s + 1) // 2) for c, s in zip(center, shape)]\n",
    "    \n",
    "    # Create a new array of the desired shape, filled with the fill value\n",
    "    subpart = np.full(shape, fill_value, dtype=arr.dtype)\n",
    "    \n",
    "    # Compute the overlap between the subpart and the array\n",
    "    overlap = [slice(max(0, -i.start), min(s, s - i.stop)) for i, s in zip(indices, arr.shape)]\n",
    "    \n",
    "    # Copy the overlapping region from the array into the subpart\n",
    "    subpart[overlap] = arr[indices][overlap]\n",
    "    \n",
    "    return subpart\n"
   ]
  },
  {
   "cell_type": "markdown",
   "id": "93cfeab3",
   "metadata": {},
   "source": [
    "#### 81. Consider an array Z = [1,2,3,4,5,6,7,8,9,10,11,12,13,14], how to generate an array R = [[1,2,3,4], [2,3,4,5], [3,4,5,6], ..., [11,12,13,14]]? (★★★)"
   ]
  },
  {
   "cell_type": "code",
   "execution_count": 229,
   "id": "360de791",
   "metadata": {},
   "outputs": [
    {
     "name": "stdout",
     "output_type": "stream",
     "text": [
      "[[ 1  2  3  4]\n",
      " [ 2  3  4  5]\n",
      " [ 3  4  5  6]\n",
      " [ 4  5  6  7]\n",
      " [ 5  6  7  8]\n",
      " [ 6  7  8  9]\n",
      " [ 7  8  9 10]\n",
      " [ 8  9 10 11]\n",
      " [ 9 10 11 12]\n",
      " [10 11 12 13]\n",
      " [11 12 13 14]]\n"
     ]
    }
   ],
   "source": [
    "Z= np.array( [1,2,3,4,5,6,7,8,9,10,11,12,13,14])\n",
    "Z\n",
    "\n",
    "window_size = 4\n",
    "\n",
    "# Generate the sliding window view of the array\n",
    "Z_view = np.lib.stride_tricks.sliding_window_view(Z, window_size)\n",
    "\n",
    "# Extract the rows from the sliding window view\n",
    "R = [row for row in Z_view]\n",
    "\n",
    "# Convert the list to a numpy array\n",
    "R = np.array(R)\n",
    "print(R)"
   ]
  },
  {
   "cell_type": "markdown",
   "id": "4c15ceff",
   "metadata": {},
   "source": [
    "#### 82. Compute a matrix rank (★★★)"
   ]
  },
  {
   "cell_type": "code",
   "execution_count": 232,
   "id": "9a4272d2",
   "metadata": {},
   "outputs": [
    {
     "data": {
      "text/plain": [
       "2"
      ]
     },
     "execution_count": 232,
     "metadata": {},
     "output_type": "execute_result"
    }
   ],
   "source": [
    "A = np.array([[1, 2, 3], [4, 5, 6], [7, 8, 9]])\n",
    "\n",
    "A\n",
    "\n",
    "np.linalg.matrix_rank(A)"
   ]
  },
  {
   "cell_type": "markdown",
   "id": "1171cb84",
   "metadata": {},
   "source": [
    "#### 83. How to find the most frequent value in an array?"
   ]
  },
  {
   "cell_type": "code",
   "execution_count": 233,
   "id": "33e951c8",
   "metadata": {},
   "outputs": [
    {
     "name": "stdout",
     "output_type": "stream",
     "text": [
      "Most frequent value: 1\n"
     ]
    }
   ],
   "source": [
    "unique_vals, counts = np.unique(A, return_counts=True)\n",
    "\n",
    "# Find the index of the maximum count\n",
    "max_count_idx = np.argmax(counts)\n",
    "\n",
    "# Get the most frequent value\n",
    "most_frequent_val = unique_vals[max_count_idx]\n",
    "\n",
    "print(\"Most frequent value:\", most_frequent_val)"
   ]
  },
  {
   "cell_type": "markdown",
   "id": "04f472aa",
   "metadata": {},
   "source": [
    "#### 84. Extract all the contiguous 3x3 blocks from a random 10x10 matrix (★★★)"
   ]
  },
  {
   "cell_type": "code",
   "execution_count": 237,
   "id": "7aade14a",
   "metadata": {},
   "outputs": [
    {
     "name": "stdout",
     "output_type": "stream",
     "text": [
      "[[ 1.26866707  1.11155711 -1.3808223 ]\n",
      " [ 1.57123028 -0.68151428  0.25841341]\n",
      " [ 0.94549452 -2.42778381  0.35552575]]\n",
      "[[ 1.11155711 -1.3808223  -0.73986624]\n",
      " [-0.68151428  0.25841341 -0.2068629 ]\n",
      " [-2.42778381  0.35552575 -1.40690989]]\n",
      "[[-1.3808223  -0.73986624 -0.66957848]\n",
      " [ 0.25841341 -0.2068629  -0.22149683]\n",
      " [ 0.35552575 -1.40690989 -0.63561692]]\n",
      "[[-0.73986624 -0.66957848 -0.05502118]\n",
      " [-0.2068629  -0.22149683  0.55761168]\n",
      " [-1.40690989 -0.63561692  0.72738586]]\n",
      "[[-0.66957848 -0.05502118  1.1987568 ]\n",
      " [-0.22149683  0.55761168 -0.13236373]\n",
      " [-0.63561692  0.72738586  0.06616587]]\n",
      "[[-0.05502118  1.1987568  -0.36380133]\n",
      " [ 0.55761168 -0.13236373 -0.07141921]\n",
      " [ 0.72738586  0.06616587 -0.39361902]]\n",
      "[[ 1.1987568  -0.36380133  0.90812861]\n",
      " [-0.13236373 -0.07141921  0.29605885]\n",
      " [ 0.06616587 -0.39361902 -0.06570087]]\n",
      "[[-0.36380133  0.90812861 -1.83583016]\n",
      " [-0.07141921  0.29605885 -2.14536349]\n",
      " [-0.39361902 -0.06570087  1.0792499 ]]\n",
      "[[ 1.57123028 -0.68151428  0.25841341]\n",
      " [ 0.94549452 -2.42778381  0.35552575]\n",
      " [ 0.26591117  0.52240449 -1.22970514]]\n",
      "[[-0.68151428  0.25841341 -0.2068629 ]\n",
      " [-2.42778381  0.35552575 -1.40690989]\n",
      " [ 0.52240449 -1.22970514  0.36255324]]\n",
      "[[ 0.25841341 -0.2068629  -0.22149683]\n",
      " [ 0.35552575 -1.40690989 -0.63561692]\n",
      " [-1.22970514  0.36255324  1.19348879]]\n",
      "[[-0.2068629  -0.22149683  0.55761168]\n",
      " [-1.40690989 -0.63561692  0.72738586]\n",
      " [ 0.36255324  1.19348879 -2.49292096]]\n",
      "[[-0.22149683  0.55761168 -0.13236373]\n",
      " [-0.63561692  0.72738586  0.06616587]\n",
      " [ 1.19348879 -2.49292096 -1.94947131]]\n",
      "[[ 0.55761168 -0.13236373 -0.07141921]\n",
      " [ 0.72738586  0.06616587 -0.39361902]\n",
      " [-2.49292096 -1.94947131  1.19564717]]\n",
      "[[-0.13236373 -0.07141921  0.29605885]\n",
      " [ 0.06616587 -0.39361902 -0.06570087]\n",
      " [-1.94947131  1.19564717  0.64716254]]\n",
      "[[-0.07141921  0.29605885 -2.14536349]\n",
      " [-0.39361902 -0.06570087  1.0792499 ]\n",
      " [ 1.19564717  0.64716254 -1.19704299]]\n",
      "[[ 0.94549452 -2.42778381  0.35552575]\n",
      " [ 0.26591117  0.52240449 -1.22970514]\n",
      " [-0.91014658  0.21254042 -0.10532278]]\n",
      "[[-2.42778381  0.35552575 -1.40690989]\n",
      " [ 0.52240449 -1.22970514  0.36255324]\n",
      " [ 0.21254042 -0.10532278 -0.78805569]]\n",
      "[[ 0.35552575 -1.40690989 -0.63561692]\n",
      " [-1.22970514  0.36255324  1.19348879]\n",
      " [-0.10532278 -0.78805569  0.21601696]]\n",
      "[[-1.40690989 -0.63561692  0.72738586]\n",
      " [ 0.36255324  1.19348879 -2.49292096]\n",
      " [-0.78805569  0.21601696 -2.03269634]]\n",
      "[[-0.63561692  0.72738586  0.06616587]\n",
      " [ 1.19348879 -2.49292096 -1.94947131]\n",
      " [ 0.21601696 -2.03269634  0.07047621]]\n",
      "[[ 0.72738586  0.06616587 -0.39361902]\n",
      " [-2.49292096 -1.94947131  1.19564717]\n",
      " [-2.03269634  0.07047621 -2.42947052]]\n",
      "[[ 0.06616587 -0.39361902 -0.06570087]\n",
      " [-1.94947131  1.19564717  0.64716254]\n",
      " [ 0.07047621 -2.42947052 -0.42822146]]\n",
      "[[-0.39361902 -0.06570087  1.0792499 ]\n",
      " [ 1.19564717  0.64716254 -1.19704299]\n",
      " [-2.42947052 -0.42822146 -0.91973194]]\n",
      "[[ 0.26591117  0.52240449 -1.22970514]\n",
      " [-0.91014658  0.21254042 -0.10532278]\n",
      " [-0.10658828  0.9555781   1.3888998 ]]\n",
      "[[ 0.52240449 -1.22970514  0.36255324]\n",
      " [ 0.21254042 -0.10532278 -0.78805569]\n",
      " [ 0.9555781   1.3888998   0.41041853]]\n",
      "[[-1.22970514  0.36255324  1.19348879]\n",
      " [-0.10532278 -0.78805569  0.21601696]\n",
      " [ 1.3888998   0.41041853 -0.03585289]]\n",
      "[[ 0.36255324  1.19348879 -2.49292096]\n",
      " [-0.78805569  0.21601696 -2.03269634]\n",
      " [ 0.41041853 -0.03585289 -0.89623104]]\n",
      "[[ 1.19348879 -2.49292096 -1.94947131]\n",
      " [ 0.21601696 -2.03269634  0.07047621]\n",
      " [-0.03585289 -0.89623104  0.7068912 ]]\n",
      "[[-2.49292096 -1.94947131  1.19564717]\n",
      " [-2.03269634  0.07047621 -2.42947052]\n",
      " [-0.89623104  0.7068912  -0.66347703]]\n",
      "[[-1.94947131  1.19564717  0.64716254]\n",
      " [ 0.07047621 -2.42947052 -0.42822146]\n",
      " [ 0.7068912  -0.66347703  0.32001263]]\n",
      "[[ 1.19564717  0.64716254 -1.19704299]\n",
      " [-2.42947052 -0.42822146 -0.91973194]\n",
      " [-0.66347703  0.32001263 -0.21482838]]\n",
      "[[-0.91014658  0.21254042 -0.10532278]\n",
      " [-0.10658828  0.9555781   1.3888998 ]\n",
      " [-0.35081758 -1.67401267  0.35082842]]\n",
      "[[ 0.21254042 -0.10532278 -0.78805569]\n",
      " [ 0.9555781   1.3888998   0.41041853]\n",
      " [-1.67401267  0.35082842 -0.56445586]]\n",
      "[[-0.10532278 -0.78805569  0.21601696]\n",
      " [ 1.3888998   0.41041853 -0.03585289]\n",
      " [ 0.35082842 -0.56445586  0.65631339]]\n",
      "[[-0.78805569  0.21601696 -2.03269634]\n",
      " [ 0.41041853 -0.03585289 -0.89623104]\n",
      " [-0.56445586  0.65631339 -0.35014743]]\n",
      "[[ 0.21601696 -2.03269634  0.07047621]\n",
      " [-0.03585289 -0.89623104  0.7068912 ]\n",
      " [ 0.65631339 -0.35014743  0.9581093 ]]\n",
      "[[-2.03269634  0.07047621 -2.42947052]\n",
      " [-0.89623104  0.7068912  -0.66347703]\n",
      " [-0.35014743  0.9581093   1.25821182]]\n",
      "[[ 0.07047621 -2.42947052 -0.42822146]\n",
      " [ 0.7068912  -0.66347703  0.32001263]\n",
      " [ 0.9581093   1.25821182 -1.85815236]]\n",
      "[[-2.42947052 -0.42822146 -0.91973194]\n",
      " [-0.66347703  0.32001263 -0.21482838]\n",
      " [ 1.25821182 -1.85815236  0.24520426]]\n",
      "[[-0.10658828  0.9555781   1.3888998 ]\n",
      " [-0.35081758 -1.67401267  0.35082842]\n",
      " [ 0.80854154 -0.61569106 -0.32768899]]\n",
      "[[ 0.9555781   1.3888998   0.41041853]\n",
      " [-1.67401267  0.35082842 -0.56445586]\n",
      " [-0.61569106 -0.32768899  0.27286512]]\n",
      "[[ 1.3888998   0.41041853 -0.03585289]\n",
      " [ 0.35082842 -0.56445586  0.65631339]\n",
      " [-0.32768899  0.27286512 -0.78008487]]\n",
      "[[ 0.41041853 -0.03585289 -0.89623104]\n",
      " [-0.56445586  0.65631339 -0.35014743]\n",
      " [ 0.27286512 -0.78008487  0.52963956]]\n",
      "[[-0.03585289 -0.89623104  0.7068912 ]\n",
      " [ 0.65631339 -0.35014743  0.9581093 ]\n",
      " [-0.78008487  0.52963956  0.13686016]]\n",
      "[[-0.89623104  0.7068912  -0.66347703]\n",
      " [-0.35014743  0.9581093   1.25821182]\n",
      " [ 0.52963956  0.13686016 -0.65351468]]\n",
      "[[ 0.7068912  -0.66347703  0.32001263]\n",
      " [ 0.9581093   1.25821182 -1.85815236]\n",
      " [ 0.13686016 -0.65351468  0.05443074]]\n",
      "[[-0.66347703  0.32001263 -0.21482838]\n",
      " [ 1.25821182 -1.85815236  0.24520426]\n",
      " [-0.65351468  0.05443074  0.24500066]]\n",
      "[[-0.35081758 -1.67401267  0.35082842]\n",
      " [ 0.80854154 -0.61569106 -0.32768899]\n",
      " [-0.41188087  0.00800051 -1.51842303]]\n",
      "[[-1.67401267  0.35082842 -0.56445586]\n",
      " [-0.61569106 -0.32768899  0.27286512]\n",
      " [ 0.00800051 -1.51842303 -1.93985296]]\n",
      "[[ 0.35082842 -0.56445586  0.65631339]\n",
      " [-0.32768899  0.27286512 -0.78008487]\n",
      " [-1.51842303 -1.93985296 -1.01294629]]\n",
      "[[-0.56445586  0.65631339 -0.35014743]\n",
      " [ 0.27286512 -0.78008487  0.52963956]\n",
      " [-1.93985296 -1.01294629  0.27889443]]\n",
      "[[ 0.65631339 -0.35014743  0.9581093 ]\n",
      " [-0.78008487  0.52963956  0.13686016]\n",
      " [-1.01294629  0.27889443  0.44498348]]\n",
      "[[-0.35014743  0.9581093   1.25821182]\n",
      " [ 0.52963956  0.13686016 -0.65351468]\n",
      " [ 0.27889443  0.44498348 -1.26339017]]\n",
      "[[ 0.9581093   1.25821182 -1.85815236]\n",
      " [ 0.13686016 -0.65351468  0.05443074]\n",
      " [ 0.44498348 -1.26339017  0.77143564]]\n",
      "[[ 1.25821182 -1.85815236  0.24520426]\n",
      " [-0.65351468  0.05443074  0.24500066]\n",
      " [-1.26339017  0.77143564  0.34675782]]\n",
      "[[ 0.80854154 -0.61569106 -0.32768899]\n",
      " [-0.41188087  0.00800051 -1.51842303]\n",
      " [ 0.20247298  0.10737329 -0.61132388]]\n",
      "[[-0.61569106 -0.32768899  0.27286512]\n",
      " [ 0.00800051 -1.51842303 -1.93985296]\n",
      " [ 0.10737329 -0.61132388  0.8265335 ]]\n",
      "[[-0.32768899  0.27286512 -0.78008487]\n",
      " [-1.51842303 -1.93985296 -1.01294629]\n",
      " [-0.61132388  0.8265335  -0.2476436 ]]\n",
      "[[ 0.27286512 -0.78008487  0.52963956]\n",
      " [-1.93985296 -1.01294629  0.27889443]\n",
      " [ 0.8265335  -0.2476436  -1.15462654]]\n",
      "[[-0.78008487  0.52963956  0.13686016]\n",
      " [-1.01294629  0.27889443  0.44498348]\n",
      " [-0.2476436  -1.15462654  1.06033918]]\n",
      "[[ 0.52963956  0.13686016 -0.65351468]\n",
      " [ 0.27889443  0.44498348 -1.26339017]\n",
      " [-1.15462654  1.06033918  1.97058158]]\n",
      "[[ 0.13686016 -0.65351468  0.05443074]\n",
      " [ 0.44498348 -1.26339017  0.77143564]\n",
      " [ 1.06033918  1.97058158 -1.44355631]]\n",
      "[[-0.65351468  0.05443074  0.24500066]\n",
      " [-1.26339017  0.77143564  0.34675782]\n",
      " [ 1.97058158 -1.44355631 -0.49897774]]\n"
     ]
    }
   ],
   "source": [
    "matrix = np.random.randn(10,10)\n",
    "matrix\n",
    "\n",
    "blocks = []\n",
    "for i in range(8):  # iterate over the rows\n",
    "    for j in range(8):  # iterate over the columns\n",
    "        block = matrix[i:i+3, j:j+3]  # extract the 3x3 submatrix\n",
    "        blocks.append(block)\n",
    "\n",
    "# Print the blocks\n",
    "for block in blocks:\n",
    "    print(block)\n",
    "    "
   ]
  },
  {
   "cell_type": "markdown",
   "id": "52836346",
   "metadata": {},
   "source": [
    " 85. Create a 2D array subclass such that Z[i,j] == Z[j,i] (★★★)"
   ]
  },
  {
   "cell_type": "code",
   "execution_count": 238,
   "id": "4df70318",
   "metadata": {},
   "outputs": [],
   "source": [
    "\n",
    "class SymmetricArray(np.ndarray):\n",
    "    def __getitem__(self, index):\n",
    "        i, j = index\n",
    "        if i <= j:\n",
    "            return super().__getitem__((i, j))\n",
    "        else:\n",
    "            return super().__getitem__((j, i))\n",
    "    \n",
    "    def __setitem__(self, index, value):\n",
    "        i, j = index\n",
    "        super().__setitem__((i, j), value)\n",
    "        super().__setitem__((j, i), value)\n"
   ]
  },
  {
   "cell_type": "markdown",
   "id": "78c43ee5",
   "metadata": {},
   "source": [
    "#### 86. Consider a set of p matrices with shape (n,n) and a set of p vectors with shape (n,1). How to compute the sum of of the p matrix products at once? (result has shape (n,1)) (★★★)"
   ]
  },
  {
   "cell_type": "code",
   "execution_count": null,
   "id": "32fd2c3b",
   "metadata": {},
   "outputs": [],
   "source": []
  },
  {
   "cell_type": "markdown",
   "id": "158f9945",
   "metadata": {},
   "source": [
    "#### 87. Consider a 16x16 array, how to get the block-sum (block size is 4x4)? (★★★)"
   ]
  },
  {
   "cell_type": "code",
   "execution_count": 245,
   "id": "5a9b808f",
   "metadata": {},
   "outputs": [
    {
     "name": "stdout",
     "output_type": "stream",
     "text": [
      "[[53 94 67 67]\n",
      " [78 85 75 83]\n",
      " [65 87 71 67]\n",
      " [82 84 73 81]]\n"
     ]
    }
   ],
   "source": [
    "\n",
    "# create a 16x16 array\n",
    "arr = np.random.randint(10, size=(16, 16))\n",
    "\n",
    "# reshape the array into a 4x4 grid of 4x4 blocks\n",
    "blocks = arr.reshape(4, 4, 4, 4)\n",
    "\n",
    "# sum the blocks along the last two dimensions\n",
    "block_sum = np.sum(blocks, axis=(-2, -1))\n",
    "\n",
    "print(block_sum)\n"
   ]
  },
  {
   "cell_type": "markdown",
   "id": "2e0ad860",
   "metadata": {},
   "source": [
    "#### 88. How to implement the Game of Life using numpy arrays? (★★★)"
   ]
  },
  {
   "cell_type": "code",
   "execution_count": null,
   "id": "574acff5",
   "metadata": {},
   "outputs": [],
   "source": []
  },
  {
   "cell_type": "markdown",
   "id": "69a892fa",
   "metadata": {},
   "source": [
    "#### 89. How to get the n largest values of an array (★★★)"
   ]
  },
  {
   "cell_type": "code",
   "execution_count": 249,
   "id": "21b2bd48",
   "metadata": {},
   "outputs": [
    {
     "name": "stdout",
     "output_type": "stream",
     "text": [
      "[9 6 5]\n"
     ]
    }
   ],
   "source": [
    "arr = np.array([3, 1, 4, 1, 5, 9, 2, 6, 5, 3])\n",
    "n = 3\n",
    "largest_value = arr[np.argpartition(-arr,n)[:n]]\n",
    "print(largest_value)"
   ]
  },
  {
   "cell_type": "code",
   "execution_count": 247,
   "id": "7a5066eb",
   "metadata": {},
   "outputs": [
    {
     "data": {
      "text/plain": [
       "array([3, 1, 4, 1, 5, 9, 2, 6, 5, 3])"
      ]
     },
     "execution_count": 247,
     "metadata": {},
     "output_type": "execute_result"
    }
   ],
   "source": [
    "arr"
   ]
  },
  {
   "cell_type": "raw",
   "id": "c3914505",
   "metadata": {},
   "source": []
  },
  {
   "cell_type": "markdown",
   "id": "b55ccacc",
   "metadata": {},
   "source": [
    "#### 90. Given an arbitrary number of vectors, build the cartesian product (every combinations of every item) (★★★)"
   ]
  },
  {
   "cell_type": "code",
   "execution_count": 251,
   "id": "4b645da4",
   "metadata": {},
   "outputs": [
    {
     "name": "stdout",
     "output_type": "stream",
     "text": [
      "[(1, 'a', True), (1, 'a', False), (1, 'b', True), (1, 'b', False), (2, 'a', True), (2, 'a', False), (2, 'b', True), (2, 'b', False), (3, 'a', True), (3, 'a', False), (3, 'b', True), (3, 'b', False)]\n"
     ]
    }
   ],
   "source": [
    "import itertools\n",
    "\n",
    "# Define some example vectors\n",
    "v1 = [1, 2, 3]\n",
    "v2 = ['a', 'b']\n",
    "v3 = [True, False]\n",
    "\n",
    "# Compute the cartesian product of the vectors\n",
    "cartesian_product = list(itertools.product(v1, v2, v3))\n",
    "\n",
    "print(cartesian_product)\n"
   ]
  },
  {
   "cell_type": "markdown",
   "id": "89187a23",
   "metadata": {},
   "source": [
    "#### 91. How to create a record array from a regular array? (★★★)"
   ]
  },
  {
   "cell_type": "code",
   "execution_count": 252,
   "id": "da94c71a",
   "metadata": {},
   "outputs": [
    {
     "name": "stdout",
     "output_type": "stream",
     "text": [
      "[(1, 2) (3, 4) (5, 6)]\n"
     ]
    }
   ],
   "source": [
    "\n",
    "# Create a regular array\n",
    "data = np.array([[1, 2], [3, 4], [5, 6]])\n",
    "\n",
    "# Create a record array from the regular array\n",
    "names = ['field1', 'field2']  # Field names for the record array\n",
    "dtype = [(name, data.dtype) for name in names]  # Data types for the record array fields\n",
    "record_array = np.rec.fromarrays(data.transpose(), dtype=dtype)\n",
    "\n",
    "print(record_array)\n"
   ]
  },
  {
   "cell_type": "markdown",
   "id": "aa70d4ca",
   "metadata": {},
   "source": [
    "#### 92. Consider a large vector Z, compute Z to the power of 3 using 3 different methods (★★★)"
   ]
  },
  {
   "cell_type": "code",
   "execution_count": 256,
   "id": "7cff1bf5",
   "metadata": {},
   "outputs": [
    {
     "data": {
      "text/plain": [
       "array([  2,   1,   0,   7,   6,   5,   4,  11,  10,   9,   8,  15,  14,\n",
       "        13,  12,  19,  18,  17,  16,  23,  22,  21,  20,  27,  26,  25,\n",
       "        24,  31,  30,  29,  28,  35,  34,  33,  32,  39,  38,  37,  36,\n",
       "        43,  42,  41,  40,  47,  46,  45,  44,  51,  50,  49,  48,  55,\n",
       "        54,  53,  52,  59,  58,  57,  56,  63,  62,  61,  60,  67,  66,\n",
       "        65,  64,  71,  70,  69,  68,  75,  74,  73,  72,  79,  78,  77,\n",
       "        76,  83,  82,  81,  80,  87,  86,  85,  84,  91,  90,  89,  88,\n",
       "        95,  94,  93,  92,  99,  98,  97,  96, 103, 102, 101, 100, 107,\n",
       "       106, 105, 104, 111, 110, 109, 108, 115, 114, 113, 112, 119, 118,\n",
       "       117, 116, 123, 122, 121, 120, 127, 126, 125, 124, 131, 130, 129,\n",
       "       128, 135, 134, 133, 132, 139, 138, 137, 136, 143, 142, 141, 140,\n",
       "       147, 146, 145, 144, 151, 150, 149, 148, 155, 154, 153, 152, 159,\n",
       "       158, 157, 156, 163, 162, 161, 160, 167, 166, 165, 164, 171, 170,\n",
       "       169, 168, 175, 174, 173, 172, 179, 178, 177, 176, 183, 182, 181,\n",
       "       180, 187, 186, 185, 184, 191, 190, 189, 188, 195, 194, 193, 192,\n",
       "       199, 198, 197, 196, 203, 202, 201, 200, 207, 206, 205, 204, 211,\n",
       "       210, 209, 208, 215, 214, 213, 212, 219, 218, 217, 216, 223, 222,\n",
       "       221, 220, 227, 226, 225, 224, 231, 230, 229, 228, 235, 234, 233,\n",
       "       232, 239, 238, 237, 236, 243, 242, 241, 240, 247, 246, 245, 244,\n",
       "       251, 250, 249, 248, 255, 254, 253, 252, 259, 258, 257, 256, 263,\n",
       "       262, 261, 260, 267, 266, 265, 264, 271, 270, 269, 268, 275, 274,\n",
       "       273, 272, 279, 278, 277, 276, 283, 282, 281, 280, 287, 286, 285,\n",
       "       284, 291, 290, 289, 288, 295, 294, 293, 292, 299, 298, 297, 296,\n",
       "       303, 302, 301, 300, 307, 306, 305, 304, 311, 310, 309, 308, 315,\n",
       "       314, 313, 312, 319, 318, 317, 316, 323, 322, 321, 320, 327, 326,\n",
       "       325, 324, 331, 330, 329, 328, 335, 334, 333, 332, 339, 338, 337,\n",
       "       336, 343, 342, 341, 340, 347, 346, 345, 344, 351, 350, 349, 348,\n",
       "       355, 354, 353, 352, 359, 358, 357, 356, 363, 362, 361, 360, 367,\n",
       "       366, 365, 364, 371, 370, 369, 368, 375, 374, 373, 372, 379, 378,\n",
       "       377, 376, 383, 382, 381, 380, 387, 386, 385, 384, 391, 390, 389,\n",
       "       388, 395, 394, 393, 392, 399, 398, 397, 396, 403, 402, 401, 400,\n",
       "       407, 406, 405, 404, 411, 410, 409, 408, 415, 414, 413, 412, 419,\n",
       "       418, 417, 416, 423, 422, 421, 420, 427, 426, 425, 424, 431, 430,\n",
       "       429, 428, 435, 434, 433, 432, 439, 438, 437, 436, 443, 442, 441,\n",
       "       440, 447, 446, 445, 444, 451, 450, 449, 448, 455, 454, 453, 452,\n",
       "       459, 458, 457, 456, 463, 462, 461, 460, 467, 466, 465, 464, 471,\n",
       "       470, 469, 468, 475, 474, 473, 472, 479, 478, 477, 476, 483, 482,\n",
       "       481, 480, 487, 486, 485, 484, 491, 490, 489, 488, 495, 494, 493,\n",
       "       492, 499, 498, 497, 496, 503, 502, 501, 500, 507, 506, 505, 504,\n",
       "       511, 510, 509, 508, 515, 514, 513, 512, 519, 518, 517, 516, 523,\n",
       "       522, 521, 520, 527, 526, 525, 524, 531, 530, 529, 528, 535, 534,\n",
       "       533, 532, 539, 538, 537, 536, 543, 542, 541, 540, 547, 546, 545,\n",
       "       544, 551, 550, 549, 548, 555, 554, 553, 552, 559, 558, 557, 556,\n",
       "       563, 562, 561, 560, 567, 566, 565, 564, 571, 570, 569, 568, 575,\n",
       "       574, 573, 572, 579, 578, 577, 576, 583, 582, 581, 580, 587, 586,\n",
       "       585, 584, 591, 590, 589, 588, 595, 594, 593, 592, 599, 598, 597,\n",
       "       596, 603, 602, 601, 600, 607, 606, 605, 604, 611, 610, 609, 608,\n",
       "       615, 614, 613, 612, 619, 618, 617, 616, 623, 622, 621, 620, 627,\n",
       "       626, 625, 624, 631, 630, 629, 628, 635, 634, 633, 632, 639, 638,\n",
       "       637, 636, 643, 642, 641, 640, 647, 646, 645, 644, 651, 650, 649,\n",
       "       648, 655, 654, 653, 652, 659, 658, 657, 656, 663, 662, 661, 660,\n",
       "       667, 666, 665, 664, 671, 670, 669, 668, 675, 674, 673, 672, 679,\n",
       "       678, 677, 676, 683, 682, 681, 680, 687, 686, 685, 684, 691, 690,\n",
       "       689, 688, 695, 694, 693, 692, 699, 698, 697, 696, 703, 702, 701,\n",
       "       700, 707, 706, 705, 704, 711, 710, 709, 708, 715, 714, 713, 712,\n",
       "       719, 718, 717, 716, 723, 722, 721, 720, 727, 726, 725, 724, 731,\n",
       "       730, 729, 728, 735, 734, 733, 732, 739, 738, 737, 736, 743, 742,\n",
       "       741, 740, 747, 746, 745, 744, 751, 750, 749, 748, 755, 754, 753,\n",
       "       752, 759, 758, 757, 756, 763, 762, 761, 760, 767, 766, 765, 764,\n",
       "       771, 770, 769, 768, 775, 774, 773, 772, 779, 778, 777, 776, 783,\n",
       "       782, 781, 780, 787, 786, 785, 784, 791, 790, 789, 788, 795, 794,\n",
       "       793, 792, 799, 798, 797, 796, 803, 802, 801, 800, 807, 806, 805,\n",
       "       804, 811, 810, 809, 808, 815, 814, 813, 812, 819, 818, 817, 816,\n",
       "       823, 822, 821, 820, 827, 826, 825, 824, 831, 830, 829, 828, 835,\n",
       "       834, 833, 832, 839, 838, 837, 836, 843, 842, 841, 840, 847, 846,\n",
       "       845, 844, 851, 850, 849, 848, 855, 854, 853, 852, 859, 858, 857,\n",
       "       856, 863, 862, 861, 860, 867, 866, 865, 864, 871, 870, 869, 868,\n",
       "       875, 874, 873, 872, 879, 878, 877, 876, 883, 882, 881, 880, 887,\n",
       "       886, 885, 884, 891, 890, 889, 888, 895, 894, 893, 892, 899, 898,\n",
       "       897, 896, 903, 902, 901, 900, 907, 906, 905, 904, 911, 910, 909,\n",
       "       908, 915, 914, 913, 912, 919, 918, 917, 916, 923, 922, 921, 920,\n",
       "       927, 926, 925, 924, 931, 930, 929, 928, 935, 934, 933, 932, 939,\n",
       "       938, 937, 936, 943, 942, 941, 940, 947, 946, 945, 944, 951, 950,\n",
       "       949, 948, 955, 954, 953, 952, 959, 958, 957, 956, 963, 962, 961,\n",
       "       960, 967, 966, 965, 964, 971, 970, 969, 968, 975, 974, 973, 972,\n",
       "       979, 978, 977, 976, 983, 982, 981, 980, 987, 986, 985, 984, 991,\n",
       "       990, 989, 988, 995, 994, 993, 992, 999, 998, 997, 996], dtype=int32)"
      ]
     },
     "execution_count": 256,
     "metadata": {},
     "output_type": "execute_result"
    }
   ],
   "source": [
    "z = np.arange(1,1000)\n",
    "z\n",
    "z = z^3\n",
    "z"
   ]
  },
  {
   "cell_type": "markdown",
   "id": "5f79dd00",
   "metadata": {},
   "source": [
    "#### 93. Consider two arrays A and B of shape (8,3) and (2,2). How to find rows of A that contain elements of each row of B regardless of the order of the elements in B? (★★★)"
   ]
  },
  {
   "cell_type": "code",
   "execution_count": 257,
   "id": "20c105b2",
   "metadata": {},
   "outputs": [
    {
     "name": "stdout",
     "output_type": "stream",
     "text": [
      "[[1 2 3]\n",
      " [2 3 1]\n",
      " [1 3 2]]\n"
     ]
    }
   ],
   "source": [
    "\n",
    "# Define arrays A and B\n",
    "A = np.array([[1, 2, 3], [4, 5, 6], [2, 3, 1], [7, 8, 9], [2, 5, 1], [1, 3, 2], [8, 9, 7], [5, 6, 4]])\n",
    "B = np.array([[1, 2], [2, 3]])\n",
    "\n",
    "# Check for rows of A that contain elements of each row of B regardless of order\n",
    "mask = np.logical_and.reduce(np.isin(A[:, :, None], B.T), axis=1).any(axis=1)\n",
    "result = A[mask]\n",
    "\n",
    "print(result)\n"
   ]
  },
  {
   "cell_type": "markdown",
   "id": "a80570cd",
   "metadata": {},
   "source": [
    "#### 94. Considering a 10x3 matrix, extract rows with unequal values (e.g. [2,2,3]) (★★★)"
   ]
  },
  {
   "cell_type": "code",
   "execution_count": 258,
   "id": "84db8de1",
   "metadata": {},
   "outputs": [
    {
     "name": "stdout",
     "output_type": "stream",
     "text": [
      "[[ 1  2  3]\n",
      " [ 5  6  6]\n",
      " [ 7  7  8]\n",
      " [ 9 10 11]\n",
      " [13 14 14]\n",
      " [15 16 16]\n",
      " [18 19 20]]\n"
     ]
    }
   ],
   "source": [
    "\n",
    "# Define a 10x3 matrix\n",
    "matrix = np.array([[1, 2, 3], [4, 4, 4], [5, 6, 6], [7, 7, 8], [9, 10, 11], [12, 12, 12], [13, 14, 14], [15, 16, 16], [17, 17, 17], [18, 19, 20]])\n",
    "\n",
    "# Extract rows with unequal values\n",
    "num_unique = np.apply_along_axis(lambda x: len(np.unique(x)), axis=1, arr=matrix)\n",
    "result = matrix[num_unique > 1]\n",
    "\n",
    "print(result)\n"
   ]
  },
  {
   "cell_type": "markdown",
   "id": "ba154f43",
   "metadata": {},
   "source": [
    "#### 95. Convert a vector of ints into a matrix binary representation (★★★)"
   ]
  },
  {
   "cell_type": "code",
   "execution_count": 259,
   "id": "cfa96e1b",
   "metadata": {},
   "outputs": [
    {
     "name": "stdout",
     "output_type": "stream",
     "text": [
      "[[0 0 0 0 0 0 1 0]\n",
      " [0 0 0 0 0 1 0 1]\n",
      " [0 0 0 0 0 1 1 1]]\n"
     ]
    }
   ],
   "source": [
    "\n",
    "# Define a vector of integers\n",
    "vec = np.array([2, 5, 7])\n",
    "\n",
    "# Convert the vector to a matrix binary representation\n",
    "bin_mat = np.unpackbits(vec[:, np.newaxis].astype(np.uint8), axis=1)\n",
    "\n",
    "print(bin_mat)\n"
   ]
  },
  {
   "cell_type": "markdown",
   "id": "420e2343",
   "metadata": {},
   "source": [
    "#### 96. Given a two dimensional array, how to extract unique rows? (★★★)"
   ]
  },
  {
   "cell_type": "code",
   "execution_count": 261,
   "id": "4680dfd0",
   "metadata": {},
   "outputs": [
    {
     "name": "stdout",
     "output_type": "stream",
     "text": [
      "[[ 1  2  3]\n",
      " [ 4  4  4]\n",
      " [ 5  6  6]\n",
      " [ 7  7  8]\n",
      " [ 9 10 11]\n",
      " [12 12 12]\n",
      " [13 14 14]\n",
      " [15 16 16]\n",
      " [17 17 17]\n",
      " [18 19 20]]\n"
     ]
    }
   ],
   "source": [
    "matrix\n",
    "\n",
    "unique_rows = np.unique(matrix,axis = 0)\n",
    "print(unique_rows)"
   ]
  },
  {
   "cell_type": "markdown",
   "id": "89fef2f3",
   "metadata": {},
   "source": [
    "#### 97. Considering 2 vectors A & B, write the einsum equivalent of inner, outer, sum, and mul function (★★★)"
   ]
  },
  {
   "cell_type": "code",
   "execution_count": null,
   "id": "bb9c14b2",
   "metadata": {},
   "outputs": [],
   "source": []
  },
  {
   "cell_type": "markdown",
   "id": "7ad5cc5f",
   "metadata": {},
   "source": [
    "#### 98. Considering a path described by two vectors (X,Y), how to sample it using equidistant samples (★★★)?"
   ]
  },
  {
   "cell_type": "code",
   "execution_count": null,
   "id": "0899d1d5",
   "metadata": {},
   "outputs": [],
   "source": []
  },
  {
   "cell_type": "markdown",
   "id": "2b69272e",
   "metadata": {},
   "source": [
    "#### 99. Given an integer n and a 2D array X, select from X the rows which can be interpreted as draws from a multinomial distribution with n degrees, i.e., the rows which only contain integers and which sum to n. (★★★)"
   ]
  },
  {
   "cell_type": "code",
   "execution_count": null,
   "id": "55c8b034",
   "metadata": {},
   "outputs": [],
   "source": []
  },
  {
   "cell_type": "markdown",
   "id": "59ab5516",
   "metadata": {},
   "source": [
    "#### 100. Compute bootstrapped 95% confidence intervals for the mean of a 1D array X (i.e., resample the elements of an array with replacement N times, compute the mean of each sample, and then compute percentiles over the means). (★★★)"
   ]
  },
  {
   "cell_type": "code",
   "execution_count": null,
   "id": "450877d8",
   "metadata": {},
   "outputs": [],
   "source": []
  }
 ],
 "metadata": {
  "kernelspec": {
   "display_name": "Python 3 (ipykernel)",
   "language": "python",
   "name": "python3"
  },
  "language_info": {
   "codemirror_mode": {
    "name": "ipython",
    "version": 3
   },
   "file_extension": ".py",
   "mimetype": "text/x-python",
   "name": "python",
   "nbconvert_exporter": "python",
   "pygments_lexer": "ipython3",
   "version": "3.9.12"
  }
 },
 "nbformat": 4,
 "nbformat_minor": 5
}
