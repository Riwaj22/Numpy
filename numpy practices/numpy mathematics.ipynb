{
 "cells": [
  {
   "cell_type": "code",
   "execution_count": 1,
   "id": "2408a771",
   "metadata": {},
   "outputs": [],
   "source": [
    "import numpy as np"
   ]
  },
  {
   "cell_type": "code",
   "execution_count": 2,
   "id": "da1af01c",
   "metadata": {},
   "outputs": [],
   "source": [
    "\n",
    "# 1. Write a NumPy program to add, subtract, multiply, divide arguments element-wise.\n",
    "\n",
    "array = np.array([1,4])"
   ]
  },
  {
   "cell_type": "code",
   "execution_count": 3,
   "id": "ea80b92e",
   "metadata": {},
   "outputs": [
    {
     "data": {
      "text/plain": [
       "array([1, 4])"
      ]
     },
     "execution_count": 3,
     "metadata": {},
     "output_type": "execute_result"
    }
   ],
   "source": [
    "array"
   ]
  },
  {
   "cell_type": "code",
   "execution_count": 5,
   "id": "543609e3",
   "metadata": {},
   "outputs": [
    {
     "data": {
      "text/plain": [
       "5"
      ]
     },
     "execution_count": 5,
     "metadata": {},
     "output_type": "execute_result"
    }
   ],
   "source": [
    "np.sum(array)"
   ]
  },
  {
   "cell_type": "code",
   "execution_count": 8,
   "id": "27e69c7c",
   "metadata": {},
   "outputs": [
    {
     "data": {
      "text/plain": [
       "-3"
      ]
     },
     "execution_count": 8,
     "metadata": {},
     "output_type": "execute_result"
    }
   ],
   "source": [
    "np.subtract(1,4)"
   ]
  },
  {
   "cell_type": "code",
   "execution_count": 9,
   "id": "fc7b7924",
   "metadata": {},
   "outputs": [
    {
     "data": {
      "text/plain": [
       "4"
      ]
     },
     "execution_count": 9,
     "metadata": {},
     "output_type": "execute_result"
    }
   ],
   "source": [
    "np.multiply(1,4)"
   ]
  },
  {
   "cell_type": "code",
   "execution_count": 10,
   "id": "199a28d9",
   "metadata": {},
   "outputs": [
    {
     "data": {
      "text/plain": [
       "0.25"
      ]
     },
     "execution_count": 10,
     "metadata": {},
     "output_type": "execute_result"
    }
   ],
   "source": [
    "np.divide(1,4)"
   ]
  },
  {
   "cell_type": "code",
   "execution_count": 11,
   "id": "7eb1ebf8",
   "metadata": {},
   "outputs": [
    {
     "data": {
      "text/plain": [
       "2.313261687518223"
      ]
     },
     "execution_count": 11,
     "metadata": {},
     "output_type": "execute_result"
    }
   ],
   "source": [
    "# Write a NumPy program to compute logarithm of the sum of exponentiations of the inputs, sum of exponentiations of the inputs in base-2\n",
    "\n",
    "np.logaddexp(1,2)"
   ]
  },
  {
   "cell_type": "code",
   "execution_count": 12,
   "id": "6317908e",
   "metadata": {},
   "outputs": [
    {
     "data": {
      "text/plain": [
       "2.584962500721156"
      ]
     },
     "execution_count": 12,
     "metadata": {},
     "output_type": "execute_result"
    }
   ],
   "source": [
    "np.logaddexp2(1,2)"
   ]
  },
  {
   "cell_type": "code",
   "execution_count": 13,
   "id": "53b7a2e2",
   "metadata": {},
   "outputs": [],
   "source": [
    "# 3. Write a NumPy program to get true division of the element-wise array inputs\n",
    "\n",
    "original_array = np.array([0,1,2,3,4,5,6,7,8,9])"
   ]
  },
  {
   "cell_type": "code",
   "execution_count": 14,
   "id": "837d53b2",
   "metadata": {},
   "outputs": [
    {
     "data": {
      "text/plain": [
       "array([0, 1, 2, 3, 4, 5, 6, 7, 8, 9])"
      ]
     },
     "execution_count": 14,
     "metadata": {},
     "output_type": "execute_result"
    }
   ],
   "source": [
    "original_array"
   ]
  },
  {
   "cell_type": "code",
   "execution_count": 17,
   "id": "14fd5b9f",
   "metadata": {},
   "outputs": [
    {
     "data": {
      "text/plain": [
       "array([0.        , 0.33333333, 0.66666667, 1.        , 1.33333333,\n",
       "       1.66666667, 2.        , 2.33333333, 2.66666667, 3.        ])"
      ]
     },
     "execution_count": 17,
     "metadata": {},
     "output_type": "execute_result"
    }
   ],
   "source": [
    "np.true_divide(original_array,3)"
   ]
  },
  {
   "cell_type": "code",
   "execution_count": 18,
   "id": "6f2553b4",
   "metadata": {},
   "outputs": [
    {
     "data": {
      "text/plain": [
       "array([1, 2, 3, 4])"
      ]
     },
     "execution_count": 18,
     "metadata": {},
     "output_type": "execute_result"
    }
   ],
   "source": [
    "# Write a NumPy program to get the largest integer smaller or equal to the division of the inputs\n",
    "\n",
    "original_array = np.array([1,2,3,4])\n",
    "original_array"
   ]
  },
  {
   "cell_type": "code",
   "execution_count": 19,
   "id": "1ba33471",
   "metadata": {},
   "outputs": [
    {
     "data": {
      "text/plain": [
       "array([0.33333333, 0.66666667, 1.        , 1.33333333])"
      ]
     },
     "execution_count": 19,
     "metadata": {},
     "output_type": "execute_result"
    }
   ],
   "source": [
    "np.true_divide(original_array,3)"
   ]
  },
  {
   "cell_type": "code",
   "execution_count": 22,
   "id": "02826109",
   "metadata": {},
   "outputs": [
    {
     "data": {
      "text/plain": [
       "array([0., 2.])"
      ]
     },
     "execution_count": 22,
     "metadata": {},
     "output_type": "execute_result"
    }
   ],
   "source": [
    "np.floor_divide(array,1.5)"
   ]
  },
  {
   "cell_type": "code",
   "execution_count": 23,
   "id": "896ef998",
   "metadata": {},
   "outputs": [
    {
     "name": "stdout",
     "output_type": "stream",
     "text": [
      "[0 1 2 3 4 5 6]\n"
     ]
    }
   ],
   "source": [
    "# Write a NumPy program to get the powers of an array values element-wise.\n",
    "\n",
    "x= np.arange(7)\n",
    "print(x)"
   ]
  },
  {
   "cell_type": "code",
   "execution_count": 24,
   "id": "3ad40b03",
   "metadata": {},
   "outputs": [
    {
     "name": "stdout",
     "output_type": "stream",
     "text": [
      "[  0   1   8  27  64 125 216]\n"
     ]
    }
   ],
   "source": [
    "print(np.power(x,3))"
   ]
  },
  {
   "cell_type": "code",
   "execution_count": 25,
   "id": "4e720a99",
   "metadata": {},
   "outputs": [
    {
     "name": "stdout",
     "output_type": "stream",
     "text": [
      "[0 1 2 3 4 5 6]\n"
     ]
    }
   ],
   "source": [
    "#  Write a NumPy program to get the element-wise remainder of an array of division\n",
    "\n",
    "x = np.arange(7)\n",
    "print(x)"
   ]
  },
  {
   "cell_type": "code",
   "execution_count": 26,
   "id": "2aab4554",
   "metadata": {},
   "outputs": [
    {
     "data": {
      "text/plain": [
       "array([0, 1, 2, 3, 4, 0, 1], dtype=int32)"
      ]
     },
     "execution_count": 26,
     "metadata": {},
     "output_type": "execute_result"
    }
   ],
   "source": [
    "np.remainder(x,5)"
   ]
  },
  {
   "cell_type": "code",
   "execution_count": 29,
   "id": "34de5b35",
   "metadata": {},
   "outputs": [
    {
     "data": {
      "text/plain": [
       "array([-10.2, 122.2,   0.2])"
      ]
     },
     "execution_count": 29,
     "metadata": {},
     "output_type": "execute_result"
    }
   ],
   "source": [
    "#  Write a NumPy program to calculate the absolute value element-wise\n",
    "\n",
    "original_array = np.array([-10.2,122.2,0.2])\n",
    "original_array"
   ]
  },
  {
   "cell_type": "code",
   "execution_count": 32,
   "id": "511dc546",
   "metadata": {},
   "outputs": [
    {
     "data": {
      "text/plain": [
       "array([ 10.2, 122.2,   0.2])"
      ]
     },
     "execution_count": 32,
     "metadata": {},
     "output_type": "execute_result"
    }
   ],
   "source": [
    "np.absolute(original_array)"
   ]
  },
  {
   "cell_type": "code",
   "execution_count": 34,
   "id": "bb7a4bf6",
   "metadata": {},
   "outputs": [
    {
     "data": {
      "text/plain": [
       "array([1., 2., 2.])"
      ]
     },
     "execution_count": 34,
     "metadata": {},
     "output_type": "execute_result"
    }
   ],
   "source": [
    "# Write a NumPy program to round array elements to the given number of decimals\n",
    "\n",
    "x = np.round([1.45, 1.50, 1.55])\n",
    "x\n"
   ]
  },
  {
   "cell_type": "code",
   "execution_count": 36,
   "id": "46574d8e",
   "metadata": {},
   "outputs": [
    {
     "data": {
      "text/plain": [
       "array([0.3, 0.5, 0.6])"
      ]
     },
     "execution_count": 36,
     "metadata": {},
     "output_type": "execute_result"
    }
   ],
   "source": [
    "x = np.round([0.3,0.5,0.6],decimals=1)\n",
    "x"
   ]
  },
  {
   "cell_type": "code",
   "execution_count": 38,
   "id": "44ceb89a",
   "metadata": {},
   "outputs": [
    {
     "data": {
      "text/plain": [
       "array([0., 2., 2., 4., 4.])"
      ]
     },
     "execution_count": 38,
     "metadata": {},
     "output_type": "execute_result"
    }
   ],
   "source": [
    "x = np.round([0.2,2.0,2.0,4.0,4.0],decimals=0)\n",
    "x\n"
   ]
  },
  {
   "cell_type": "code",
   "execution_count": 41,
   "id": "81068d25",
   "metadata": {},
   "outputs": [
    {
     "data": {
      "text/plain": [
       "array([-0.7, -1.5, -1.7,  0.3,  1.5,  1.8,  2. ])"
      ]
     },
     "execution_count": 41,
     "metadata": {},
     "output_type": "execute_result"
    }
   ],
   "source": [
    "# Write a NumPy program to round elements of the array to the nearest integer.\n",
    "\n",
    "original_array = np.array([-0.7 ,-1.5 ,-1.7, 0.3, 1.5 ,1.8, 2. ])\n",
    "original_array"
   ]
  },
  {
   "cell_type": "code",
   "execution_count": 43,
   "id": "e9e86d7b",
   "metadata": {},
   "outputs": [
    {
     "data": {
      "text/plain": [
       "array([-1., -2., -2.,  0.,  1.,  1.,  2.])"
      ]
     },
     "execution_count": 43,
     "metadata": {},
     "output_type": "execute_result"
    }
   ],
   "source": [
    "np.floor(original_array)"
   ]
  },
  {
   "cell_type": "code",
   "execution_count": 44,
   "id": "828e2089",
   "metadata": {},
   "outputs": [],
   "source": [
    "# Write a NumPy program to get the floor, ceiling and truncated values of the elements of a numpy array.\n",
    "\n",
    "original_array = np.array([-1.6,-1.5,-0.3,0.1,1.4,1.8,2])"
   ]
  },
  {
   "cell_type": "code",
   "execution_count": 45,
   "id": "f4bc9dbb",
   "metadata": {},
   "outputs": [
    {
     "data": {
      "text/plain": [
       "array([-1.6, -1.5, -0.3,  0.1,  1.4,  1.8,  2. ])"
      ]
     },
     "execution_count": 45,
     "metadata": {},
     "output_type": "execute_result"
    }
   ],
   "source": [
    "original_array"
   ]
  },
  {
   "cell_type": "code",
   "execution_count": 46,
   "id": "01d68126",
   "metadata": {},
   "outputs": [
    {
     "data": {
      "text/plain": [
       "array([-2., -2., -1.,  0.,  1.,  1.,  2.])"
      ]
     },
     "execution_count": 46,
     "metadata": {},
     "output_type": "execute_result"
    }
   ],
   "source": [
    "floor_array = np.floor(original_array)\n",
    "floor_array"
   ]
  },
  {
   "cell_type": "code",
   "execution_count": 47,
   "id": "c2d79dc6",
   "metadata": {},
   "outputs": [
    {
     "data": {
      "text/plain": [
       "array([-1., -1., -0.,  1.,  2.,  2.,  2.])"
      ]
     },
     "execution_count": 47,
     "metadata": {},
     "output_type": "execute_result"
    }
   ],
   "source": [
    "ceil_array = np.ceil(original_array)\n",
    "ceil_array"
   ]
  },
  {
   "cell_type": "code",
   "execution_count": 48,
   "id": "34f86647",
   "metadata": {},
   "outputs": [
    {
     "data": {
      "text/plain": [
       "array([-1., -1., -0.,  0.,  1.,  1.,  2.])"
      ]
     },
     "execution_count": 48,
     "metadata": {},
     "output_type": "execute_result"
    }
   ],
   "source": [
    "truncated_array = np.trunc(original_array)\n",
    "truncated_array"
   ]
  },
  {
   "cell_type": "code",
   "execution_count": 49,
   "id": "f3db0af2",
   "metadata": {},
   "outputs": [],
   "source": [
    "# Write a NumPy program to multiply a 5x3 matrix by a 3x2 matrix and create a real matrix produc\n",
    "\n",
    "x = np.random.random((5,3))\n",
    "y = np.random.random((3,2))\n",
    "\n"
   ]
  },
  {
   "cell_type": "code",
   "execution_count": 50,
   "id": "c8a6973a",
   "metadata": {},
   "outputs": [
    {
     "data": {
      "text/plain": [
       "array([[0.38353429, 0.60262652, 0.19834115],\n",
       "       [0.08118196, 0.63047355, 0.67483046],\n",
       "       [0.46325528, 0.50451382, 0.79130987],\n",
       "       [0.20945312, 0.42699459, 0.46111103],\n",
       "       [0.57516421, 0.02080071, 0.89933831]])"
      ]
     },
     "execution_count": 50,
     "metadata": {},
     "output_type": "execute_result"
    }
   ],
   "source": [
    "x"
   ]
  },
  {
   "cell_type": "code",
   "execution_count": 51,
   "id": "f467dcb2",
   "metadata": {},
   "outputs": [
    {
     "data": {
      "text/plain": [
       "array([[0.76587393, 0.01396926],\n",
       "       [0.66314986, 0.6065288 ],\n",
       "       [0.78348417, 0.72539995]])"
      ]
     },
     "execution_count": 51,
     "metadata": {},
     "output_type": "execute_result"
    }
   ],
   "source": [
    "y"
   ]
  },
  {
   "cell_type": "code",
   "execution_count": 52,
   "id": "54e4b6cf",
   "metadata": {},
   "outputs": [
    {
     "data": {
      "text/plain": [
       "array([[0.84876776, 0.51474469],\n",
       "       [1.00899258, 0.8730564 ],\n",
       "       [1.30934217, 0.88648963],\n",
       "       [0.80484928, 0.59640034],\n",
       "       [1.15891459, 0.67303081]])"
      ]
     },
     "execution_count": 52,
     "metadata": {},
     "output_type": "execute_result"
    }
   ],
   "source": [
    "z=np.dot(x,y)\n",
    "z"
   ]
  },
  {
   "cell_type": "code",
   "execution_count": 53,
   "id": "e29f0af1",
   "metadata": {},
   "outputs": [],
   "source": [
    "#  Write a NumPy program to multiply a matrix by another matrix of complex numbers and create a new matrix of complex numbers\n",
    "\n",
    "first_array = np.array([1+2j,3+4j])\n",
    "second_array = np.array([5+6j,7+8j])\n"
   ]
  },
  {
   "cell_type": "code",
   "execution_count": 54,
   "id": "6e158cd6",
   "metadata": {},
   "outputs": [
    {
     "data": {
      "text/plain": [
       "array([1.+2.j, 3.+4.j])"
      ]
     },
     "execution_count": 54,
     "metadata": {},
     "output_type": "execute_result"
    }
   ],
   "source": [
    "first_array"
   ]
  },
  {
   "cell_type": "code",
   "execution_count": 55,
   "id": "75989658",
   "metadata": {},
   "outputs": [
    {
     "data": {
      "text/plain": [
       "array([5.+6.j, 7.+8.j])"
      ]
     },
     "execution_count": 55,
     "metadata": {},
     "output_type": "execute_result"
    }
   ],
   "source": [
    "second_array"
   ]
  },
  {
   "cell_type": "code",
   "execution_count": 58,
   "id": "ca52d219",
   "metadata": {},
   "outputs": [
    {
     "data": {
      "text/plain": [
       "(70-8j)"
      ]
     },
     "execution_count": 58,
     "metadata": {},
     "output_type": "execute_result"
    }
   ],
   "source": [
    "np.vdot(first_array,second_array)"
   ]
  },
  {
   "cell_type": "code",
   "execution_count": 59,
   "id": "543cad62",
   "metadata": {},
   "outputs": [],
   "source": [
    "# rite a NumPy program to create an inner product of two arrays\n",
    "\n",
    "x = np.arange(24).reshape((2,3,4))\n",
    "y = np.arange(4)\n"
   ]
  },
  {
   "cell_type": "code",
   "execution_count": 60,
   "id": "3770b774",
   "metadata": {},
   "outputs": [
    {
     "data": {
      "text/plain": [
       "array([[[ 0,  1,  2,  3],\n",
       "        [ 4,  5,  6,  7],\n",
       "        [ 8,  9, 10, 11]],\n",
       "\n",
       "       [[12, 13, 14, 15],\n",
       "        [16, 17, 18, 19],\n",
       "        [20, 21, 22, 23]]])"
      ]
     },
     "execution_count": 60,
     "metadata": {},
     "output_type": "execute_result"
    }
   ],
   "source": [
    "x"
   ]
  },
  {
   "cell_type": "code",
   "execution_count": 62,
   "id": "dc55cf19",
   "metadata": {},
   "outputs": [
    {
     "data": {
      "text/plain": [
       "array([0, 1, 2, 3])"
      ]
     },
     "execution_count": 62,
     "metadata": {},
     "output_type": "execute_result"
    }
   ],
   "source": [
    "y"
   ]
  },
  {
   "cell_type": "code",
   "execution_count": 63,
   "id": "5db14786",
   "metadata": {},
   "outputs": [
    {
     "data": {
      "text/plain": [
       "array([[ 14,  38,  62],\n",
       "       [ 86, 110, 134]])"
      ]
     },
     "execution_count": 63,
     "metadata": {},
     "output_type": "execute_result"
    }
   ],
   "source": [
    "z= np.inner(x,y)\n",
    "z"
   ]
  },
  {
   "cell_type": "code",
   "execution_count": 64,
   "id": "803cd6a4",
   "metadata": {},
   "outputs": [],
   "source": [
    "# Write a NumPy program to generate inner, outer, and cross products of matrices and vectors\n",
    "\n",
    "x = np.array([1,4,0])\n",
    "y = np.array([2,2,1])\n"
   ]
  },
  {
   "cell_type": "code",
   "execution_count": 65,
   "id": "737ac92a",
   "metadata": {},
   "outputs": [
    {
     "data": {
      "text/plain": [
       "array([1, 4, 0])"
      ]
     },
     "execution_count": 65,
     "metadata": {},
     "output_type": "execute_result"
    }
   ],
   "source": [
    "x"
   ]
  },
  {
   "cell_type": "code",
   "execution_count": 66,
   "id": "655145b3",
   "metadata": {},
   "outputs": [
    {
     "data": {
      "text/plain": [
       "array([2, 2, 1])"
      ]
     },
     "execution_count": 66,
     "metadata": {},
     "output_type": "execute_result"
    }
   ],
   "source": [
    "y\n"
   ]
  },
  {
   "cell_type": "code",
   "execution_count": 67,
   "id": "1df5afdd",
   "metadata": {},
   "outputs": [
    {
     "data": {
      "text/plain": [
       "10"
      ]
     },
     "execution_count": 67,
     "metadata": {},
     "output_type": "execute_result"
    }
   ],
   "source": [
    "np.inner(x,y)"
   ]
  },
  {
   "cell_type": "code",
   "execution_count": 68,
   "id": "9d771a24",
   "metadata": {},
   "outputs": [
    {
     "data": {
      "text/plain": [
       "array([[2, 2, 1],\n",
       "       [8, 8, 4],\n",
       "       [0, 0, 0]])"
      ]
     },
     "execution_count": 68,
     "metadata": {},
     "output_type": "execute_result"
    }
   ],
   "source": [
    "np.outer(x,y)"
   ]
  },
  {
   "cell_type": "code",
   "execution_count": 69,
   "id": "ad378b0d",
   "metadata": {},
   "outputs": [
    {
     "data": {
      "text/plain": [
       "array([ 4, -1, -6])"
      ]
     },
     "execution_count": 69,
     "metadata": {},
     "output_type": "execute_result"
    }
   ],
   "source": [
    "np.cross(x,y)"
   ]
  },
  {
   "cell_type": "code",
   "execution_count": 71,
   "id": "12396548",
   "metadata": {},
   "outputs": [
    {
     "data": {
      "text/plain": [
       "array([2.+1.73205081j, 2.-1.73205081j])"
      ]
     },
     "execution_count": 71,
     "metadata": {},
     "output_type": "execute_result"
    }
   ],
   "source": [
    "# Write a NumPy program to find the roots of the following polynomials. \n",
    "\n",
    "np.roots((1,-4,7))"
   ]
  },
  {
   "cell_type": "code",
   "execution_count": 73,
   "id": "803e1ddd",
   "metadata": {},
   "outputs": [
    {
     "data": {
      "text/plain": [
       "array([ 9.98873698,  1.67049354, -0.65923052])"
      ]
     },
     "execution_count": 73,
     "metadata": {},
     "output_type": "execute_result"
    }
   ],
   "source": [
    "np.roots((1,-11,9,11))"
   ]
  },
  {
   "cell_type": "code",
   "execution_count": 74,
   "id": "01ab75ec",
   "metadata": {},
   "outputs": [
    {
     "data": {
      "text/plain": [
       "3"
      ]
     },
     "execution_count": 74,
     "metadata": {},
     "output_type": "execute_result"
    }
   ],
   "source": [
    "# Write a NumPy program to compute the following polynomial values.\n",
    "\n",
    "np.polyval([1,-4,7],2)"
   ]
  },
  {
   "cell_type": "code",
   "execution_count": 76,
   "id": "0df6740d",
   "metadata": {},
   "outputs": [
    {
     "data": {
      "text/plain": [
       "-34"
      ]
     },
     "execution_count": 76,
     "metadata": {},
     "output_type": "execute_result"
    }
   ],
   "source": [
    "np.polyval([1,-11,9,11],3)"
   ]
  },
  {
   "cell_type": "code",
   "execution_count": 77,
   "id": "a3954d21",
   "metadata": {},
   "outputs": [],
   "source": [
    "# Write a NumPy program to add one polynomial to another, subtract one polynomial from another, multiply one polynomial by another and divide one polynomial by another"
   ]
  },
  {
   "cell_type": "code",
   "execution_count": 78,
   "id": "9222913c",
   "metadata": {},
   "outputs": [],
   "source": [
    "from numpy.polynomial import polynomial as P\n",
    "x = (10,20,30)\n",
    "y = (30,40,50)"
   ]
  },
  {
   "cell_type": "code",
   "execution_count": 79,
   "id": "850e9850",
   "metadata": {},
   "outputs": [
    {
     "data": {
      "text/plain": [
       "(10, 20, 30)"
      ]
     },
     "execution_count": 79,
     "metadata": {},
     "output_type": "execute_result"
    }
   ],
   "source": [
    "x"
   ]
  },
  {
   "cell_type": "code",
   "execution_count": 80,
   "id": "51fc7260",
   "metadata": {},
   "outputs": [
    {
     "data": {
      "text/plain": [
       "(30, 40, 50)"
      ]
     },
     "execution_count": 80,
     "metadata": {},
     "output_type": "execute_result"
    }
   ],
   "source": [
    "y"
   ]
  },
  {
   "cell_type": "code",
   "execution_count": 81,
   "id": "0177b863",
   "metadata": {},
   "outputs": [
    {
     "data": {
      "text/plain": [
       "array([40., 60., 80.])"
      ]
     },
     "execution_count": 81,
     "metadata": {},
     "output_type": "execute_result"
    }
   ],
   "source": [
    "P.polyadd(x,y)"
   ]
  },
  {
   "cell_type": "code",
   "execution_count": 82,
   "id": "b256f9db",
   "metadata": {},
   "outputs": [
    {
     "data": {
      "text/plain": [
       "array([-20., -20., -20.])"
      ]
     },
     "execution_count": 82,
     "metadata": {},
     "output_type": "execute_result"
    }
   ],
   "source": [
    "P.polysub(x,y)"
   ]
  },
  {
   "cell_type": "code",
   "execution_count": 83,
   "id": "4061bbff",
   "metadata": {},
   "outputs": [
    {
     "data": {
      "text/plain": [
       "array([ 300., 1000., 2200., 2200., 1500.])"
      ]
     },
     "execution_count": 83,
     "metadata": {},
     "output_type": "execute_result"
    }
   ],
   "source": [
    "P.polymul(x,y)"
   ]
  },
  {
   "cell_type": "code",
   "execution_count": 84,
   "id": "fb8f21da",
   "metadata": {},
   "outputs": [
    {
     "data": {
      "text/plain": [
       "(array([0.6]), array([-8., -4.]))"
      ]
     },
     "execution_count": 84,
     "metadata": {},
     "output_type": "execute_result"
    }
   ],
   "source": [
    "P.polydiv(x,y)"
   ]
  },
  {
   "cell_type": "code",
   "execution_count": 85,
   "id": "0089ba43",
   "metadata": {},
   "outputs": [],
   "source": [
    "# Write a NumPy program to calculate mean across dimension, in a 2D numpy array\n",
    "\n",
    "original_array = np.array([[10,30],[20,60]])"
   ]
  },
  {
   "cell_type": "code",
   "execution_count": 86,
   "id": "9c357735",
   "metadata": {},
   "outputs": [
    {
     "data": {
      "text/plain": [
       "array([[10, 30],\n",
       "       [20, 60]])"
      ]
     },
     "execution_count": 86,
     "metadata": {},
     "output_type": "execute_result"
    }
   ],
   "source": [
    "original_array"
   ]
  },
  {
   "cell_type": "code",
   "execution_count": 88,
   "id": "4ec06c8c",
   "metadata": {},
   "outputs": [
    {
     "data": {
      "text/plain": [
       "array([15., 45.])"
      ]
     },
     "execution_count": 88,
     "metadata": {},
     "output_type": "execute_result"
    }
   ],
   "source": [
    "np.mean(original_array,axis=0)"
   ]
  },
  {
   "cell_type": "code",
   "execution_count": 89,
   "id": "e3ce5a77",
   "metadata": {},
   "outputs": [
    {
     "data": {
      "text/plain": [
       "array([20., 40.])"
      ]
     },
     "execution_count": 89,
     "metadata": {},
     "output_type": "execute_result"
    }
   ],
   "source": [
    "np.mean(original_array,axis=1)"
   ]
  },
  {
   "cell_type": "code",
   "execution_count": 92,
   "id": "b6a9b76c",
   "metadata": {},
   "outputs": [],
   "source": [
    "# Write a NumPy program to create a random array with 1000 elements and compute the average, variance, standard deviation of the array elements.\n",
    "\n",
    "a=np.random.randn(1000)"
   ]
  },
  {
   "cell_type": "code",
   "execution_count": 93,
   "id": "a5715e7b",
   "metadata": {},
   "outputs": [
    {
     "data": {
      "text/plain": [
       "-0.020276866473930476"
      ]
     },
     "execution_count": 93,
     "metadata": {},
     "output_type": "execute_result"
    }
   ],
   "source": [
    "np.average(a)"
   ]
  },
  {
   "cell_type": "code",
   "execution_count": 94,
   "id": "4c8d0522",
   "metadata": {},
   "outputs": [
    {
     "data": {
      "text/plain": [
       "1.032218248734242"
      ]
     },
     "execution_count": 94,
     "metadata": {},
     "output_type": "execute_result"
    }
   ],
   "source": [
    "np.std(a)"
   ]
  },
  {
   "cell_type": "code",
   "execution_count": 95,
   "id": "7e95ebe3",
   "metadata": {},
   "outputs": [
    {
     "data": {
      "text/plain": [
       "1.0654745130199854"
      ]
     },
     "execution_count": 95,
     "metadata": {},
     "output_type": "execute_result"
    }
   ],
   "source": [
    "np.var(a)"
   ]
  },
  {
   "cell_type": "code",
   "execution_count": 96,
   "id": "a947a76b",
   "metadata": {},
   "outputs": [],
   "source": [
    "# Write a NumPy program to calculate inverse sine, inverse cosine, and inverse tangent for all elements in a given array\n",
    "\n",
    "x = np.array([-1., 0, 1.])\n"
   ]
  },
  {
   "cell_type": "code",
   "execution_count": 97,
   "id": "82dc7ec1",
   "metadata": {},
   "outputs": [
    {
     "data": {
      "text/plain": [
       "array([-1.,  0.,  1.])"
      ]
     },
     "execution_count": 97,
     "metadata": {},
     "output_type": "execute_result"
    }
   ],
   "source": [
    "x"
   ]
  },
  {
   "cell_type": "code",
   "execution_count": 98,
   "id": "27db53f5",
   "metadata": {},
   "outputs": [
    {
     "data": {
      "text/plain": [
       "array([-1.57079633,  0.        ,  1.57079633])"
      ]
     },
     "execution_count": 98,
     "metadata": {},
     "output_type": "execute_result"
    }
   ],
   "source": [
    "np.arcsin(x)"
   ]
  },
  {
   "cell_type": "code",
   "execution_count": 99,
   "id": "9811d580",
   "metadata": {},
   "outputs": [
    {
     "data": {
      "text/plain": [
       "array([3.14159265, 1.57079633, 0.        ])"
      ]
     },
     "execution_count": 99,
     "metadata": {},
     "output_type": "execute_result"
    }
   ],
   "source": [
    "np.arccos(x)"
   ]
  },
  {
   "cell_type": "code",
   "execution_count": 100,
   "id": "6891df47",
   "metadata": {},
   "outputs": [
    {
     "data": {
      "text/plain": [
       "array([-0.78539816,  0.        ,  0.78539816])"
      ]
     },
     "execution_count": 100,
     "metadata": {},
     "output_type": "execute_result"
    }
   ],
   "source": [
    "np.arctan(x)"
   ]
  },
  {
   "cell_type": "code",
   "execution_count": 101,
   "id": "51535d48",
   "metadata": {},
   "outputs": [
    {
     "data": {
      "text/plain": [
       "array([-3.14159265, -1.57079633,  1.57079633,  3.14159265])"
      ]
     },
     "execution_count": 101,
     "metadata": {},
     "output_type": "execute_result"
    }
   ],
   "source": [
    "# Write a NumPy program to convert angles from radians to degrees for all elements in a given array\n",
    "\n",
    "input = np.array([-np.pi, -np.pi/2, np.pi/2, np.pi])\n",
    "input"
   ]
  },
  {
   "cell_type": "code",
   "execution_count": 102,
   "id": "74c4bed2",
   "metadata": {},
   "outputs": [
    {
     "data": {
      "text/plain": [
       "array([-180.,  -90.,   90.,  180.])"
      ]
     },
     "execution_count": 102,
     "metadata": {},
     "output_type": "execute_result"
    }
   ],
   "source": [
    "np.rad2deg(input)"
   ]
  },
  {
   "cell_type": "code",
   "execution_count": 103,
   "id": "e39fb1e0",
   "metadata": {},
   "outputs": [
    {
     "data": {
      "text/plain": [
       "array([-180.,  -90.,   90.,  180.])"
      ]
     },
     "execution_count": 103,
     "metadata": {},
     "output_type": "execute_result"
    }
   ],
   "source": [
    "#  Write a NumPy program to convert angles from degrees to radians for all elements in a given array.\n",
    "\n",
    "input = np.array([-180., -90., 90., 180.])\n",
    "input"
   ]
  },
  {
   "cell_type": "code",
   "execution_count": 104,
   "id": "9bee56b6",
   "metadata": {},
   "outputs": [
    {
     "data": {
      "text/plain": [
       "array([-3.14159265, -1.57079633,  1.57079633,  3.14159265])"
      ]
     },
     "execution_count": 104,
     "metadata": {},
     "output_type": "execute_result"
    }
   ],
   "source": [
    "np.deg2rad(input)"
   ]
  },
  {
   "cell_type": "code",
   "execution_count": 105,
   "id": "b3cbc74b",
   "metadata": {},
   "outputs": [
    {
     "data": {
      "text/plain": [
       "array([-1.,  0.,  1.])"
      ]
     },
     "execution_count": 105,
     "metadata": {},
     "output_type": "execute_result"
    }
   ],
   "source": [
    "# Write a NumPy program to calculate hyperbolic sine, hyperbolic cosine, and hyperbolic tangent for all elements in a given array.\n",
    "\n",
    "input = np.array([-1., 0, 1.])\n",
    "input\n"
   ]
  },
  {
   "cell_type": "code",
   "execution_count": 106,
   "id": "8b9d978c",
   "metadata": {},
   "outputs": [
    {
     "data": {
      "text/plain": [
       "array([-0.88137359,  0.        ,  0.88137359])"
      ]
     },
     "execution_count": 106,
     "metadata": {},
     "output_type": "execute_result"
    }
   ],
   "source": [
    "np.arcsinh(input)"
   ]
  },
  {
   "cell_type": "code",
   "execution_count": 107,
   "id": "8a9f551e",
   "metadata": {},
   "outputs": [
    {
     "name": "stderr",
     "output_type": "stream",
     "text": [
      "C:\\Users\\97798\\AppData\\Local\\Temp\\ipykernel_15388\\2258910621.py:1: RuntimeWarning: invalid value encountered in arccosh\n",
      "  np.arccosh(input)\n"
     ]
    },
    {
     "data": {
      "text/plain": [
       "array([nan, nan,  0.])"
      ]
     },
     "execution_count": 107,
     "metadata": {},
     "output_type": "execute_result"
    }
   ],
   "source": [
    "np.arccosh(input)\n"
   ]
  },
  {
   "cell_type": "code",
   "execution_count": 108,
   "id": "4120ce05",
   "metadata": {},
   "outputs": [
    {
     "name": "stderr",
     "output_type": "stream",
     "text": [
      "C:\\Users\\97798\\AppData\\Local\\Temp\\ipykernel_15388\\2629460867.py:1: RuntimeWarning: divide by zero encountered in arctanh\n",
      "  np.arctanh(input)\n"
     ]
    },
    {
     "data": {
      "text/plain": [
       "array([-inf,   0.,  inf])"
      ]
     },
     "execution_count": 108,
     "metadata": {},
     "output_type": "execute_result"
    }
   ],
   "source": [
    "np.arctanh(input)"
   ]
  },
  {
   "cell_type": "code",
   "execution_count": 109,
   "id": "51dcaa37",
   "metadata": {},
   "outputs": [
    {
     "data": {
      "text/plain": [
       "array([[1, 2, 3],\n",
       "       [4, 5, 6]])"
      ]
     },
     "execution_count": 109,
     "metadata": {},
     "output_type": "execute_result"
    }
   ],
   "source": [
    "# Write a NumPy program to calculate cumulative sum of the elements along a given axis, sum over rows for each of the 3 columns and sum over columns for each of the 2 rows of a given 3x3 array\n",
    "\n",
    "original_array = np.array([[1,2,3],[4,5,6]])\n",
    "original_array\n"
   ]
  },
  {
   "cell_type": "code",
   "execution_count": 116,
   "id": "1b586429",
   "metadata": {},
   "outputs": [
    {
     "data": {
      "text/plain": [
       "array([[1, 2, 3],\n",
       "       [5, 7, 9]])"
      ]
     },
     "execution_count": 116,
     "metadata": {},
     "output_type": "execute_result"
    }
   ],
   "source": [
    "np.cumsum(original_array,axis=0)"
   ]
  },
  {
   "cell_type": "code",
   "execution_count": 117,
   "id": "4490224f",
   "metadata": {},
   "outputs": [
    {
     "data": {
      "text/plain": [
       "array([[ 1,  3,  6],\n",
       "       [ 4,  9, 15]])"
      ]
     },
     "execution_count": 117,
     "metadata": {},
     "output_type": "execute_result"
    }
   ],
   "source": [
    "np.cumsum(original_array,axis=1)"
   ]
  },
  {
   "cell_type": "code",
   "execution_count": 118,
   "id": "5cb0eaca",
   "metadata": {},
   "outputs": [
    {
     "data": {
      "text/plain": [
       "array([ 1,  3,  6, 10, 15, 21])"
      ]
     },
     "execution_count": 118,
     "metadata": {},
     "output_type": "execute_result"
    }
   ],
   "source": [
    "np.cumsum(original_array)"
   ]
  },
  {
   "cell_type": "code",
   "execution_count": 119,
   "id": "96011b2c",
   "metadata": {},
   "outputs": [
    {
     "data": {
      "text/plain": [
       "array([  1,   2,   6,  24, 120, 720])"
      ]
     },
     "execution_count": 119,
     "metadata": {},
     "output_type": "execute_result"
    }
   ],
   "source": [
    "# Write a NumPy program to calculate cumulative product of the elements along a given axis, sum over rows for each of the 3 columns and product over columns for each of the 2 rows of a given 3x3 array.\n",
    "\n",
    "np.cumproduct(original_array)"
   ]
  },
  {
   "cell_type": "code",
   "execution_count": 120,
   "id": "fab2f339",
   "metadata": {},
   "outputs": [
    {
     "data": {
      "text/plain": [
       "array([[ 1,  2,  3],\n",
       "       [ 4, 10, 18]])"
      ]
     },
     "execution_count": 120,
     "metadata": {},
     "output_type": "execute_result"
    }
   ],
   "source": [
    "np.cumproduct(original_array,axis = 0)"
   ]
  },
  {
   "cell_type": "code",
   "execution_count": 121,
   "id": "3d3c436c",
   "metadata": {},
   "outputs": [
    {
     "data": {
      "text/plain": [
       "array([[  1,   2,   6],\n",
       "       [  4,  20, 120]])"
      ]
     },
     "execution_count": 121,
     "metadata": {},
     "output_type": "execute_result"
    }
   ],
   "source": [
    "np.cumproduct(original_array,axis = 1)"
   ]
  },
  {
   "cell_type": "code",
   "execution_count": 122,
   "id": "c7f3f0ea",
   "metadata": {},
   "outputs": [
    {
     "data": {
      "text/plain": [
       "array([1, 3, 5, 7, 0])"
      ]
     },
     "execution_count": 122,
     "metadata": {},
     "output_type": "execute_result"
    }
   ],
   "source": [
    "# Write a NumPy program to calculate the difference between neighboring elements, element-wise, and prepend [0, 0] and append[200] to a given array.\n",
    "\n",
    "original_array = np.array([1,3,5,7,0])\n",
    "original_array"
   ]
  },
  {
   "cell_type": "code",
   "execution_count": 123,
   "id": "aa65458e",
   "metadata": {},
   "outputs": [],
   "source": [
    "r1 = np.ediff1d(x, to_begin=[0, 0], to_end=[200])\n",
    "r2 = np.insert(np.append(np.diff(x), 200), 0, [0, 0])\n",
    "assert np.array_equiv(r1, r2)"
   ]
  },
  {
   "cell_type": "code",
   "execution_count": 124,
   "id": "30826236",
   "metadata": {},
   "outputs": [
    {
     "name": "stdout",
     "output_type": "stream",
     "text": [
      "[  0.   0.   1.   1. 200.]\n"
     ]
    }
   ],
   "source": [
    "print(r2)"
   ]
  },
  {
   "cell_type": "code",
   "execution_count": 125,
   "id": "74bb37a4",
   "metadata": {},
   "outputs": [
    {
     "data": {
      "text/plain": [
       "array([1, 2, 3, 4])"
      ]
     },
     "execution_count": 125,
     "metadata": {},
     "output_type": "execute_result"
    }
   ],
   "source": [
    "# Write a NumPy program to compute ex, element-wise of a given array.\n",
    "\n",
    "original_array = np.array([1,2,3,4])\n",
    "original_array"
   ]
  },
  {
   "cell_type": "code",
   "execution_count": 126,
   "id": "d27005c8",
   "metadata": {},
   "outputs": [
    {
     "data": {
      "text/plain": [
       "array([ 2.71828183,  7.3890561 , 20.08553692, 54.59815003])"
      ]
     },
     "execution_count": 126,
     "metadata": {},
     "output_type": "execute_result"
    }
   ],
   "source": [
    "np.exp(original_array)"
   ]
  },
  {
   "cell_type": "code",
   "execution_count": 127,
   "id": "f130e0e1",
   "metadata": {},
   "outputs": [
    {
     "data": {
      "text/plain": [
       "array([ 1.71828183,  6.3890561 , 19.08553692, 53.59815003])"
      ]
     },
     "execution_count": 127,
     "metadata": {},
     "output_type": "execute_result"
    }
   ],
   "source": [
    "# Write a NumPy program to calculate exp(x) - 1 for all elements in a given\n",
    "\n",
    "np.exp(original_array)-1"
   ]
  },
  {
   "cell_type": "code",
   "execution_count": 130,
   "id": "fad6424d",
   "metadata": {},
   "outputs": [
    {
     "data": {
      "text/plain": [
       "array([ 2,  4,  8, 16], dtype=int32)"
      ]
     },
     "execution_count": 130,
     "metadata": {},
     "output_type": "execute_result"
    }
   ],
   "source": [
    "#  Write a NumPy program to calculate 2p for all elements in a given array.\n",
    "\n",
    "np.power(2,original_array)"
   ]
  },
  {
   "cell_type": "code",
   "execution_count": 131,
   "id": "a93450c0",
   "metadata": {},
   "outputs": [
    {
     "data": {
      "text/plain": [
       "array([1.        , 2.71828183, 7.3890561 ])"
      ]
     },
     "execution_count": 131,
     "metadata": {},
     "output_type": "execute_result"
    }
   ],
   "source": [
    "# Write a NumPy program to compute natural, base 10, and base 2 logarithms for all elements in a given array. \n",
    "\n",
    "original_array = np.array([1., 2.71828183, 7.3890561 ])\n",
    "original_array"
   ]
  },
  {
   "cell_type": "code",
   "execution_count": 132,
   "id": "59ded88d",
   "metadata": {},
   "outputs": [
    {
     "data": {
      "text/plain": [
       "array([0., 1., 2.])"
      ]
     },
     "execution_count": 132,
     "metadata": {},
     "output_type": "execute_result"
    }
   ],
   "source": [
    "np.log(original_array)"
   ]
  },
  {
   "cell_type": "code",
   "execution_count": 133,
   "id": "19f71274",
   "metadata": {},
   "outputs": [
    {
     "data": {
      "text/plain": [
       "array([0.        , 0.43429448, 0.86858896])"
      ]
     },
     "execution_count": 133,
     "metadata": {},
     "output_type": "execute_result"
    }
   ],
   "source": [
    "np.log10(original_array)"
   ]
  },
  {
   "cell_type": "code",
   "execution_count": 134,
   "id": "0eaceba0",
   "metadata": {},
   "outputs": [
    {
     "data": {
      "text/plain": [
       "array([0.        , 1.44269504, 2.88539008])"
      ]
     },
     "execution_count": 134,
     "metadata": {},
     "output_type": "execute_result"
    }
   ],
   "source": [
    "np.log2(original_array)"
   ]
  },
  {
   "cell_type": "code",
   "execution_count": 137,
   "id": "b34a8ab0",
   "metadata": {},
   "outputs": [
    {
     "data": {
      "text/plain": [
       "array([1.e-099, 1.e-100])"
      ]
     },
     "execution_count": 137,
     "metadata": {},
     "output_type": "execute_result"
    }
   ],
   "source": [
    "# Write a NumPy program to compute the natural logarithm of one plus each element of a given array in floating-point accuracy.\n",
    "\n",
    "original_array = np.array([1.e-099, 1.e-100])\n",
    "original_array"
   ]
  },
  {
   "cell_type": "code",
   "execution_count": 138,
   "id": "d6ef3184",
   "metadata": {},
   "outputs": [
    {
     "data": {
      "text/plain": [
       "array([1.e-099, 1.e-100])"
      ]
     },
     "execution_count": 138,
     "metadata": {},
     "output_type": "execute_result"
    }
   ],
   "source": [
    "np.log1p(original_array)"
   ]
  },
  {
   "cell_type": "code",
   "execution_count": 140,
   "id": "1a05cee3",
   "metadata": {},
   "outputs": [
    {
     "data": {
      "text/plain": [
       "array([-4, -3, -2, -1,  0,  1,  2,  3,  4])"
      ]
     },
     "execution_count": 140,
     "metadata": {},
     "output_type": "execute_result"
    }
   ],
   "source": [
    "# Write a NumPy program to check element-wise True/False of a given array where signbit is set.\n",
    "\n",
    "sample_array = np.array([-4, -3, -2, -1, 0, 1, 2, 3, 4])\n",
    "sample_array"
   ]
  },
  {
   "cell_type": "code",
   "execution_count": 142,
   "id": "8865c274",
   "metadata": {},
   "outputs": [
    {
     "data": {
      "text/plain": [
       "array([ True,  True,  True,  True, False, False, False, False, False])"
      ]
     },
     "execution_count": 142,
     "metadata": {},
     "output_type": "execute_result"
    }
   ],
   "source": [
    "np.signbit(sample_array)"
   ]
  },
  {
   "cell_type": "code",
   "execution_count": 146,
   "id": "b4fb77ca",
   "metadata": {},
   "outputs": [
    {
     "data": {
      "text/plain": [
       "array([-1,  0,  1,  2])"
      ]
     },
     "execution_count": 146,
     "metadata": {},
     "output_type": "execute_result"
    }
   ],
   "source": [
    "# Write a NumPy program to change the sign of a given array to that of a given array, element-wise\n",
    "\n",
    "x1 = np.array([-1,0,1,2])\n",
    "x1"
   ]
  },
  {
   "cell_type": "code",
   "execution_count": 147,
   "id": "63c594ca",
   "metadata": {},
   "outputs": [
    {
     "data": {
      "text/plain": [
       "-2.1"
      ]
     },
     "execution_count": 147,
     "metadata": {},
     "output_type": "execute_result"
    }
   ],
   "source": [
    "x2 = -2.1\n",
    "x2"
   ]
  },
  {
   "cell_type": "code",
   "execution_count": 148,
   "id": "fc33bd95",
   "metadata": {},
   "outputs": [
    {
     "data": {
      "text/plain": [
       "array([-1., -0., -1., -2.])"
      ]
     },
     "execution_count": 148,
     "metadata": {},
     "output_type": "execute_result"
    }
   ],
   "source": [
    "np.copysign(x1,x2)"
   ]
  },
  {
   "cell_type": "code",
   "execution_count": 149,
   "id": "a57e3f68",
   "metadata": {},
   "outputs": [
    {
     "data": {
      "text/plain": [
       "array([ 0,  1, -1])"
      ]
     },
     "execution_count": 149,
     "metadata": {},
     "output_type": "execute_result"
    }
   ],
   "source": [
    "#  Write a NumPy program to compute numerical negative value for all elements in a given array.\n",
    "\n",
    "original_array = np.array([0,1,-1])\n",
    "original_array"
   ]
  },
  {
   "cell_type": "code",
   "execution_count": 150,
   "id": "4497ec14",
   "metadata": {},
   "outputs": [
    {
     "data": {
      "text/plain": [
       "array([ 0, -1,  1])"
      ]
     },
     "execution_count": 150,
     "metadata": {},
     "output_type": "execute_result"
    }
   ],
   "source": [
    "original_array * -1"
   ]
  },
  {
   "cell_type": "code",
   "execution_count": 151,
   "id": "1dd5e28b",
   "metadata": {},
   "outputs": [
    {
     "data": {
      "text/plain": [
       "array([1. , 2. , 0.2, 0.3])"
      ]
     },
     "execution_count": 151,
     "metadata": {},
     "output_type": "execute_result"
    }
   ],
   "source": [
    "#  Write a NumPy program to compute the reciprocal for all elements in a given array.\n",
    "\n",
    "original_array = np.array([1,2,0.2,0.3])\n",
    "original_array"
   ]
  },
  {
   "cell_type": "code",
   "execution_count": 152,
   "id": "2047bcb6",
   "metadata": {},
   "outputs": [
    {
     "data": {
      "text/plain": [
       "array([1.        , 0.5       , 5.        , 3.33333333])"
      ]
     },
     "execution_count": 152,
     "metadata": {},
     "output_type": "execute_result"
    }
   ],
   "source": [
    "np.reciprocal(original_array)"
   ]
  },
  {
   "cell_type": "code",
   "execution_count": 153,
   "id": "5fa7e49d",
   "metadata": {},
   "outputs": [],
   "source": [
    "# Write a NumPy program to compute xy, element-wise where x, y are two given arrays.\n",
    "\n",
    "array_1 = np.array([[1,2],[3,4]])\n",
    "array_2 = np.array([[1,2],[2,1]])"
   ]
  },
  {
   "cell_type": "code",
   "execution_count": 154,
   "id": "0b6d073e",
   "metadata": {},
   "outputs": [
    {
     "data": {
      "text/plain": [
       "array([[1, 2],\n",
       "       [3, 4]])"
      ]
     },
     "execution_count": 154,
     "metadata": {},
     "output_type": "execute_result"
    }
   ],
   "source": [
    "array_1"
   ]
  },
  {
   "cell_type": "code",
   "execution_count": 155,
   "id": "29bc2c30",
   "metadata": {},
   "outputs": [
    {
     "data": {
      "text/plain": [
       "array([[1, 2],\n",
       "       [2, 1]])"
      ]
     },
     "execution_count": 155,
     "metadata": {},
     "output_type": "execute_result"
    }
   ],
   "source": [
    "array_2"
   ]
  },
  {
   "cell_type": "code",
   "execution_count": 156,
   "id": "83240465",
   "metadata": {},
   "outputs": [
    {
     "data": {
      "text/plain": [
       "array([[1, 4],\n",
       "       [6, 4]])"
      ]
     },
     "execution_count": 156,
     "metadata": {},
     "output_type": "execute_result"
    }
   ],
   "source": [
    "array_1 * array_2"
   ]
  },
  {
   "cell_type": "code",
   "execution_count": 159,
   "id": "0a05b04d",
   "metadata": {},
   "outputs": [
    {
     "data": {
      "text/plain": [
       "array([[1, 4],\n",
       "       [9, 4]])"
      ]
     },
     "execution_count": 159,
     "metadata": {},
     "output_type": "execute_result"
    }
   ],
   "source": [
    "np.power(array_1,array_2)"
   ]
  },
  {
   "cell_type": "code",
   "execution_count": 161,
   "id": "7e703ed7",
   "metadata": {},
   "outputs": [
    {
     "data": {
      "text/plain": [
       "array([ 1,  3,  5,  0, -1, -7,  0,  5])"
      ]
     },
     "execution_count": 161,
     "metadata": {},
     "output_type": "execute_result"
    }
   ],
   "source": [
    "# Write a NumPy program to compute an element-wise indication of the sign for all elements in a given array\n",
    "\n",
    "x = np.array([1,3,5,0,-1,-7,0,5])\n",
    "x\n"
   ]
  },
  {
   "cell_type": "code",
   "execution_count": 162,
   "id": "9e4c85f0",
   "metadata": {},
   "outputs": [],
   "source": [
    "r1 = np.sign(x)\n",
    "r2 = np.copy(x)"
   ]
  },
  {
   "cell_type": "code",
   "execution_count": 163,
   "id": "ff2c87f7",
   "metadata": {},
   "outputs": [],
   "source": [
    "r2[r2>0] = 1\n",
    "r2[r2<0] = -1\n"
   ]
  },
  {
   "cell_type": "code",
   "execution_count": 164,
   "id": "c8372260",
   "metadata": {},
   "outputs": [],
   "source": [
    "assert np.array_equal(r1,r2)"
   ]
  },
  {
   "cell_type": "code",
   "execution_count": 165,
   "id": "1a96ef6b",
   "metadata": {},
   "outputs": [
    {
     "name": "stdout",
     "output_type": "stream",
     "text": [
      "[ 1  1  1  0 -1 -1  0  1]\n"
     ]
    }
   ],
   "source": [
    "print(r1)"
   ]
  },
  {
   "cell_type": "code",
   "execution_count": null,
   "id": "63765fe4",
   "metadata": {},
   "outputs": [],
   "source": []
  }
 ],
 "metadata": {
  "kernelspec": {
   "display_name": "Python 3 (ipykernel)",
   "language": "python",
   "name": "python3"
  },
  "language_info": {
   "codemirror_mode": {
    "name": "ipython",
    "version": 3
   },
   "file_extension": ".py",
   "mimetype": "text/x-python",
   "name": "python",
   "nbconvert_exporter": "python",
   "pygments_lexer": "ipython3",
   "version": "3.9.12"
  }
 },
 "nbformat": 4,
 "nbformat_minor": 5
}
