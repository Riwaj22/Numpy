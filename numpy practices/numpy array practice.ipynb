{
 "cells": [
  {
   "cell_type": "code",
   "execution_count": 1,
   "id": "dcdd0bca",
   "metadata": {},
   "outputs": [],
   "source": [
    "import numpy as np\n"
   ]
  },
  {
   "cell_type": "code",
   "execution_count": 220,
   "id": "db19b07d",
   "metadata": {},
   "outputs": [
    {
     "data": {
      "text/plain": [
       "list"
      ]
     },
     "execution_count": 220,
     "metadata": {},
     "output_type": "execute_result"
    }
   ],
   "source": [
    "#  Write a NumPy program to convert a list of numeric values into a one-dimensional NumPy array.\n",
    "\n",
    "original_list = list([12.23,100,36.32])\n",
    "type(original_list)"
   ]
  },
  {
   "cell_type": "code",
   "execution_count": 221,
   "id": "29015a89",
   "metadata": {},
   "outputs": [
    {
     "data": {
      "text/plain": [
       "array([ 12.23, 100.  ,  36.32])"
      ]
     },
     "execution_count": 221,
     "metadata": {},
     "output_type": "execute_result"
    }
   ],
   "source": [
    "array = np.array(original_list)\n",
    "array"
   ]
  },
  {
   "cell_type": "code",
   "execution_count": 222,
   "id": "20fc46e3",
   "metadata": {},
   "outputs": [
    {
     "data": {
      "text/plain": [
       "numpy.ndarray"
      ]
     },
     "execution_count": 222,
     "metadata": {},
     "output_type": "execute_result"
    }
   ],
   "source": [
    "type(array)"
   ]
  },
  {
   "cell_type": "code",
   "execution_count": 223,
   "id": "4ed1e977",
   "metadata": {},
   "outputs": [],
   "source": [
    "\n",
    "# Write a NumPy program to create a 3x3 matrix with values ranging from 2 to 10"
   ]
  },
  {
   "cell_type": "code",
   "execution_count": 227,
   "id": "114c7693",
   "metadata": {},
   "outputs": [
    {
     "data": {
      "text/plain": [
       "array([[ 2,  3,  4],\n",
       "       [ 5,  6,  7],\n",
       "       [ 8,  9, 10]])"
      ]
     },
     "execution_count": 227,
     "metadata": {},
     "output_type": "execute_result"
    }
   ],
   "source": [
    "np.arange(2,11).reshape((3,3))"
   ]
  },
  {
   "cell_type": "code",
   "execution_count": 228,
   "id": "9bd15296",
   "metadata": {},
   "outputs": [],
   "source": [
    "# Write a NumPy program to create a null vector of size 10 and update the sixth value to 11\n",
    "\n",
    "array_zero = np.zeros(11\n",
    "                     )"
   ]
  },
  {
   "cell_type": "code",
   "execution_count": 229,
   "id": "6fbba92b",
   "metadata": {},
   "outputs": [
    {
     "data": {
      "text/plain": [
       "array([0., 0., 0., 0., 0., 0., 0., 0., 0., 0., 0.])"
      ]
     },
     "execution_count": 229,
     "metadata": {},
     "output_type": "execute_result"
    }
   ],
   "source": [
    "array_zero\n"
   ]
  },
  {
   "cell_type": "code",
   "execution_count": 230,
   "id": "3dd9381c",
   "metadata": {},
   "outputs": [],
   "source": [
    "array_zero[7] = 11"
   ]
  },
  {
   "cell_type": "code",
   "execution_count": 231,
   "id": "4054a2ef",
   "metadata": {},
   "outputs": [
    {
     "data": {
      "text/plain": [
       "array([ 0.,  0.,  0.,  0.,  0.,  0.,  0., 11.,  0.,  0.,  0.])"
      ]
     },
     "execution_count": 231,
     "metadata": {},
     "output_type": "execute_result"
    }
   ],
   "source": [
    "array_zero"
   ]
  },
  {
   "cell_type": "code",
   "execution_count": 236,
   "id": "ff1fb874",
   "metadata": {},
   "outputs": [
    {
     "data": {
      "text/plain": [
       "array([12, 13, 14, 15, 16, 17, 18, 19, 20, 21, 22, 23, 24, 25, 26, 27, 28,\n",
       "       29, 30, 31, 32, 33, 34, 35, 36, 37, 38])"
      ]
     },
     "execution_count": 236,
     "metadata": {},
     "output_type": "execute_result"
    }
   ],
   "source": [
    "# Write a NumPy program to create an array with values ranging from 12 to 38.\n",
    "\n",
    "original = np.arange(12,39)\n",
    "original"
   ]
  },
  {
   "cell_type": "code",
   "execution_count": 239,
   "id": "f66160f4",
   "metadata": {},
   "outputs": [
    {
     "data": {
      "text/plain": [
       "array([38, 37, 36, 35, 34, 33, 32, 31, 30, 29, 28, 27, 26, 25, 24, 23, 22,\n",
       "       21, 20, 19, 18, 17, 16, 15, 14, 13, 12])"
      ]
     },
     "execution_count": 239,
     "metadata": {},
     "output_type": "execute_result"
    }
   ],
   "source": [
    "#  Write a NumPy program to reverse an array (the first element becomes the last).\n",
    "\n",
    "reverse_array = original[::-1]\n",
    "reverse_array"
   ]
  },
  {
   "cell_type": "code",
   "execution_count": 240,
   "id": "b9fc3568",
   "metadata": {},
   "outputs": [],
   "source": [
    "# Write a NumPy program to convert an array to a floating type. \n",
    "\n",
    "original_array = np.array([1,2,3,4])"
   ]
  },
  {
   "cell_type": "code",
   "execution_count": 243,
   "id": "0a64552f",
   "metadata": {},
   "outputs": [
    {
     "data": {
      "text/plain": [
       "array([1., 2., 3., 4.], dtype=float32)"
      ]
     },
     "execution_count": 243,
     "metadata": {},
     "output_type": "execute_result"
    }
   ],
   "source": [
    "original_array = original_array.astype(dtype = np.float32)\n",
    "original_array"
   ]
  },
  {
   "cell_type": "code",
   "execution_count": 255,
   "id": "e4fbd2e3",
   "metadata": {},
   "outputs": [
    {
     "data": {
      "text/plain": [
       "array([[1., 1., 1., 1., 1.],\n",
       "       [1., 1., 1., 1., 1.],\n",
       "       [1., 1., 1., 1., 1.],\n",
       "       [1., 1., 1., 1., 1.],\n",
       "       [1., 1., 1., 1., 1.]])"
      ]
     },
     "execution_count": 255,
     "metadata": {},
     "output_type": "execute_result"
    }
   ],
   "source": [
    "# Write a NumPy program to create a 2D array with 1 on the border and 0 inside\n",
    "\n",
    "x = np.ones((5,5))\n",
    "x"
   ]
  },
  {
   "cell_type": "code",
   "execution_count": 256,
   "id": "c928534c",
   "metadata": {},
   "outputs": [],
   "source": [
    "x[1:-1,1:-1]=0\n"
   ]
  },
  {
   "cell_type": "code",
   "execution_count": 257,
   "id": "2b362a9d",
   "metadata": {},
   "outputs": [
    {
     "data": {
      "text/plain": [
       "array([[1., 1., 1., 1., 1.],\n",
       "       [1., 0., 0., 0., 1.],\n",
       "       [1., 0., 0., 0., 1.],\n",
       "       [1., 0., 0., 0., 1.],\n",
       "       [1., 1., 1., 1., 1.]])"
      ]
     },
     "execution_count": 257,
     "metadata": {},
     "output_type": "execute_result"
    }
   ],
   "source": [
    "x"
   ]
  },
  {
   "cell_type": "code",
   "execution_count": 258,
   "id": "6fc0c58a",
   "metadata": {},
   "outputs": [
    {
     "data": {
      "text/plain": [
       "array([[1., 1., 1., 1., 1.],\n",
       "       [1., 1., 1., 1., 1.],\n",
       "       [1., 1., 1., 1., 1.],\n",
       "       [1., 1., 1., 1., 1.],\n",
       "       [1., 1., 1., 1., 1.]])"
      ]
     },
     "execution_count": 258,
     "metadata": {},
     "output_type": "execute_result"
    }
   ],
   "source": [
    "# Write a NumPy program to add a border (filled with 0's) around an existing array.\n",
    "x = np.ones((5,5))\n",
    "x\n"
   ]
  },
  {
   "cell_type": "code",
   "execution_count": 263,
   "id": "4717140d",
   "metadata": {},
   "outputs": [],
   "source": [
    "x = np.pad(x, pad_width=1, mode='constant', constant_values=0)\n"
   ]
  },
  {
   "cell_type": "code",
   "execution_count": 264,
   "id": "9053ad9d",
   "metadata": {},
   "outputs": [
    {
     "data": {
      "text/plain": [
       "array([[0., 0., 0., 0., 0., 0., 0.],\n",
       "       [0., 0., 0., 0., 0., 0., 0.],\n",
       "       [0., 0., 0., 0., 0., 0., 0.],\n",
       "       [0., 0., 0., 0., 0., 0., 0.],\n",
       "       [0., 0., 0., 0., 0., 0., 0.],\n",
       "       [0., 1., 1., 1., 1., 1., 0.],\n",
       "       [0., 0., 0., 0., 0., 0., 0.]])"
      ]
     },
     "execution_count": 264,
     "metadata": {},
     "output_type": "execute_result"
    }
   ],
   "source": [
    "x"
   ]
  },
  {
   "cell_type": "code",
   "execution_count": 269,
   "id": "b76ef7ed",
   "metadata": {},
   "outputs": [
    {
     "data": {
      "text/plain": [
       "array([[0, 0, 0, 0, 0, 0, 0, 0],\n",
       "       [0, 0, 0, 0, 0, 0, 0, 0],\n",
       "       [0, 0, 0, 0, 0, 0, 0, 0],\n",
       "       [0, 0, 0, 0, 0, 0, 0, 0],\n",
       "       [0, 0, 0, 0, 0, 0, 0, 0],\n",
       "       [0, 0, 0, 0, 0, 0, 0, 0],\n",
       "       [0, 0, 0, 0, 0, 0, 0, 0],\n",
       "       [0, 0, 0, 0, 0, 0, 0, 0]])"
      ]
     },
     "execution_count": 269,
     "metadata": {},
     "output_type": "execute_result"
    }
   ],
   "source": [
    "# Write a NumPy program to create an 8x8 matrix and fill it with a checkerboard pattern.\n",
    "\n",
    "x = np.ones((3,3))\n",
    "x = np.zeros((8,8),dtype=int)\n",
    "x"
   ]
  },
  {
   "cell_type": "code",
   "execution_count": 270,
   "id": "010a066d",
   "metadata": {},
   "outputs": [
    {
     "data": {
      "text/plain": [
       "array([[0, 1, 0, 1, 0, 1, 0, 1],\n",
       "       [1, 0, 1, 0, 1, 0, 1, 0],\n",
       "       [0, 1, 0, 1, 0, 1, 0, 1],\n",
       "       [1, 0, 1, 0, 1, 0, 1, 0],\n",
       "       [0, 1, 0, 1, 0, 1, 0, 1],\n",
       "       [1, 0, 1, 0, 1, 0, 1, 0],\n",
       "       [0, 1, 0, 1, 0, 1, 0, 1],\n",
       "       [1, 0, 1, 0, 1, 0, 1, 0]])"
      ]
     },
     "execution_count": 270,
     "metadata": {},
     "output_type": "execute_result"
    }
   ],
   "source": [
    "x[1::2,::2] = 1\n",
    "x[::2,1::2] = 1\n",
    "x"
   ]
  },
  {
   "cell_type": "code",
   "execution_count": 271,
   "id": "068f4127",
   "metadata": {},
   "outputs": [],
   "source": [
    "#  Write a NumPy program to convert a list and tuple into arrays.\n",
    "\n",
    "list_array = np.array(original_list)"
   ]
  },
  {
   "cell_type": "code",
   "execution_count": 272,
   "id": "414bf6b6",
   "metadata": {},
   "outputs": [
    {
     "data": {
      "text/plain": [
       "array([ 12.23, 100.  ,  36.32])"
      ]
     },
     "execution_count": 272,
     "metadata": {},
     "output_type": "execute_result"
    }
   ],
   "source": [
    "list_array\n"
   ]
  },
  {
   "cell_type": "code",
   "execution_count": 275,
   "id": "f99a846e",
   "metadata": {},
   "outputs": [
    {
     "data": {
      "text/plain": [
       "array([[8, 4, 6],\n",
       "       [1, 2, 3]])"
      ]
     },
     "execution_count": 275,
     "metadata": {},
     "output_type": "execute_result"
    }
   ],
   "source": [
    "my_tuple = ([8, 4, 6], [1, 2, 3])\n",
    "            \n",
    "tuple_array = np.asarray(my_tuple)\n",
    "tuple_array            "
   ]
  },
  {
   "cell_type": "code",
   "execution_count": 280,
   "id": "af6c13b7",
   "metadata": {},
   "outputs": [
    {
     "data": {
      "text/plain": [
       "[40, 50, 60, 70, 80, 90]"
      ]
     },
     "execution_count": 280,
     "metadata": {},
     "output_type": "execute_result"
    }
   ],
   "source": [
    "#  Write a NumPy program to append values to the end of an array.\n",
    "array = np.array([10,20,30])\n",
    "added_value = list([40,50,60,70,80,90])\n",
    "added_value"
   ]
  },
  {
   "cell_type": "code",
   "execution_count": 282,
   "id": "7beed5da",
   "metadata": {},
   "outputs": [],
   "source": [
    "array = np.append(array,added_value)"
   ]
  },
  {
   "cell_type": "code",
   "execution_count": 283,
   "id": "2038c187",
   "metadata": {},
   "outputs": [
    {
     "data": {
      "text/plain": [
       "array([10, 20, 30, 40, 50, 60, 70, 80, 90])"
      ]
     },
     "execution_count": 283,
     "metadata": {},
     "output_type": "execute_result"
    }
   ],
   "source": [
    "array"
   ]
  },
  {
   "cell_type": "code",
   "execution_count": 286,
   "id": "b752537c",
   "metadata": {},
   "outputs": [
    {
     "data": {
      "text/plain": [
       "array([[8.70783292e-312, 2.81617418e-322, 0.00000000e+000,\n",
       "        0.00000000e+000],\n",
       "       [1.18831764e-312, 6.82116729e-043, 5.28327738e-091,\n",
       "        9.17103577e-072],\n",
       "       [8.40643303e+164, 8.44628636e+169, 6.48224659e+170,\n",
       "        4.93432906e+257]])"
      ]
     },
     "execution_count": 286,
     "metadata": {},
     "output_type": "execute_result"
    }
   ],
   "source": [
    "# Write a NumPy program to create an empty and full array\n",
    "\n",
    "x = np.empty((3,4))\n",
    "x"
   ]
  },
  {
   "cell_type": "code",
   "execution_count": 290,
   "id": "649d14bc",
   "metadata": {},
   "outputs": [],
   "source": [
    "x = np.full((3,4),fill_value=6)"
   ]
  },
  {
   "cell_type": "code",
   "execution_count": 291,
   "id": "c86048ae",
   "metadata": {},
   "outputs": [
    {
     "name": "stdout",
     "output_type": "stream",
     "text": [
      "[[6 6 6 6]\n",
      " [6 6 6 6]\n",
      " [6 6 6 6]]\n"
     ]
    }
   ],
   "source": [
    "print(x)"
   ]
  },
  {
   "cell_type": "code",
   "execution_count": 292,
   "id": "0bb52ff8",
   "metadata": {},
   "outputs": [],
   "source": [
    "# Write a NumPy program to convert Centigrade degrees into Fahrenheit degrees. Centigrade values are stored in a NumPy array\n",
    "\n",
    "fvalues = [0, 12, 45.21, 34, 99.91, 32]\n",
    "F = np.array(fvalues)"
   ]
  },
  {
   "cell_type": "code",
   "execution_count": 296,
   "id": "ac010fba",
   "metadata": {},
   "outputs": [],
   "source": [
    "c=(5*F/9 - 5*32/9).round(2)"
   ]
  },
  {
   "cell_type": "code",
   "execution_count": 297,
   "id": "646f5f93",
   "metadata": {},
   "outputs": [
    {
     "data": {
      "text/plain": [
       "array([-17.78, -11.11,   7.34,   1.11,  37.73,   0.  ])"
      ]
     },
     "execution_count": 297,
     "metadata": {},
     "output_type": "execute_result"
    }
   ],
   "source": [
    "c"
   ]
  },
  {
   "cell_type": "code",
   "execution_count": 298,
   "id": "aafae821",
   "metadata": {},
   "outputs": [],
   "source": [
    "# Write a NumPy program to find the real and imaginary parts of an array of complex numbers.\n",
    "x = np.sqrt([1+0j])\n",
    "y = np.sqrt([0+1j])"
   ]
  },
  {
   "cell_type": "code",
   "execution_count": 299,
   "id": "3284bf4e",
   "metadata": {},
   "outputs": [
    {
     "data": {
      "text/plain": [
       "array([0.])"
      ]
     },
     "execution_count": 299,
     "metadata": {},
     "output_type": "execute_result"
    }
   ],
   "source": [
    "x.real\n",
    "x.imag"
   ]
  },
  {
   "cell_type": "code",
   "execution_count": 300,
   "id": "15e5408a",
   "metadata": {},
   "outputs": [
    {
     "data": {
      "text/plain": [
       "array([0.70710678])"
      ]
     },
     "execution_count": 300,
     "metadata": {},
     "output_type": "execute_result"
    }
   ],
   "source": [
    "y.real"
   ]
  },
  {
   "cell_type": "code",
   "execution_count": 301,
   "id": "f71c3e4a",
   "metadata": {},
   "outputs": [
    {
     "data": {
      "text/plain": [
       "array([0.70710678])"
      ]
     },
     "execution_count": 301,
     "metadata": {},
     "output_type": "execute_result"
    }
   ],
   "source": [
    "y.imag"
   ]
  },
  {
   "cell_type": "code",
   "execution_count": 304,
   "id": "9b84fb2f",
   "metadata": {},
   "outputs": [
    {
     "name": "stdout",
     "output_type": "stream",
     "text": [
      "1\n"
     ]
    }
   ],
   "source": [
    "# Write a NumPy program to find the number of elements in an array. It also finds the length of one array element in bytes and the total bytes consumed by the elements.\n",
    "\n",
    "print(x.size)"
   ]
  },
  {
   "cell_type": "code",
   "execution_count": 305,
   "id": "501a0343",
   "metadata": {},
   "outputs": [
    {
     "data": {
      "text/plain": [
       "16"
      ]
     },
     "execution_count": 305,
     "metadata": {},
     "output_type": "execute_result"
    }
   ],
   "source": [
    "x.size * x.itemsize"
   ]
  },
  {
   "cell_type": "code",
   "execution_count": 306,
   "id": "fc7412c4",
   "metadata": {},
   "outputs": [],
   "source": [
    "# Write a NumPy program to test whether each element of a 1-D array is also present in a second array\n",
    "array_1 = np.array([0,10,20,40,60])\n",
    "array_2 = np.array([0,40])"
   ]
  },
  {
   "cell_type": "code",
   "execution_count": 307,
   "id": "6f05028e",
   "metadata": {},
   "outputs": [
    {
     "data": {
      "text/plain": [
       "array([ 0, 10, 20, 40, 60])"
      ]
     },
     "execution_count": 307,
     "metadata": {},
     "output_type": "execute_result"
    }
   ],
   "source": [
    "array_1"
   ]
  },
  {
   "cell_type": "code",
   "execution_count": 308,
   "id": "539ede0d",
   "metadata": {},
   "outputs": [
    {
     "data": {
      "text/plain": [
       "array([ 0, 40])"
      ]
     },
     "execution_count": 308,
     "metadata": {},
     "output_type": "execute_result"
    }
   ],
   "source": [
    "array_2"
   ]
  },
  {
   "cell_type": "code",
   "execution_count": 310,
   "id": "d4c65094",
   "metadata": {},
   "outputs": [
    {
     "data": {
      "text/plain": [
       "array([ 0, 40])"
      ]
     },
     "execution_count": 310,
     "metadata": {},
     "output_type": "execute_result"
    }
   ],
   "source": [
    "np.intersect1d(array_1,array_2)"
   ]
  },
  {
   "cell_type": "code",
   "execution_count": 311,
   "id": "00832072",
   "metadata": {},
   "outputs": [],
   "source": [
    "# Write a NumPy program to test whether each element of a 1-D array is also present in a second array."
   ]
  },
  {
   "cell_type": "code",
   "execution_count": 315,
   "id": "f864abe5",
   "metadata": {},
   "outputs": [
    {
     "data": {
      "text/plain": [
       "array([ True, False, False,  True, False])"
      ]
     },
     "execution_count": 315,
     "metadata": {},
     "output_type": "execute_result"
    }
   ],
   "source": [
    "np.in1d(array_1,array_2)"
   ]
  },
  {
   "cell_type": "code",
   "execution_count": 316,
   "id": "2ab5d69a",
   "metadata": {},
   "outputs": [],
   "source": [
    "# Write a NumPy program to get the unique elements of an array\n",
    "\n",
    "array=np.array([10,10,20,20,30,30])"
   ]
  },
  {
   "cell_type": "code",
   "execution_count": 317,
   "id": "f94a4c1d",
   "metadata": {},
   "outputs": [
    {
     "data": {
      "text/plain": [
       "array([10, 10, 20, 20, 30, 30])"
      ]
     },
     "execution_count": 317,
     "metadata": {},
     "output_type": "execute_result"
    }
   ],
   "source": [
    "array"
   ]
  },
  {
   "cell_type": "code",
   "execution_count": 318,
   "id": "29f34238",
   "metadata": {},
   "outputs": [
    {
     "data": {
      "text/plain": [
       "array([10, 20, 30])"
      ]
     },
     "execution_count": 318,
     "metadata": {},
     "output_type": "execute_result"
    }
   ],
   "source": [
    "np.unique(array)"
   ]
  },
  {
   "cell_type": "code",
   "execution_count": 319,
   "id": "2bc7acb5",
   "metadata": {},
   "outputs": [],
   "source": [
    "# Write a NumPy program to find the set difference between two arrays. The set difference will return sorted, distinct values in array1 that are not in\n",
    "\n",
    "array_1 = np.array([0,10,20,40,60,80])\n",
    "array_2 = np.array([10,30,40,50,70,90])"
   ]
  },
  {
   "cell_type": "code",
   "execution_count": 320,
   "id": "b51923d7",
   "metadata": {},
   "outputs": [
    {
     "data": {
      "text/plain": [
       "array([ 0, 20, 60, 80])"
      ]
     },
     "execution_count": 320,
     "metadata": {},
     "output_type": "execute_result"
    }
   ],
   "source": [
    "np.setdiff1d(array_1,array_2)"
   ]
  },
  {
   "cell_type": "code",
   "execution_count": 321,
   "id": "a87e5e62",
   "metadata": {},
   "outputs": [
    {
     "data": {
      "text/plain": [
       "array([ 0, 20, 30, 50, 60, 70, 80, 90])"
      ]
     },
     "execution_count": 321,
     "metadata": {},
     "output_type": "execute_result"
    }
   ],
   "source": [
    "# Write a NumPy program to find the set exclusive-or of two arrays. Set exclusive-or will return sorted, distinct values in only one (not both) of the input arrays.4\n",
    "\n",
    "np.setxor1d(array_1,array_2)"
   ]
  },
  {
   "cell_type": "code",
   "execution_count": 322,
   "id": "bdddc5c4",
   "metadata": {},
   "outputs": [
    {
     "data": {
      "text/plain": [
       "array([ 0, 10, 20, 30, 40, 50, 60, 70, 80, 90])"
      ]
     },
     "execution_count": 322,
     "metadata": {},
     "output_type": "execute_result"
    }
   ],
   "source": [
    "# Write a NumPy program to find the union of two arrays. Union will return a unique, sorted array of values in each of the two input arrays\n",
    "\n",
    "np.union1d(array_1,array_2)"
   ]
  },
  {
   "cell_type": "code",
   "execution_count": 323,
   "id": "6c260e68",
   "metadata": {},
   "outputs": [
    {
     "data": {
      "text/plain": [
       "array([], dtype=float64)"
      ]
     },
     "execution_count": 323,
     "metadata": {},
     "output_type": "execute_result"
    }
   ],
   "source": [
    "#  Write a NumPy program to test whether all elements in an array evaluate to True.\n",
    "\n",
    "a[a[:] == True]"
   ]
  },
  {
   "cell_type": "code",
   "execution_count": 327,
   "id": "f3553fbe",
   "metadata": {},
   "outputs": [
    {
     "data": {
      "text/plain": [
       "array([10, 10, 20, 20, 30, 30, 10, 10, 20, 20, 30, 30])"
      ]
     },
     "execution_count": 327,
     "metadata": {},
     "output_type": "execute_result"
    }
   ],
   "source": [
    "# Write a NumPy program to construct an array by repeating\n",
    "sample_array = np.array([1,2,3,4])\n",
    "sample_array = np.tile(array,2)\n",
    "sample_array"
   ]
  },
  {
   "cell_type": "code",
   "execution_count": 329,
   "id": "6b122303",
   "metadata": {},
   "outputs": [
    {
     "name": "stdout",
     "output_type": "stream",
     "text": [
      "[1 1 2 2 3 3 4 4]\n"
     ]
    }
   ],
   "source": [
    "x = np.repeat(3, 4)\n",
    "x = np.array([[1,2],[3,4]])\n",
    "print(np.repeat(x, 2))"
   ]
  },
  {
   "cell_type": "code",
   "execution_count": 332,
   "id": "01957710",
   "metadata": {},
   "outputs": [
    {
     "data": {
      "text/plain": [
       "0"
      ]
     },
     "execution_count": 332,
     "metadata": {},
     "output_type": "execute_result"
    }
   ],
   "source": [
    "# Write a NumPy program to find the indices of the maximum and minimum values along the given axis of an array. \n",
    "\n",
    "original_array = np.array([1,2,3,4,5,6])\n",
    "np.argmax(original_array)\n",
    "np.argmin(original_array)"
   ]
  },
  {
   "cell_type": "code",
   "execution_count": 334,
   "id": "cf23aed2",
   "metadata": {},
   "outputs": [],
   "source": [
    "# Write a NumPy program to compare two arrays using NumPy.\n",
    "\n",
    "array_a = [1,2]\n",
    "array_b = [4,5]"
   ]
  },
  {
   "cell_type": "code",
   "execution_count": 337,
   "id": "d5051487",
   "metadata": {},
   "outputs": [
    {
     "data": {
      "text/plain": [
       "array([False, False])"
      ]
     },
     "execution_count": 337,
     "metadata": {},
     "output_type": "execute_result"
    }
   ],
   "source": [
    "np.greater_equal(array_a,array_b)"
   ]
  },
  {
   "cell_type": "code",
   "execution_count": 338,
   "id": "0f9b71f4",
   "metadata": {},
   "outputs": [
    {
     "data": {
      "text/plain": [
       "array([False, False])"
      ]
     },
     "execution_count": 338,
     "metadata": {},
     "output_type": "execute_result"
    }
   ],
   "source": [
    "np.greater(array_a,array_b)"
   ]
  },
  {
   "cell_type": "code",
   "execution_count": 340,
   "id": "e15c6e77",
   "metadata": {},
   "outputs": [
    {
     "data": {
      "text/plain": [
       "array([[2, 4],\n",
       "       [4, 5]])"
      ]
     },
     "execution_count": 340,
     "metadata": {},
     "output_type": "execute_result"
    }
   ],
   "source": [
    "# Write a NumPy program to sort along the first and last axes of an array.\n",
    "\n",
    "a = [[2,5],[4,4]]\n",
    "np.sort(a,axis=0)"
   ]
  },
  {
   "cell_type": "code",
   "execution_count": 342,
   "id": "45da6148",
   "metadata": {},
   "outputs": [],
   "source": [
    "first_names =    ('Margery', 'Betsey', 'Shelley', 'Lanell', 'Genesis')\n",
    "last_names = ('Woolum', 'Battle', 'Plotner', 'Brien', 'Stahl')"
   ]
  },
  {
   "cell_type": "code",
   "execution_count": 343,
   "id": "16e7b4e5",
   "metadata": {},
   "outputs": [
    {
     "data": {
      "text/plain": [
       "array([1, 3, 2, 4, 0], dtype=int64)"
      ]
     },
     "execution_count": 343,
     "metadata": {},
     "output_type": "execute_result"
    }
   ],
   "source": [
    "np.lexsort((first_names,last_names))"
   ]
  },
  {
   "cell_type": "code",
   "execution_count": 5,
   "id": "e789d270",
   "metadata": {},
   "outputs": [],
   "source": [
    "# Write a NumPy program to get the values and indices of the elements that are bigger than 10 in a given array. \n",
    "\n",
    "original_array = np.array([[0,10,20],[20,30,40]])\n",
    "\n",
    "indices = np.where(original_array[:]>10)"
   ]
  },
  {
   "cell_type": "code",
   "execution_count": 7,
   "id": "b4be8450",
   "metadata": {},
   "outputs": [
    {
     "data": {
      "text/plain": [
       "array([20, 20, 30, 40])"
      ]
     },
     "execution_count": 7,
     "metadata": {},
     "output_type": "execute_result"
    }
   ],
   "source": [
    "original_array[original_array > 10]"
   ]
  },
  {
   "cell_type": "code",
   "execution_count": 8,
   "id": "b79e9ced",
   "metadata": {},
   "outputs": [],
   "source": [
    "#  Write a NumPy program to save a NumPy array to a text file. \n",
    "\n",
    "np.savetxt(\"file\",original_array)"
   ]
  },
  {
   "cell_type": "code",
   "execution_count": 12,
   "id": "b1938eb3",
   "metadata": {},
   "outputs": [],
   "source": [
    "#  Write a NumPy program to find the memory size of a NumPy array. \n",
    "\n",
    "memory_size = original_array.nbytes"
   ]
  },
  {
   "cell_type": "code",
   "execution_count": 15,
   "id": "f91db2d6",
   "metadata": {},
   "outputs": [
    {
     "name": "stdout",
     "output_type": "stream",
     "text": [
      "The memory size is 24 bytes\n"
     ]
    }
   ],
   "source": [
    "print(\"The memory size is {} bytes\".format(memory_size))"
   ]
  },
  {
   "cell_type": "code",
   "execution_count": 16,
   "id": "b62f93b9",
   "metadata": {},
   "outputs": [],
   "source": [
    "# Write a NumPy program to create an array of ones and zeros.\n",
    "\n",
    "array = np.zeros(2,dtype = np.float32)"
   ]
  },
  {
   "cell_type": "code",
   "execution_count": 17,
   "id": "c12550e9",
   "metadata": {},
   "outputs": [
    {
     "data": {
      "text/plain": [
       "array([0., 0.], dtype=float32)"
      ]
     },
     "execution_count": 17,
     "metadata": {},
     "output_type": "execute_result"
    }
   ],
   "source": [
    "array"
   ]
  },
  {
   "cell_type": "code",
   "execution_count": 18,
   "id": "7068bdb5",
   "metadata": {},
   "outputs": [],
   "source": [
    "array = array.astype(dtype = np.int32)"
   ]
  },
  {
   "cell_type": "code",
   "execution_count": 19,
   "id": "7b1b4b7b",
   "metadata": {},
   "outputs": [
    {
     "data": {
      "text/plain": [
       "array([0, 0])"
      ]
     },
     "execution_count": 19,
     "metadata": {},
     "output_type": "execute_result"
    }
   ],
   "source": [
    "array"
   ]
  },
  {
   "cell_type": "code",
   "execution_count": 20,
   "id": "2032aad1",
   "metadata": {},
   "outputs": [],
   "source": [
    "#  Write a NumPy program to change an array's dimension. \n",
    "\n",
    "a= np.arange(6)"
   ]
  },
  {
   "cell_type": "code",
   "execution_count": 21,
   "id": "c6f9b86c",
   "metadata": {},
   "outputs": [
    {
     "data": {
      "text/plain": [
       "(6,)"
      ]
     },
     "execution_count": 21,
     "metadata": {},
     "output_type": "execute_result"
    }
   ],
   "source": [
    "a.shape"
   ]
  },
  {
   "cell_type": "code",
   "execution_count": 30,
   "id": "54adf6db",
   "metadata": {},
   "outputs": [
    {
     "data": {
      "text/plain": [
       "array([[0.64627781, 0.99673958, 0.47246377, 0.1596238 , 0.84090129,\n",
       "        0.29805551, 0.04097332, 0.99756442, 0.62287455]])"
      ]
     },
     "execution_count": 30,
     "metadata": {},
     "output_type": "execute_result"
    }
   ],
   "source": [
    "np.random.random((1,9))"
   ]
  },
  {
   "cell_type": "code",
   "execution_count": 31,
   "id": "b0384374",
   "metadata": {},
   "outputs": [
    {
     "data": {
      "text/plain": [
       "array([[10, 20, 30],\n",
       "       [20, 40, 50]])"
      ]
     },
     "execution_count": 31,
     "metadata": {},
     "output_type": "execute_result"
    }
   ],
   "source": [
    "# Write a NumPy program to create a contiguous flattened array. a\n",
    "\n",
    "original_array = np.array([[10,20,30],[20,40,50]])\n",
    "original_array"
   ]
  },
  {
   "cell_type": "code",
   "execution_count": 33,
   "id": "8903c1e3",
   "metadata": {},
   "outputs": [
    {
     "data": {
      "text/plain": [
       "array([10, 20, 30, 20, 40, 50])"
      ]
     },
     "execution_count": 33,
     "metadata": {},
     "output_type": "execute_result"
    }
   ],
   "source": [
    "original_array.flatten()"
   ]
  },
  {
   "cell_type": "code",
   "execution_count": 35,
   "id": "eb247c5a",
   "metadata": {},
   "outputs": [
    {
     "name": "stdout",
     "output_type": "stream",
     "text": [
      "<class 'numpy.ndarray'>\n",
      "(2, 3)\n",
      "int32\n"
     ]
    }
   ],
   "source": [
    "# Write a NumPy program to create a 2-dimensional array of size 2 x 3 (composed of 4-byte integer elements), also print the shape, type and data type of the array. \n",
    "x = np.array([[2, 4, 6], [6, 8, 10]], np.int32)\n",
    "print(type(x))\t\n",
    "print(x.shape)\n",
    "print(x.dtype)\n"
   ]
  },
  {
   "cell_type": "code",
   "execution_count": 36,
   "id": "0cea8ed0",
   "metadata": {},
   "outputs": [
    {
     "data": {
      "text/plain": [
       "(2, 3)"
      ]
     },
     "execution_count": 36,
     "metadata": {},
     "output_type": "execute_result"
    }
   ],
   "source": [
    "# Write a NumPy program to create another shape from an array without changing its data. \n",
    "x.shape\n"
   ]
  },
  {
   "cell_type": "code",
   "execution_count": 37,
   "id": "1257c8c9",
   "metadata": {},
   "outputs": [
    {
     "data": {
      "text/plain": [
       "array([[ 2,  4],\n",
       "       [ 6,  6],\n",
       "       [ 8, 10]])"
      ]
     },
     "execution_count": 37,
     "metadata": {},
     "output_type": "execute_result"
    }
   ],
   "source": [
    "x.reshape(3,2)"
   ]
  },
  {
   "cell_type": "code",
   "execution_count": 38,
   "id": "513ea91a",
   "metadata": {},
   "outputs": [],
   "source": [
    "# Write a NumPy program to change an array's data type.\n",
    "\n",
    "original_array = np.array([[2,4,6],[6,8,10]]).astype(dtype = np.float64)"
   ]
  },
  {
   "cell_type": "code",
   "execution_count": 39,
   "id": "65bf984d",
   "metadata": {},
   "outputs": [
    {
     "data": {
      "text/plain": [
       "array([[ 2.,  4.,  6.],\n",
       "       [ 6.,  8., 10.]])"
      ]
     },
     "execution_count": 39,
     "metadata": {},
     "output_type": "execute_result"
    }
   ],
   "source": [
    "original_array"
   ]
  },
  {
   "cell_type": "code",
   "execution_count": 40,
   "id": "d1bef4ff",
   "metadata": {},
   "outputs": [],
   "source": [
    "# Write a NumPy program to create a new array of 3*5, filled with 2. \n",
    "\n",
    "array = np.full((3,5),fill_value=2)"
   ]
  },
  {
   "cell_type": "code",
   "execution_count": 41,
   "id": "6e50cff3",
   "metadata": {},
   "outputs": [
    {
     "data": {
      "text/plain": [
       "array([[2, 2, 2, 2, 2],\n",
       "       [2, 2, 2, 2, 2],\n",
       "       [2, 2, 2, 2, 2]])"
      ]
     },
     "execution_count": 41,
     "metadata": {},
     "output_type": "execute_result"
    }
   ],
   "source": [
    "array"
   ]
  },
  {
   "cell_type": "code",
   "execution_count": 42,
   "id": "7dda1e48",
   "metadata": {},
   "outputs": [],
   "source": [
    "#   Write a NumPy program to create an array of 10's with the same shape and type as the given array\n",
    "    \n",
    "    x = np.arange(4, dtype=np.int64)"
   ]
  },
  {
   "cell_type": "code",
   "execution_count": 45,
   "id": "3ac96a98",
   "metadata": {},
   "outputs": [],
   "source": [
    "array = np.full_like(x,fill_value=10)"
   ]
  },
  {
   "cell_type": "code",
   "execution_count": 46,
   "id": "22abb3f1",
   "metadata": {},
   "outputs": [
    {
     "data": {
      "text/plain": [
       "array([10, 10, 10, 10], dtype=int64)"
      ]
     },
     "execution_count": 46,
     "metadata": {},
     "output_type": "execute_result"
    }
   ],
   "source": [
    "array"
   ]
  },
  {
   "cell_type": "code",
   "execution_count": 47,
   "id": "89528846",
   "metadata": {},
   "outputs": [
    {
     "data": {
      "text/plain": [
       "array([[1., 0., 0.],\n",
       "       [0., 1., 0.],\n",
       "       [0., 0., 1.]])"
      ]
     },
     "execution_count": 47,
     "metadata": {},
     "output_type": "execute_result"
    }
   ],
   "source": [
    "# Write a NumPy program to create a 3-D array with ones on a diagonal and zeros elsewhere. \n",
    "\n",
    "np.eye(3,)"
   ]
  },
  {
   "cell_type": "code",
   "execution_count": 52,
   "id": "b96612e1",
   "metadata": {},
   "outputs": [],
   "source": []
  },
  {
   "cell_type": "code",
   "execution_count": 58,
   "id": "e5b36ce3",
   "metadata": {},
   "outputs": [
    {
     "name": "stdout",
     "output_type": "stream",
     "text": [
      "[[1. 0. 0. 0.]\n",
      " [0. 2. 0. 0.]\n",
      " [0. 0. 3. 0.]\n",
      " [0. 0. 0. 4.]]\n"
     ]
    }
   ],
   "source": [
    "\n",
    "my_array = np.zeros((4, 4))\n",
    "\n",
    "diagonal_values = np.array([1, 2, 3, 4])\n",
    "\n",
    "np.fill_diagonal(my_array, diagonal_values)\n",
    "\n",
    "print(my_array)\n"
   ]
  },
  {
   "cell_type": "code",
   "execution_count": 59,
   "id": "1ff06d4f",
   "metadata": {},
   "outputs": [
    {
     "data": {
      "text/plain": [
       "array([ 0,  1,  2,  3,  4,  5,  6,  7,  8,  9, 10, 11, 12, 13, 14, 15, 16,\n",
       "       17, 18, 19, 20, 21, 22, 23, 24, 25, 26, 27, 28, 29, 30, 31, 32, 33,\n",
       "       34, 35, 36, 37, 38, 39, 40, 41, 42, 43, 44, 45, 46, 47, 48, 49])"
      ]
     },
     "execution_count": 59,
     "metadata": {},
     "output_type": "execute_result"
    }
   ],
   "source": [
    "#  Write a NumPy program to create a 1-D array with values from 0 to 50 and an array from 10 to 50.\n",
    "\n",
    "np.arange(0,50)"
   ]
  },
  {
   "cell_type": "code",
   "execution_count": 60,
   "id": "41295f21",
   "metadata": {},
   "outputs": [
    {
     "data": {
      "text/plain": [
       "array([10, 11, 12, 13, 14, 15, 16, 17, 18, 19, 20, 21, 22, 23, 24, 25, 26,\n",
       "       27, 28, 29, 30, 31, 32, 33, 34, 35, 36, 37, 38, 39, 40, 41, 42, 43,\n",
       "       44, 45, 46, 47, 48, 49])"
      ]
     },
     "execution_count": 60,
     "metadata": {},
     "output_type": "execute_result"
    }
   ],
   "source": [
    "np.arange(10,50)"
   ]
  },
  {
   "cell_type": "code",
   "execution_count": 61,
   "id": "42e3f10f",
   "metadata": {},
   "outputs": [
    {
     "data": {
      "text/plain": [
       "array([2.5       , 2.63793103, 2.77586207, 2.9137931 , 3.05172414,\n",
       "       3.18965517, 3.32758621, 3.46551724, 3.60344828, 3.74137931,\n",
       "       3.87931034, 4.01724138, 4.15517241, 4.29310345, 4.43103448,\n",
       "       4.56896552, 4.70689655, 4.84482759, 4.98275862, 5.12068966,\n",
       "       5.25862069, 5.39655172, 5.53448276, 5.67241379, 5.81034483,\n",
       "       5.94827586, 6.0862069 , 6.22413793, 6.36206897, 6.5       ])"
      ]
     },
     "execution_count": 61,
     "metadata": {},
     "output_type": "execute_result"
    }
   ],
   "source": [
    "#  Write a NumPy program to create a 1-D array of 30 evenly spaced elements between 2.5 and 6.5, inclusive. \n",
    "\n",
    "np.linspace(2.5,6.5,30)"
   ]
  },
  {
   "cell_type": "code",
   "execution_count": 62,
   "id": "90a07ce8",
   "metadata": {},
   "outputs": [
    {
     "data": {
      "text/plain": [
       "array([   100.        ,    143.84498883,    206.91380811,    297.63514416,\n",
       "          428.13323987,    615.84821107,    885.86679041,   1274.2749857 ,\n",
       "         1832.98071083,   2636.65089873,   3792.69019073,   5455.59478117,\n",
       "         7847.59970351,  11288.37891685,  16237.76739189,  23357.2146909 ,\n",
       "        33598.18286284,  48329.30238572,  69519.27961776, 100000.        ])"
      ]
     },
     "execution_count": 62,
     "metadata": {},
     "output_type": "execute_result"
    }
   ],
   "source": [
    "# Write a NumPy program to create a 1-D array of 20 elements spaced evenly on a log scale between 2. and 5., exclusive\n",
    "\n",
    "np.logspace(2,5,20)"
   ]
  },
  {
   "cell_type": "code",
   "execution_count": 63,
   "id": "a49fdb10",
   "metadata": {},
   "outputs": [
    {
     "data": {
      "text/plain": [
       "array([[0., 0., 0.],\n",
       "       [1., 0., 0.],\n",
       "       [1., 1., 0.],\n",
       "       [1., 1., 1.]])"
      ]
     },
     "execution_count": 63,
     "metadata": {},
     "output_type": "execute_result"
    }
   ],
   "source": [
    "# Write a NumPy program to create an array like the one below.\n",
    "\n",
    "x= np.tri(4,3,-1)\n",
    "x"
   ]
  },
  {
   "cell_type": "code",
   "execution_count": 69,
   "id": "1e9eb773",
   "metadata": {},
   "outputs": [],
   "source": [
    "# Write a NumPy program to create an array like the one below.\n",
    "\n",
    "x = np.triu(np.arange(2,14).reshape(4,3),-1)"
   ]
  },
  {
   "cell_type": "code",
   "execution_count": 70,
   "id": "c251b786",
   "metadata": {},
   "outputs": [
    {
     "data": {
      "text/plain": [
       "array([[ 2,  3,  4],\n",
       "       [ 5,  6,  7],\n",
       "       [ 0,  9, 10],\n",
       "       [ 0,  0, 13]])"
      ]
     },
     "execution_count": 70,
     "metadata": {},
     "output_type": "execute_result"
    }
   ],
   "source": [
    "x"
   ]
  },
  {
   "cell_type": "code",
   "execution_count": 72,
   "id": "66abc3bc",
   "metadata": {},
   "outputs": [],
   "source": [
    "# Write a NumPy program to collapse a 3-D array into a one-dimensional array.\n",
    "\n",
    "a = np.zeros((3,3))"
   ]
  },
  {
   "cell_type": "code",
   "execution_count": 73,
   "id": "be40dc8d",
   "metadata": {},
   "outputs": [
    {
     "data": {
      "text/plain": [
       "array([[0., 0., 0.],\n",
       "       [0., 0., 0.],\n",
       "       [0., 0., 0.]])"
      ]
     },
     "execution_count": 73,
     "metadata": {},
     "output_type": "execute_result"
    }
   ],
   "source": [
    "a"
   ]
  },
  {
   "cell_type": "code",
   "execution_count": 78,
   "id": "b184d132",
   "metadata": {},
   "outputs": [],
   "source": [
    "a=np.eye(3,)"
   ]
  },
  {
   "cell_type": "code",
   "execution_count": 80,
   "id": "c7c235d1",
   "metadata": {},
   "outputs": [
    {
     "data": {
      "text/plain": [
       "array([1., 0., 0., 0., 1., 0., 0., 0., 1.])"
      ]
     },
     "execution_count": 80,
     "metadata": {},
     "output_type": "execute_result"
    }
   ],
   "source": [
    "a.flatten()"
   ]
  },
  {
   "cell_type": "code",
   "execution_count": 87,
   "id": "2d467320",
   "metadata": {},
   "outputs": [],
   "source": [
    "# Write a NumPy program to find the 4th element of a specified array. \n",
    "\n",
    "original_array = np.array([[2,4,6],[6,8,10]])\n",
    "flatten_array = original_array.flatten()"
   ]
  },
  {
   "cell_type": "code",
   "execution_count": 88,
   "id": "45096564",
   "metadata": {},
   "outputs": [
    {
     "data": {
      "text/plain": [
       "6"
      ]
     },
     "execution_count": 88,
     "metadata": {},
     "output_type": "execute_result"
    }
   ],
   "source": [
    "flatten_array[3]"
   ]
  },
  {
   "cell_type": "code",
   "execution_count": 89,
   "id": "99cc0c13",
   "metadata": {},
   "outputs": [
    {
     "name": "stdout",
     "output_type": "stream",
     "text": [
      "Fourth element is 6\n"
     ]
    }
   ],
   "source": [
    "print(\"Fourth element is {}\".format(flatten_array[3]))"
   ]
  },
  {
   "cell_type": "code",
   "execution_count": 92,
   "id": "8160012c",
   "metadata": {},
   "outputs": [
    {
     "data": {
      "text/plain": [
       "array([[1, 2, 3]])"
      ]
     },
     "execution_count": 92,
     "metadata": {},
     "output_type": "execute_result"
    }
   ],
   "source": [
    "# Write a NumPy program to change two array axes.\n",
    "\n",
    "sample_array = np.array([[1,2,3]])\n",
    "sample_array"
   ]
  },
  {
   "cell_type": "code",
   "execution_count": 93,
   "id": "cc15bab1",
   "metadata": {},
   "outputs": [
    {
     "data": {
      "text/plain": [
       "array([[1],\n",
       "       [2],\n",
       "       [3]])"
      ]
     },
     "execution_count": 93,
     "metadata": {},
     "output_type": "execute_result"
    }
   ],
   "source": [
    "np.swapaxes(sample_array,0,1)"
   ]
  },
  {
   "cell_type": "code",
   "execution_count": 94,
   "id": "0c3cd414",
   "metadata": {},
   "outputs": [],
   "source": [
    "# Write a NumPy program to move array axes to alternate positions. Other axes remain in their original order.\n",
    "\n",
    "original_array = np.array([3,4,2])"
   ]
  },
  {
   "cell_type": "code",
   "execution_count": 95,
   "id": "8f7815d0",
   "metadata": {},
   "outputs": [
    {
     "data": {
      "text/plain": [
       "array([3, 4, 2])"
      ]
     },
     "execution_count": 95,
     "metadata": {},
     "output_type": "execute_result"
    }
   ],
   "source": [
    "original_array"
   ]
  },
  {
   "cell_type": "code",
   "execution_count": 99,
   "id": "60259120",
   "metadata": {},
   "outputs": [
    {
     "data": {
      "text/plain": [
       "array([3, 4, 2])"
      ]
     },
     "execution_count": 99,
     "metadata": {},
     "output_type": "execute_result"
    }
   ],
   "source": [
    "np.moveaxis(original_array,0,-1)"
   ]
  },
  {
   "cell_type": "code",
   "execution_count": 100,
   "id": "63280409",
   "metadata": {},
   "outputs": [
    {
     "data": {
      "text/plain": [
       "array([3, 4, 2])"
      ]
     },
     "execution_count": 100,
     "metadata": {},
     "output_type": "execute_result"
    }
   ],
   "source": [
    "np.moveaxis(original_array,-1,0)"
   ]
  },
  {
   "cell_type": "code",
   "execution_count": 103,
   "id": "0945f0d3",
   "metadata": {},
   "outputs": [
    {
     "data": {
      "text/plain": [
       "array([2, 3, 4, 5])"
      ]
     },
     "execution_count": 103,
     "metadata": {},
     "output_type": "execute_result"
    }
   ],
   "source": [
    "# Write a NumPy program to move the specified axis backwards, until it lies in a given position. \n",
    "\n",
    "original_array = np.array([2,3,4,5])\n",
    "original_array"
   ]
  },
  {
   "cell_type": "code",
   "execution_count": 111,
   "id": "189d980a",
   "metadata": {},
   "outputs": [
    {
     "name": "stdout",
     "output_type": "stream",
     "text": [
      "[12.]\n",
      "[[0. 1. 2.]\n",
      " [3. 4. 5.]]\n",
      "[array([1]), array([3, 4])]\n"
     ]
    }
   ],
   "source": [
    "\n",
    "# Write a NumPy program to convert specified inputs into arrays with at least one dimension. \n",
    "x= 12.0\n",
    "print(np.atleast_1d(x))\n",
    "x = np.arange(6.0).reshape(2, 3)\n",
    "print(np.atleast_1d(x))\n",
    "print(np.atleast_1d(1, [3, 4]))"
   ]
  },
  {
   "cell_type": "code",
   "execution_count": 112,
   "id": "82488fa8",
   "metadata": {},
   "outputs": [
    {
     "data": {
      "text/plain": [
       "array([[0., 0., 0., 0.],\n",
       "       [0., 0., 0., 0.],\n",
       "       [0., 0., 0., 0.]])"
      ]
     },
     "execution_count": 112,
     "metadata": {},
     "output_type": "execute_result"
    }
   ],
   "source": [
    "# Write a NumPy program to insert a new axis within a 2-D array. \n",
    "x = np.zeros((3, 4))\n",
    "x\n"
   ]
  },
  {
   "cell_type": "code",
   "execution_count": 113,
   "id": "ff31678d",
   "metadata": {},
   "outputs": [],
   "source": [
    "y = np.expand_dims(x,axis=1)"
   ]
  },
  {
   "cell_type": "code",
   "execution_count": 114,
   "id": "6c41fc95",
   "metadata": {},
   "outputs": [
    {
     "data": {
      "text/plain": [
       "array([[[0., 0., 0., 0.]],\n",
       "\n",
       "       [[0., 0., 0., 0.]],\n",
       "\n",
       "       [[0., 0., 0., 0.]]])"
      ]
     },
     "execution_count": 114,
     "metadata": {},
     "output_type": "execute_result"
    }
   ],
   "source": [
    "y"
   ]
  },
  {
   "cell_type": "code",
   "execution_count": 115,
   "id": "425156c1",
   "metadata": {},
   "outputs": [
    {
     "data": {
      "text/plain": [
       "(3, 1, 4)"
      ]
     },
     "execution_count": 115,
     "metadata": {},
     "output_type": "execute_result"
    }
   ],
   "source": [
    "y.shape"
   ]
  },
  {
   "cell_type": "code",
   "execution_count": 118,
   "id": "38c6e765",
   "metadata": {},
   "outputs": [
    {
     "name": "stdout",
     "output_type": "stream",
     "text": [
      "[[ 0  1  3  0  2  4]\n",
      " [ 5  7  9  6  8 10]]\n"
     ]
    }
   ],
   "source": [
    "# Write a NumPy program to concatenate two 2-dimensional arrays. \n",
    "\n",
    "a = np.array([[0, 1, 3], [5, 7, 9]])\n",
    "b = np.array([[0, 2, 4], [6, 8, 10]])\n",
    "\n",
    "c = np.concatenate((a,b),axis =1 )\n",
    "print(c)"
   ]
  },
  {
   "cell_type": "code",
   "execution_count": 120,
   "id": "96034525",
   "metadata": {},
   "outputs": [
    {
     "data": {
      "text/plain": [
       "array([[10, 20, 30],\n",
       "       [40, 50, 60]])"
      ]
     },
     "execution_count": 120,
     "metadata": {},
     "output_type": "execute_result"
    }
   ],
   "source": [
    "# Write a NumPy program to convert 1-D arrays as columns into a 2-D array. \n",
    "\n",
    "sample_array = np.array([[10,20,30],[40,50,60]])\n",
    "sample_array"
   ]
  },
  {
   "cell_type": "code",
   "execution_count": 123,
   "id": "e83f1142",
   "metadata": {},
   "outputs": [
    {
     "data": {
      "text/plain": [
       "array([[10, 20],\n",
       "       [30, 40],\n",
       "       [50, 60]])"
      ]
     },
     "execution_count": 123,
     "metadata": {},
     "output_type": "execute_result"
    }
   ],
   "source": [
    "sample_array.reshape((3,2))"
   ]
  },
  {
   "cell_type": "code",
   "execution_count": 124,
   "id": "b4375bb1",
   "metadata": {},
   "outputs": [],
   "source": [
    "# .Write a NumPy program to split an array of 14 elements into 3 arrays, each with 2, 4, and 8 elements in the original order.\n",
    "\n",
    "original_array = np.arange(15\n",
    "                          )"
   ]
  },
  {
   "cell_type": "code",
   "execution_count": 125,
   "id": "069224c5",
   "metadata": {},
   "outputs": [
    {
     "data": {
      "text/plain": [
       "array([ 0,  1,  2,  3,  4,  5,  6,  7,  8,  9, 10, 11, 12, 13, 14])"
      ]
     },
     "execution_count": 125,
     "metadata": {},
     "output_type": "execute_result"
    }
   ],
   "source": [
    "original_array"
   ]
  },
  {
   "cell_type": "code",
   "execution_count": 128,
   "id": "31eae0ae",
   "metadata": {},
   "outputs": [],
   "source": [
    "array_1 = original_array[0:2]"
   ]
  },
  {
   "cell_type": "code",
   "execution_count": 129,
   "id": "b34a4c1c",
   "metadata": {},
   "outputs": [
    {
     "data": {
      "text/plain": [
       "array([0, 1])"
      ]
     },
     "execution_count": 129,
     "metadata": {},
     "output_type": "execute_result"
    }
   ],
   "source": [
    "array_1"
   ]
  },
  {
   "cell_type": "code",
   "execution_count": 130,
   "id": "195d69bb",
   "metadata": {},
   "outputs": [],
   "source": [
    "array_2 = original_array[2:6]"
   ]
  },
  {
   "cell_type": "code",
   "execution_count": 131,
   "id": "2ba3b9b5",
   "metadata": {},
   "outputs": [
    {
     "data": {
      "text/plain": [
       "array([2, 3, 4, 5])"
      ]
     },
     "execution_count": 131,
     "metadata": {},
     "output_type": "execute_result"
    }
   ],
   "source": [
    "array_2"
   ]
  },
  {
   "cell_type": "code",
   "execution_count": 132,
   "id": "57928858",
   "metadata": {},
   "outputs": [
    {
     "data": {
      "text/plain": [
       "[array([0, 1]),\n",
       " array([2, 3, 4, 5]),\n",
       " array([ 6,  7,  8,  9, 10, 11, 12, 13, 14])]"
      ]
     },
     "execution_count": 132,
     "metadata": {},
     "output_type": "execute_result"
    }
   ],
   "source": [
    "np.split(original_array,[2,6])"
   ]
  },
  {
   "cell_type": "code",
   "execution_count": 135,
   "id": "244f1ee3",
   "metadata": {},
   "outputs": [],
   "source": [
    "# Write a NumPy program that splits an array of shape 4x4 into two arrays along the second axis.\n",
    "# Sample array :\n",
    "\n",
    "x = np.arange(16).reshape(4,4)"
   ]
  },
  {
   "cell_type": "code",
   "execution_count": 136,
   "id": "a5e0cb15",
   "metadata": {},
   "outputs": [
    {
     "data": {
      "text/plain": [
       "array([[ 0,  1,  2,  3],\n",
       "       [ 4,  5,  6,  7],\n",
       "       [ 8,  9, 10, 11],\n",
       "       [12, 13, 14, 15]])"
      ]
     },
     "execution_count": 136,
     "metadata": {},
     "output_type": "execute_result"
    }
   ],
   "source": [
    "x"
   ]
  },
  {
   "cell_type": "code",
   "execution_count": 137,
   "id": "f3731b98",
   "metadata": {},
   "outputs": [
    {
     "data": {
      "text/plain": [
       "[array([[ 0,  1],\n",
       "        [ 4,  5],\n",
       "        [ 8,  9],\n",
       "        [12, 13]]),\n",
       " array([[ 2,  3],\n",
       "        [ 6,  7],\n",
       "        [10, 11],\n",
       "        [14, 15]]),\n",
       " array([], shape=(4, 0), dtype=int32)]"
      ]
     },
     "execution_count": 137,
     "metadata": {},
     "output_type": "execute_result"
    }
   ],
   "source": [
    "np.hsplit(x,[2,6])"
   ]
  },
  {
   "cell_type": "code",
   "execution_count": 138,
   "id": "d4a4b4e6",
   "metadata": {},
   "outputs": [],
   "source": [
    "# . Write a NumPy program to get the number of non-zero elements in an array.\n",
    "# Expected Output:\n",
    "\n",
    "original_array = np.array([[0,10,20],[20,30,40]])\n"
   ]
  },
  {
   "cell_type": "code",
   "execution_count": 139,
   "id": "5ed3dc5c",
   "metadata": {},
   "outputs": [
    {
     "data": {
      "text/plain": [
       "array([[ 0, 10, 20],\n",
       "       [20, 30, 40]])"
      ]
     },
     "execution_count": 139,
     "metadata": {},
     "output_type": "execute_result"
    }
   ],
   "source": [
    "original_array"
   ]
  },
  {
   "cell_type": "code",
   "execution_count": 140,
   "id": "225a72d9",
   "metadata": {},
   "outputs": [
    {
     "data": {
      "text/plain": [
       "array([[ True,  True,  True],\n",
       "       [ True,  True,  True]])"
      ]
     },
     "execution_count": 140,
     "metadata": {},
     "output_type": "execute_result"
    }
   ],
   "source": [
    "original_array[:] >=0 "
   ]
  },
  {
   "cell_type": "code",
   "execution_count": 141,
   "id": "f0a8c896",
   "metadata": {},
   "outputs": [
    {
     "data": {
      "text/plain": [
       "5"
      ]
     },
     "execution_count": 141,
     "metadata": {},
     "output_type": "execute_result"
    }
   ],
   "source": [
    "np.count_nonzero(original_array)"
   ]
  },
  {
   "cell_type": "code",
   "execution_count": 142,
   "id": "20800187",
   "metadata": {},
   "outputs": [
    {
     "data": {
      "text/plain": [
       "array([[0., 0., 0., 0., 0.],\n",
       "       [0., 0., 0., 0., 0.],\n",
       "       [0., 0., 0., 0., 0.],\n",
       "       [0., 0., 0., 0., 0.],\n",
       "       [0., 0., 0., 0., 0.]])"
      ]
     },
     "execution_count": 142,
     "metadata": {},
     "output_type": "execute_result"
    }
   ],
   "source": [
    "#  Write a NumPy program to create a 5x5 matrix with row values ranging from 0 to 4. \n",
    "\n",
    "x=np.zeros((5,5))"
   ]
  },
  {
   "cell_type": "code",
   "execution_count": 146,
   "id": "61c5d78c",
   "metadata": {},
   "outputs": [
    {
     "data": {
      "text/plain": [
       "True"
      ]
     },
     "execution_count": 146,
     "metadata": {},
     "output_type": "execute_result"
    }
   ],
   "source": [
    "# Write a NumPy program to test whether specified values are present in an array. \n",
    "x = np.array([[1.12, 2.0, 3.45], [2.33, 5.12, 6.0]], float) \n",
    "\n",
    "5.12 in x\n"
   ]
  },
  {
   "cell_type": "code",
   "execution_count": 152,
   "id": "26e9fb13",
   "metadata": {},
   "outputs": [
    {
     "data": {
      "text/plain": [
       "array([0.        , 0.11111111, 0.22222222, 0.33333333, 0.44444444,\n",
       "       0.55555556, 0.66666667, 0.77777778, 0.88888889, 1.        ])"
      ]
     },
     "execution_count": 152,
     "metadata": {},
     "output_type": "execute_result"
    }
   ],
   "source": [
    "# Write a NumPy program to create a vector of size 10 with values ranging from 0 to 1, both excluded. \n",
    "\n",
    "np.linspace(0,1,10,endpoint=True)"
   ]
  },
  {
   "cell_type": "code",
   "execution_count": 153,
   "id": "66d4ef65",
   "metadata": {},
   "outputs": [
    {
     "data": {
      "text/plain": [
       "False"
      ]
     },
     "execution_count": 153,
     "metadata": {},
     "output_type": "execute_result"
    }
   ],
   "source": [
    "# Write a NumPy program to make an array immutable\n",
    "\n",
    "original_array.flags.writeable == False"
   ]
  },
  {
   "cell_type": "code",
   "execution_count": 157,
   "id": "8eb9498f",
   "metadata": {},
   "outputs": [
    {
     "data": {
      "text/plain": [
       "False"
      ]
     },
     "execution_count": 157,
     "metadata": {},
     "output_type": "execute_result"
    }
   ],
   "source": [
    "original_array[-1][-1] == 800"
   ]
  },
  {
   "cell_type": "code",
   "execution_count": 158,
   "id": "06232b5e",
   "metadata": {},
   "outputs": [
    {
     "data": {
      "text/plain": [
       "array([[ 0, 10, 20],\n",
       "       [20, 30, 40]])"
      ]
     },
     "execution_count": 158,
     "metadata": {},
     "output_type": "execute_result"
    }
   ],
   "source": [
    "original_array"
   ]
  },
  {
   "cell_type": "code",
   "execution_count": 160,
   "id": "7e89b21b",
   "metadata": {},
   "outputs": [
    {
     "data": {
      "text/plain": [
       "array([  0.,   1.,   2.,   3.,   4.,   5.,   6.,   7.,   8.,   9.,  10.,\n",
       "        11.,  12.,  13.,  14.,  15.,  16.,  17.,  18.,  19.,  20.,  21.,\n",
       "        22.,  23.,  24.,  25.,  26.,  27.,  28.,  29.,  30.,  31.,  32.,\n",
       "        33.,  34.,  35.,  36.,  37.,  38.,  39.,  40.,  41.,  42.,  43.,\n",
       "        44.,  45.,  46.,  47.,  48.,  49.,  50.,  51.,  52.,  53.,  54.,\n",
       "        55.,  56.,  57.,  58.,  59.,  60.,  61.,  62.,  63.,  64.,  65.,\n",
       "        66.,  67.,  68.,  69.,  70.,  71.,  72.,  73.,  74.,  75.,  76.,\n",
       "        77.,  78.,  79.,  80.,  81.,  82.,  83.,  84.,  85.,  86.,  87.,\n",
       "        88.,  89.,  90.,  91.,  92.,  93.,  94.,  95.,  96.,  97.,  98.,\n",
       "        99., 100., 101., 102., 103., 104., 105., 106., 107., 108., 109.,\n",
       "       110., 111., 112., 113., 114., 115., 116., 117., 118., 119., 120.,\n",
       "       121., 122., 123., 124., 125., 126., 127., 128., 129., 130., 131.,\n",
       "       132., 133., 134., 135., 136., 137., 138., 139., 140., 141., 142.,\n",
       "       143., 144., 145., 146., 147., 148., 149., 150., 151., 152., 153.,\n",
       "       154., 155., 156., 157., 158., 159., 160., 161., 162., 163., 164.,\n",
       "       165., 166., 167., 168., 169., 170., 171., 172., 173., 174., 175.,\n",
       "       176., 177., 178., 179., 180., 181., 182., 183., 184., 185., 186.,\n",
       "       187., 188., 189., 190., 191., 192., 193., 194., 195., 196., 197.,\n",
       "       198., 199., 200., 201., 202., 203., 204., 205., 206., 207., 208.,\n",
       "       209., 210., 211., 212., 213., 214., 215., 216., 217., 218., 219.,\n",
       "       220., 221., 222., 223., 224., 225., 226., 227., 228., 229., 230.,\n",
       "       231., 232., 233., 234., 235., 236., 237., 238., 239., 240., 241.,\n",
       "       242., 243., 244., 245., 246., 247., 248., 249., 250., 251., 252.,\n",
       "       253., 254., 255., 256., 257., 258., 259., 260., 261., 262., 263.,\n",
       "       264., 265., 266., 267., 268., 269., 270., 271., 272., 273., 274.,\n",
       "       275., 276., 277., 278., 279., 280., 281., 282., 283., 284., 285.,\n",
       "       286., 287., 288., 289., 290., 291., 292., 293., 294., 295., 296.,\n",
       "       297., 298., 299., 300., 301., 302., 303., 304., 305., 306., 307.,\n",
       "       308., 309., 310., 311., 312., 313., 314., 315., 316., 317., 318.,\n",
       "       319., 320., 321., 322., 323., 324., 325., 326., 327., 328., 329.,\n",
       "       330., 331., 332., 333., 334., 335., 336., 337., 338., 339., 340.,\n",
       "       341., 342., 343., 344., 345., 346., 347., 348., 349., 350., 351.,\n",
       "       352., 353., 354., 355., 356., 357., 358., 359., 360., 361., 362.,\n",
       "       363., 364., 365., 366., 367., 368., 369., 370., 371., 372., 373.,\n",
       "       374., 375., 376., 377., 378., 379., 380., 381., 382., 383., 384.,\n",
       "       385., 386., 387., 388., 389., 390., 391., 392., 393., 394., 395.,\n",
       "       396., 397., 398., 399., 400., 401., 402., 403., 404., 405., 406.,\n",
       "       407., 408., 409., 410., 411., 412., 413., 414., 415., 416., 417.,\n",
       "       418., 419., 420., 421., 422., 423., 424., 425., 426., 427., 428.,\n",
       "       429., 430., 431., 432., 433., 434., 435., 436., 437., 438., 439.,\n",
       "       440., 441., 442., 443., 444., 445., 446., 447., 448., 449., 450.,\n",
       "       451., 452., 453., 454., 455., 456., 457., 458., 459., 460., 461.,\n",
       "       462., 463., 464., 465., 466., 467., 468., 469., 470., 471., 472.,\n",
       "       473., 474., 475., 476., 477., 478., 479., 480., 481., 482., 483.,\n",
       "       484., 485., 486., 487., 488., 489., 490., 491., 492., 493., 494.,\n",
       "       495., 496., 497., 498., 499., 500., 501., 502., 503., 504., 505.,\n",
       "       506., 507., 508., 509., 510., 511., 512., 513., 514., 515., 516.,\n",
       "       517., 518., 519., 520., 521., 522., 523., 524., 525., 526., 527.,\n",
       "       528., 529., 530., 531., 532., 533., 534., 535., 536., 537., 538.,\n",
       "       539., 540., 541., 542., 543., 544., 545., 546., 547., 548., 549.,\n",
       "       550., 551., 552., 553., 554., 555., 556., 557., 558., 559., 560.,\n",
       "       561., 562., 563., 564., 565., 566., 567., 568., 569., 570., 571.,\n",
       "       572., 573., 574., 575., 576., 577., 578., 579., 580., 581., 582.,\n",
       "       583., 584., 585., 586., 587., 588., 589., 590., 591., 592., 593.,\n",
       "       594., 595., 596., 597., 598., 599., 600., 601., 602., 603., 604.,\n",
       "       605., 606., 607., 608., 609., 610., 611., 612., 613., 614., 615.,\n",
       "       616., 617., 618., 619., 620., 621., 622., 623., 624., 625., 626.,\n",
       "       627., 628., 629., 630., 631., 632., 633., 634., 635., 636., 637.,\n",
       "       638., 639., 640., 641., 642., 643., 644., 645., 646., 647., 648.,\n",
       "       649., 650., 651., 652., 653., 654., 655., 656., 657., 658., 659.,\n",
       "       660., 661., 662., 663., 664., 665., 666., 667., 668., 669., 670.,\n",
       "       671., 672., 673., 674., 675., 676., 677., 678., 679., 680., 681.,\n",
       "       682., 683., 684., 685., 686., 687., 688., 689., 690., 691., 692.,\n",
       "       693., 694., 695., 696., 697., 698., 699., 700., 701., 702., 703.,\n",
       "       704., 705., 706., 707., 708., 709., 710., 711., 712., 713., 714.,\n",
       "       715., 716., 717., 718., 719., 720., 721., 722., 723., 724., 725.,\n",
       "       726., 727., 728., 729., 730., 731., 732., 733., 734., 735., 736.,\n",
       "       737., 738., 739., 740., 741., 742., 743., 744., 745., 746., 747.,\n",
       "       748., 749., 750., 751., 752., 753., 754., 755., 756., 757., 758.,\n",
       "       759., 760., 761., 762., 763., 764., 765., 766., 767., 768., 769.,\n",
       "       770., 771., 772., 773., 774., 775., 776., 777., 778., 779., 780.,\n",
       "       781., 782., 783., 784., 785., 786., 787., 788., 789., 790., 791.,\n",
       "       792., 793., 794., 795., 796., 797., 798., 799., 800., 801., 802.,\n",
       "       803., 804., 805., 806., 807., 808., 809., 810., 811., 812., 813.,\n",
       "       814., 815., 816., 817., 818., 819., 820., 821., 822., 823., 824.,\n",
       "       825., 826., 827., 828., 829., 830., 831., 832., 833., 834., 835.,\n",
       "       836., 837., 838., 839., 840., 841., 842., 843., 844., 845., 846.,\n",
       "       847., 848., 849., 850., 851., 852., 853., 854., 855., 856., 857.,\n",
       "       858., 859., 860., 861., 862., 863., 864., 865., 866., 867., 868.,\n",
       "       869., 870., 871., 872., 873., 874., 875., 876., 877., 878., 879.,\n",
       "       880., 881., 882., 883., 884., 885., 886., 887., 888., 889., 890.,\n",
       "       891., 892., 893., 894., 895., 896., 897., 898., 899., 900., 901.,\n",
       "       902., 903., 904., 905., 906., 907., 908., 909., 910., 911., 912.,\n",
       "       913., 914., 915., 916., 917., 918., 919., 920., 921., 922., 923.,\n",
       "       924., 925., 926., 927., 928., 929., 930., 931., 932., 933., 934.,\n",
       "       935., 936., 937., 938., 939., 940., 941., 942., 943., 944., 945.,\n",
       "       946., 947., 948., 949., 950., 951., 952., 953., 954., 955., 956.,\n",
       "       957., 958., 959., 960., 961., 962., 963., 964., 965., 966., 967.,\n",
       "       968., 969., 970., 971., 972., 973., 974., 975., 976., 977., 978.,\n",
       "       979., 980., 981., 982., 983., 984., 985., 986., 987., 988., 989.,\n",
       "       990., 991., 992., 993., 994., 995., 996., 997., 998., 999.])"
      ]
     },
     "execution_count": 160,
     "metadata": {},
     "output_type": "execute_result"
    }
   ],
   "source": [
    "# Write a NumPy program to create an array with 10^3 elements. \n",
    "\n",
    "np.arange(1e3\n",
    "         )"
   ]
  },
  {
   "cell_type": "code",
   "execution_count": 171,
   "id": "65d77e88",
   "metadata": {},
   "outputs": [
    {
     "name": "stdout",
     "output_type": "stream",
     "text": [
      "[[ 0  1  2  3]\n",
      " [ 4  5  6  7]\n",
      " [ 8  9 10 11]]\n"
     ]
    }
   ],
   "source": [
    "# Write a NumPy program to create and display every element of a NumPy array.\n",
    "\n",
    "x = np.arange(12).reshape(3, 4)\n",
    "\n",
    "print(x[:])"
   ]
  },
  {
   "cell_type": "code",
   "execution_count": 172,
   "id": "be8e62bd",
   "metadata": {},
   "outputs": [
    {
     "data": {
      "text/plain": [
       "array([[[1., 1., 1., 1., 1.],\n",
       "        [1., 1., 1., 1., 1.],\n",
       "        [1., 1., 1., 1., 1.],\n",
       "        [1., 1., 1., 1., 1.],\n",
       "        [1., 1., 1., 1., 1.]],\n",
       "\n",
       "       [[1., 1., 1., 1., 1.],\n",
       "        [1., 1., 1., 1., 1.],\n",
       "        [1., 1., 1., 1., 1.],\n",
       "        [1., 1., 1., 1., 1.],\n",
       "        [1., 1., 1., 1., 1.]],\n",
       "\n",
       "       [[1., 1., 1., 1., 1.],\n",
       "        [1., 1., 1., 1., 1.],\n",
       "        [1., 1., 1., 1., 1.],\n",
       "        [1., 1., 1., 1., 1.],\n",
       "        [1., 1., 1., 1., 1.]],\n",
       "\n",
       "       [[1., 1., 1., 1., 1.],\n",
       "        [1., 1., 1., 1., 1.],\n",
       "        [1., 1., 1., 1., 1.],\n",
       "        [1., 1., 1., 1., 1.],\n",
       "        [1., 1., 1., 1., 1.]],\n",
       "\n",
       "       [[1., 1., 1., 1., 1.],\n",
       "        [1., 1., 1., 1., 1.],\n",
       "        [1., 1., 1., 1., 1.],\n",
       "        [1., 1., 1., 1., 1.],\n",
       "        [1., 1., 1., 1., 1.]]])"
      ]
     },
     "execution_count": 172,
     "metadata": {},
     "output_type": "execute_result"
    }
   ],
   "source": [
    "#  Write a NumPy program to create a 5x5x5 cube of 1's. \n",
    "\n",
    "np.ones((5,5,5))"
   ]
  },
  {
   "cell_type": "code",
   "execution_count": 173,
   "id": "9194ef4a",
   "metadata": {},
   "outputs": [],
   "source": [
    "# Write a NumPy program to create an array of (3, 4) shapes, multiply every element value by 3 and display the result array.\n",
    "\n",
    "original_array = np.arange(12).reshape(3,4)"
   ]
  },
  {
   "cell_type": "code",
   "execution_count": 174,
   "id": "3cccb0fc",
   "metadata": {},
   "outputs": [
    {
     "data": {
      "text/plain": [
       "array([[ 0,  1,  2,  3],\n",
       "       [ 4,  5,  6,  7],\n",
       "       [ 8,  9, 10, 11]])"
      ]
     },
     "execution_count": 174,
     "metadata": {},
     "output_type": "execute_result"
    }
   ],
   "source": [
    "original_array"
   ]
  },
  {
   "cell_type": "code",
   "execution_count": 175,
   "id": "341c75d2",
   "metadata": {},
   "outputs": [],
   "source": [
    "original_array = original_array * 3"
   ]
  },
  {
   "cell_type": "code",
   "execution_count": 176,
   "id": "75bab030",
   "metadata": {},
   "outputs": [
    {
     "data": {
      "text/plain": [
       "array([[ 0,  3,  6,  9],\n",
       "       [12, 15, 18, 21],\n",
       "       [24, 27, 30, 33]])"
      ]
     },
     "execution_count": 176,
     "metadata": {},
     "output_type": "execute_result"
    }
   ],
   "source": [
    "original_array"
   ]
  },
  {
   "cell_type": "code",
   "execution_count": 177,
   "id": "63a5ceb5",
   "metadata": {},
   "outputs": [],
   "source": [
    "#  Write a NumPy program to combine a one and two dimensional array together and display their elements. "
   ]
  },
  {
   "cell_type": "code",
   "execution_count": 178,
   "id": "d3d46b17",
   "metadata": {},
   "outputs": [
    {
     "name": "stdout",
     "output_type": "stream",
     "text": [
      "One dimensional array:\n",
      "[0 1 2 3]\n",
      "Two dimensional array:\n",
      "[[0 1 2 3]\n",
      " [4 5 6 7]]\n",
      "0:0\n",
      "1:1\n",
      "2:2\n",
      "3:3\n",
      "0:4\n",
      "1:5\n",
      "2:6\n",
      "3:7\n"
     ]
    }
   ],
   "source": [
    "x = np.arange(4)\n",
    "print(\"One dimensional array:\")\n",
    "print(x)\n",
    "y = np.arange(8).reshape(2,4)\n",
    "print(\"Two dimensional array:\")\n",
    "print(y)\n",
    "for a, b in np.nditer([x,y]):\n",
    "    print(\"%d:%d\" % (a,b),)\n"
   ]
  },
  {
   "cell_type": "code",
   "execution_count": 184,
   "id": "801b1453",
   "metadata": {},
   "outputs": [],
   "source": [
    "# Write a NumPy program to create an array of zeros and three column types (integer, floating, and character).\n",
    "\n",
    "x = np.zeros((3,), dtype=('i4,f4,a40'))\n",
    "new_data = [(1, 2., \"Albert Einstein\"), (2, 2., \"Edmond Halley\"), (3, 3., \"Gertrude B. Elion\")]\n",
    "x[:] = new_data"
   ]
  },
  {
   "cell_type": "code",
   "execution_count": 185,
   "id": "4d21fcb6",
   "metadata": {},
   "outputs": [
    {
     "name": "stdout",
     "output_type": "stream",
     "text": [
      "[(1, 2., b'Albert Einstein') (2, 2., b'Edmond Halley')\n",
      " (3, 3., b'Gertrude B. Elion')]\n"
     ]
    }
   ],
   "source": [
    "print(x)"
   ]
  },
  {
   "cell_type": "code",
   "execution_count": 191,
   "id": "4185ba50",
   "metadata": {},
   "outputs": [],
   "source": [
    "# Write a NumPy program to create a function cube for all array elements.\n",
    "\n",
    "original_array = np.array([1,2,3])\n",
    "new_array = np.power(original_array,3\n",
    "                    )\n"
   ]
  },
  {
   "cell_type": "code",
   "execution_count": 192,
   "id": "b2829456",
   "metadata": {},
   "outputs": [
    {
     "data": {
      "text/plain": [
       "array([ 1,  8, 27], dtype=int32)"
      ]
     },
     "execution_count": 192,
     "metadata": {},
     "output_type": "execute_result"
    }
   ],
   "source": [
    "new_array"
   ]
  },
  {
   "cell_type": "code",
   "execution_count": 193,
   "id": "a3ae4642",
   "metadata": {},
   "outputs": [],
   "source": [
    "# Write a NumPy program to create an array of (3, 4) shapes and convert the array elements into smaller chunks.\n",
    "\n",
    "x= np.arange(12).reshape(3, 4)"
   ]
  },
  {
   "cell_type": "code",
   "execution_count": 194,
   "id": "91044c1c",
   "metadata": {},
   "outputs": [
    {
     "data": {
      "text/plain": [
       "array([[ 0,  4,  8],\n",
       "       [ 1,  5,  9],\n",
       "       [ 2,  6, 10],\n",
       "       [ 3,  7, 11]])"
      ]
     },
     "execution_count": 194,
     "metadata": {},
     "output_type": "execute_result"
    }
   ],
   "source": [
    "np.transpose(x)"
   ]
  },
  {
   "cell_type": "code",
   "execution_count": 195,
   "id": "9b3fc63c",
   "metadata": {},
   "outputs": [],
   "source": [
    "# Write a NumPy program to create a record array from a (flat) list of arrays.\n",
    "# Sample arrays: [1,2,3,4], ['Red', 'Green', 'White', 'Orange'], [12.20,15,20,40]\n",
    "\n",
    "a1=np.array([1,2,3,4])\n",
    "a2=np.array(['Red','Green','White','Orange'])\n",
    "a3=np.array([12.20,15,20,40])"
   ]
  },
  {
   "cell_type": "code",
   "execution_count": 196,
   "id": "443e8cd6",
   "metadata": {},
   "outputs": [],
   "source": [
    "results = np.core.records.fromarrays([a1,a2,a3],names='a,b,c')\n"
   ]
  },
  {
   "cell_type": "code",
   "execution_count": 197,
   "id": "dc39fd59",
   "metadata": {},
   "outputs": [
    {
     "name": "stdout",
     "output_type": "stream",
     "text": [
      "[(1, 'Red', 12.2) (2, 'Green', 15. ) (3, 'White', 20. )\n",
      " (4, 'Orange', 40. )]\n"
     ]
    }
   ],
   "source": [
    "print(results)"
   ]
  },
  {
   "cell_type": "code",
   "execution_count": 198,
   "id": "68ce0493",
   "metadata": {},
   "outputs": [
    {
     "data": {
      "text/plain": [
       "array([[0, 1],\n",
       "       [2, 3],\n",
       "       [4, 5]])"
      ]
     },
     "execution_count": 198,
     "metadata": {},
     "output_type": "execute_result"
    }
   ],
   "source": [
    "#  Write a NumPy program to convert a NumPy array into a Python list structure.\n",
    "# Expected Output:\n",
    "\n",
    "original_array = np.array([[0,1],[2,3],[4,5]])\n",
    "original_array"
   ]
  },
  {
   "cell_type": "code",
   "execution_count": 200,
   "id": "814bea04",
   "metadata": {},
   "outputs": [],
   "source": [
    "list = original_array.tolist()"
   ]
  },
  {
   "cell_type": "code",
   "execution_count": 201,
   "id": "6548a2e3",
   "metadata": {},
   "outputs": [
    {
     "name": "stdout",
     "output_type": "stream",
     "text": [
      "[[0, 1], [2, 3], [4, 5]]\n"
     ]
    }
   ],
   "source": [
    "print(list)"
   ]
  },
  {
   "cell_type": "code",
   "execution_count": 202,
   "id": "338372e0",
   "metadata": {},
   "outputs": [
    {
     "data": {
      "text/plain": [
       "array([[0, 1],\n",
       "       [2, 3],\n",
       "       [4, 5]])"
      ]
     },
     "execution_count": 202,
     "metadata": {},
     "output_type": "execute_result"
    }
   ],
   "source": [
    "# Write a NumPy program to access an array by column. \n",
    "\n",
    "original_array"
   ]
  },
  {
   "cell_type": "code",
   "execution_count": 203,
   "id": "3dbd5654",
   "metadata": {},
   "outputs": [
    {
     "data": {
      "text/plain": [
       "array([0, 1])"
      ]
     },
     "execution_count": 203,
     "metadata": {},
     "output_type": "execute_result"
    }
   ],
   "source": [
    "original_array[0]"
   ]
  },
  {
   "cell_type": "code",
   "execution_count": 204,
   "id": "19945da0",
   "metadata": {},
   "outputs": [
    {
     "data": {
      "text/plain": [
       "array([[12.  , 12.51],\n",
       "       [ 2.34,  7.98],\n",
       "       [25.23, 36.5 ]])"
      ]
     },
     "execution_count": 204,
     "metadata": {},
     "output_type": "execute_result"
    }
   ],
   "source": [
    "# Write a NumPy program to convert a NumPy array of floating values to a numpy array of integer values.\n",
    "\n",
    "x= np.array([[12.0, 12.51], [2.34, 7.98], [25.23, 36.50]])\n",
    "x"
   ]
  },
  {
   "cell_type": "code",
   "execution_count": 205,
   "id": "ce7092f9",
   "metadata": {},
   "outputs": [
    {
     "data": {
      "text/plain": [
       "array([[12, 12],\n",
       "       [ 2,  7],\n",
       "       [25, 36]])"
      ]
     },
     "execution_count": 205,
     "metadata": {},
     "output_type": "execute_result"
    }
   ],
   "source": [
    "x.astype(dtype = np.int32)"
   ]
  },
  {
   "cell_type": "code",
   "execution_count": 206,
   "id": "45a331aa",
   "metadata": {},
   "outputs": [],
   "source": [
    "# Write a NumPy program to display a NumPy array of floating values with precision.\n",
    "\n",
    "x=np.array([ 0.26153123, 0.52760141, 0.5718299, 0.5927067, 0.7831874, 0.69746349,             \n",
    "  0.35399976, 0.99469633, 0.0694458, 0.54711478]) "
   ]
  },
  {
   "cell_type": "code",
   "execution_count": 207,
   "id": "094a237c",
   "metadata": {},
   "outputs": [
    {
     "data": {
      "text/plain": [
       "array([0.26153123, 0.52760141, 0.5718299 , 0.5927067 , 0.7831874 ,\n",
       "       0.69746349, 0.35399976, 0.99469633, 0.0694458 , 0.54711478])"
      ]
     },
     "execution_count": 207,
     "metadata": {},
     "output_type": "execute_result"
    }
   ],
   "source": [
    "x"
   ]
  },
  {
   "cell_type": "code",
   "execution_count": 208,
   "id": "d3a78a5b",
   "metadata": {},
   "outputs": [],
   "source": [
    "np.set_printoptions(precision=3)"
   ]
  },
  {
   "cell_type": "code",
   "execution_count": 209,
   "id": "4c20d328",
   "metadata": {},
   "outputs": [
    {
     "data": {
      "text/plain": [
       "array([0.262, 0.528, 0.572, 0.593, 0.783, 0.697, 0.354, 0.995, 0.069,\n",
       "       0.547])"
      ]
     },
     "execution_count": 209,
     "metadata": {},
     "output_type": "execute_result"
    }
   ],
   "source": [
    "x"
   ]
  },
  {
   "cell_type": "code",
   "execution_count": 210,
   "id": "aab6cab7",
   "metadata": {},
   "outputs": [],
   "source": [
    "# Write a NumPy program to suppress the use of scientific notation for small numbers in a NumPy array. \n",
    "\n",
    "x=np.array([1.6e-10, 1.6, 1200, .235]) "
   ]
  },
  {
   "cell_type": "code",
   "execution_count": 211,
   "id": "7981585c",
   "metadata": {},
   "outputs": [],
   "source": [
    "np.set_printoptions(suppress=True)"
   ]
  },
  {
   "cell_type": "code",
   "execution_count": 212,
   "id": "e7e35d4f",
   "metadata": {},
   "outputs": [
    {
     "data": {
      "text/plain": [
       "array([   0.   ,    1.6  , 1200.   ,    0.235])"
      ]
     },
     "execution_count": 212,
     "metadata": {},
     "output_type": "execute_result"
    }
   ],
   "source": [
    "x"
   ]
  },
  {
   "cell_type": "code",
   "execution_count": 217,
   "id": "71ada282",
   "metadata": {},
   "outputs": [],
   "source": [
    "# Write a NumPy program to add an extra column to a NumPy array.\n",
    "\n",
    "array_1 = np.array([[10,20,30],[40,50,60]])\n",
    "array_2 = np.array([[100],[200]])"
   ]
  },
  {
   "cell_type": "code",
   "execution_count": 218,
   "id": "2c7f69c7",
   "metadata": {},
   "outputs": [
    {
     "data": {
      "text/plain": [
       "array([[10, 20, 30],\n",
       "       [40, 50, 60]])"
      ]
     },
     "execution_count": 218,
     "metadata": {},
     "output_type": "execute_result"
    }
   ],
   "source": [
    "array_1"
   ]
  },
  {
   "cell_type": "code",
   "execution_count": 219,
   "id": "859e3845",
   "metadata": {},
   "outputs": [
    {
     "data": {
      "text/plain": [
       "array([[100],\n",
       "       [200]])"
      ]
     },
     "execution_count": 219,
     "metadata": {},
     "output_type": "execute_result"
    }
   ],
   "source": [
    "array_2"
   ]
  },
  {
   "cell_type": "code",
   "execution_count": 221,
   "id": "bf10ab63",
   "metadata": {},
   "outputs": [
    {
     "data": {
      "text/plain": [
       "array([[ 10,  20,  30, 100],\n",
       "       [ 40,  50,  60, 200]])"
      ]
     },
     "execution_count": 221,
     "metadata": {},
     "output_type": "execute_result"
    }
   ],
   "source": [
    "np.append(array_1,array_2,1)"
   ]
  },
  {
   "cell_type": "code",
   "execution_count": 223,
   "id": "a20a4972",
   "metadata": {},
   "outputs": [
    {
     "name": "stdout",
     "output_type": "stream",
     "text": [
      "Original array:\n",
      "[[20 20 20  0]\n",
      " [ 0 20 20 20]\n",
      " [ 0 20 20 20]\n",
      " [20 20 20  0]\n",
      " [10 20 20 20]]\n"
     ]
    }
   ],
   "source": [
    "# Write a NumPy program to find distinct rows in a NumPy array.\n",
    "\n",
    "x = np.array([[20, 20, 20, 0],\n",
    "              [0, 20, 20, 20],\n",
    "              [0, 20, 20, 20],\n",
    "              [20, 20, 20, 0],\n",
    "              [10, 20, 20,20]])\n",
    "print(\"Original array:\")\n",
    "print(x)"
   ]
  },
  {
   "cell_type": "code",
   "execution_count": 224,
   "id": "adc8a3e5",
   "metadata": {},
   "outputs": [
    {
     "name": "stdout",
     "output_type": "stream",
     "text": [
      "Unique rows of the above array:\n",
      "[[ 0 20 20 20]\n",
      " [10 20 20 20]\n",
      " [20 20 20  0]]\n"
     ]
    }
   ],
   "source": [
    "y = np.ascontiguousarray(x).view(np.dtype((np.void, x.dtype.itemsize * x.shape[1])))\n",
    "_, idx = np.unique(y, return_index=True)\n",
    "\n",
    "unique_result = x[idx]\n",
    "print(\"Unique rows of the above array:\")\n",
    "print(unique_result)"
   ]
  },
  {
   "cell_type": "code",
   "execution_count": 225,
   "id": "fcede587",
   "metadata": {},
   "outputs": [
    {
     "name": "stdout",
     "output_type": "stream",
     "text": [
      "Original array:\n",
      "[[0.424 0.486 0.329]\n",
      " [0.744 0.582 0.382]\n",
      " [0.51  0.345 0.156]]\n"
     ]
    }
   ],
   "source": [
    "# Write a NumPy program to replace all elements of NumPy array that are greater than the specified array.\n",
    "x = np.array([[ 0.42436315, 0.48558583, 0.32924763], [ 0.7439979,0.58220701,0.38213418], [ 0.5097581,0.34528799,0.1563123 ]])\n",
    "print(\"Original array:\")\n",
    "print(x)\n"
   ]
  },
  {
   "cell_type": "code",
   "execution_count": 229,
   "id": "e984d9a4",
   "metadata": {},
   "outputs": [],
   "source": [
    "x[x>.5] = 0.5"
   ]
  },
  {
   "cell_type": "code",
   "execution_count": 230,
   "id": "dd02b2e6",
   "metadata": {},
   "outputs": [
    {
     "data": {
      "text/plain": [
       "array([[0.424, 0.486, 0.329],\n",
       "       [0.5  , 0.5  , 0.382],\n",
       "       [0.5  , 0.345, 0.156]])"
      ]
     },
     "execution_count": 230,
     "metadata": {},
     "output_type": "execute_result"
    }
   ],
   "source": [
    "x"
   ]
  },
  {
   "cell_type": "code",
   "execution_count": 233,
   "id": "304e8b81",
   "metadata": {},
   "outputs": [],
   "source": [
    "#  Write a NumPy program to remove specific elements from a NumPy array\n",
    "\n",
    "original_array = np.linspace(10,100,10)"
   ]
  },
  {
   "cell_type": "code",
   "execution_count": 234,
   "id": "ed2534c4",
   "metadata": {},
   "outputs": [
    {
     "data": {
      "text/plain": [
       "array([ 10.,  20.,  30.,  40.,  50.,  60.,  70.,  80.,  90., 100.])"
      ]
     },
     "execution_count": 234,
     "metadata": {},
     "output_type": "execute_result"
    }
   ],
   "source": [
    "original_array"
   ]
  },
  {
   "cell_type": "code",
   "execution_count": 235,
   "id": "e80a8e68",
   "metadata": {},
   "outputs": [],
   "source": [
    "delete_index = [0,3,4]"
   ]
  },
  {
   "cell_type": "code",
   "execution_count": 236,
   "id": "c0456eb1",
   "metadata": {},
   "outputs": [
    {
     "data": {
      "text/plain": [
       "array([ 20.,  30.,  60.,  70.,  80.,  90., 100.])"
      ]
     },
     "execution_count": 236,
     "metadata": {},
     "output_type": "execute_result"
    }
   ],
   "source": [
    "np.delete(original_array,delete_index)"
   ]
  },
  {
   "cell_type": "code",
   "execution_count": 237,
   "id": "68f7e437",
   "metadata": {},
   "outputs": [
    {
     "data": {
      "text/plain": [
       "array([-1, -4,  0,  2,  3,  4,  5, -6])"
      ]
     },
     "execution_count": 237,
     "metadata": {},
     "output_type": "execute_result"
    }
   ],
   "source": [
    "#  Write a NumPy program to replace the negative values in a NumPy array with 0. \n",
    "\n",
    "original_array = np.array([-1,-4,0,2,3,4,5,-6])\n",
    "original_array"
   ]
  },
  {
   "cell_type": "code",
   "execution_count": 241,
   "id": "e52f918e",
   "metadata": {},
   "outputs": [],
   "source": [
    "original_array[original_array[:] < 0] = 0"
   ]
  },
  {
   "cell_type": "code",
   "execution_count": 242,
   "id": "5b1c68a5",
   "metadata": {},
   "outputs": [
    {
     "data": {
      "text/plain": [
       "array([0, 0, 0, 2, 3, 4, 5, 0])"
      ]
     },
     "execution_count": 242,
     "metadata": {},
     "output_type": "execute_result"
    }
   ],
   "source": [
    "original_array"
   ]
  },
  {
   "cell_type": "code",
   "execution_count": 243,
   "id": "d108433e",
   "metadata": {},
   "outputs": [
    {
     "data": {
      "text/plain": [
       "array([[ 1.,  2.,  3.],\n",
       "       [ 4.,  5., nan],\n",
       "       [ 7.,  8.,  9.],\n",
       "       [ 1.,  0.,  1.]])"
      ]
     },
     "execution_count": 243,
     "metadata": {},
     "output_type": "execute_result"
    }
   ],
   "source": [
    "# Write a NumPy program to remove all rows in a NumPy array that contain non-numeric values. \n",
    "x = np.array([[1,2,3], [4,5,np.nan], [7,8,9], [True, False, True]])\n",
    "x\n"
   ]
  },
  {
   "cell_type": "code",
   "execution_count": 244,
   "id": "d896aaef",
   "metadata": {},
   "outputs": [
    {
     "data": {
      "text/plain": [
       "array([[1., 2., 3.],\n",
       "       [7., 8., 9.],\n",
       "       [1., 0., 1.]])"
      ]
     },
     "execution_count": 244,
     "metadata": {},
     "output_type": "execute_result"
    }
   ],
   "source": [
    "x[~np.isnan(x).any(axis = 1)]"
   ]
  },
  {
   "cell_type": "code",
   "execution_count": 245,
   "id": "40116c85",
   "metadata": {},
   "outputs": [],
   "source": [
    "# Write a NumPy program to select indices satisfying multiple conditions in a NumPy array.\n",
    "a = np.array([97, 101, 105, 111, 117])\n",
    "b = np.array(['a','e','i','o','u'])\n"
   ]
  },
  {
   "cell_type": "code",
   "execution_count": 246,
   "id": "f2c77295",
   "metadata": {},
   "outputs": [
    {
     "data": {
      "text/plain": [
       "array([ True, False, False, False, False])"
      ]
     },
     "execution_count": 246,
     "metadata": {},
     "output_type": "execute_result"
    }
   ],
   "source": [
    "a<100"
   ]
  },
  {
   "cell_type": "code",
   "execution_count": 247,
   "id": "c0fd986d",
   "metadata": {},
   "outputs": [
    {
     "data": {
      "text/plain": [
       "array([False,  True,  True,  True,  True])"
      ]
     },
     "execution_count": 247,
     "metadata": {},
     "output_type": "execute_result"
    }
   ],
   "source": []
  },
  {
   "cell_type": "code",
   "execution_count": 248,
   "id": "2711e324",
   "metadata": {},
   "outputs": [
    {
     "data": {
      "text/plain": [
       "array(['e', 'i'], dtype='<U1')"
      ]
     },
     "execution_count": 248,
     "metadata": {},
     "output_type": "execute_result"
    }
   ],
   "source": [
    "b[(100<a)&(a<110)]"
   ]
  },
  {
   "cell_type": "code",
   "execution_count": 253,
   "id": "4d217bd3",
   "metadata": {},
   "outputs": [
    {
     "data": {
      "text/plain": [
       "array([1, 2, 3, 4, 5])"
      ]
     },
     "execution_count": 253,
     "metadata": {},
     "output_type": "execute_result"
    }
   ],
   "source": [
    "# Write a NumPy program to get the magnitude of a vector in NumPy. \n",
    "\n",
    "original_array = np.array([1,2,3,4,5])\n",
    "original_array"
   ]
  },
  {
   "cell_type": "code",
   "execution_count": 251,
   "id": "45fbef30",
   "metadata": {},
   "outputs": [],
   "source": []
  },
  {
   "cell_type": "code",
   "execution_count": 254,
   "id": "c1eccd00",
   "metadata": {},
   "outputs": [
    {
     "data": {
      "text/plain": [
       "7.416198487095663"
      ]
     },
     "execution_count": 254,
     "metadata": {},
     "output_type": "execute_result"
    }
   ],
   "source": [
    "np.linalg.norm(original_array)"
   ]
  },
  {
   "cell_type": "code",
   "execution_count": 255,
   "id": "5245c954",
   "metadata": {},
   "outputs": [],
   "source": [
    "# Write a NumPy program to count the frequency of distinct values in a NumPy array.\n",
    "\n",
    "a = np.array( [10,10,20,10,20,20,20,30, 30,50,40,40] )"
   ]
  },
  {
   "cell_type": "code",
   "execution_count": 257,
   "id": "d0136646",
   "metadata": {},
   "outputs": [],
   "source": [
    "unique_elements , count_numbers = np.unique(a,return_counts=True)"
   ]
  },
  {
   "cell_type": "code",
   "execution_count": 259,
   "id": "eb24848f",
   "metadata": {},
   "outputs": [
    {
     "data": {
      "text/plain": [
       "array([[10, 20, 30, 40, 50],\n",
       "       [ 3,  4,  2,  2,  1]], dtype=int64)"
      ]
     },
     "execution_count": 259,
     "metadata": {},
     "output_type": "execute_result"
    }
   ],
   "source": [
    "np.asarray((unique_elements,count_numbers))"
   ]
  },
  {
   "cell_type": "code",
   "execution_count": 260,
   "id": "ba3ee256",
   "metadata": {},
   "outputs": [],
   "source": [
    "# Write a NumPy program to check whether the NumPy array is empty or not. \n",
    "\n",
    "x= np.array([2,2])\n",
    "y = np.array([])"
   ]
  },
  {
   "cell_type": "code",
   "execution_count": 261,
   "id": "21a9ce6f",
   "metadata": {},
   "outputs": [
    {
     "data": {
      "text/plain": [
       "2"
      ]
     },
     "execution_count": 261,
     "metadata": {},
     "output_type": "execute_result"
    }
   ],
   "source": [
    "x.size"
   ]
  },
  {
   "cell_type": "code",
   "execution_count": 262,
   "id": "1047698a",
   "metadata": {},
   "outputs": [
    {
     "data": {
      "text/plain": [
       "0"
      ]
     },
     "execution_count": 262,
     "metadata": {},
     "output_type": "execute_result"
    }
   ],
   "source": [
    "y.size"
   ]
  },
  {
   "cell_type": "code",
   "execution_count": 263,
   "id": "68f103fc",
   "metadata": {},
   "outputs": [
    {
     "name": "stdout",
     "output_type": "stream",
     "text": [
      "Original array:\n",
      "[[20 20 20]\n",
      " [30 30 30]\n",
      " [40 40 40]]\n",
      "Vector:\n"
     ]
    }
   ],
   "source": [
    "# Write a NumPy program to divide each row by a vector element\n",
    "\n",
    "x = np.array([[20,20,20],[30,30,30],[40,40,40]])\n",
    "print(\"Original array:\")\n",
    "print(x)\n",
    "v = np.array([20,30,40])\n",
    "print(\"Vector:\")"
   ]
  },
  {
   "cell_type": "code",
   "execution_count": 264,
   "id": "8b510bf6",
   "metadata": {},
   "outputs": [
    {
     "name": "stdout",
     "output_type": "stream",
     "text": [
      "[20 30 40]\n"
     ]
    }
   ],
   "source": [
    "print(v)"
   ]
  },
  {
   "cell_type": "code",
   "execution_count": 266,
   "id": "626b8813",
   "metadata": {},
   "outputs": [
    {
     "data": {
      "text/plain": [
       "array([[1., 1., 1.],\n",
       "       [1., 1., 1.],\n",
       "       [1., 1., 1.]])"
      ]
     },
     "execution_count": 266,
     "metadata": {},
     "output_type": "execute_result"
    }
   ],
   "source": [
    "x/v[:,None]"
   ]
  },
  {
   "cell_type": "code",
   "execution_count": 267,
   "id": "a243de9c",
   "metadata": {},
   "outputs": [
    {
     "data": {
      "text/plain": [
       "array([10, 20, 30])"
      ]
     },
     "execution_count": 267,
     "metadata": {},
     "output_type": "execute_result"
    }
   ],
   "source": [
    "#  Write a NumPy program to sum and compute the product of a numpy array of elements.\n",
    "\n",
    "original_array = np.array([10,20,30])\n",
    "original_array"
   ]
  },
  {
   "cell_type": "code",
   "execution_count": 268,
   "id": "65a5a0d0",
   "metadata": {},
   "outputs": [
    {
     "data": {
      "text/plain": [
       "60"
      ]
     },
     "execution_count": 268,
     "metadata": {},
     "output_type": "execute_result"
    }
   ],
   "source": [
    "np.sum(original_array)"
   ]
  },
  {
   "cell_type": "code",
   "execution_count": 269,
   "id": "76d83b9b",
   "metadata": {},
   "outputs": [
    {
     "data": {
      "text/plain": [
       "6000"
      ]
     },
     "execution_count": 269,
     "metadata": {},
     "output_type": "execute_result"
    }
   ],
   "source": [
    "np.product(original_array)"
   ]
  },
  {
   "cell_type": "code",
   "execution_count": 270,
   "id": "c1b7228e",
   "metadata": {},
   "outputs": [
    {
     "name": "stdout",
     "output_type": "stream",
     "text": [
      "[   0    1    2    3    4    5    6    7    8    9   10   11   12   13\n",
      "   14   15   16   17   18   19   20   21   22   23   24   25   26   27\n",
      "   28   29   30   31   32   33   34   35   36   37   38   39   40   41\n",
      "   42   43   44   45   46   47   48   49   50   51   52   53   54   55\n",
      "   56   57   58   59   60   61   62   63   64   65   66   67   68   69\n",
      "   70   71   72   73   74   75   76   77   78   79   80   81   82   83\n",
      "   84   85   86   87   88   89   90   91   92   93   94   95   96   97\n",
      "   98   99  100  101  102  103  104  105  106  107  108  109  110  111\n",
      "  112  113  114  115  116  117  118  119  120  121  122  123  124  125\n",
      "  126  127  128  129  130  131  132  133  134  135  136  137  138  139\n",
      "  140  141  142  143  144  145  146  147  148  149  150  151  152  153\n",
      "  154  155  156  157  158  159  160  161  162  163  164  165  166  167\n",
      "  168  169  170  171  172  173  174  175  176  177  178  179  180  181\n",
      "  182  183  184  185  186  187  188  189  190  191  192  193  194  195\n",
      "  196  197  198  199  200  201  202  203  204  205  206  207  208  209\n",
      "  210  211  212  213  214  215  216  217  218  219  220  221  222  223\n",
      "  224  225  226  227  228  229  230  231  232  233  234  235  236  237\n",
      "  238  239  240  241  242  243  244  245  246  247  248  249  250  251\n",
      "  252  253  254  255  256  257  258  259  260  261  262  263  264  265\n",
      "  266  267  268  269  270  271  272  273  274  275  276  277  278  279\n",
      "  280  281  282  283  284  285  286  287  288  289  290  291  292  293\n",
      "  294  295  296  297  298  299  300  301  302  303  304  305  306  307\n",
      "  308  309  310  311  312  313  314  315  316  317  318  319  320  321\n",
      "  322  323  324  325  326  327  328  329  330  331  332  333  334  335\n",
      "  336  337  338  339  340  341  342  343  344  345  346  347  348  349\n",
      "  350  351  352  353  354  355  356  357  358  359  360  361  362  363\n",
      "  364  365  366  367  368  369  370  371  372  373  374  375  376  377\n",
      "  378  379  380  381  382  383  384  385  386  387  388  389  390  391\n",
      "  392  393  394  395  396  397  398  399  400  401  402  403  404  405\n",
      "  406  407  408  409  410  411  412  413  414  415  416  417  418  419\n",
      "  420  421  422  423  424  425  426  427  428  429  430  431  432  433\n",
      "  434  435  436  437  438  439  440  441  442  443  444  445  446  447\n",
      "  448  449  450  451  452  453  454  455  456  457  458  459  460  461\n",
      "  462  463  464  465  466  467  468  469  470  471  472  473  474  475\n",
      "  476  477  478  479  480  481  482  483  484  485  486  487  488  489\n",
      "  490  491  492  493  494  495  496  497  498  499  500  501  502  503\n",
      "  504  505  506  507  508  509  510  511  512  513  514  515  516  517\n",
      "  518  519  520  521  522  523  524  525  526  527  528  529  530  531\n",
      "  532  533  534  535  536  537  538  539  540  541  542  543  544  545\n",
      "  546  547  548  549  550  551  552  553  554  555  556  557  558  559\n",
      "  560  561  562  563  564  565  566  567  568  569  570  571  572  573\n",
      "  574  575  576  577  578  579  580  581  582  583  584  585  586  587\n",
      "  588  589  590  591  592  593  594  595  596  597  598  599  600  601\n",
      "  602  603  604  605  606  607  608  609  610  611  612  613  614  615\n",
      "  616  617  618  619  620  621  622  623  624  625  626  627  628  629\n",
      "  630  631  632  633  634  635  636  637  638  639  640  641  642  643\n",
      "  644  645  646  647  648  649  650  651  652  653  654  655  656  657\n",
      "  658  659  660  661  662  663  664  665  666  667  668  669  670  671\n",
      "  672  673  674  675  676  677  678  679  680  681  682  683  684  685\n",
      "  686  687  688  689  690  691  692  693  694  695  696  697  698  699\n",
      "  700  701  702  703  704  705  706  707  708  709  710  711  712  713\n",
      "  714  715  716  717  718  719  720  721  722  723  724  725  726  727\n",
      "  728  729  730  731  732  733  734  735  736  737  738  739  740  741\n",
      "  742  743  744  745  746  747  748  749  750  751  752  753  754  755\n",
      "  756  757  758  759  760  761  762  763  764  765  766  767  768  769\n",
      "  770  771  772  773  774  775  776  777  778  779  780  781  782  783\n",
      "  784  785  786  787  788  789  790  791  792  793  794  795  796  797\n",
      "  798  799  800  801  802  803  804  805  806  807  808  809  810  811\n",
      "  812  813  814  815  816  817  818  819  820  821  822  823  824  825\n",
      "  826  827  828  829  830  831  832  833  834  835  836  837  838  839\n",
      "  840  841  842  843  844  845  846  847  848  849  850  851  852  853\n",
      "  854  855  856  857  858  859  860  861  862  863  864  865  866  867\n",
      "  868  869  870  871  872  873  874  875  876  877  878  879  880  881\n",
      "  882  883  884  885  886  887  888  889  890  891  892  893  894  895\n",
      "  896  897  898  899  900  901  902  903  904  905  906  907  908  909\n",
      "  910  911  912  913  914  915  916  917  918  919  920  921  922  923\n",
      "  924  925  926  927  928  929  930  931  932  933  934  935  936  937\n",
      "  938  939  940  941  942  943  944  945  946  947  948  949  950  951\n",
      "  952  953  954  955  956  957  958  959  960  961  962  963  964  965\n",
      "  966  967  968  969  970  971  972  973  974  975  976  977  978  979\n",
      "  980  981  982  983  984  985  986  987  988  989  990  991  992  993\n",
      "  994  995  996  997  998  999 1000 1001 1002 1003 1004 1005 1006 1007\n",
      " 1008 1009 1010 1011 1012 1013 1014 1015 1016 1017 1018 1019 1020 1021\n",
      " 1022 1023 1024 1025 1026 1027 1028 1029 1030 1031 1032 1033 1034 1035\n",
      " 1036 1037 1038 1039 1040 1041 1042 1043 1044 1045 1046 1047 1048 1049\n",
      " 1050 1051 1052 1053 1054 1055 1056 1057 1058 1059 1060 1061 1062 1063\n",
      " 1064 1065 1066 1067 1068 1069 1070 1071 1072 1073 1074 1075 1076 1077\n",
      " 1078 1079 1080 1081 1082 1083 1084 1085 1086 1087 1088 1089 1090 1091\n",
      " 1092 1093 1094 1095 1096 1097 1098 1099 1100 1101 1102 1103 1104 1105\n",
      " 1106 1107 1108 1109 1110 1111 1112 1113 1114 1115 1116 1117 1118 1119\n",
      " 1120 1121 1122 1123 1124 1125 1126 1127 1128 1129 1130 1131 1132 1133\n",
      " 1134 1135 1136 1137 1138 1139 1140 1141 1142 1143 1144 1145 1146 1147\n",
      " 1148 1149 1150 1151 1152 1153 1154 1155 1156 1157 1158 1159 1160 1161\n",
      " 1162 1163 1164 1165 1166 1167 1168 1169 1170 1171 1172 1173 1174 1175\n",
      " 1176 1177 1178 1179 1180 1181 1182 1183 1184 1185 1186 1187 1188 1189\n",
      " 1190 1191 1192 1193 1194 1195 1196 1197 1198 1199 1200 1201 1202 1203\n",
      " 1204 1205 1206 1207 1208 1209 1210 1211 1212 1213 1214 1215 1216 1217\n",
      " 1218 1219 1220 1221 1222 1223 1224 1225 1226 1227 1228 1229 1230 1231\n",
      " 1232 1233 1234 1235 1236 1237 1238 1239 1240 1241 1242 1243 1244 1245\n",
      " 1246 1247 1248 1249 1250 1251 1252 1253 1254 1255 1256 1257 1258 1259\n",
      " 1260 1261 1262 1263 1264 1265 1266 1267 1268 1269 1270 1271 1272 1273\n",
      " 1274 1275 1276 1277 1278 1279 1280 1281 1282 1283 1284 1285 1286 1287\n",
      " 1288 1289 1290 1291 1292 1293 1294 1295 1296 1297 1298 1299 1300 1301\n",
      " 1302 1303 1304 1305 1306 1307 1308 1309 1310 1311 1312 1313 1314 1315\n",
      " 1316 1317 1318 1319 1320 1321 1322 1323 1324 1325 1326 1327 1328 1329\n",
      " 1330 1331 1332 1333 1334 1335 1336 1337 1338 1339 1340 1341 1342 1343\n",
      " 1344 1345 1346 1347 1348 1349 1350 1351 1352 1353 1354 1355 1356 1357\n",
      " 1358 1359 1360 1361 1362 1363 1364 1365 1366 1367 1368 1369 1370 1371\n",
      " 1372 1373 1374 1375 1376 1377 1378 1379 1380 1381 1382 1383 1384 1385\n",
      " 1386 1387 1388 1389 1390 1391 1392 1393 1394 1395 1396 1397 1398 1399\n",
      " 1400 1401 1402 1403 1404 1405 1406 1407 1408 1409 1410 1411 1412 1413\n",
      " 1414 1415 1416 1417 1418 1419 1420 1421 1422 1423 1424 1425 1426 1427\n",
      " 1428 1429 1430 1431 1432 1433 1434 1435 1436 1437 1438 1439 1440 1441\n",
      " 1442 1443 1444 1445 1446 1447 1448 1449 1450 1451 1452 1453 1454 1455\n",
      " 1456 1457 1458 1459 1460 1461 1462 1463 1464 1465 1466 1467 1468 1469\n",
      " 1470 1471 1472 1473 1474 1475 1476 1477 1478 1479 1480 1481 1482 1483\n",
      " 1484 1485 1486 1487 1488 1489 1490 1491 1492 1493 1494 1495 1496 1497\n",
      " 1498 1499 1500 1501 1502 1503 1504 1505 1506 1507 1508 1509 1510 1511\n",
      " 1512 1513 1514 1515 1516 1517 1518 1519 1520 1521 1522 1523 1524 1525\n",
      " 1526 1527 1528 1529 1530 1531 1532 1533 1534 1535 1536 1537 1538 1539\n",
      " 1540 1541 1542 1543 1544 1545 1546 1547 1548 1549 1550 1551 1552 1553\n",
      " 1554 1555 1556 1557 1558 1559 1560 1561 1562 1563 1564 1565 1566 1567\n",
      " 1568 1569 1570 1571 1572 1573 1574 1575 1576 1577 1578 1579 1580 1581\n",
      " 1582 1583 1584 1585 1586 1587 1588 1589 1590 1591 1592 1593 1594 1595\n",
      " 1596 1597 1598 1599 1600 1601 1602 1603 1604 1605 1606 1607 1608 1609\n",
      " 1610 1611 1612 1613 1614 1615 1616 1617 1618 1619 1620 1621 1622 1623\n",
      " 1624 1625 1626 1627 1628 1629 1630 1631 1632 1633 1634 1635 1636 1637\n",
      " 1638 1639 1640 1641 1642 1643 1644 1645 1646 1647 1648 1649 1650 1651\n",
      " 1652 1653 1654 1655 1656 1657 1658 1659 1660 1661 1662 1663 1664 1665\n",
      " 1666 1667 1668 1669 1670 1671 1672 1673 1674 1675 1676 1677 1678 1679\n",
      " 1680 1681 1682 1683 1684 1685 1686 1687 1688 1689 1690 1691 1692 1693\n",
      " 1694 1695 1696 1697 1698 1699 1700 1701 1702 1703 1704 1705 1706 1707\n",
      " 1708 1709 1710 1711 1712 1713 1714 1715 1716 1717 1718 1719 1720 1721\n",
      " 1722 1723 1724 1725 1726 1727 1728 1729 1730 1731 1732 1733 1734 1735\n",
      " 1736 1737 1738 1739 1740 1741 1742 1743 1744 1745 1746 1747 1748 1749\n",
      " 1750 1751 1752 1753 1754 1755 1756 1757 1758 1759 1760 1761 1762 1763\n",
      " 1764 1765 1766 1767 1768 1769 1770 1771 1772 1773 1774 1775 1776 1777\n",
      " 1778 1779 1780 1781 1782 1783 1784 1785 1786 1787 1788 1789 1790 1791\n",
      " 1792 1793 1794 1795 1796 1797 1798 1799 1800 1801 1802 1803 1804 1805\n",
      " 1806 1807 1808 1809 1810 1811 1812 1813 1814 1815 1816 1817 1818 1819\n",
      " 1820 1821 1822 1823 1824 1825 1826 1827 1828 1829 1830 1831 1832 1833\n",
      " 1834 1835 1836 1837 1838 1839 1840 1841 1842 1843 1844 1845 1846 1847\n",
      " 1848 1849 1850 1851 1852 1853 1854 1855 1856 1857 1858 1859 1860 1861\n",
      " 1862 1863 1864 1865 1866 1867 1868 1869 1870 1871 1872 1873 1874 1875\n",
      " 1876 1877 1878 1879 1880 1881 1882 1883 1884 1885 1886 1887 1888 1889\n",
      " 1890 1891 1892 1893 1894 1895 1896 1897 1898 1899 1900 1901 1902 1903\n",
      " 1904 1905 1906 1907 1908 1909 1910 1911 1912 1913 1914 1915 1916 1917\n",
      " 1918 1919 1920 1921 1922 1923 1924 1925 1926 1927 1928 1929 1930 1931\n",
      " 1932 1933 1934 1935 1936 1937 1938 1939 1940 1941 1942 1943 1944 1945\n",
      " 1946 1947 1948 1949 1950 1951 1952 1953 1954 1955 1956 1957 1958 1959\n",
      " 1960 1961 1962 1963 1964 1965 1966 1967 1968 1969 1970 1971 1972 1973\n",
      " 1974 1975 1976 1977 1978 1979 1980 1981 1982 1983 1984 1985 1986 1987\n",
      " 1988 1989 1990 1991 1992 1993 1994 1995 1996 1997 1998 1999]\n"
     ]
    }
   ],
   "source": [
    "# Write a NumPy program to print the full NumPy array, without truncation.\n",
    "\n",
    "import numpy as np\n",
    "import sys\n",
    "nums = np.arange(2000)\n",
    "np.set_printoptions(threshold=sys.maxsize)\n",
    "print(nums)\n"
   ]
  },
  {
   "cell_type": "code",
   "execution_count": 271,
   "id": "2b53d252",
   "metadata": {},
   "outputs": [],
   "source": [
    "# Write a NumPy program to create to concatenate two given arrays of shape (2, 2) and (2,1). \n",
    "\n",
    "nums1 = np.array([[4.5, 3.5],\n",
    "                 [5.1, 2.3]])\n",
    "nums2 = np.array([[1],\n",
    "                  [2]])"
   ]
  },
  {
   "cell_type": "code",
   "execution_count": 272,
   "id": "e71f79df",
   "metadata": {},
   "outputs": [
    {
     "data": {
      "text/plain": [
       "array([[4.5, 3.5],\n",
       "       [5.1, 2.3]])"
      ]
     },
     "execution_count": 272,
     "metadata": {},
     "output_type": "execute_result"
    }
   ],
   "source": [
    "nums1"
   ]
  },
  {
   "cell_type": "code",
   "execution_count": 273,
   "id": "ac7e7ca8",
   "metadata": {},
   "outputs": [
    {
     "data": {
      "text/plain": [
       "array([[1],\n",
       "       [2]])"
      ]
     },
     "execution_count": 273,
     "metadata": {},
     "output_type": "execute_result"
    }
   ],
   "source": [
    "nums2"
   ]
  },
  {
   "cell_type": "code",
   "execution_count": 275,
   "id": "05d1c7c6",
   "metadata": {},
   "outputs": [
    {
     "data": {
      "text/plain": [
       "array([[4.5, 3.5, 1. ],\n",
       "       [5.1, 2.3, 2. ]])"
      ]
     },
     "execution_count": 275,
     "metadata": {},
     "output_type": "execute_result"
    }
   ],
   "source": [
    "np.concatenate((nums1,nums2),axis=1)"
   ]
  },
  {
   "cell_type": "code",
   "execution_count": 277,
   "id": "56e3e515",
   "metadata": {},
   "outputs": [
    {
     "data": {
      "text/plain": [
       "array([[[0.01 , 0.431, 0.36 , 0.632],\n",
       "        [0.181, 0.636, 0.28 , 0.375],\n",
       "        [0.543, 0.141, 0.235, 0.658],\n",
       "        [0.84 , 0.938, 0.207, 0.115],\n",
       "        [0.73 , 0.654, 0.808, 0.092],\n",
       "        [0.021, 0.564, 0.838, 0.639]],\n",
       "\n",
       "       [[0.554, 0.603, 0.569, 0.851],\n",
       "        [0.107, 0.072, 0.606, 0.01 ],\n",
       "        [0.871, 0.896, 0.936, 0.577],\n",
       "        [0.198, 0.392, 0.295, 0.854],\n",
       "        [0.638, 0.629, 0.162, 0.139],\n",
       "        [0.136, 0.362, 0.348, 0.862]],\n",
       "\n",
       "       [[0.246, 0.822, 0.78 , 0.67 ],\n",
       "        [0.64 , 0.513, 0.676, 0.587],\n",
       "        [0.269, 0.735, 0.624, 0.755],\n",
       "        [0.52 , 0.991, 0.741, 0.193],\n",
       "        [0.56 , 0.768, 0.551, 0.392],\n",
       "        [0.043, 0.517, 0.577, 0.566]],\n",
       "\n",
       "       [[0.469, 0.61 , 0.241, 0.139],\n",
       "        [0.811, 0.878, 0.376, 0.83 ],\n",
       "        [0.792, 0.165, 0.051, 0.099],\n",
       "        [0.506, 0.042, 0.351, 0.374],\n",
       "        [0.467, 0.867, 0.748, 0.342],\n",
       "        [0.454, 0.438, 0.162, 0.695]],\n",
       "\n",
       "       [[0.777, 0.941, 0.561, 0.546],\n",
       "        [0.962, 0.088, 0.096, 0.976],\n",
       "        [0.129, 0.648, 0.865, 0.802],\n",
       "        [0.174, 0.763, 0.235, 0.98 ],\n",
       "        [0.444, 0.639, 0.87 , 0.105],\n",
       "        [0.501, 0.991, 0.795, 0.062]],\n",
       "\n",
       "       [[0.799, 0.054, 0.614, 0.479],\n",
       "        [0.01 , 0.306, 0.953, 0.081],\n",
       "        [0.822, 0.452, 0.016, 0.008],\n",
       "        [0.636, 0.279, 0.682, 0.359],\n",
       "        [0.437, 0.74 , 0.963, 0.783],\n",
       "        [0.845, 0.822, 0.998, 0.52 ]]])"
      ]
     },
     "execution_count": 277,
     "metadata": {},
     "output_type": "execute_result"
    }
   ],
   "source": [
    "# Write a NumPy program to create a 12x12x4 array with random values and extract any array of shape(6,6,3) from the said array. \n",
    "\n",
    "nums = np.random.random((12,12,4))\n",
    "nums[:6,:6,:]\n"
   ]
  },
  {
   "cell_type": "code",
   "execution_count": null,
   "id": "88320e9e",
   "metadata": {},
   "outputs": [],
   "source": []
  }
 ],
 "metadata": {
  "kernelspec": {
   "display_name": "Python 3 (ipykernel)",
   "language": "python",
   "name": "python3"
  },
  "language_info": {
   "codemirror_mode": {
    "name": "ipython",
    "version": 3
   },
   "file_extension": ".py",
   "mimetype": "text/x-python",
   "name": "python",
   "nbconvert_exporter": "python",
   "pygments_lexer": "ipython3",
   "version": "3.9.12"
  }
 },
 "nbformat": 4,
 "nbformat_minor": 5
}
