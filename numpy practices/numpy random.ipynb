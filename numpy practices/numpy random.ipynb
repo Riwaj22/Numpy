{
 "cells": [
  {
   "cell_type": "code",
   "execution_count": 252,
   "id": "bbec0d65",
   "metadata": {},
   "outputs": [],
   "source": [
    "import numpy as np"
   ]
  },
  {
   "cell_type": "code",
   "execution_count": 253,
   "id": "32251c13",
   "metadata": {},
   "outputs": [
    {
     "data": {
      "text/plain": [
       "array([ 0.4144573 ,  0.47983894, -2.80509677,  2.17583599, -1.06214571])"
      ]
     },
     "execution_count": 253,
     "metadata": {},
     "output_type": "execute_result"
    }
   ],
   "source": [
    "#  Write a NumPy program to generate five random numbers from the normal distribution\n",
    "\n",
    "np.random.randn(5)"
   ]
  },
  {
   "cell_type": "code",
   "execution_count": 257,
   "id": "3efff98f",
   "metadata": {},
   "outputs": [
    {
     "data": {
      "text/plain": [
       "array([15, 29, 12, 20, 17, 23])"
      ]
     },
     "execution_count": 257,
     "metadata": {},
     "output_type": "execute_result"
    }
   ],
   "source": [
    "# Write a NumPy program to generate six random integers between 10 and 30\n",
    "\n",
    "np.random.randint(10,30,6)"
   ]
  },
  {
   "cell_type": "code",
   "execution_count": 259,
   "id": "da48fbc8",
   "metadata": {},
   "outputs": [
    {
     "data": {
      "text/plain": [
       "array([[[0.01804713, 0.25703254, 0.09863202],\n",
       "        [0.79467605, 0.28621635, 0.46447325],\n",
       "        [0.26068634, 0.79743163, 0.2890685 ]],\n",
       "\n",
       "       [[0.52580026, 0.09108775, 0.5668311 ],\n",
       "        [0.42618305, 0.58182059, 0.07702791],\n",
       "        [0.70138904, 0.11075771, 0.27509678]],\n",
       "\n",
       "       [[0.02258236, 0.53384547, 0.78664736],\n",
       "        [0.41506682, 0.65558073, 0.25184496],\n",
       "        [0.02013036, 0.47752871, 0.2894493 ]]])"
      ]
     },
     "execution_count": 259,
     "metadata": {},
     "output_type": "execute_result"
    }
   ],
   "source": [
    "# Write a NumPy program to create a 3x3x3 array with random values.\n",
    "\n",
    "np.random.random((3,3,3))"
   ]
  },
  {
   "cell_type": "code",
   "execution_count": 262,
   "id": "067d95cf",
   "metadata": {},
   "outputs": [],
   "source": [
    "# Write a NumPy program to create a 5x5 array with random values and find the minimum and maximum values\n",
    "\n",
    "a=np.random.random((5,5))"
   ]
  },
  {
   "cell_type": "code",
   "execution_count": 263,
   "id": "6f58e93e",
   "metadata": {},
   "outputs": [
    {
     "data": {
      "text/plain": [
       "array([[0.7874849 , 0.87122318, 0.43137081, 0.18076772, 0.31447327],\n",
       "       [0.79071394, 0.18535622, 0.53009451, 0.89693479, 0.79683595],\n",
       "       [0.68506286, 0.01056198, 0.25975899, 0.04614256, 0.48162204],\n",
       "       [0.55351936, 0.52617481, 0.8941411 , 0.90217019, 0.45508559],\n",
       "       [0.57383822, 0.6630308 , 0.89180902, 0.60064282, 0.90844465]])"
      ]
     },
     "execution_count": 263,
     "metadata": {},
     "output_type": "execute_result"
    }
   ],
   "source": [
    "a"
   ]
  },
  {
   "cell_type": "code",
   "execution_count": 264,
   "id": "af53f5b9",
   "metadata": {},
   "outputs": [
    {
     "data": {
      "text/plain": [
       "0.9084446460323524"
      ]
     },
     "execution_count": 264,
     "metadata": {},
     "output_type": "execute_result"
    }
   ],
   "source": [
    "np.max(a)"
   ]
  },
  {
   "cell_type": "code",
   "execution_count": 265,
   "id": "275e6417",
   "metadata": {},
   "outputs": [
    {
     "data": {
      "text/plain": [
       "0.010561980775894764"
      ]
     },
     "execution_count": 265,
     "metadata": {},
     "output_type": "execute_result"
    }
   ],
   "source": [
    "np.min(a)"
   ]
  },
  {
   "cell_type": "code",
   "execution_count": 269,
   "id": "a99cf8d8",
   "metadata": {},
   "outputs": [
    {
     "data": {
      "text/plain": [
       "array([[4.99018207e-01, 2.40260307e-01, 7.54289393e-01, 3.94146683e-01],\n",
       "       [8.53867680e-01, 8.56861131e-01, 3.77208141e-01, 8.31299810e-01],\n",
       "       [4.70683696e-01, 2.67273287e-01, 5.86903477e-01, 5.69870068e-01],\n",
       "       [7.98397654e-01, 7.77952416e-02, 5.06586232e-01, 4.43938165e-01],\n",
       "       [4.80596449e-01, 9.82278941e-02, 7.90710155e-01, 5.51251084e-04]])"
      ]
     },
     "execution_count": 269,
     "metadata": {},
     "output_type": "execute_result"
    }
   ],
   "source": [
    "# Write a NumPy program to create a random 10x4 array and extract the first five rows of the array and store them into a variable\n",
    "\n",
    "np.random.random((10,4))[0:5]"
   ]
  },
  {
   "cell_type": "code",
   "execution_count": 270,
   "id": "6ee8549d",
   "metadata": {},
   "outputs": [],
   "source": [
    "# Write a NumPy program to shuffle numbers between 0 and 10 (inclusive).\n",
    "\n",
    "a = np.arange(10)"
   ]
  },
  {
   "cell_type": "code",
   "execution_count": 271,
   "id": "d2046414",
   "metadata": {},
   "outputs": [
    {
     "data": {
      "text/plain": [
       "array([0, 1, 2, 3, 4, 5, 6, 7, 8, 9])"
      ]
     },
     "execution_count": 271,
     "metadata": {},
     "output_type": "execute_result"
    }
   ],
   "source": [
    "a"
   ]
  },
  {
   "cell_type": "code",
   "execution_count": 273,
   "id": "67ea8da1",
   "metadata": {},
   "outputs": [],
   "source": [
    "np.random.shuffle(a)"
   ]
  },
  {
   "cell_type": "code",
   "execution_count": 274,
   "id": "731fa706",
   "metadata": {},
   "outputs": [
    {
     "data": {
      "text/plain": [
       "array([4, 0, 2, 8, 7, 6, 5, 3, 9, 1])"
      ]
     },
     "execution_count": 274,
     "metadata": {},
     "output_type": "execute_result"
    }
   ],
   "source": [
    "a"
   ]
  },
  {
   "cell_type": "code",
   "execution_count": 275,
   "id": "665284f3",
   "metadata": {},
   "outputs": [
    {
     "data": {
      "text/plain": [
       "array([4, 3, 7, 5, 6, 9, 1, 8, 0, 2])"
      ]
     },
     "execution_count": 275,
     "metadata": {},
     "output_type": "execute_result"
    }
   ],
   "source": [
    "np.random.permutation(10)"
   ]
  },
  {
   "cell_type": "code",
   "execution_count": 276,
   "id": "a9137c17",
   "metadata": {},
   "outputs": [
    {
     "name": "stdout",
     "output_type": "stream",
     "text": [
      "Original Array:\n",
      "[[0.98089468 0.69449883 0.30140124]\n",
      " [0.73485521 0.38361232 0.57546227]\n",
      " [0.48752151 0.04892225 0.91213157]]\n"
     ]
    }
   ],
   "source": [
    "# Write a NumPy program to normalize a 3x3 random matrix.\n",
    "\n",
    "x= np.random.random((3,3))\n",
    "print(\"Original Array:\")\n",
    "print(x)"
   ]
  },
  {
   "cell_type": "code",
   "execution_count": 280,
   "id": "3a17a508",
   "metadata": {},
   "outputs": [
    {
     "name": "stdout",
     "output_type": "stream",
     "text": [
      "[[0.79162977 0.56049438 0.24324548]\n",
      " [0.72821238 0.38014461 0.5702603 ]\n",
      " [0.47085299 0.04724959 0.88094548]]\n"
     ]
    }
   ],
   "source": [
    "row_norms = np.linalg.norm(x, axis=1)\n",
    "\n",
    "# divide each row by its norm\n",
    "normalized_mat = x / row_norms[:, np.newaxis]\n",
    "\n",
    "# print the result\n",
    "print(normalized_mat)"
   ]
  },
  {
   "cell_type": "code",
   "execution_count": 289,
   "id": "117c237d",
   "metadata": {},
   "outputs": [],
   "source": [
    "# Write a NumPy program to create a random vector of size 10 and sort it\n",
    "\n",
    "a= np.random.random(10)"
   ]
  },
  {
   "cell_type": "code",
   "execution_count": 290,
   "id": "ff654a73",
   "metadata": {},
   "outputs": [
    {
     "data": {
      "text/plain": [
       "array([0.29167987, 0.24608517, 0.31906777, 0.58422213, 0.93373854,\n",
       "       0.09815076, 0.70858158, 0.80558721, 0.82487517, 0.84543522])"
      ]
     },
     "execution_count": 290,
     "metadata": {},
     "output_type": "execute_result"
    }
   ],
   "source": [
    "a"
   ]
  },
  {
   "cell_type": "code",
   "execution_count": 291,
   "id": "8354b2d2",
   "metadata": {},
   "outputs": [],
   "source": [
    "a.sort()"
   ]
  },
  {
   "cell_type": "code",
   "execution_count": 292,
   "id": "74ae5875",
   "metadata": {},
   "outputs": [
    {
     "data": {
      "text/plain": [
       "array([0.09815076, 0.24608517, 0.29167987, 0.31906777, 0.58422213,\n",
       "       0.70858158, 0.80558721, 0.82487517, 0.84543522, 0.93373854])"
      ]
     },
     "execution_count": 292,
     "metadata": {},
     "output_type": "execute_result"
    }
   ],
   "source": [
    "a"
   ]
  },
  {
   "cell_type": "code",
   "execution_count": 293,
   "id": "af1c1c7f",
   "metadata": {},
   "outputs": [
    {
     "name": "stdout",
     "output_type": "stream",
     "text": [
      "3.8247359526098386\n"
     ]
    }
   ],
   "source": [
    "# Write a NumPy program to find the nearest value from a given value in an arraya\n",
    "x = np.random.uniform(1, 12, 5)\n",
    "v = 4\n",
    "n = x.flat[np.abs(x - v).argmin()]\n",
    "print(n)\n"
   ]
  },
  {
   "cell_type": "code",
   "execution_count": 294,
   "id": "e4b18b6d",
   "metadata": {},
   "outputs": [],
   "source": [
    "#  Write a NumPy program to check two random arrays are equal or not.\n",
    "\n",
    "first_array = np.array([1,0,1,0,1,1])\n",
    "second_array = np.array([0,0,1,1,1,0])"
   ]
  },
  {
   "cell_type": "code",
   "execution_count": 295,
   "id": "70be9387",
   "metadata": {},
   "outputs": [
    {
     "data": {
      "text/plain": [
       "False"
      ]
     },
     "execution_count": 295,
     "metadata": {},
     "output_type": "execute_result"
    }
   ],
   "source": [
    "np.array_equal(first_array,second_array)"
   ]
  },
  {
   "cell_type": "code",
   "execution_count": 296,
   "id": "bc90cb77",
   "metadata": {},
   "outputs": [],
   "source": [
    "#  Write a NumPy program to create random vector of size 15 and replace the maximum value by -1\n",
    "\n",
    "a = np.random.random(15)"
   ]
  },
  {
   "cell_type": "code",
   "execution_count": 297,
   "id": "dfbffd98",
   "metadata": {},
   "outputs": [
    {
     "data": {
      "text/plain": [
       "0.7463653357833565"
      ]
     },
     "execution_count": 297,
     "metadata": {},
     "output_type": "execute_result"
    }
   ],
   "source": [
    "np.max(a)"
   ]
  },
  {
   "cell_type": "code",
   "execution_count": 298,
   "id": "a46b4b9e",
   "metadata": {},
   "outputs": [
    {
     "data": {
      "text/plain": [
       "array([0.39694489, 0.24708503, 0.66186043, 0.61557929, 0.42945863,\n",
       "       0.49936903, 0.38080614, 0.21269631, 0.50326879, 0.61924088,\n",
       "       0.63492935, 0.28378629, 0.39192175, 0.1674391 , 0.74636534])"
      ]
     },
     "execution_count": 298,
     "metadata": {},
     "output_type": "execute_result"
    }
   ],
   "source": [
    "a"
   ]
  },
  {
   "cell_type": "code",
   "execution_count": 301,
   "id": "3e21d7b5",
   "metadata": {},
   "outputs": [],
   "source": [
    "a[a.argmax()] = -1"
   ]
  },
  {
   "cell_type": "code",
   "execution_count": 302,
   "id": "0617694e",
   "metadata": {},
   "outputs": [
    {
     "data": {
      "text/plain": [
       "array([ 0.39694489,  0.24708503,  0.66186043,  0.61557929,  0.42945863,\n",
       "        0.49936903,  0.38080614,  0.21269631,  0.50326879,  0.61924088,\n",
       "        0.63492935,  0.28378629,  0.39192175,  0.1674391 , -1.        ])"
      ]
     },
     "execution_count": 302,
     "metadata": {},
     "output_type": "execute_result"
    }
   ],
   "source": [
    "a"
   ]
  },
  {
   "cell_type": "code",
   "execution_count": 303,
   "id": "05544c0a",
   "metadata": {},
   "outputs": [
    {
     "name": "stdout",
     "output_type": "stream",
     "text": [
      "[[0.         0.74917635 0.48201277 0.39889617 0.56215555 0.19655291\n",
      "  0.34379575 0.43824656 0.4397541  0.41646233]\n",
      " [0.74917635 0.         0.7986195  0.90114212 0.54458129 0.75792212\n",
      "  0.83298984 0.31750923 0.82842505 0.34503375]\n",
      " [0.48201277 0.7986195  0.         0.18201959 0.29059775 0.67213424\n",
      "  0.82220981 0.61648096 0.06718509 0.61987067]\n",
      " [0.39889617 0.90114212 0.18201959 0.         0.44894105 0.59514954\n",
      "  0.73963692 0.66571581 0.11521459 0.66058118]\n",
      " [0.56215555 0.54458129 0.29059775 0.44894105 0.         0.70778328\n",
      "  0.84943808 0.45880872 0.34327483 0.47566903]\n",
      " [0.19655291 0.75792212 0.67213424 0.59514954 0.70778328 0.\n",
      "  0.15021844 0.4434721  0.63384573 0.41415246]\n",
      " [0.34379575 0.83298984 0.82220981 0.73963692 0.84943808 0.15021844\n",
      "  0.         0.5337444  0.78299333 0.50286266]\n",
      " [0.43824656 0.31750923 0.61648096 0.66571581 0.45880872 0.4434721\n",
      "  0.5337444  0.         0.62342595 0.03095751]\n",
      " [0.4397541  0.82842505 0.06718509 0.11521459 0.34327483 0.63384573\n",
      "  0.78299333 0.62342595 0.         0.62348092]\n",
      " [0.41646233 0.34503375 0.61987067 0.66058118 0.47566903 0.41415246\n",
      "  0.50286266 0.03095751 0.62348092 0.        ]]\n"
     ]
    }
   ],
   "source": [
    "# Write a NumPy program to find point by point distances of a random vector with shape (10,2) representing coordinates.\n",
    "\n",
    "a= np.random.random((10,2))\n",
    "x,y = np.atleast_2d(a[:,0], a[:,1])\n",
    "d = np.sqrt( (x-x.T)**2 + (y-y.T)**2)\n",
    "print(d)"
   ]
  },
  {
   "cell_type": "code",
   "execution_count": 304,
   "id": "6d09d05f",
   "metadata": {},
   "outputs": [],
   "source": [
    "# Write a NumPy program to find the most frequent value in an array\n",
    "\n",
    "x = np.random.randint(0, 10, 40)\n"
   ]
  },
  {
   "cell_type": "code",
   "execution_count": 305,
   "id": "cd33158f",
   "metadata": {},
   "outputs": [
    {
     "data": {
      "text/plain": [
       "array([9, 3, 4, 4, 3, 6, 4, 4, 3, 9, 0, 0, 2, 3, 9, 5, 7, 5, 7, 3, 6, 2,\n",
       "       7, 2, 2, 1, 9, 3, 8, 9, 1, 0, 4, 3, 4, 8, 2, 2, 8, 6])"
      ]
     },
     "execution_count": 305,
     "metadata": {},
     "output_type": "execute_result"
    }
   ],
   "source": [
    "x"
   ]
  },
  {
   "cell_type": "code",
   "execution_count": 306,
   "id": "fc6e3052",
   "metadata": {},
   "outputs": [
    {
     "data": {
      "text/plain": [
       "3"
      ]
     },
     "execution_count": 306,
     "metadata": {},
     "output_type": "execute_result"
    }
   ],
   "source": [
    "np.argmax(np.bincount(x))"
   ]
  },
  {
   "cell_type": "code",
   "execution_count": 307,
   "id": "91514d09",
   "metadata": {},
   "outputs": [
    {
     "data": {
      "text/plain": [
       "array([[0.37598181, 0.60063468],\n",
       "       [0.48186759, 0.49508047],\n",
       "       [0.80116334, 0.78273573],\n",
       "       [0.01190281, 0.93960064],\n",
       "       [0.46532723, 0.31360055],\n",
       "       [0.22869269, 0.084596  ],\n",
       "       [0.4888345 , 0.10147248],\n",
       "       [0.4260593 , 0.8382115 ],\n",
       "       [0.18305571, 0.85474394],\n",
       "       [0.38137752, 0.11797016]])"
      ]
     },
     "execution_count": 307,
     "metadata": {},
     "output_type": "execute_result"
    }
   ],
   "source": [
    "# Write a NumPy program to convert cartesian coordinates to polar coordinates of a random 10x2 matrix representing cartesian coordinates\n",
    "\n",
    "np.random.random((10,2))\n"
   ]
  },
  {
   "cell_type": "code",
   "execution_count": 308,
   "id": "c145077b",
   "metadata": {},
   "outputs": [],
   "source": [
    "x,y = z[:,0], z[:,1]\n",
    "r = np.sqrt(x**2+y**2)\n",
    "t = np.arctan2(y,x)"
   ]
  },
  {
   "cell_type": "code",
   "execution_count": 309,
   "id": "59b04386",
   "metadata": {},
   "outputs": [
    {
     "name": "stdout",
     "output_type": "stream",
     "text": [
      "[ 40.49691346 139.62807741]\n"
     ]
    }
   ],
   "source": [
    "print(r)"
   ]
  },
  {
   "cell_type": "code",
   "execution_count": 310,
   "id": "946e27d4",
   "metadata": {},
   "outputs": [
    {
     "name": "stdout",
     "output_type": "stream",
     "text": [
      "[1.21780594 0.9072406 ]\n"
     ]
    }
   ],
   "source": [
    "print(t)"
   ]
  },
  {
   "cell_type": "code",
   "execution_count": 311,
   "id": "55fa4e42",
   "metadata": {},
   "outputs": [
    {
     "name": "stdout",
     "output_type": "stream",
     "text": [
      "Original array:\n",
      "[ 0  1  2  3  4  5  6  7  8  9 10 11 12 13 14 15 16 17 18 19 20 21 22 23\n",
      " 24 25 26 27 28 29 30 31 32 33 34 35 36 37 38 39 40 41 42 43 44 45 46 47\n",
      " 48 49 50 51 52 53 54 55 56 57 58 59 60 61 62 63 64 65 66 67 68 69 70 71\n",
      " 72 73 74 75 76 77 78 79 80 81 82 83 84 85 86 87 88 89 90 91 92 93 94 95\n",
      " 96 97 98 99]\n",
      "Value to compare:\n",
      "90.86147620538213\n",
      "91\n"
     ]
    }
   ],
   "source": [
    "# Write a NumPy program to find the closest value (to a given scalar) in an array.\n",
    "\n",
    "x = np.arange(100)\n",
    "print(\"Original array:\")\n",
    "print(x)\n",
    "a = np.random.uniform(0,100)\n",
    "print(\"Value to compare:\")\n",
    "print(a)\n",
    "index = (np.abs(x-a)).argmin()\n",
    "print(x[index])\n"
   ]
  },
  {
   "cell_type": "code",
   "execution_count": 312,
   "id": "4c0acc42",
   "metadata": {},
   "outputs": [
    {
     "data": {
      "text/plain": [
       "array([0, 1, 2, 3, 4, 5, 6, 7, 8, 9])"
      ]
     },
     "execution_count": 312,
     "metadata": {},
     "output_type": "execute_result"
    }
   ],
   "source": [
    "# Write a NumPy program to get the n largest values of an array.\n",
    "\n",
    "original_array =np.array([0,1,2,3,4,5,6,7,8,9])\n",
    "original_array"
   ]
  },
  {
   "cell_type": "code",
   "execution_count": 316,
   "id": "0a187ad1",
   "metadata": {},
   "outputs": [
    {
     "name": "stdout",
     "output_type": "stream",
     "text": [
      "[9]\n"
     ]
    }
   ],
   "source": [
    "np.random.shuffle(original_array)\n",
    "n=1\n",
    "\n",
    "print (original_array[np.argsort(original_array)[-n:]])\n"
   ]
  },
  {
   "cell_type": "code",
   "execution_count": 318,
   "id": "389f5e06",
   "metadata": {},
   "outputs": [
    {
     "data": {
      "text/plain": [
       "array([[[ 11,  66,  70,  90, 176],\n",
       "        [187, 249, 188, 103, 137],\n",
       "        [208, 239, 150, 240, 193],\n",
       "        ...,\n",
       "        [125, 252, 135, 125, 141],\n",
       "        [230, 143, 185,  27, 242],\n",
       "        [ 18,   2,  29, 181,  42]],\n",
       "\n",
       "       [[149,  66,  39, 241,  42],\n",
       "        [105,  45, 108, 208,  75],\n",
       "        [210,  92, 248,  86,  48],\n",
       "        ...,\n",
       "        [ 22, 145,  19, 128, 224],\n",
       "        [ 83, 245, 133,  71, 211],\n",
       "        [163,  97,  99,  15,  18]],\n",
       "\n",
       "       [[253, 179,  65,  50,  50],\n",
       "        [184, 178,  63, 215,  14],\n",
       "        [ 80, 232,  30, 151, 201],\n",
       "        ...,\n",
       "        [156, 244, 192, 199, 132],\n",
       "        [186,  44, 206, 192,  47],\n",
       "        [105,  39, 124, 225, 146]],\n",
       "\n",
       "       ...,\n",
       "\n",
       "       [[215, 177, 236, 251,  41],\n",
       "        [ 66, 205,   3, 239, 185],\n",
       "        [206, 121,  43,  18, 199],\n",
       "        ...,\n",
       "        [ 26,  62, 155,   9, 154],\n",
       "        [186, 113, 213, 244, 251],\n",
       "        [185,  17, 223,  85,   8]],\n",
       "\n",
       "       [[186, 174, 252, 186, 237],\n",
       "        [187, 149, 108, 187,  21],\n",
       "        [197, 152,  42,   1, 190],\n",
       "        ...,\n",
       "        [ 71, 220, 184,  73, 144],\n",
       "        [249, 124, 169, 227,  22],\n",
       "        [200,  45,  17,  27, 247]],\n",
       "\n",
       "       [[166,  16,  92,  61, 117],\n",
       "        [127, 193, 124, 206,  94],\n",
       "        [206, 217, 239, 101, 113],\n",
       "        ...,\n",
       "        [ 54,  88, 180, 157, 218],\n",
       "        [ 79, 174,  95, 186, 171],\n",
       "        [ 60, 147, 194,  57, 110]]])"
      ]
     },
     "execution_count": 318,
     "metadata": {},
     "output_type": "execute_result"
    }
   ],
   "source": [
    "# Write a NumPy program to create a three-dimension array with shape (300,400,5) and set to a variable. Fill the array elements with values using unsigned integer (0 to 255)\n",
    "\n",
    "np.random.randint(0,256,(300,400,5))"
   ]
  },
  {
   "cell_type": "code",
   "execution_count": null,
   "id": "892b4213",
   "metadata": {},
   "outputs": [],
   "source": []
  }
 ],
 "metadata": {
  "kernelspec": {
   "display_name": "Python 3 (ipykernel)",
   "language": "python",
   "name": "python3"
  },
  "language_info": {
   "codemirror_mode": {
    "name": "ipython",
    "version": 3
   },
   "file_extension": ".py",
   "mimetype": "text/x-python",
   "name": "python",
   "nbconvert_exporter": "python",
   "pygments_lexer": "ipython3",
   "version": "3.9.12"
  }
 },
 "nbformat": 4,
 "nbformat_minor": 5
}
