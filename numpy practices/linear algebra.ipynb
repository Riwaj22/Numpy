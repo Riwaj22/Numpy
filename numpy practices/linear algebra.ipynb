{
 "cells": [
  {
   "cell_type": "code",
   "execution_count": 1,
   "id": "40c1a234",
   "metadata": {},
   "outputs": [],
   "source": [
    "import numpy as np"
   ]
  },
  {
   "cell_type": "code",
   "execution_count": 4,
   "id": "d52eb7da",
   "metadata": {},
   "outputs": [],
   "source": [
    "p = np.array([[1, 0], [0, 1]])\n",
    "q = np.array([[1, 2], [3, 4]])"
   ]
  },
  {
   "cell_type": "code",
   "execution_count": 5,
   "id": "9de20d5b",
   "metadata": {},
   "outputs": [
    {
     "data": {
      "text/plain": [
       "array([[1, 0],\n",
       "       [0, 1]])"
      ]
     },
     "execution_count": 5,
     "metadata": {},
     "output_type": "execute_result"
    }
   ],
   "source": [
    "p"
   ]
  },
  {
   "cell_type": "code",
   "execution_count": 6,
   "id": "f31f4999",
   "metadata": {},
   "outputs": [
    {
     "data": {
      "text/plain": [
       "array([[1, 2],\n",
       "       [3, 4]])"
      ]
     },
     "execution_count": 6,
     "metadata": {},
     "output_type": "execute_result"
    }
   ],
   "source": [
    "q\n"
   ]
  },
  {
   "cell_type": "code",
   "execution_count": 7,
   "id": "32b24c5f",
   "metadata": {},
   "outputs": [],
   "source": [
    "#  Write a NumPy program to compute the multiplication of two given matrixes"
   ]
  },
  {
   "cell_type": "code",
   "execution_count": 9,
   "id": "eea36e5d",
   "metadata": {},
   "outputs": [
    {
     "data": {
      "text/plain": [
       "array([[1, 2],\n",
       "       [3, 4]])"
      ]
     },
     "execution_count": 9,
     "metadata": {},
     "output_type": "execute_result"
    }
   ],
   "source": [
    "np.dot(p,q)"
   ]
  },
  {
   "cell_type": "code",
   "execution_count": 11,
   "id": "9336091b",
   "metadata": {},
   "outputs": [
    {
     "data": {
      "text/plain": [
       "array([[1, 2, 3, 4],\n",
       "       [0, 0, 0, 0],\n",
       "       [0, 0, 0, 0],\n",
       "       [1, 2, 3, 4]])"
      ]
     },
     "execution_count": 11,
     "metadata": {},
     "output_type": "execute_result"
    }
   ],
   "source": [
    "# Write a NumPy program to compute the outer product of two given vectors.\n",
    "np.outer(p,q)"
   ]
  },
  {
   "cell_type": "code",
   "execution_count": 12,
   "id": "bd182cac",
   "metadata": {},
   "outputs": [
    {
     "data": {
      "text/plain": [
       "array([ 2, -3])"
      ]
     },
     "execution_count": 12,
     "metadata": {},
     "output_type": "execute_result"
    }
   ],
   "source": [
    "#  Write a NumPy program to compute the cross product of two given vectors.\n",
    "\n",
    "np.cross(p,q)"
   ]
  },
  {
   "cell_type": "code",
   "execution_count": 13,
   "id": "1ec421c8",
   "metadata": {},
   "outputs": [
    {
     "data": {
      "text/plain": [
       "2.0"
      ]
     },
     "execution_count": 13,
     "metadata": {},
     "output_type": "execute_result"
    }
   ],
   "source": [
    "# Write a NumPy program to compute the determinant of a given square array\n",
    "a = np.array([[1, 0], [1, 2]])\n",
    "np.linalg.det(a)"
   ]
  },
  {
   "cell_type": "code",
   "execution_count": 14,
   "id": "f6cca89b",
   "metadata": {},
   "outputs": [],
   "source": [
    "# Write a NumPy program to evaluate Einstein's summation convention of two given multidimensional arrays\n",
    "\n",
    "\n",
    "a = np.array([1,2,3])\n",
    "b = np.array([0,1,0])"
   ]
  },
  {
   "cell_type": "code",
   "execution_count": 21,
   "id": "4c2c78d0",
   "metadata": {},
   "outputs": [
    {
     "name": "stdout",
     "output_type": "stream",
     "text": [
      "2\n"
     ]
    }
   ],
   "source": [
    "result = np.einsum(\"n,n\",a,b)\n",
    "print(result)"
   ]
  },
  {
   "cell_type": "code",
   "execution_count": 19,
   "id": "0b0c587a",
   "metadata": {},
   "outputs": [],
   "source": [
    "x = np.arange(9).reshape(3, 3)\n",
    "y = np.arange(3, 12).reshape(3, 3)"
   ]
  },
  {
   "cell_type": "code",
   "execution_count": 22,
   "id": "f85bfb45",
   "metadata": {},
   "outputs": [
    {
     "name": "stdout",
     "output_type": "stream",
     "text": [
      "[[ 24  27  30]\n",
      " [ 78  90 102]\n",
      " [132 153 174]]\n"
     ]
    }
   ],
   "source": [
    "result = np.einsum(\"mk,kn\", x, y)\n",
    "print(result)"
   ]
  },
  {
   "cell_type": "code",
   "execution_count": 23,
   "id": "5c9bdc2a",
   "metadata": {},
   "outputs": [],
   "source": [
    "# Write a NumPy program to compute the inner product of vectors for 1-D arrays (without complex conjugation) and in higher dimension.a"
   ]
  },
  {
   "cell_type": "code",
   "execution_count": 24,
   "id": "fd2dd0c6",
   "metadata": {},
   "outputs": [
    {
     "name": "stdout",
     "output_type": "stream",
     "text": [
      "Original 1-d arrays:\n",
      "[1 2 5]\n",
      "[2 1 0]\n",
      "Inner product of the said vectors:\n",
      "Higher dimension arrays:\n",
      "[[0 1 2]\n",
      " [3 4 5]\n",
      " [6 7 8]]\n",
      "[[ 3  4  5]\n",
      " [ 6  7  8]\n",
      " [ 9 10 11]]\n",
      "Inner product of the said vectors:\n",
      "[[ 14  23  32]\n",
      " [ 50  86 122]\n",
      " [ 86 149 212]]\n"
     ]
    }
   ],
   "source": [
    "import numpy as np\n",
    "a = np.array([1,2,5])\n",
    "b = np.array([2,1,0])\n",
    "print(\"Original 1-d arrays:\")\n",
    "print(a)\n",
    "print(b)\n",
    "print \n",
    "result = np.inner(a, b)\n",
    "print(\"Inner product of the said vectors:\")\n",
    "x = np.arange(9).reshape(3, 3)\n",
    "y = np.arange(3, 12).reshape(3, 3)\n",
    "print(\"Higher dimension arrays:\")\n",
    "print(x)\n",
    "print(y)\n",
    "result = np.inner(x, y)\n",
    "print(\"Inner product of the said vectors:\")\n",
    "print(result)\n"
   ]
  },
  {
   "cell_type": "code",
   "execution_count": 25,
   "id": "6001409b",
   "metadata": {},
   "outputs": [],
   "source": [
    "# Write a NumPy program to compute the eigenvalues and right eigenvectors of a given square array.\n",
    "\n",
    "a = np.array([1,2,5])\n",
    "b = np.array([2,1,0])"
   ]
  },
  {
   "cell_type": "code",
   "execution_count": 27,
   "id": "e689298e",
   "metadata": {},
   "outputs": [
    {
     "name": "stdout",
     "output_type": "stream",
     "text": [
      "Original matrix:\n",
      "a\n",
      " [[ 3 -2]\n",
      " [ 1  0]]\n",
      "Eigenvalues of the said matrix [2. 1.]\n",
      "Eigenvectors of the said matrix [[0.89442719 0.70710678]\n",
      " [0.4472136  0.70710678]]\n"
     ]
    }
   ],
   "source": [
    "import numpy as np\n",
    "m = np.mat(\"3 -2;1 0\")\n",
    "print(\"Original matrix:\")\n",
    "print(\"a\\n\", m)\n",
    "w, v = np.linalg.eig(m) \n",
    "print( \"Eigenvalues of the said matrix\",w)\n",
    "print( \"Eigenvectors of the said matrix\",v)\n"
   ]
  },
  {
   "cell_type": "code",
   "execution_count": 28,
   "id": "cdd6b812",
   "metadata": {},
   "outputs": [],
   "source": [
    "# Write a NumPy program to compute the Kronecker product of two given mulitdimension arrays\n",
    "\n",
    "a = np.array([1,2,3])\n",
    "b = np.array([0,1,0])"
   ]
  },
  {
   "cell_type": "code",
   "execution_count": 29,
   "id": "fa56fcb1",
   "metadata": {},
   "outputs": [
    {
     "data": {
      "text/plain": [
       "array([0, 1, 0, 0, 2, 0, 0, 3, 0])"
      ]
     },
     "execution_count": 29,
     "metadata": {},
     "output_type": "execute_result"
    }
   ],
   "source": [
    "np.kron(a,b)"
   ]
  },
  {
   "cell_type": "code",
   "execution_count": 34,
   "id": "cb77853a",
   "metadata": {},
   "outputs": [],
   "source": [
    "x = np.arange(9).reshape(3,3)\n",
    "y = np.arange(15).reshape(5,3)"
   ]
  },
  {
   "cell_type": "code",
   "execution_count": 35,
   "id": "1ef6b1d8",
   "metadata": {},
   "outputs": [
    {
     "data": {
      "text/plain": [
       "array([[0, 1, 2],\n",
       "       [3, 4, 5],\n",
       "       [6, 7, 8]])"
      ]
     },
     "execution_count": 35,
     "metadata": {},
     "output_type": "execute_result"
    }
   ],
   "source": [
    "x"
   ]
  },
  {
   "cell_type": "code",
   "execution_count": 36,
   "id": "716e53c9",
   "metadata": {},
   "outputs": [
    {
     "data": {
      "text/plain": [
       "array([[ 0,  1,  2],\n",
       "       [ 3,  4,  5],\n",
       "       [ 6,  7,  8],\n",
       "       [ 9, 10, 11],\n",
       "       [12, 13, 14]])"
      ]
     },
     "execution_count": 36,
     "metadata": {},
     "output_type": "execute_result"
    }
   ],
   "source": [
    "y"
   ]
  },
  {
   "cell_type": "code",
   "execution_count": 37,
   "id": "49fd3fd4",
   "metadata": {},
   "outputs": [
    {
     "data": {
      "text/plain": [
       "array([[  0,   0,   0,   0,   1,   2,   0,   2,   4],\n",
       "       [  0,   0,   0,   3,   4,   5,   6,   8,  10],\n",
       "       [  0,   0,   0,   6,   7,   8,  12,  14,  16],\n",
       "       [  0,   0,   0,   9,  10,  11,  18,  20,  22],\n",
       "       [  0,   0,   0,  12,  13,  14,  24,  26,  28],\n",
       "       [  0,   3,   6,   0,   4,   8,   0,   5,  10],\n",
       "       [  9,  12,  15,  12,  16,  20,  15,  20,  25],\n",
       "       [ 18,  21,  24,  24,  28,  32,  30,  35,  40],\n",
       "       [ 27,  30,  33,  36,  40,  44,  45,  50,  55],\n",
       "       [ 36,  39,  42,  48,  52,  56,  60,  65,  70],\n",
       "       [  0,   6,  12,   0,   7,  14,   0,   8,  16],\n",
       "       [ 18,  24,  30,  21,  28,  35,  24,  32,  40],\n",
       "       [ 36,  42,  48,  42,  49,  56,  48,  56,  64],\n",
       "       [ 54,  60,  66,  63,  70,  77,  72,  80,  88],\n",
       "       [ 72,  78,  84,  84,  91,  98,  96, 104, 112]])"
      ]
     },
     "execution_count": 37,
     "metadata": {},
     "output_type": "execute_result"
    }
   ],
   "source": [
    "np.kron(x,y)"
   ]
  },
  {
   "cell_type": "code",
   "execution_count": 38,
   "id": "dced781a",
   "metadata": {},
   "outputs": [
    {
     "data": {
      "text/plain": [
       "1.4142135623730951"
      ]
     },
     "execution_count": 38,
     "metadata": {},
     "output_type": "execute_result"
    }
   ],
   "source": [
    "# Write a NumPy program to compute the condition number of a given matrix.\n",
    "\n",
    "a = np.array([[1, 0, -1], [0, 1, 0], [1, 0, 1]])\n",
    "\n",
    "np.linalg.cond(a)"
   ]
  },
  {
   "cell_type": "code",
   "execution_count": 39,
   "id": "c50d6c2f",
   "metadata": {},
   "outputs": [
    {
     "data": {
      "text/plain": [
       "9.539392014169456"
      ]
     },
     "execution_count": 39,
     "metadata": {},
     "output_type": "execute_result"
    }
   ],
   "source": [
    "# Write a NumPy program to find a matrix or vector norm.\n",
    "v = np.arange(7)\n",
    "np.linalg.norm(v)"
   ]
  },
  {
   "cell_type": "code",
   "execution_count": 40,
   "id": "9c6ae03a",
   "metadata": {},
   "outputs": [
    {
     "data": {
      "text/plain": [
       "-2.0000000000000004"
      ]
     },
     "execution_count": 40,
     "metadata": {},
     "output_type": "execute_result"
    }
   ],
   "source": [
    "# Write a NumPy program to compute the determinant of an array. \n",
    "a = np.array([[1,2],[3,4]])\n",
    "\n",
    "np.linalg.det(a)"
   ]
  },
  {
   "cell_type": "code",
   "execution_count": 41,
   "id": "00f09e1a",
   "metadata": {},
   "outputs": [
    {
     "data": {
      "text/plain": [
       "array([[-2. ,  1. ],\n",
       "       [ 1.5, -0.5]])"
      ]
     },
     "execution_count": 41,
     "metadata": {},
     "output_type": "execute_result"
    }
   ],
   "source": [
    "# Write a NumPy program to compute the inverse of a given matrix.\n",
    "\n",
    "m = np.array([[1,2],[3,4]])\n",
    "np.linalg.inv(m)"
   ]
  },
  {
   "cell_type": "code",
   "execution_count": 42,
   "id": "7f9e9cc7",
   "metadata": {},
   "outputs": [
    {
     "data": {
      "text/plain": [
       "(array([[-0.31622777, -0.9486833 ],\n",
       "        [-0.9486833 ,  0.31622777]]),\n",
       " array([[-3.16227766, -4.42718872],\n",
       "        [ 0.        , -0.63245553]]))"
      ]
     },
     "execution_count": 42,
     "metadata": {},
     "output_type": "execute_result"
    }
   ],
   "source": [
    "#  Write a NumPy program to calculate the QR decomposition of a given matrix.\n",
    "\n",
    "m = np.array([[1,2],[3,4]])\n",
    "np.linalg.qr(m)"
   ]
  },
  {
   "cell_type": "code",
   "execution_count": 43,
   "id": "4ef31014",
   "metadata": {},
   "outputs": [],
   "source": [
    "# Write a NumPy program to compute the sum of the diagonal element of a given array\n",
    "m = np.arange(6).reshape(2,3)\n"
   ]
  },
  {
   "cell_type": "code",
   "execution_count": 44,
   "id": "2cf04dd4",
   "metadata": {},
   "outputs": [
    {
     "data": {
      "text/plain": [
       "array([[0, 1, 2],\n",
       "       [3, 4, 5]])"
      ]
     },
     "execution_count": 44,
     "metadata": {},
     "output_type": "execute_result"
    }
   ],
   "source": [
    "m"
   ]
  },
  {
   "cell_type": "code",
   "execution_count": 45,
   "id": "3c3cd77b",
   "metadata": {},
   "outputs": [
    {
     "data": {
      "text/plain": [
       "4"
      ]
     },
     "execution_count": 45,
     "metadata": {},
     "output_type": "execute_result"
    }
   ],
   "source": [
    "np.trace(m)"
   ]
  },
  {
   "cell_type": "code",
   "execution_count": 46,
   "id": "63acc342",
   "metadata": {},
   "outputs": [
    {
     "data": {
      "text/plain": [
       "array([[ 2.,  0.,  0.],\n",
       "       [ 6.,  1.,  0.],\n",
       "       [-8., -5.,  3.]])"
      ]
     },
     "execution_count": 46,
     "metadata": {},
     "output_type": "execute_result"
    }
   ],
   "source": [
    "# Write a NumPy program to get the lower-triangular L in the Cholesky decomposition of a given array\n",
    "\n",
    "a = np.array([[4, 12, -16], [12, 37, -53], [-16, -53, 98]], dtype=np.int32)\n",
    "\n",
    "np.linalg.cholesky(a)"
   ]
  },
  {
   "cell_type": "code",
   "execution_count": 47,
   "id": "1b6a2e9e",
   "metadata": {},
   "outputs": [
    {
     "data": {
      "text/plain": [
       "(array([[-0.21199958, -0.27930103,  0.93650794],\n",
       "        [-0.63599873, -0.68815735, -0.34920635],\n",
       "        [ 0.74199852, -0.66964945, -0.03174603]]),\n",
       " array([[-18.86796226, -65.4018692 , 109.39178122],\n",
       "        [  0.        ,   6.67798664, -25.24309237],\n",
       "        [  0.        ,   0.        ,   2.28571429]]))"
      ]
     },
     "execution_count": 47,
     "metadata": {},
     "output_type": "execute_result"
    }
   ],
   "source": [
    "# Write a NumPy program to get the qr factorization of a given array. \n",
    "\n",
    "a = np.array([[4, 12, -14], [12, 37, -53], [-14, -53, 98]], dtype=np.int32)\n",
    "np.linalg.qr(a)"
   ]
  },
  {
   "cell_type": "code",
   "execution_count": 48,
   "id": "07f60241",
   "metadata": {},
   "outputs": [
    {
     "data": {
      "text/plain": [
       "(array([[ 0.,  1.,  0.,  0.],\n",
       "        [ 1.,  0.,  0.,  0.],\n",
       "        [ 0.,  0.,  0.,  1.],\n",
       "        [ 0.,  0., -1.,  0.]], dtype=float32),\n",
       " array([3.      , 2.236068, 2.      , 0.      ], dtype=float32),\n",
       " array([[-0.       ,  0.       ,  1.       , -0.       ,  0.       ],\n",
       "        [ 0.4472136,  0.       ,  0.       ,  0.       ,  0.8944272],\n",
       "        [ 0.       , -1.       ,  0.       ,  0.       ,  0.       ],\n",
       "        [ 0.       ,  0.       ,  0.       ,  1.       ,  0.       ]],\n",
       "       dtype=float32))"
      ]
     },
     "execution_count": 48,
     "metadata": {},
     "output_type": "execute_result"
    }
   ],
   "source": [
    "# Write a NumPy program to compute the factor of a given array by Singular Value Decomposition\n",
    "\n",
    "a = np.array([[1, 0, 0, 0, 2], [0, 0, 3, 0, 0], [0, 0, 0, 0, 0], [0, 2, 0, 0, 0]], dtype=np.float32)\n",
    "\n",
    "np.linalg.svd(a,full_matrices=False)\n"
   ]
  },
  {
   "cell_type": "code",
   "execution_count": 49,
   "id": "1f7c15d0",
   "metadata": {},
   "outputs": [],
   "source": [
    "# Write a NumPy program to calculate the Frobenius norm and the condition number of a given array."
   ]
  },
  {
   "cell_type": "code",
   "execution_count": 50,
   "id": "d38ffdc2",
   "metadata": {},
   "outputs": [],
   "source": [
    "a = np.arange(1, 10).reshape((3, 3))\n"
   ]
  },
  {
   "cell_type": "code",
   "execution_count": 51,
   "id": "522247cf",
   "metadata": {},
   "outputs": [
    {
     "data": {
      "text/plain": [
       "array([[1, 2, 3],\n",
       "       [4, 5, 6],\n",
       "       [7, 8, 9]])"
      ]
     },
     "execution_count": 51,
     "metadata": {},
     "output_type": "execute_result"
    }
   ],
   "source": [
    "a"
   ]
  },
  {
   "cell_type": "code",
   "execution_count": 53,
   "id": "165bcfdc",
   "metadata": {},
   "outputs": [
    {
     "data": {
      "text/plain": [
       "16.881943016134134"
      ]
     },
     "execution_count": 53,
     "metadata": {},
     "output_type": "execute_result"
    }
   ],
   "source": [
    "np.linalg.norm(a,'fro')"
   ]
  },
  {
   "cell_type": "code",
   "execution_count": 54,
   "id": "dd0895e8",
   "metadata": {},
   "outputs": [
    {
     "data": {
      "text/plain": [
       "inf"
      ]
     },
     "execution_count": 54,
     "metadata": {},
     "output_type": "execute_result"
    }
   ],
   "source": [
    "np.linalg.cond(a,'fro')"
   ]
  },
  {
   "cell_type": "code",
   "execution_count": null,
   "id": "93b22291",
   "metadata": {},
   "outputs": [],
   "source": []
  }
 ],
 "metadata": {
  "kernelspec": {
   "display_name": "Python 3 (ipykernel)",
   "language": "python",
   "name": "python3"
  },
  "language_info": {
   "codemirror_mode": {
    "name": "ipython",
    "version": 3
   },
   "file_extension": ".py",
   "mimetype": "text/x-python",
   "name": "python",
   "nbconvert_exporter": "python",
   "pygments_lexer": "ipython3",
   "version": "3.9.12"
  }
 },
 "nbformat": 4,
 "nbformat_minor": 5
}
