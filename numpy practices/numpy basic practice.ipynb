{
 "cells": [
  {
   "cell_type": "code",
   "execution_count": 62,
   "id": "c4b95b8f",
   "metadata": {},
   "outputs": [],
   "source": [
    "import numpy as np\n"
   ]
  },
  {
   "cell_type": "code",
   "execution_count": 63,
   "id": "badd8240",
   "metadata": {},
   "outputs": [],
   "source": [
    "a= np.arange(10)"
   ]
  },
  {
   "cell_type": "code",
   "execution_count": 64,
   "id": "92391711",
   "metadata": {},
   "outputs": [
    {
     "data": {
      "text/plain": [
       "array([0, 1, 2, 3, 4, 5, 6, 7, 8, 9])"
      ]
     },
     "execution_count": 64,
     "metadata": {},
     "output_type": "execute_result"
    }
   ],
   "source": [
    "a"
   ]
  },
  {
   "cell_type": "code",
   "execution_count": 66,
   "id": "b99591dd",
   "metadata": {},
   "outputs": [],
   "source": [
    "# Write a NumPy program to test whether none of the elements of a given array are zero"
   ]
  },
  {
   "cell_type": "code",
   "execution_count": 68,
   "id": "0c13696c",
   "metadata": {},
   "outputs": [
    {
     "data": {
      "text/plain": [
       "array([0])"
      ]
     },
     "execution_count": 68,
     "metadata": {},
     "output_type": "execute_result"
    }
   ],
   "source": [
    "a[a[:] == 0]"
   ]
  },
  {
   "cell_type": "code",
   "execution_count": 71,
   "id": "5404bab9",
   "metadata": {},
   "outputs": [
    {
     "data": {
      "text/plain": [
       "array([1, 2, 3, 4, 5, 6, 7, 8, 9])"
      ]
     },
     "execution_count": 71,
     "metadata": {},
     "output_type": "execute_result"
    }
   ],
   "source": [
    "# Write a NumPy program to test if any of the elements of a given array are non-zero\n",
    "\n",
    "a[a[:]!=0]"
   ]
  },
  {
   "cell_type": "code",
   "execution_count": 73,
   "id": "ddbba64f",
   "metadata": {},
   "outputs": [
    {
     "data": {
      "text/plain": [
       "array([], dtype=int32)"
      ]
     },
     "execution_count": 73,
     "metadata": {},
     "output_type": "execute_result"
    }
   ],
   "source": [
    "# Write a NumPy program to test a given array element-wise for finiteness (not infinity or not a number)\n",
    "a[np.isinf(a)]"
   ]
  },
  {
   "cell_type": "code",
   "execution_count": 79,
   "id": "8277b3cb",
   "metadata": {},
   "outputs": [
    {
     "data": {
      "text/plain": [
       "array([1, 2, 3, 4, 5, 6, 7, 8, 9])"
      ]
     },
     "execution_count": 79,
     "metadata": {},
     "output_type": "execute_result"
    }
   ],
   "source": [
    "#  Write a NumPy program to test elements-wise for positive or negative\n",
    "\n",
    "a[a[:]>0]"
   ]
  },
  {
   "cell_type": "code",
   "execution_count": 80,
   "id": "0ab48b8a",
   "metadata": {},
   "outputs": [
    {
     "data": {
      "text/plain": [
       "array([], dtype=int32)"
      ]
     },
     "execution_count": 80,
     "metadata": {},
     "output_type": "execute_result"
    }
   ],
   "source": [
    "a[a[:]<0]"
   ]
  },
  {
   "cell_type": "code",
   "execution_count": 82,
   "id": "007fac9c",
   "metadata": {},
   "outputs": [
    {
     "data": {
      "text/plain": [
       "array([], dtype=int32)"
      ]
     },
     "execution_count": 82,
     "metadata": {},
     "output_type": "execute_result"
    }
   ],
   "source": [
    "a[np.isnan(a[:])]"
   ]
  },
  {
   "cell_type": "code",
   "execution_count": 84,
   "id": "d219da6e",
   "metadata": {},
   "outputs": [
    {
     "data": {
      "text/plain": [
       "numpy.ndarray"
      ]
     },
     "execution_count": 84,
     "metadata": {},
     "output_type": "execute_result"
    }
   ],
   "source": [
    "# Write a NumPy program to test element-wise for complex numbers, real numbers in a given array. Also test if a given number is of a scalar type or not.\n"
   ]
  },
  {
   "cell_type": "code",
   "execution_count": 87,
   "id": "f0999968",
   "metadata": {},
   "outputs": [
    {
     "data": {
      "text/plain": [
       "array([], dtype=int32)"
      ]
     },
     "execution_count": 87,
     "metadata": {},
     "output_type": "execute_result"
    }
   ],
   "source": [
    "a[np.iscomplex(a)]"
   ]
  },
  {
   "cell_type": "code",
   "execution_count": 88,
   "id": "71440138",
   "metadata": {},
   "outputs": [
    {
     "data": {
      "text/plain": [
       "array([0, 1, 2, 3, 4, 5, 6, 7, 8, 9])"
      ]
     },
     "execution_count": 88,
     "metadata": {},
     "output_type": "execute_result"
    }
   ],
   "source": [
    "a[np.isreal(a)]"
   ]
  },
  {
   "cell_type": "code",
   "execution_count": 89,
   "id": "443824fd",
   "metadata": {},
   "outputs": [
    {
     "data": {
      "text/plain": [
       "False"
      ]
     },
     "execution_count": 89,
     "metadata": {},
     "output_type": "execute_result"
    }
   ],
   "source": [
    "np.isscalar(a)"
   ]
  },
  {
   "cell_type": "code",
   "execution_count": 90,
   "id": "c05fe44c",
   "metadata": {},
   "outputs": [],
   "source": [
    "# Write a NumPy program to test whether two arrays are element-wise equal within a tolerance. "
   ]
  },
  {
   "cell_type": "code",
   "execution_count": 97,
   "id": "59f0fb06",
   "metadata": {},
   "outputs": [],
   "source": [
    "a = np.arange(100)\n",
    "b = np.arange(100)"
   ]
  },
  {
   "cell_type": "code",
   "execution_count": 98,
   "id": "12210834",
   "metadata": {},
   "outputs": [
    {
     "data": {
      "text/plain": [
       "array([[ 0,  1,  2,  3,  4,  5,  6,  7,  8,  9, 10, 11, 12, 13, 14, 15,\n",
       "        16, 17, 18, 19, 20, 21, 22, 23, 24, 25, 26, 27, 28, 29, 30, 31,\n",
       "        32, 33, 34, 35, 36, 37, 38, 39, 40, 41, 42, 43, 44, 45, 46, 47,\n",
       "        48, 49, 50, 51, 52, 53, 54, 55, 56, 57, 58, 59, 60, 61, 62, 63,\n",
       "        64, 65, 66, 67, 68, 69, 70, 71, 72, 73, 74, 75, 76, 77, 78, 79,\n",
       "        80, 81, 82, 83, 84, 85, 86, 87, 88, 89, 90, 91, 92, 93, 94, 95,\n",
       "        96, 97, 98, 99]])"
      ]
     },
     "execution_count": 98,
     "metadata": {},
     "output_type": "execute_result"
    }
   ],
   "source": [
    "a[np.array_equal(a,b)]"
   ]
  },
  {
   "cell_type": "code",
   "execution_count": 94,
   "id": "3fbb60dd",
   "metadata": {},
   "outputs": [],
   "source": [
    "# Write a NumPy program to create an element-wise comparison (greater, greater_equal, less and less_equal) of two given arrays"
   ]
  },
  {
   "cell_type": "code",
   "execution_count": 99,
   "id": "8353e635",
   "metadata": {},
   "outputs": [
    {
     "data": {
      "text/plain": [
       "array([False, False, False, False, False, False, False, False, False,\n",
       "       False, False, False, False, False, False, False, False, False,\n",
       "       False, False, False, False, False, False, False, False, False,\n",
       "       False, False, False, False, False, False, False, False, False,\n",
       "       False, False, False, False, False, False, False, False, False,\n",
       "       False, False, False, False, False, False, False, False, False,\n",
       "       False, False, False, False, False, False, False, False, False,\n",
       "       False, False, False, False, False, False, False, False, False,\n",
       "       False, False, False, False, False, False, False, False, False,\n",
       "       False, False, False, False, False, False, False, False, False,\n",
       "       False, False, False, False, False, False, False, False, False,\n",
       "       False])"
      ]
     },
     "execution_count": 99,
     "metadata": {},
     "output_type": "execute_result"
    }
   ],
   "source": [
    "np.greater(a,b)"
   ]
  },
  {
   "cell_type": "code",
   "execution_count": 100,
   "id": "de9bea2f",
   "metadata": {},
   "outputs": [
    {
     "data": {
      "text/plain": [
       "array([ True,  True,  True,  True,  True,  True,  True,  True,  True,\n",
       "        True,  True,  True,  True,  True,  True,  True,  True,  True,\n",
       "        True,  True,  True,  True,  True,  True,  True,  True,  True,\n",
       "        True,  True,  True,  True,  True,  True,  True,  True,  True,\n",
       "        True,  True,  True,  True,  True,  True,  True,  True,  True,\n",
       "        True,  True,  True,  True,  True,  True,  True,  True,  True,\n",
       "        True,  True,  True,  True,  True,  True,  True,  True,  True,\n",
       "        True,  True,  True,  True,  True,  True,  True,  True,  True,\n",
       "        True,  True,  True,  True,  True,  True,  True,  True,  True,\n",
       "        True,  True,  True,  True,  True,  True,  True,  True,  True,\n",
       "        True,  True,  True,  True,  True,  True,  True,  True,  True,\n",
       "        True])"
      ]
     },
     "execution_count": 100,
     "metadata": {},
     "output_type": "execute_result"
    }
   ],
   "source": [
    "np.greater_equal(a,b)"
   ]
  },
  {
   "cell_type": "code",
   "execution_count": 101,
   "id": "73848e94",
   "metadata": {},
   "outputs": [
    {
     "data": {
      "text/plain": [
       "array([False, False, False, False, False, False, False, False, False,\n",
       "       False, False, False, False, False, False, False, False, False,\n",
       "       False, False, False, False, False, False, False, False, False,\n",
       "       False, False, False, False, False, False, False, False, False,\n",
       "       False, False, False, False, False, False, False, False, False,\n",
       "       False, False, False, False, False, False, False, False, False,\n",
       "       False, False, False, False, False, False, False, False, False,\n",
       "       False, False, False, False, False, False, False, False, False,\n",
       "       False, False, False, False, False, False, False, False, False,\n",
       "       False, False, False, False, False, False, False, False, False,\n",
       "       False, False, False, False, False, False, False, False, False,\n",
       "       False])"
      ]
     },
     "execution_count": 101,
     "metadata": {},
     "output_type": "execute_result"
    }
   ],
   "source": [
    "np.less(a,b)"
   ]
  },
  {
   "cell_type": "code",
   "execution_count": 102,
   "id": "6a1a9c63",
   "metadata": {},
   "outputs": [],
   "source": [
    "# Write a NumPy program to create an array with the values 1, 7, 13, 105 and determine the size of the memory occupied by the array"
   ]
  },
  {
   "cell_type": "code",
   "execution_count": 103,
   "id": "5d3feeb8",
   "metadata": {},
   "outputs": [],
   "source": [
    "array_test = np.array([1,7,13,105])"
   ]
  },
  {
   "cell_type": "code",
   "execution_count": 106,
   "id": "d93eb000",
   "metadata": {},
   "outputs": [
    {
     "data": {
      "text/plain": [
       "16"
      ]
     },
     "execution_count": 106,
     "metadata": {},
     "output_type": "execute_result"
    }
   ],
   "source": [
    "array_test.size * array_test.itemsize\n"
   ]
  },
  {
   "cell_type": "code",
   "execution_count": 107,
   "id": "ad4edf20",
   "metadata": {},
   "outputs": [],
   "source": [
    "# rite a NumPy program to create an array of 10 zeros, 10 ones, and 10 fives."
   ]
  },
  {
   "cell_type": "code",
   "execution_count": 108,
   "id": "f3f5b32c",
   "metadata": {},
   "outputs": [],
   "source": [
    "array_zeros = np.zeros(shape=10)"
   ]
  },
  {
   "cell_type": "code",
   "execution_count": 109,
   "id": "1f57ae42",
   "metadata": {},
   "outputs": [
    {
     "data": {
      "text/plain": [
       "array([0., 0., 0., 0., 0., 0., 0., 0., 0., 0.])"
      ]
     },
     "execution_count": 109,
     "metadata": {},
     "output_type": "execute_result"
    }
   ],
   "source": [
    "array_zeros"
   ]
  },
  {
   "cell_type": "code",
   "execution_count": 110,
   "id": "e888dc36",
   "metadata": {},
   "outputs": [],
   "source": [
    "array_ones = np.ones(shape=10)"
   ]
  },
  {
   "cell_type": "code",
   "execution_count": 112,
   "id": "ca9195b9",
   "metadata": {},
   "outputs": [
    {
     "data": {
      "text/plain": [
       "array([1., 1., 1., 1., 1., 1., 1., 1., 1., 1.])"
      ]
     },
     "execution_count": 112,
     "metadata": {},
     "output_type": "execute_result"
    }
   ],
   "source": [
    "array_ones"
   ]
  },
  {
   "cell_type": "code",
   "execution_count": 113,
   "id": "b08b316e",
   "metadata": {},
   "outputs": [
    {
     "data": {
      "text/plain": [
       "array([5, 5, 5, 5, 5, 5, 5, 5, 5, 5])"
      ]
     },
     "execution_count": 113,
     "metadata": {},
     "output_type": "execute_result"
    }
   ],
   "source": [
    "\n",
    "array_2 = np.full(shape=10,fill_value=5)\n",
    "array_2"
   ]
  },
  {
   "cell_type": "code",
   "execution_count": 114,
   "id": "a0ed9040",
   "metadata": {},
   "outputs": [],
   "source": [
    "# Write a NumPy program to create an array of integers from 30 to 70.\n",
    "\n",
    "array_test = np.arange(10,71)"
   ]
  },
  {
   "cell_type": "code",
   "execution_count": 115,
   "id": "e59a1ca4",
   "metadata": {},
   "outputs": [
    {
     "data": {
      "text/plain": [
       "array([10, 11, 12, 13, 14, 15, 16, 17, 18, 19, 20, 21, 22, 23, 24, 25, 26,\n",
       "       27, 28, 29, 30, 31, 32, 33, 34, 35, 36, 37, 38, 39, 40, 41, 42, 43,\n",
       "       44, 45, 46, 47, 48, 49, 50, 51, 52, 53, 54, 55, 56, 57, 58, 59, 60,\n",
       "       61, 62, 63, 64, 65, 66, 67, 68, 69, 70])"
      ]
     },
     "execution_count": 115,
     "metadata": {},
     "output_type": "execute_result"
    }
   ],
   "source": [
    "array_test"
   ]
  },
  {
   "cell_type": "code",
   "execution_count": 116,
   "id": "fcdd587f",
   "metadata": {},
   "outputs": [],
   "source": [
    "# Write a NumPy program to create an array of all even integers from 30 to 70.\n",
    "\n",
    "array_test = np.arange(10,71) "
   ]
  },
  {
   "cell_type": "code",
   "execution_count": 118,
   "id": "aac14bf7",
   "metadata": {},
   "outputs": [
    {
     "data": {
      "text/plain": [
       "array([10, 12, 14, 16, 18, 20, 22, 24, 26, 28, 30, 32, 34, 36, 38, 40, 42,\n",
       "       44, 46, 48, 50, 52, 54, 56, 58, 60, 62, 64, 66, 68, 70])"
      ]
     },
     "execution_count": 118,
     "metadata": {},
     "output_type": "execute_result"
    }
   ],
   "source": [
    "array_test[array_test[:]%2 == 0]"
   ]
  },
  {
   "cell_type": "code",
   "execution_count": 120,
   "id": "14e225b0",
   "metadata": {},
   "outputs": [
    {
     "data": {
      "text/plain": [
       "array([[1, 0, 0],\n",
       "       [0, 1, 0],\n",
       "       [0, 0, 1]])"
      ]
     },
     "execution_count": 120,
     "metadata": {},
     "output_type": "execute_result"
    }
   ],
   "source": [
    "#  Write a NumPy program to create a 3x3 identity matrix.\n",
    "\n",
    "matrix_A = np.eye(3, dtype=int)\n",
    "\n",
    "matrix_A"
   ]
  },
  {
   "cell_type": "code",
   "execution_count": 124,
   "id": "3baef0fc",
   "metadata": {},
   "outputs": [
    {
     "data": {
      "text/plain": [
       "array([0.32805533])"
      ]
     },
     "execution_count": 124,
     "metadata": {},
     "output_type": "execute_result"
    }
   ],
   "source": [
    "# Write a NumPy program to generate a random number between 0 and 1\n",
    "\n",
    "rand_num = np.random.normal(0,1,1)\n",
    "rand_num"
   ]
  },
  {
   "cell_type": "code",
   "execution_count": 125,
   "id": "c38832a4",
   "metadata": {},
   "outputs": [
    {
     "data": {
      "text/plain": [
       "array([ 0.68811125, -0.33312651, -0.20418272, -1.05513577, -1.28643032,\n",
       "        1.29387588,  0.40272445, -0.81757761, -0.61553022, -0.14060825,\n",
       "       -0.32924618, -0.33354784,  1.3652885 ,  0.21274614, -1.16695408])"
      ]
     },
     "execution_count": 125,
     "metadata": {},
     "output_type": "execute_result"
    }
   ],
   "source": [
    "# Write a NumPy program to generate an array of 15 random numbers from a standard normal distribution.\n",
    "rand_num = np.random.normal(0,1,15)\n",
    "rand_num"
   ]
  },
  {
   "cell_type": "code",
   "execution_count": 127,
   "id": "581a5a10",
   "metadata": {},
   "outputs": [
    {
     "data": {
      "text/plain": [
       "array([15, 16, 17, 18, 19, 20, 21, 22, 23, 24, 25, 26, 27, 28, 29, 30, 31,\n",
       "       32, 33, 34, 35, 36, 37, 38, 39, 40, 41, 42, 43, 44, 45, 46, 47, 48,\n",
       "       49, 50, 51, 52, 53, 54])"
      ]
     },
     "execution_count": 127,
     "metadata": {},
     "output_type": "execute_result"
    }
   ],
   "source": [
    "# Write a NumPy program to create a vector with values ranging from 15 to 55 and print all values except the first and last\n",
    "\n",
    "a = np.arange(15,55)\n",
    "\n",
    "a\n",
    "\n"
   ]
  },
  {
   "cell_type": "code",
   "execution_count": 128,
   "id": "a83d833f",
   "metadata": {},
   "outputs": [
    {
     "data": {
      "text/plain": [
       "array([16, 17, 18, 19, 20, 21, 22, 23, 24, 25, 26, 27, 28, 29, 30, 31, 32,\n",
       "       33, 34, 35, 36, 37, 38, 39, 40, 41, 42, 43, 44, 45, 46, 47, 48, 49,\n",
       "       50, 51, 52, 53])"
      ]
     },
     "execution_count": 128,
     "metadata": {},
     "output_type": "execute_result"
    }
   ],
   "source": [
    "a[1:-1]"
   ]
  },
  {
   "cell_type": "code",
   "execution_count": 136,
   "id": "27510844",
   "metadata": {},
   "outputs": [
    {
     "data": {
      "text/plain": [
       "array([[ 0,  1,  2,  3],\n",
       "       [ 4,  5,  6,  7],\n",
       "       [ 8,  9, 10, 11]])"
      ]
     },
     "execution_count": 136,
     "metadata": {},
     "output_type": "execute_result"
    }
   ],
   "source": [
    "# Write a NumPy program to create a 3X4 array and iterate over it\n",
    "\n",
    "a= np.arange(12).reshape(3,4)\n",
    "a\n"
   ]
  },
  {
   "cell_type": "code",
   "execution_count": 137,
   "id": "b4243034",
   "metadata": {},
   "outputs": [],
   "source": [
    "\n",
    "# Write a NumPy program to create a vector of length 10 with values evenly distributed between 5 and 50."
   ]
  },
  {
   "cell_type": "code",
   "execution_count": 138,
   "id": "d30145a2",
   "metadata": {},
   "outputs": [],
   "source": [
    "v = np.linspace(10, 49, 5)\n",
    "\n"
   ]
  },
  {
   "cell_type": "code",
   "execution_count": 139,
   "id": "ac42556d",
   "metadata": {},
   "outputs": [
    {
     "data": {
      "text/plain": [
       "array([10.  , 19.75, 29.5 , 39.25, 49.  ])"
      ]
     },
     "execution_count": 139,
     "metadata": {},
     "output_type": "execute_result"
    }
   ],
   "source": [
    "v"
   ]
  },
  {
   "cell_type": "code",
   "execution_count": 146,
   "id": "546db71a",
   "metadata": {},
   "outputs": [
    {
     "data": {
      "text/plain": [
       "array([  0,   1,   2,   3,   4,   5,   6,   7,   8,  -9, -10, -11, -12,\n",
       "       -13, -14, -15,  16,  17,  18,  19])"
      ]
     },
     "execution_count": 146,
     "metadata": {},
     "output_type": "execute_result"
    }
   ],
   "source": [
    "# Write a NumPy program to create a vector with values from 0 to 20 and change the sign of the numbers in the range from 9 to 15.\n",
    "v = np.arange(0, 20)\n",
    "v[(v>=9)&(v<=15)]*=-1\n",
    "v"
   ]
  },
  {
   "cell_type": "code",
   "execution_count": 147,
   "id": "dd9ff838",
   "metadata": {},
   "outputs": [],
   "source": [
    "# Write a NumPy program to create a vector of length 5 filled with arbitrary integers from 0 to 10.\n",
    "\n",
    "a= np.linspace(0,10,5)"
   ]
  },
  {
   "cell_type": "code",
   "execution_count": 148,
   "id": "670bcc83",
   "metadata": {},
   "outputs": [
    {
     "data": {
      "text/plain": [
       "array([ 0. ,  2.5,  5. ,  7.5, 10. ])"
      ]
     },
     "execution_count": 148,
     "metadata": {},
     "output_type": "execute_result"
    }
   ],
   "source": [
    "a"
   ]
  },
  {
   "cell_type": "code",
   "execution_count": 151,
   "id": "ee3f1997",
   "metadata": {},
   "outputs": [
    {
     "data": {
      "text/plain": [
       "array([ 0. ,  2.5,  5. ,  7.5, 10. ])"
      ]
     },
     "execution_count": 151,
     "metadata": {},
     "output_type": "execute_result"
    }
   ],
   "source": [
    "\n",
    "b= np.linspace(0,10,5)\n",
    "b"
   ]
  },
  {
   "cell_type": "code",
   "execution_count": 152,
   "id": "74e73b6e",
   "metadata": {},
   "outputs": [
    {
     "data": {
      "text/plain": [
       "array([  0.  ,   6.25,  25.  ,  56.25, 100.  ])"
      ]
     },
     "execution_count": 152,
     "metadata": {},
     "output_type": "execute_result"
    }
   ],
   "source": [
    "a*b"
   ]
  },
  {
   "cell_type": "code",
   "execution_count": 156,
   "id": "33be130a",
   "metadata": {},
   "outputs": [],
   "source": [
    "# Write a NumPy program to create a 3x4 matrix filled with values from 10 to 21\n",
    "\n",
    "matrix_A = np.arange(10,22)"
   ]
  },
  {
   "cell_type": "code",
   "execution_count": 159,
   "id": "24bfc836",
   "metadata": {},
   "outputs": [
    {
     "data": {
      "text/plain": [
       "array([[10, 11, 12, 13],\n",
       "       [14, 15, 16, 17],\n",
       "       [18, 19, 20, 21]])"
      ]
     },
     "execution_count": 159,
     "metadata": {},
     "output_type": "execute_result"
    }
   ],
   "source": [
    "matrix_A = matrix_A.reshape((3,4))\n",
    "matrix_A"
   ]
  },
  {
   "cell_type": "code",
   "execution_count": 163,
   "id": "39bfb487",
   "metadata": {},
   "outputs": [
    {
     "name": "stdout",
     "output_type": "stream",
     "text": [
      "Number of rows is 3\n",
      "Number of columns is 4\n"
     ]
    }
   ],
   "source": [
    "# Write a NumPy program to find the number of rows and columns in a given matrix\n",
    "\n",
    "i,j = matrix_A.shape\n",
    "print(\"Number of rows is {}\".format(i))\n",
    "print(\"Number of columns is {}\".format(j))"
   ]
  },
  {
   "cell_type": "code",
   "execution_count": 164,
   "id": "b67f69f9",
   "metadata": {},
   "outputs": [],
   "source": [
    "# Write a NumPy program to create a 10x10 matrix, in which the elements on the borders will be equal to 1, and inside 0.\n",
    "\n",
    "matrix_a_10 = np.eye(10)"
   ]
  },
  {
   "cell_type": "code",
   "execution_count": 165,
   "id": "fad92331",
   "metadata": {},
   "outputs": [
    {
     "data": {
      "text/plain": [
       "array([[1., 0., 0., 0., 0., 0., 0., 0., 0., 0.],\n",
       "       [0., 1., 0., 0., 0., 0., 0., 0., 0., 0.],\n",
       "       [0., 0., 1., 0., 0., 0., 0., 0., 0., 0.],\n",
       "       [0., 0., 0., 1., 0., 0., 0., 0., 0., 0.],\n",
       "       [0., 0., 0., 0., 1., 0., 0., 0., 0., 0.],\n",
       "       [0., 0., 0., 0., 0., 1., 0., 0., 0., 0.],\n",
       "       [0., 0., 0., 0., 0., 0., 1., 0., 0., 0.],\n",
       "       [0., 0., 0., 0., 0., 0., 0., 1., 0., 0.],\n",
       "       [0., 0., 0., 0., 0., 0., 0., 0., 1., 0.],\n",
       "       [0., 0., 0., 0., 0., 0., 0., 0., 0., 1.]])"
      ]
     },
     "execution_count": 165,
     "metadata": {},
     "output_type": "execute_result"
    }
   ],
   "source": [
    "matrix_a_10"
   ]
  },
  {
   "cell_type": "code",
   "execution_count": 166,
   "id": "6497a865",
   "metadata": {},
   "outputs": [
    {
     "data": {
      "text/plain": [
       "array([[1, 0, 0, 0, 0],\n",
       "       [0, 2, 0, 0, 0],\n",
       "       [0, 0, 3, 0, 0],\n",
       "       [0, 0, 0, 4, 0],\n",
       "       [0, 0, 0, 0, 5]])"
      ]
     },
     "execution_count": 166,
     "metadata": {},
     "output_type": "execute_result"
    }
   ],
   "source": [
    "# Write a NumPy program to create a 5x5 zero matrix with elements on the main diagonal equal to 1, 2, 3, 4, 5.\n",
    "\n",
    "matrix_a = np.diag([1,2,3,4,5])\n",
    "matrix_a"
   ]
  },
  {
   "cell_type": "code",
   "execution_count": 171,
   "id": "09fd2d05",
   "metadata": {},
   "outputs": [
    {
     "data": {
      "text/plain": [
       "array([[0., 0., 0., 0.],\n",
       "       [0., 0., 0., 0.],\n",
       "       [0., 0., 0., 0.],\n",
       "       [0., 0., 0., 0.]])"
      ]
     },
     "execution_count": 171,
     "metadata": {},
     "output_type": "execute_result"
    }
   ],
   "source": [
    "# Write a NumPy program to create a 4x4 matrix in which 0 and 1 are staggered, with zeros on the main diagonal. \n",
    "\n",
    "x= np.zeros((4,4))\n",
    "x\n"
   ]
  },
  {
   "cell_type": "code",
   "execution_count": 179,
   "id": "021fbb15",
   "metadata": {},
   "outputs": [],
   "source": [
    "# 31. Write a NumPy program to create a 3x3x3 array filled with arbitrary values\n",
    "\n",
    "a= np.random.random((3,3,3))"
   ]
  },
  {
   "cell_type": "code",
   "execution_count": 180,
   "id": "77d4c499",
   "metadata": {},
   "outputs": [
    {
     "data": {
      "text/plain": [
       "array([[1.35587115, 2.6703735 , 1.99894465],\n",
       "       [1.85401356, 1.7107052 , 1.82346017],\n",
       "       [1.34003589, 1.53674621, 1.60613912]])"
      ]
     },
     "execution_count": 180,
     "metadata": {},
     "output_type": "execute_result"
    }
   ],
   "source": [
    "# Write a NumPy program to compute the sum of all elements, the sum of each column and the sum of each row in a given array. \n",
    "\n",
    "np.sum(a,axis=0)\n",
    "np.sum(a)\n",
    "np.sum(a,axis=1)"
   ]
  },
  {
   "cell_type": "code",
   "execution_count": 182,
   "id": "e585bae4",
   "metadata": {},
   "outputs": [
    {
     "data": {
      "text/plain": [
       "78"
      ]
     },
     "execution_count": 182,
     "metadata": {},
     "output_type": "execute_result"
    }
   ],
   "source": [
    "x = np.array([4, 5])\n",
    "y = np.array([7, 10])\n",
    "\n",
    "np.dot(x,y)"
   ]
  },
  {
   "cell_type": "code",
   "execution_count": 183,
   "id": "be6f1dec",
   "metadata": {},
   "outputs": [
    {
     "data": {
      "text/plain": [
       "array([4, 5])"
      ]
     },
     "execution_count": 183,
     "metadata": {},
     "output_type": "execute_result"
    }
   ],
   "source": [
    "# Write a NumPy program to add a vector to each row of a given matrix.\n",
    "\n",
    "x "
   ]
  },
  {
   "cell_type": "code",
   "execution_count": 185,
   "id": "e322e189",
   "metadata": {},
   "outputs": [
    {
     "data": {
      "text/plain": [
       "array([[[0.70103799, 0.84601107, 0.6900062 ],\n",
       "        [0.35380679, 0.88270512, 0.96982848],\n",
       "        [0.30102636, 0.94165731, 0.33910998]],\n",
       "\n",
       "       [[0.0591079 , 0.18160461, 0.48154218],\n",
       "        [0.97476068, 0.883821  , 0.48427585],\n",
       "        [0.82014498, 0.64527959, 0.85764215]],\n",
       "\n",
       "       [[0.29306186, 0.81517459, 0.63306763],\n",
       "        [0.07391555, 0.12178304, 0.77788118],\n",
       "        [0.97305848, 0.59978858, 0.19519032]]])"
      ]
     },
     "execution_count": 185,
     "metadata": {},
     "output_type": "execute_result"
    }
   ],
   "source": [
    "a"
   ]
  },
  {
   "cell_type": "code",
   "execution_count": 187,
   "id": "6053b59f",
   "metadata": {},
   "outputs": [
    {
     "ename": "TypeError",
     "evalue": "sum() got multiple values for argument 'axis'",
     "output_type": "error",
     "traceback": [
      "\u001b[1;31m---------------------------------------------------------------------------\u001b[0m",
      "\u001b[1;31mTypeError\u001b[0m                                 Traceback (most recent call last)",
      "Input \u001b[1;32mIn [187]\u001b[0m, in \u001b[0;36m<cell line: 1>\u001b[1;34m()\u001b[0m\n\u001b[1;32m----> 1\u001b[0m \u001b[43mnp\u001b[49m\u001b[38;5;241;43m.\u001b[39;49m\u001b[43msum\u001b[49m\u001b[43m(\u001b[49m\u001b[43ma\u001b[49m\u001b[43m,\u001b[49m\u001b[43mx\u001b[49m\u001b[43m,\u001b[49m\u001b[43maxis\u001b[49m\u001b[38;5;241;43m=\u001b[39;49m\u001b[38;5;241;43m0\u001b[39;49m\u001b[43m)\u001b[49m\n",
      "File \u001b[1;32m<__array_function__ internals>:198\u001b[0m, in \u001b[0;36msum\u001b[1;34m(*args, **kwargs)\u001b[0m\n",
      "\u001b[1;31mTypeError\u001b[0m: sum() got multiple values for argument 'axis'"
     ]
    }
   ],
   "source": [
    "np.sum(a,x,axis=0)"
   ]
  },
  {
   "cell_type": "code",
   "execution_count": 190,
   "id": "c0b67fd9",
   "metadata": {},
   "outputs": [],
   "source": [
    "# Write a NumPy program to find missing data in a given array\n",
    "matrix_A = np.array([1,2,np.nan,4,5,np.nan])"
   ]
  },
  {
   "cell_type": "code",
   "execution_count": 193,
   "id": "3d96dd05",
   "metadata": {},
   "outputs": [
    {
     "data": {
      "text/plain": [
       "array([nan, nan])"
      ]
     },
     "execution_count": 193,
     "metadata": {},
     "output_type": "execute_result"
    }
   ],
   "source": [
    "matrix_A[np.isnan(matrix_A)]"
   ]
  },
  {
   "cell_type": "code",
   "execution_count": 194,
   "id": "907bbadc",
   "metadata": {},
   "outputs": [
    {
     "data": {
      "text/plain": [
       "array([ 0. ,  2.5,  5. ,  7.5, 10. ])"
      ]
     },
     "execution_count": 194,
     "metadata": {},
     "output_type": "execute_result"
    }
   ],
   "source": [
    "# Write a NumPy program to check whether two arrays are equal (element wise) or not\n",
    "a\n",
    "b\n"
   ]
  },
  {
   "cell_type": "code",
   "execution_count": 195,
   "id": "3b243bd1",
   "metadata": {},
   "outputs": [
    {
     "data": {
      "text/plain": [
       "array([ 0. ,  2.5,  5. ,  7.5, 10. ])"
      ]
     },
     "execution_count": 195,
     "metadata": {},
     "output_type": "execute_result"
    }
   ],
   "source": [
    "b\n"
   ]
  },
  {
   "cell_type": "code",
   "execution_count": 197,
   "id": "2cc762a3",
   "metadata": {},
   "outputs": [
    {
     "data": {
      "text/plain": [
       "array([[[0.70103799, 0.84601107, 0.6900062 ],\n",
       "        [0.35380679, 0.88270512, 0.96982848],\n",
       "        [0.30102636, 0.94165731, 0.33910998]],\n",
       "\n",
       "       [[0.0591079 , 0.18160461, 0.48154218],\n",
       "        [0.97476068, 0.883821  , 0.48427585],\n",
       "        [0.82014498, 0.64527959, 0.85764215]],\n",
       "\n",
       "       [[0.29306186, 0.81517459, 0.63306763],\n",
       "        [0.07391555, 0.12178304, 0.77788118],\n",
       "        [0.97305848, 0.59978858, 0.19519032]]])"
      ]
     },
     "execution_count": 197,
     "metadata": {},
     "output_type": "execute_result"
    }
   ],
   "source": [
    "a"
   ]
  },
  {
   "cell_type": "code",
   "execution_count": 199,
   "id": "5e3a33de",
   "metadata": {},
   "outputs": [
    {
     "data": {
      "text/plain": [
       "False"
      ]
     },
     "execution_count": 199,
     "metadata": {},
     "output_type": "execute_result"
    }
   ],
   "source": [
    "np.array_equal(a,b)"
   ]
  },
  {
   "cell_type": "code",
   "execution_count": 200,
   "id": "afdfe53d",
   "metadata": {},
   "outputs": [],
   "source": [
    "# Write a NumPy program to create a one-dimensional array of forty pseudo-randomly generated values. Select random numbers from a uniform distribution between 0 and 1"
   ]
  },
  {
   "cell_type": "code",
   "execution_count": 202,
   "id": "526df9f3",
   "metadata": {},
   "outputs": [],
   "source": [
    "a=np.random.random((8,5))"
   ]
  },
  {
   "cell_type": "code",
   "execution_count": 203,
   "id": "d8c4b9cc",
   "metadata": {},
   "outputs": [
    {
     "data": {
      "text/plain": [
       "array([[0.00561802, 0.24980883, 0.60095171, 0.85560066, 0.3993979 ],\n",
       "       [0.99744525, 0.28796   , 0.39894857, 0.00887479, 0.05337961],\n",
       "       [0.31065411, 0.60983923, 0.01241756, 0.83077944, 0.87118636],\n",
       "       [0.81794093, 0.2638863 , 0.04874494, 0.36496758, 0.27260092],\n",
       "       [0.74214115, 0.19147343, 0.06796921, 0.80253728, 0.0499572 ],\n",
       "       [0.90843013, 0.2491648 , 0.38037605, 0.8541555 , 0.73144404],\n",
       "       [0.3308208 , 0.23215826, 0.27188095, 0.60558426, 0.0860778 ],\n",
       "       [0.10843256, 0.33834805, 0.38178347, 0.35033475, 0.02622281]])"
      ]
     },
     "execution_count": 203,
     "metadata": {},
     "output_type": "execute_result"
    }
   ],
   "source": [
    "a"
   ]
  },
  {
   "cell_type": "code",
   "execution_count": 204,
   "id": "837b379a",
   "metadata": {},
   "outputs": [],
   "source": [
    "# Write a NumPy program to create a 4x4 array with random values. Create an array from the said array swapping first and last rows."
   ]
  },
  {
   "cell_type": "code",
   "execution_count": 206,
   "id": "af9d8d7c",
   "metadata": {},
   "outputs": [
    {
     "data": {
      "text/plain": [
       "array([[0.6975924 , 0.83927069, 0.87785288, 0.06196464],\n",
       "       [0.73351017, 0.53716904, 0.36397308, 0.95574618],\n",
       "       [0.93316952, 0.49813628, 0.76914337, 0.94740318],\n",
       "       [0.57588885, 0.6793372 , 0.18742575, 0.43410484]])"
      ]
     },
     "execution_count": 206,
     "metadata": {},
     "output_type": "execute_result"
    }
   ],
   "source": [
    "a=np.random.random((4,4))\n",
    "a"
   ]
  },
  {
   "cell_type": "code",
   "execution_count": 210,
   "id": "2c3b0fbe",
   "metadata": {},
   "outputs": [
    {
     "ename": "TypeError",
     "evalue": "ufunc 'bitwise_and' not supported for the input types, and the inputs could not be safely coerced to any supported types according to the casting rule ''safe''",
     "output_type": "error",
     "traceback": [
      "\u001b[1;31m---------------------------------------------------------------------------\u001b[0m",
      "\u001b[1;31mTypeError\u001b[0m                                 Traceback (most recent call last)",
      "Input \u001b[1;32mIn [210]\u001b[0m, in \u001b[0;36m<cell line: 1>\u001b[1;34m()\u001b[0m\n\u001b[1;32m----> 1\u001b[0m a[a[\u001b[38;5;241m0\u001b[39m,:] \u001b[38;5;241m==\u001b[39m \u001b[43ma\u001b[49m\u001b[43m[\u001b[49m\u001b[38;5;241;43m3\u001b[39;49m\u001b[43m,\u001b[49m\u001b[43m:\u001b[49m\u001b[43m]\u001b[49m\u001b[43m \u001b[49m\u001b[38;5;241;43m&\u001b[39;49m\u001b[43m \u001b[49m\u001b[43ma\u001b[49m\u001b[43m[\u001b[49m\u001b[38;5;241;43m3\u001b[39;49m\u001b[43m,\u001b[49m\u001b[43m:\u001b[49m\u001b[43m]\u001b[49m \u001b[38;5;241m==\u001b[39m a[\u001b[38;5;241m0\u001b[39m,:]]\n",
      "\u001b[1;31mTypeError\u001b[0m: ufunc 'bitwise_and' not supported for the input types, and the inputs could not be safely coerced to any supported types according to the casting rule ''safe''"
     ]
    }
   ],
   "source": [
    "a[a[0,:] == a[3,:] & a[3,:] == a[0,:]]"
   ]
  },
  {
   "cell_type": "code",
   "execution_count": null,
   "id": "cc9c79ed",
   "metadata": {},
   "outputs": [],
   "source": []
  }
 ],
 "metadata": {
  "kernelspec": {
   "display_name": "Python 3 (ipykernel)",
   "language": "python",
   "name": "python3"
  },
  "language_info": {
   "codemirror_mode": {
    "name": "ipython",
    "version": 3
   },
   "file_extension": ".py",
   "mimetype": "text/x-python",
   "name": "python",
   "nbconvert_exporter": "python",
   "pygments_lexer": "ipython3",
   "version": "3.9.12"
  }
 },
 "nbformat": 4,
 "nbformat_minor": 5
}
