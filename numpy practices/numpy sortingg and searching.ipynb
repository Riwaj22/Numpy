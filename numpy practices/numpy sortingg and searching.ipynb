{
 "cells": [
  {
   "cell_type": "code",
   "execution_count": 166,
   "id": "e4eb3c13",
   "metadata": {},
   "outputs": [],
   "source": [
    "import numpy as np"
   ]
  },
  {
   "cell_type": "code",
   "execution_count": 167,
   "id": "4d39bf29",
   "metadata": {},
   "outputs": [
    {
     "data": {
      "text/plain": [
       "array([[10, 40],\n",
       "       [30, 20]])"
      ]
     },
     "execution_count": 167,
     "metadata": {},
     "output_type": "execute_result"
    }
   ],
   "source": [
    "original_array = np.array([[10,40],[30,20]])\n",
    "original_array"
   ]
  },
  {
   "cell_type": "code",
   "execution_count": 170,
   "id": "4df8723b",
   "metadata": {},
   "outputs": [
    {
     "data": {
      "text/plain": [
       "array([[10, 20],\n",
       "       [30, 40]])"
      ]
     },
     "execution_count": 170,
     "metadata": {},
     "output_type": "execute_result"
    }
   ],
   "source": [
    "np.sort(original_array,axis=0)"
   ]
  },
  {
   "cell_type": "code",
   "execution_count": 171,
   "id": "e1d072bc",
   "metadata": {},
   "outputs": [
    {
     "data": {
      "text/plain": [
       "array([[10, 40],\n",
       "       [20, 30]])"
      ]
     },
     "execution_count": 171,
     "metadata": {},
     "output_type": "execute_result"
    }
   ],
   "source": [
    "np.sort(original_array,axis=1)"
   ]
  },
  {
   "cell_type": "code",
   "execution_count": 173,
   "id": "fbe6694f",
   "metadata": {},
   "outputs": [],
   "source": [
    "# Write a NumPy program to create a structured array from given student name, height, class and their data types. Now sort the array on height\n",
    "\n",
    "data_type = [('name', 'S15'), ('class', int), ('height', float)]\n",
    "students_details = [('James', 5, 48.5), ('Nail', 6, 52.5),('Paul', 5, 42.10), ('Pit', 5, 40.11)]\n",
    "# create a structured array\n",
    "students = np.array(students_details, dtype=data_type) "
   ]
  },
  {
   "cell_type": "code",
   "execution_count": 174,
   "id": "711f0db3",
   "metadata": {},
   "outputs": [
    {
     "data": {
      "text/plain": [
       "array([(b'Pit', 5, 40.11), (b'Paul', 5, 42.1 ), (b'James', 5, 48.5 ),\n",
       "       (b'Nail', 6, 52.5 )],\n",
       "      dtype=[('name', 'S15'), ('class', '<i4'), ('height', '<f8')])"
      ]
     },
     "execution_count": 174,
     "metadata": {},
     "output_type": "execute_result"
    }
   ],
   "source": [
    "np.sort(students,order='height')"
   ]
  },
  {
   "cell_type": "code",
   "execution_count": 175,
   "id": "ab893575",
   "metadata": {},
   "outputs": [],
   "source": [
    "# Write a NumPy program to create a structured array from given student name, height, class and their data types. Now sort by class, then height if class are equa\n",
    "data_type = [('name', 'S15'), ('class', int), ('height', float)]\n",
    "students_details = [('James', 5, 48.5), ('Nail', 6, 52.5),('Paul', 5, 42.10), ('Pit', 5, 40.11)]\n",
    "# create a structured array\n",
    "students = np.array(students_details, dtype=data_type) \n",
    "\n"
   ]
  },
  {
   "cell_type": "code",
   "execution_count": 176,
   "id": "9f5f9997",
   "metadata": {},
   "outputs": [
    {
     "data": {
      "text/plain": [
       "array([(b'James', 5, 48.5 ), (b'Nail', 6, 52.5 ), (b'Paul', 5, 42.1 ),\n",
       "       (b'Pit', 5, 40.11)],\n",
       "      dtype=[('name', 'S15'), ('class', '<i4'), ('height', '<f8')])"
      ]
     },
     "execution_count": 176,
     "metadata": {},
     "output_type": "execute_result"
    }
   ],
   "source": [
    "students"
   ]
  },
  {
   "cell_type": "code",
   "execution_count": 177,
   "id": "8528806f",
   "metadata": {},
   "outputs": [
    {
     "data": {
      "text/plain": [
       "array([(b'Pit', 5, 40.11), (b'Paul', 5, 42.1 ), (b'James', 5, 48.5 ),\n",
       "       (b'Nail', 6, 52.5 )],\n",
       "      dtype=[('name', 'S15'), ('class', '<i4'), ('height', '<f8')])"
      ]
     },
     "execution_count": 177,
     "metadata": {},
     "output_type": "execute_result"
    }
   ],
   "source": [
    "np.sort(students,order=['class','height'])"
   ]
  },
  {
   "cell_type": "code",
   "execution_count": 178,
   "id": "c33ce1f6",
   "metadata": {},
   "outputs": [],
   "source": [
    "# Write a NumPy program to sort the student id with increasing height of the students from given students id and height. Print the integer indices that describes the sort order by multiple columns and the sorted data.\n",
    "\n",
    "student_id = np.array([1023, 5202, 6230, 1671, 1682, 5241, 4532])\n",
    "student_height = np.array([40., 42., 45., 41., 38., 40., 42.0])"
   ]
  },
  {
   "cell_type": "code",
   "execution_count": 179,
   "id": "4b2fb85a",
   "metadata": {},
   "outputs": [],
   "source": [
    "indices = np.lexsort((student_id, student_height))\n"
   ]
  },
  {
   "cell_type": "code",
   "execution_count": 180,
   "id": "b1aeda4d",
   "metadata": {},
   "outputs": [
    {
     "data": {
      "text/plain": [
       "array([4, 0, 5, 3, 6, 1, 2], dtype=int64)"
      ]
     },
     "execution_count": 180,
     "metadata": {},
     "output_type": "execute_result"
    }
   ],
   "source": [
    "indices"
   ]
  },
  {
   "cell_type": "code",
   "execution_count": 181,
   "id": "71190625",
   "metadata": {},
   "outputs": [
    {
     "name": "stdout",
     "output_type": "stream",
     "text": [
      "1682 38.0\n",
      "1023 40.0\n",
      "5241 40.0\n",
      "1671 41.0\n",
      "4532 42.0\n",
      "5202 42.0\n",
      "6230 45.0\n"
     ]
    }
   ],
   "source": [
    "for n in indices:\n",
    "    print(student_id[n],student_height[n])"
   ]
  },
  {
   "cell_type": "code",
   "execution_count": 182,
   "id": "191a084d",
   "metadata": {},
   "outputs": [
    {
     "data": {
      "text/plain": [
       "array([1023, 5202, 6230, 1671, 1682, 5241, 4532])"
      ]
     },
     "execution_count": 182,
     "metadata": {},
     "output_type": "execute_result"
    }
   ],
   "source": [
    "# Write a NumPy program to get the indices of the sorted elements of a given array.\n",
    "\n",
    "original_array = np.array([1023,5202,6230,1671,1682,5241,4532])\n",
    "original_array"
   ]
  },
  {
   "cell_type": "code",
   "execution_count": 183,
   "id": "630c84c4",
   "metadata": {},
   "outputs": [
    {
     "data": {
      "text/plain": [
       "array([0, 3, 4, 6, 1, 5, 2], dtype=int64)"
      ]
     },
     "execution_count": 183,
     "metadata": {},
     "output_type": "execute_result"
    }
   ],
   "source": [
    "np.argsort(original_array)"
   ]
  },
  {
   "cell_type": "code",
   "execution_count": 184,
   "id": "347873ee",
   "metadata": {},
   "outputs": [
    {
     "data": {
      "text/plain": [
       "array([1.+2.j, 3.-1.j, 3.-2.j, 4.-3.j, 3.+5.j])"
      ]
     },
     "execution_count": 184,
     "metadata": {},
     "output_type": "execute_result"
    }
   ],
   "source": [
    "# Write a NumPy program to sort a given complex array using the real part first, then the imaginary part\n",
    "\n",
    "original_array = np.array([(1+2j), (3-1j), (3-2j), (4-3j), (3+5j)])\n",
    "original_array"
   ]
  },
  {
   "cell_type": "code",
   "execution_count": 186,
   "id": "65ace214",
   "metadata": {},
   "outputs": [
    {
     "data": {
      "text/plain": [
       "array([1.+2.j, 3.-2.j, 3.-1.j, 3.+5.j, 4.-3.j])"
      ]
     },
     "execution_count": 186,
     "metadata": {},
     "output_type": "execute_result"
    }
   ],
   "source": [
    "np.sort_complex(original_array)"
   ]
  },
  {
   "cell_type": "code",
   "execution_count": 187,
   "id": "2b324fe3",
   "metadata": {},
   "outputs": [
    {
     "name": "stdout",
     "output_type": "stream",
     "text": [
      "[ 70  50  20  30 -11  60  50  40]\n"
     ]
    }
   ],
   "source": [
    "# Write a NumPy program to partition a given array in a specified position and move all the smaller elements values to the left of the partition, and the remaining values to the right, in arbitrary order (based on random choice).\n",
    "\n",
    "nums = np.array([70, 50, 20, 30, -11, 60, 50, 40])\n",
    "print(nums)"
   ]
  },
  {
   "cell_type": "code",
   "execution_count": 188,
   "id": "adbdf4ae",
   "metadata": {},
   "outputs": [
    {
     "data": {
      "text/plain": [
       "array([-11,  30,  20,  40,  50,  50,  60,  70])"
      ]
     },
     "execution_count": 188,
     "metadata": {},
     "output_type": "execute_result"
    }
   ],
   "source": [
    "np.partition(nums,4)"
   ]
  },
  {
   "cell_type": "code",
   "execution_count": 189,
   "id": "c7dadf81",
   "metadata": {},
   "outputs": [
    {
     "name": "stdout",
     "output_type": "stream",
     "text": [
      "[0.01824712 0.10220809 0.93221962 0.11209784 0.29603326 0.32436191\n",
      " 0.19576896 0.27590223 0.21122384 0.4063564 ]\n"
     ]
    }
   ],
   "source": [
    "#  Write a NumPy program to sort the specified number of elements from beginning of a given array.\n",
    "\n",
    "nums =  np.random.rand(10)\n",
    "print(nums)"
   ]
  },
  {
   "cell_type": "code",
   "execution_count": 191,
   "id": "661c58f9",
   "metadata": {},
   "outputs": [
    {
     "data": {
      "text/plain": [
       "array([0.01824712, 0.10220809, 0.11209784, 0.19576896, 0.21122384,\n",
       "       0.32436191, 0.93221962, 0.27590223, 0.29603326, 0.4063564 ])"
      ]
     },
     "execution_count": 191,
     "metadata": {},
     "output_type": "execute_result"
    }
   ],
   "source": [
    "nums[np.argpartition(nums,range(5))]"
   ]
  },
  {
   "cell_type": "code",
   "execution_count": 192,
   "id": "c04d4f77",
   "metadata": {},
   "outputs": [
    {
     "data": {
      "text/plain": [
       "array([[1, 5, 0],\n",
       "       [3, 2, 5],\n",
       "       [8, 7, 6]])"
      ]
     },
     "execution_count": 192,
     "metadata": {},
     "output_type": "execute_result"
    }
   ],
   "source": [
    "# Write a NumPy program to sort an given array by the nth column.\n",
    "\n",
    "original_array = np.array([[1,5,0],[3,2,5],[8,7,6]])\n",
    "original_array"
   ]
  },
  {
   "cell_type": "code",
   "execution_count": 197,
   "id": "e4be9c84",
   "metadata": {},
   "outputs": [
    {
     "data": {
      "text/plain": [
       "array([[3, 2, 5],\n",
       "       [1, 5, 0],\n",
       "       [8, 7, 6]])"
      ]
     },
     "execution_count": 197,
     "metadata": {},
     "output_type": "execute_result"
    }
   ],
   "source": [
    "original_array[original_array[:,1].argsort()]"
   ]
  },
  {
   "cell_type": "code",
   "execution_count": null,
   "id": "70e231c8",
   "metadata": {},
   "outputs": [],
   "source": []
  }
 ],
 "metadata": {
  "kernelspec": {
   "display_name": "Python 3 (ipykernel)",
   "language": "python",
   "name": "python3"
  },
  "language_info": {
   "codemirror_mode": {
    "name": "ipython",
    "version": 3
   },
   "file_extension": ".py",
   "mimetype": "text/x-python",
   "name": "python",
   "nbconvert_exporter": "python",
   "pygments_lexer": "ipython3",
   "version": "3.9.12"
  }
 },
 "nbformat": 4,
 "nbformat_minor": 5
}
