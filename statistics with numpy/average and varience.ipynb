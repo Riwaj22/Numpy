{
 "cells": [
  {
   "cell_type": "code",
   "execution_count": 64,
   "id": "4d12bf13",
   "metadata": {},
   "outputs": [],
   "source": [
    "import numpy as np"
   ]
  },
  {
   "cell_type": "code",
   "execution_count": 65,
   "id": "e722def4",
   "metadata": {},
   "outputs": [
    {
     "data": {
      "text/plain": [
       "array([[1, 0, 0, 3, 1],\n",
       "       [3, 6, 6, 2, 9],\n",
       "       [4, 5, 3, 8, 0]])"
      ]
     },
     "execution_count": 65,
     "metadata": {},
     "output_type": "execute_result"
    }
   ],
   "source": [
    "matrix_A"
   ]
  },
  {
   "cell_type": "code",
   "execution_count": 70,
   "id": "70eb2a6e",
   "metadata": {},
   "outputs": [],
   "source": [
    "# np.median()\n",
    "\n",
    "# the middle value of a sorted dataset"
   ]
  },
  {
   "cell_type": "code",
   "execution_count": 72,
   "id": "1de04213",
   "metadata": {},
   "outputs": [
    {
     "data": {
      "text/plain": [
       "array([0, 0, 0, 1, 1, 2, 3, 3, 3, 4, 5, 6, 6, 8, 9])"
      ]
     },
     "execution_count": 72,
     "metadata": {},
     "output_type": "execute_result"
    }
   ],
   "source": [
    "np.sort(matrix_A,axis=None\n",
    "       )"
   ]
  },
  {
   "cell_type": "code",
   "execution_count": 73,
   "id": "3bd0e33f",
   "metadata": {},
   "outputs": [
    {
     "data": {
      "text/plain": [
       "3.0"
      ]
     },
     "execution_count": 73,
     "metadata": {},
     "output_type": "execute_result"
    }
   ],
   "source": [
    "np.median(matrix_A)"
   ]
  },
  {
   "cell_type": "code",
   "execution_count": 74,
   "id": "42a97642",
   "metadata": {},
   "outputs": [
    {
     "data": {
      "text/plain": [
       "3.4"
      ]
     },
     "execution_count": 74,
     "metadata": {},
     "output_type": "execute_result"
    }
   ],
   "source": [
    "np.mean(matrix_A)"
   ]
  },
  {
   "cell_type": "code",
   "execution_count": 75,
   "id": "9a028a38",
   "metadata": {},
   "outputs": [],
   "source": [
    "# average: computes the average, weighted matrix"
   ]
  },
  {
   "cell_type": "code",
   "execution_count": 76,
   "id": "c7c89485",
   "metadata": {},
   "outputs": [
    {
     "data": {
      "text/plain": [
       "3.4"
      ]
     },
     "execution_count": 76,
     "metadata": {},
     "output_type": "execute_result"
    }
   ],
   "source": [
    "np.average(matrix_A)"
   ]
  },
  {
   "cell_type": "code",
   "execution_count": 77,
   "id": "0c0c67e3",
   "metadata": {},
   "outputs": [
    {
     "data": {
      "text/plain": [
       "array([[0.75915734, 0.7662218 , 0.6291028 , 0.20336599, 0.66501486],\n",
       "       [0.06559111, 0.71326309, 0.10812106, 0.87969046, 0.49405844],\n",
       "       [0.82472673, 0.45652944, 0.07367232, 0.69628564, 0.36690736]])"
      ]
     },
     "execution_count": 77,
     "metadata": {},
     "output_type": "execute_result"
    }
   ],
   "source": [
    "from numpy.random import Generator as gen\n",
    "from numpy.random import PCG64 as pcg\n",
    "\n",
    "array_RG = gen(pcg(365))\n",
    "\n",
    "array_weights = array_RG.random(size=(3,5))\n",
    "array_weights"
   ]
  },
  {
   "cell_type": "code",
   "execution_count": 78,
   "id": "a8278622",
   "metadata": {},
   "outputs": [
    {
     "data": {
      "text/plain": [
       "3.2120290871899306"
      ]
     },
     "execution_count": 78,
     "metadata": {},
     "output_type": "execute_result"
    }
   ],
   "source": [
    "np.average(matrix_A, weights= array_weights)"
   ]
  },
  {
   "cell_type": "code",
   "execution_count": 80,
   "id": "f3a4a009",
   "metadata": {},
   "outputs": [
    {
     "data": {
      "text/plain": [
       "3.4"
      ]
     },
     "execution_count": 80,
     "metadata": {},
     "output_type": "execute_result"
    }
   ],
   "source": [
    "np.mean(matrix_A)"
   ]
  },
  {
   "cell_type": "code",
   "execution_count": 81,
   "id": "13838287",
   "metadata": {},
   "outputs": [],
   "source": [
    "# np.var()\n"
   ]
  },
  {
   "cell_type": "code",
   "execution_count": 82,
   "id": "9125185a",
   "metadata": {},
   "outputs": [
    {
     "data": {
      "text/plain": [
       "7.84"
      ]
     },
     "execution_count": 82,
     "metadata": {},
     "output_type": "execute_result"
    }
   ],
   "source": [
    "np.var(matrix_A)"
   ]
  },
  {
   "cell_type": "code",
   "execution_count": 83,
   "id": "aaf7623a",
   "metadata": {},
   "outputs": [
    {
     "data": {
      "text/plain": [
       "2.8"
      ]
     },
     "execution_count": 83,
     "metadata": {},
     "output_type": "execute_result"
    }
   ],
   "source": [
    "# np.std()\n",
    "\n",
    "np.std(matrix_A)"
   ]
  },
  {
   "cell_type": "code",
   "execution_count": 85,
   "id": "361e55c4",
   "metadata": {},
   "outputs": [
    {
     "data": {
      "text/plain": [
       "7.839999999999999"
      ]
     },
     "execution_count": 85,
     "metadata": {},
     "output_type": "execute_result"
    }
   ],
   "source": [
    "2.8*2.8"
   ]
  },
  {
   "cell_type": "code",
   "execution_count": null,
   "id": "126d903f",
   "metadata": {},
   "outputs": [],
   "source": []
  }
 ],
 "metadata": {
  "kernelspec": {
   "display_name": "Python 3 (ipykernel)",
   "language": "python",
   "name": "python3"
  },
  "language_info": {
   "codemirror_mode": {
    "name": "ipython",
    "version": 3
   },
   "file_extension": ".py",
   "mimetype": "text/x-python",
   "name": "python",
   "nbconvert_exporter": "python",
   "pygments_lexer": "ipython3",
   "version": "3.9.12"
  }
 },
 "nbformat": 4,
 "nbformat_minor": 5
}
