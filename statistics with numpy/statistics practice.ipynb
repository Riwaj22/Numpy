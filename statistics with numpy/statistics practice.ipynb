{
 "cells": [
  {
   "cell_type": "code",
   "execution_count": 121,
   "id": "ef1361f7",
   "metadata": {},
   "outputs": [],
   "source": [
    "import numpy as np\n"
   ]
  },
  {
   "cell_type": "code",
   "execution_count": 122,
   "id": "119c33d3",
   "metadata": {},
   "outputs": [],
   "source": [
    "np.set_printoptions(suppress = True, linewidth = 150, precision = 2)"
   ]
  },
  {
   "cell_type": "code",
   "execution_count": 123,
   "id": "e33c3762",
   "metadata": {},
   "outputs": [
    {
     "data": {
      "text/plain": [
       "array([10, 11, 12, 13, 14])"
      ]
     },
     "execution_count": 123,
     "metadata": {},
     "output_type": "execute_result"
    }
   ],
   "source": [
    "array_1D = np.array([10,11,12,13,14])\n",
    "array_1D"
   ]
  },
  {
   "cell_type": "code",
   "execution_count": 124,
   "id": "81a96778",
   "metadata": {},
   "outputs": [
    {
     "data": {
      "text/plain": [
       "array([[20, 30, 40, 50, 60],\n",
       "       [43, 54, 65, 76, 87],\n",
       "       [11, 22, 33, 44, 55]])"
      ]
     },
     "execution_count": 124,
     "metadata": {},
     "output_type": "execute_result"
    }
   ],
   "source": [
    "array_2D = np.array([[20,30,40,50,60], [43,54,65,76,87], [11,22,33,44,55]])\n",
    "array_2D"
   ]
  },
  {
   "cell_type": "code",
   "execution_count": 125,
   "id": "1420413c",
   "metadata": {},
   "outputs": [
    {
     "data": {
      "text/plain": [
       "array([[[ 1,  2,  3,  4,  5],\n",
       "        [11, 21, 31, 41, 51]],\n",
       "\n",
       "       [[11, 12, 13, 14, 15],\n",
       "        [51, 52, 53, 54,  5]]])"
      ]
     },
     "execution_count": 125,
     "metadata": {},
     "output_type": "execute_result"
    }
   ],
   "source": [
    "array_3D = np.array([[[1,2,3,4,5], [11,21,31,41,51]], [[11,12,13,14,15], [51,52,53,54,5]]])\n",
    "array_3D"
   ]
  },
  {
   "cell_type": "code",
   "execution_count": 126,
   "id": "3753661e",
   "metadata": {},
   "outputs": [],
   "source": [
    "# ### 2. For each of the 3 arrays we defined above, do the following:\n",
    "#     A) Call the np.max() or np.amax() function and plug in the array as an input. \n",
    "#     B) Call the np.max() or np.amax() function along an axis of your choice and plug in the array as an input.\n",
    "#     C) Call the np.maximum.reduce() function and plug in the array as an input. \n"
   ]
  },
  {
   "cell_type": "code",
   "execution_count": 129,
   "id": "ed4d4b53",
   "metadata": {},
   "outputs": [
    {
     "data": {
      "text/plain": [
       "14"
      ]
     },
     "execution_count": 129,
     "metadata": {},
     "output_type": "execute_result"
    }
   ],
   "source": [
    "np.max(array_1D)"
   ]
  },
  {
   "cell_type": "code",
   "execution_count": 130,
   "id": "f06b7f64",
   "metadata": {},
   "outputs": [
    {
     "data": {
      "text/plain": [
       "14"
      ]
     },
     "execution_count": 130,
     "metadata": {},
     "output_type": "execute_result"
    }
   ],
   "source": [
    "np.amax(array_1D)"
   ]
  },
  {
   "cell_type": "code",
   "execution_count": 131,
   "id": "5606770d",
   "metadata": {},
   "outputs": [
    {
     "data": {
      "text/plain": [
       "87"
      ]
     },
     "execution_count": 131,
     "metadata": {},
     "output_type": "execute_result"
    }
   ],
   "source": [
    "np.max(array_2D)\n",
    "np.amax(array_2D)"
   ]
  },
  {
   "cell_type": "code",
   "execution_count": 133,
   "id": "ecc86fdc",
   "metadata": {},
   "outputs": [
    {
     "data": {
      "text/plain": [
       "54"
      ]
     },
     "execution_count": 133,
     "metadata": {},
     "output_type": "execute_result"
    }
   ],
   "source": [
    "np.max(array_3D)\n",
    "np.amax(array_3D)"
   ]
  },
  {
   "cell_type": "code",
   "execution_count": 135,
   "id": "a500487f",
   "metadata": {},
   "outputs": [
    {
     "data": {
      "text/plain": [
       "14"
      ]
     },
     "execution_count": 135,
     "metadata": {},
     "output_type": "execute_result"
    }
   ],
   "source": [
    "np.max(array_1D,axis=0)\n"
   ]
  },
  {
   "cell_type": "code",
   "execution_count": 137,
   "id": "a64de2f3",
   "metadata": {},
   "outputs": [
    {
     "data": {
      "text/plain": [
       "array([60, 87, 55])"
      ]
     },
     "execution_count": 137,
     "metadata": {},
     "output_type": "execute_result"
    }
   ],
   "source": [
    "np.max(array_2D,axis=0)\n",
    "np.max(array_2D,axis=1)"
   ]
  },
  {
   "cell_type": "code",
   "execution_count": 138,
   "id": "6f5b4f4f",
   "metadata": {},
   "outputs": [
    {
     "data": {
      "text/plain": [
       "array([[11, 21, 31, 41, 51],\n",
       "       [51, 52, 53, 54, 15]])"
      ]
     },
     "execution_count": 138,
     "metadata": {},
     "output_type": "execute_result"
    }
   ],
   "source": [
    "np.max(array_3D,axis=0)\n",
    "np.max(array_3D,axis=1)"
   ]
  },
  {
   "cell_type": "code",
   "execution_count": 140,
   "id": "558e140a",
   "metadata": {},
   "outputs": [
    {
     "data": {
      "text/plain": [
       "14"
      ]
     },
     "execution_count": 140,
     "metadata": {},
     "output_type": "execute_result"
    }
   ],
   "source": [
    "np.maximum.reduce(array_1D)"
   ]
  },
  {
   "cell_type": "code",
   "execution_count": 141,
   "id": "5d5de80c",
   "metadata": {},
   "outputs": [],
   "source": [
    "### 3. For each array find the difference between its maximum and minimum. "
   ]
  },
  {
   "cell_type": "code",
   "execution_count": 142,
   "id": "44b1eb68",
   "metadata": {},
   "outputs": [],
   "source": [
    "difference = np.max(array_1D)- np.min(array_1D)"
   ]
  },
  {
   "cell_type": "code",
   "execution_count": 143,
   "id": "2e8ee4da",
   "metadata": {},
   "outputs": [
    {
     "data": {
      "text/plain": [
       "4"
      ]
     },
     "execution_count": 143,
     "metadata": {},
     "output_type": "execute_result"
    }
   ],
   "source": [
    "np.ptp(array_1D)"
   ]
  },
  {
   "cell_type": "code",
   "execution_count": 144,
   "id": "29f59f8b",
   "metadata": {},
   "outputs": [
    {
     "data": {
      "text/plain": [
       "4"
      ]
     },
     "execution_count": 144,
     "metadata": {},
     "output_type": "execute_result"
    }
   ],
   "source": [
    "difference"
   ]
  },
  {
   "cell_type": "code",
   "execution_count": 145,
   "id": "25b5ef37",
   "metadata": {},
   "outputs": [
    {
     "data": {
      "text/plain": [
       "76"
      ]
     },
     "execution_count": 145,
     "metadata": {},
     "output_type": "execute_result"
    }
   ],
   "source": [
    "difference = np.max(array_2D)- np.min(array_2D)\n",
    "np.ptp(array_2D)"
   ]
  },
  {
   "cell_type": "code",
   "execution_count": 146,
   "id": "96a7929b",
   "metadata": {},
   "outputs": [
    {
     "data": {
      "text/plain": [
       "76"
      ]
     },
     "execution_count": 146,
     "metadata": {},
     "output_type": "execute_result"
    }
   ],
   "source": [
    "difference"
   ]
  },
  {
   "cell_type": "code",
   "execution_count": 147,
   "id": "5ef0eecd",
   "metadata": {},
   "outputs": [],
   "source": [
    "### 4. For the 2-D and 3-D arrays find the difference between the maximum and minimum, for every row."
   ]
  },
  {
   "cell_type": "code",
   "execution_count": 154,
   "id": "6ce59204",
   "metadata": {},
   "outputs": [
    {
     "data": {
      "text/plain": [
       "array([40, 44, 44])"
      ]
     },
     "execution_count": 154,
     "metadata": {},
     "output_type": "execute_result"
    }
   ],
   "source": [
    "np.max(array_2D,axis=1) - np.min(array_2D,axis =1)"
   ]
  },
  {
   "cell_type": "code",
   "execution_count": 155,
   "id": "32604ea8",
   "metadata": {},
   "outputs": [
    {
     "data": {
      "text/plain": [
       "array([[10, 19, 28, 37, 46],\n",
       "       [40, 40, 40, 40, 10]])"
      ]
     },
     "execution_count": 155,
     "metadata": {},
     "output_type": "execute_result"
    }
   ],
   "source": [
    "np.max(array_3D,axis=1) - np.min(array_3D,axis =1)"
   ]
  },
  {
   "cell_type": "code",
   "execution_count": 156,
   "id": "46772b64",
   "metadata": {},
   "outputs": [],
   "source": [
    "# ### 5. For all 3 arrays we defined, use the<i> np.percentile() </i>and <i>np.quantile()</i> functions to find the following: \n",
    "#     A) The 30-th percentile (or 0.3-th quantile). \n",
    "#     B) The 66-th percentile (or 0.66-th qunatile). \n",
    "#     C) The median. \n",
    "#    (<b>Hint</b>: The median value is equivalent to the 50-th percentile)"
   ]
  },
  {
   "cell_type": "code",
   "execution_count": 158,
   "id": "ad115426",
   "metadata": {},
   "outputs": [
    {
     "data": {
      "text/plain": [
       "11.2"
      ]
     },
     "execution_count": 158,
     "metadata": {},
     "output_type": "execute_result"
    }
   ],
   "source": [
    "np.percentile(array_1D,30)\n",
    "np.quantile(array_1D,0.3)"
   ]
  },
  {
   "cell_type": "code",
   "execution_count": 159,
   "id": "6b983710",
   "metadata": {},
   "outputs": [
    {
     "data": {
      "text/plain": [
       "13.5"
      ]
     },
     "execution_count": 159,
     "metadata": {},
     "output_type": "execute_result"
    }
   ],
   "source": [
    "np.percentile(array_3D,50)"
   ]
  },
  {
   "cell_type": "code",
   "execution_count": 160,
   "id": "b494da9f",
   "metadata": {},
   "outputs": [
    {
     "data": {
      "text/plain": [
       "array([10, 11, 12, 13, 14])"
      ]
     },
     "execution_count": 160,
     "metadata": {},
     "output_type": "execute_result"
    }
   ],
   "source": [
    "np.sort(array_1D)\n"
   ]
  },
  {
   "cell_type": "code",
   "execution_count": 161,
   "id": "d64ad602",
   "metadata": {},
   "outputs": [
    {
     "data": {
      "text/plain": [
       "array([11, 20, 22, 30, 33, 40, 43, 44, 50, 54, 55, 60, 65, 76, 87])"
      ]
     },
     "execution_count": 161,
     "metadata": {},
     "output_type": "execute_result"
    }
   ],
   "source": [
    "np.sort(array_2D, axis = None)\n"
   ]
  },
  {
   "cell_type": "code",
   "execution_count": 162,
   "id": "e78fad0e",
   "metadata": {},
   "outputs": [
    {
     "data": {
      "text/plain": [
       "array([ 1,  2,  3,  4,  5,  5, 11, 11, 12, 13, 14, 15, 21, 31, 41, 51, 51, 52, 53, 54])"
      ]
     },
     "execution_count": 162,
     "metadata": {},
     "output_type": "execute_result"
    }
   ],
   "source": [
    "np.sort(array_3D, axis = None)\n"
   ]
  },
  {
   "cell_type": "code",
   "execution_count": 163,
   "id": "51ecd9a2",
   "metadata": {},
   "outputs": [],
   "source": [
    "# ### 6. For the 3 arrays:\n",
    "#     A) Find the mean.\n",
    "#     B) Find the median.\n",
    "#     C) Find the mean along the columns."
   ]
  },
  {
   "cell_type": "code",
   "execution_count": 164,
   "id": "14a5c673",
   "metadata": {},
   "outputs": [
    {
     "data": {
      "text/plain": [
       "22.5"
      ]
     },
     "execution_count": 164,
     "metadata": {},
     "output_type": "execute_result"
    }
   ],
   "source": [
    "np.mean(array_1D)\n"
   ]
  },
  {
   "cell_type": "code",
   "execution_count": 165,
   "id": "dd7fc8ea",
   "metadata": {},
   "outputs": [
    {
     "data": {
      "text/plain": [
       "46.0"
      ]
     },
     "execution_count": 165,
     "metadata": {},
     "output_type": "execute_result"
    }
   ],
   "source": [
    "np.mean(array_2D)\n"
   ]
  },
  {
   "cell_type": "code",
   "execution_count": 166,
   "id": "5f63c2a5",
   "metadata": {},
   "outputs": [
    {
     "data": {
      "text/plain": [
       "22.5"
      ]
     },
     "execution_count": 166,
     "metadata": {},
     "output_type": "execute_result"
    }
   ],
   "source": [
    "np.mean(array_3D)"
   ]
  },
  {
   "cell_type": "code",
   "execution_count": 167,
   "id": "98785062",
   "metadata": {},
   "outputs": [
    {
     "data": {
      "text/plain": [
       "12.0"
      ]
     },
     "execution_count": 167,
     "metadata": {},
     "output_type": "execute_result"
    }
   ],
   "source": [
    "np.median(array_1D)"
   ]
  },
  {
   "cell_type": "code",
   "execution_count": 168,
   "id": "29e45600",
   "metadata": {},
   "outputs": [
    {
     "data": {
      "text/plain": [
       "array([40., 65., 33.])"
      ]
     },
     "execution_count": 168,
     "metadata": {},
     "output_type": "execute_result"
    }
   ],
   "source": [
    "np.mean(array_2D,axis=1)"
   ]
  },
  {
   "cell_type": "code",
   "execution_count": 169,
   "id": "81e03c3d",
   "metadata": {},
   "outputs": [],
   "source": [
    "# ### 7. For the 2D array:\n",
    "#     A) Find the variance. \n",
    "#     B) Find the standard deviation. \n",
    "#     C) Find the covariance. \n",
    "#     D) Find the correlation. "
   ]
  },
  {
   "cell_type": "code",
   "execution_count": 170,
   "id": "adf07da9",
   "metadata": {},
   "outputs": [
    {
     "data": {
      "text/plain": [
       "416.6666666666667"
      ]
     },
     "execution_count": 170,
     "metadata": {},
     "output_type": "execute_result"
    }
   ],
   "source": [
    "np.var(array_2D)"
   ]
  },
  {
   "cell_type": "code",
   "execution_count": 171,
   "id": "4dd1d86a",
   "metadata": {},
   "outputs": [
    {
     "data": {
      "text/plain": [
       "20.412414523193153"
      ]
     },
     "execution_count": 171,
     "metadata": {},
     "output_type": "execute_result"
    }
   ],
   "source": [
    "np.std(array_2D)"
   ]
  },
  {
   "cell_type": "code",
   "execution_count": 172,
   "id": "b7b47c5a",
   "metadata": {},
   "outputs": [
    {
     "data": {
      "text/plain": [
       "array([[250. , 275. , 275. ],\n",
       "       [275. , 302.5, 302.5],\n",
       "       [275. , 302.5, 302.5]])"
      ]
     },
     "execution_count": 172,
     "metadata": {},
     "output_type": "execute_result"
    }
   ],
   "source": [
    "np.cov(array_2D)"
   ]
  },
  {
   "cell_type": "code",
   "execution_count": 173,
   "id": "b361e447",
   "metadata": {},
   "outputs": [
    {
     "data": {
      "text/plain": [
       "array([[1., 1., 1.],\n",
       "       [1., 1., 1.],\n",
       "       [1., 1., 1.]])"
      ]
     },
     "execution_count": 173,
     "metadata": {},
     "output_type": "execute_result"
    }
   ],
   "source": [
    "np.corrcoef(array_2D)"
   ]
  },
  {
   "cell_type": "code",
   "execution_count": 174,
   "id": "9e7d1590",
   "metadata": {},
   "outputs": [],
   "source": [
    "# ### 10. Run the following cell, and then compute the following:\n",
    "#     A) The mean, using the np.mean() function.\n",
    "#     B) The mean, using the np.nanmean() function.\n",
    "#     C) The variance, using the np.var() function. \n",
    "#     D) The variance, using the np.nanvar() funcion. "
   ]
  },
  {
   "cell_type": "code",
   "execution_count": 175,
   "id": "20337a65",
   "metadata": {},
   "outputs": [
    {
     "data": {
      "text/plain": [
       "array([[20., nan, 40., 50., 60.],\n",
       "       [nan, 54., 65., nan, 87.],\n",
       "       [11., 22., 33., 44., nan]])"
      ]
     },
     "execution_count": 175,
     "metadata": {},
     "output_type": "execute_result"
    }
   ],
   "source": [
    "array_nan = np.array([[20,np.nan,40,50,60], [np.nan,54,65,np.nan,87], [11,22,33,44,np.nan]])\n",
    "array_nan"
   ]
  },
  {
   "cell_type": "code",
   "execution_count": 176,
   "id": "8a4d8ac6",
   "metadata": {},
   "outputs": [
    {
     "data": {
      "text/plain": [
       "44.18181818181818"
      ]
     },
     "execution_count": 176,
     "metadata": {},
     "output_type": "execute_result"
    }
   ],
   "source": [
    "np.nanmean(array_nan)"
   ]
  },
  {
   "cell_type": "code",
   "execution_count": 177,
   "id": "adb84baa",
   "metadata": {},
   "outputs": [
    {
     "data": {
      "text/plain": [
       "nan"
      ]
     },
     "execution_count": 177,
     "metadata": {},
     "output_type": "execute_result"
    }
   ],
   "source": [
    "np.mean(array_nan)"
   ]
  },
  {
   "cell_type": "code",
   "execution_count": 178,
   "id": "3860ca50",
   "metadata": {},
   "outputs": [
    {
     "data": {
      "text/plain": [
       "nan"
      ]
     },
     "execution_count": 178,
     "metadata": {},
     "output_type": "execute_result"
    }
   ],
   "source": [
    "np.var(array_nan)"
   ]
  },
  {
   "cell_type": "code",
   "execution_count": 179,
   "id": "05f7ff61",
   "metadata": {},
   "outputs": [
    {
     "data": {
      "text/plain": [
       "451.6033057851239"
      ]
     },
     "execution_count": 179,
     "metadata": {},
     "output_type": "execute_result"
    }
   ],
   "source": [
    "np.nanvar(array_nan)"
   ]
  },
  {
   "cell_type": "code",
   "execution_count": null,
   "id": "dc559d86",
   "metadata": {},
   "outputs": [],
   "source": []
  }
 ],
 "metadata": {
  "kernelspec": {
   "display_name": "Python 3 (ipykernel)",
   "language": "python",
   "name": "python3"
  },
  "language_info": {
   "codemirror_mode": {
    "name": "ipython",
    "version": 3
   },
   "file_extension": ".py",
   "mimetype": "text/x-python",
   "name": "python",
   "nbconvert_exporter": "python",
   "pygments_lexer": "ipython3",
   "version": "3.9.12"
  }
 },
 "nbformat": 4,
 "nbformat_minor": 5
}
