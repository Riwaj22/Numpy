{
 "cells": [
  {
   "cell_type": "code",
   "execution_count": 23,
   "id": "07e5af63",
   "metadata": {},
   "outputs": [],
   "source": [
    "import numpy as np"
   ]
  },
  {
   "cell_type": "code",
   "execution_count": 24,
   "id": "4fbd8c43",
   "metadata": {},
   "outputs": [],
   "source": [
    "# maximal and minimal values in array"
   ]
  },
  {
   "cell_type": "code",
   "execution_count": 25,
   "id": "ab445f43",
   "metadata": {},
   "outputs": [
    {
     "data": {
      "text/plain": [
       "array([[1, 0, 0, 3, 1],\n",
       "       [3, 6, 6, 2, 9],\n",
       "       [4, 5, 3, 8, 0]])"
      ]
     },
     "execution_count": 25,
     "metadata": {},
     "output_type": "execute_result"
    }
   ],
   "source": [
    "matrix_A = np.array([[1,0,0,3,1],[3,6,6,2,9],[4,5,3,8,0]])\n",
    "matrix_A"
   ]
  },
  {
   "cell_type": "code",
   "execution_count": 26,
   "id": "6fc37c4f",
   "metadata": {},
   "outputs": [
    {
     "data": {
      "text/plain": [
       "0"
      ]
     },
     "execution_count": 26,
     "metadata": {},
     "output_type": "execute_result"
    }
   ],
   "source": [
    "np.min(matrix_A)"
   ]
  },
  {
   "cell_type": "code",
   "execution_count": 27,
   "id": "d25c1c28",
   "metadata": {},
   "outputs": [
    {
     "data": {
      "text/plain": [
       "0"
      ]
     },
     "execution_count": 27,
     "metadata": {},
     "output_type": "execute_result"
    }
   ],
   "source": [
    "np.min(matrix_A[0])"
   ]
  },
  {
   "cell_type": "code",
   "execution_count": 28,
   "id": "219cc38b",
   "metadata": {},
   "outputs": [
    {
     "data": {
      "text/plain": [
       "0"
      ]
     },
     "execution_count": 28,
     "metadata": {},
     "output_type": "execute_result"
    }
   ],
   "source": [
    "np.amin(matrix_A)"
   ]
  },
  {
   "cell_type": "code",
   "execution_count": 29,
   "id": "31d8f6fe",
   "metadata": {},
   "outputs": [],
   "source": [
    "# min va amin \n",
    "# are alias to each other"
   ]
  },
  {
   "cell_type": "code",
   "execution_count": 30,
   "id": "4d6652aa",
   "metadata": {},
   "outputs": [],
   "source": [
    "# np.minimum()\n",
    "\n",
    "# requires at least 2 input arrays\n",
    "\n",
    "# generates an array which holds the elementwise minimal values\n",
    "\n",
    "# compares the values at the same position in each of the arrays before taking the lowest one"
   ]
  },
  {
   "cell_type": "code",
   "execution_count": 31,
   "id": "8d5c34f5",
   "metadata": {},
   "outputs": [
    {
     "data": {
      "text/plain": [
       "array([1, 0, 0, 3, 0])"
      ]
     },
     "execution_count": 31,
     "metadata": {},
     "output_type": "execute_result"
    }
   ],
   "source": [
    "np.minimum(matrix_A[0],matrix_A[2])"
   ]
  },
  {
   "cell_type": "code",
   "execution_count": 32,
   "id": "0a17ca4f",
   "metadata": {},
   "outputs": [
    {
     "data": {
      "text/plain": [
       "array([1, 0, 0, 3, 1])"
      ]
     },
     "execution_count": 32,
     "metadata": {},
     "output_type": "execute_result"
    }
   ],
   "source": [
    "matrix_A[0]"
   ]
  },
  {
   "cell_type": "code",
   "execution_count": 33,
   "id": "c021bfe3",
   "metadata": {},
   "outputs": [
    {
     "data": {
      "text/plain": [
       "array([4, 5, 3, 8, 0])"
      ]
     },
     "execution_count": 33,
     "metadata": {},
     "output_type": "execute_result"
    }
   ],
   "source": [
    "matrix_A[2]"
   ]
  },
  {
   "cell_type": "code",
   "execution_count": 35,
   "id": "d63f5639",
   "metadata": {},
   "outputs": [
    {
     "data": {
      "text/plain": [
       "array([1, 0, 0, 2, 0])"
      ]
     },
     "execution_count": 35,
     "metadata": {},
     "output_type": "execute_result"
    }
   ],
   "source": [
    "# reduce shows the lowest value along the column side\n",
    "np.minimum.reduce(matrix_A)"
   ]
  },
  {
   "cell_type": "code",
   "execution_count": 36,
   "id": "1832baf2",
   "metadata": {},
   "outputs": [],
   "source": [
    "# maximum equivalents: max, amax, maximum"
   ]
  },
  {
   "cell_type": "code",
   "execution_count": null,
   "id": "e805baeb",
   "metadata": {},
   "outputs": [],
   "source": []
  }
 ],
 "metadata": {
  "kernelspec": {
   "display_name": "Python 3 (ipykernel)",
   "language": "python",
   "name": "python3"
  },
  "language_info": {
   "codemirror_mode": {
    "name": "ipython",
    "version": 3
   },
   "file_extension": ".py",
   "mimetype": "text/x-python",
   "name": "python",
   "nbconvert_exporter": "python",
   "pygments_lexer": "ipython3",
   "version": "3.9.12"
  }
 },
 "nbformat": 4,
 "nbformat_minor": 5
}
