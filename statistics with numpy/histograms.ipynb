{
 "cells": [
  {
   "cell_type": "code",
   "execution_count": 91,
   "id": "17522a34",
   "metadata": {},
   "outputs": [],
   "source": [
    "import numpy as np"
   ]
  },
  {
   "cell_type": "code",
   "execution_count": 92,
   "id": "ac4570e7",
   "metadata": {},
   "outputs": [
    {
     "data": {
      "text/plain": [
       "array([[1, 0, 0, 3, 1],\n",
       "       [3, 6, 6, 2, 9],\n",
       "       [4, 5, 3, 8, 0]])"
      ]
     },
     "execution_count": 92,
     "metadata": {},
     "output_type": "execute_result"
    }
   ],
   "source": [
    "matrix_A"
   ]
  },
  {
   "cell_type": "code",
   "execution_count": 93,
   "id": "7c496e17",
   "metadata": {},
   "outputs": [],
   "source": [
    "# histogram\n",
    "# a way to examine a dataset by dissecting its density\n",
    "# how many values from a dataset fall within some predetemined range\n"
   ]
  },
  {
   "cell_type": "code",
   "execution_count": 94,
   "id": "7ba2c134",
   "metadata": {},
   "outputs": [
    {
     "data": {
      "text/plain": [
       "array([0, 0, 0, 1, 1, 2, 3, 3, 3, 4, 5, 6, 6, 8, 9])"
      ]
     },
     "execution_count": 94,
     "metadata": {},
     "output_type": "execute_result"
    }
   ],
   "source": [
    "np.sort(matrix_A,axis=None)"
   ]
  },
  {
   "cell_type": "code",
   "execution_count": 95,
   "id": "e31123f9",
   "metadata": {},
   "outputs": [
    {
     "data": {
      "text/plain": [
       "(array([3, 2, 1, 3, 1, 1, 2, 0, 1, 1], dtype=int64),\n",
       " array([0. , 0.9, 1.8, 2.7, 3.6, 4.5, 5.4, 6.3, 7.2, 8.1, 9. ]))"
      ]
     },
     "execution_count": 95,
     "metadata": {},
     "output_type": "execute_result"
    }
   ],
   "source": [
    "np.histogram(matrix_A)"
   ]
  },
  {
   "cell_type": "code",
   "execution_count": 96,
   "id": "63e16b59",
   "metadata": {},
   "outputs": [
    {
     "data": {
      "text/plain": [
       "array([3, 2, 1, 3, 1, 1, 2, 0, 1, 1], dtype=int64)"
      ]
     },
     "execution_count": 96,
     "metadata": {},
     "output_type": "execute_result"
    }
   ],
   "source": [
    "np.histogram(matrix_A)[0]"
   ]
  },
  {
   "cell_type": "code",
   "execution_count": 97,
   "id": "f3373d69",
   "metadata": {},
   "outputs": [
    {
     "data": {
      "text/plain": [
       "array([0. , 0.9, 1.8, 2.7, 3.6, 4.5, 5.4, 6.3, 7.2, 8.1, 9. ])"
      ]
     },
     "execution_count": 97,
     "metadata": {},
     "output_type": "execute_result"
    }
   ],
   "source": [
    "np.histogram(matrix_A)[1]"
   ]
  },
  {
   "cell_type": "code",
   "execution_count": 98,
   "id": "8779ce16",
   "metadata": {},
   "outputs": [
    {
     "data": {
      "text/plain": [
       "(array([3, 3, 2, 2], dtype=int64), array([1. , 2.5, 4. , 5.5, 7. ]))"
      ]
     },
     "execution_count": 98,
     "metadata": {},
     "output_type": "execute_result"
    }
   ],
   "source": [
    "np.histogram(matrix_A, bins= 4,range=(1,7) )"
   ]
  },
  {
   "cell_type": "code",
   "execution_count": 99,
   "id": "15291e8e",
   "metadata": {},
   "outputs": [],
   "source": [
    "import matplotlib.pyplot as plt"
   ]
  },
  {
   "cell_type": "code",
   "execution_count": 104,
   "id": "31e8b3af",
   "metadata": {},
   "outputs": [
    {
     "data": {
      "image/png": "[encoded data removed]",
      "text/plain": [
       "<Figure size 432x288 with 1 Axes>"
      ]
     },
     "metadata": {
      "needs_background": "light"
     },
     "output_type": "display_data"
    }
   ],
   "source": [
    "plt.hist(matrix_A.flat, bins=np.histogram(matrix_A)[1])\n",
    "plt.show()"
   ]
  },
  {
   "cell_type": "code",
   "execution_count": 106,
   "id": "0649fddf",
   "metadata": {},
   "outputs": [],
   "source": [
    "# higher dimensional histogram"
   ]
  },
  {
   "cell_type": "code",
   "execution_count": 107,
   "id": "5bc18dd3",
   "metadata": {},
   "outputs": [
    {
     "data": {
      "text/plain": [
       "array([[1, 0, 0, 3, 1],\n",
       "       [3, 6, 6, 2, 9],\n",
       "       [4, 5, 3, 8, 0]])"
      ]
     },
     "execution_count": 107,
     "metadata": {},
     "output_type": "execute_result"
    }
   ],
   "source": [
    "matrix_A"
   ]
  },
  {
   "cell_type": "code",
   "execution_count": 108,
   "id": "4e39a084",
   "metadata": {},
   "outputs": [
    {
     "data": {
      "text/plain": [
       "(array([[0., 0., 2., 0.],\n",
       "        [1., 0., 0., 1.],\n",
       "        [0., 0., 0., 0.],\n",
       "        [1., 0., 0., 0.]]),\n",
       " array([0.  , 0.75, 1.5 , 2.25, 3.  ]),\n",
       " array([2.  , 3.75, 5.5 , 7.25, 9.  ]))"
      ]
     },
     "execution_count": 108,
     "metadata": {},
     "output_type": "execute_result"
    }
   ],
   "source": [
    "np.histogram2d(matrix_A[0],matrix_A[1],bins=4)"
   ]
  },
  {
   "cell_type": "code",
   "execution_count": 109,
   "id": "f0def5b8",
   "metadata": {},
   "outputs": [
    {
     "data": {
      "text/plain": [
       "(array([[[0., 0., 0., 0.],\n",
       "         [0., 0., 0., 0.],\n",
       "         [0., 1., 1., 0.],\n",
       "         [0., 0., 0., 0.]],\n",
       " \n",
       "        [[0., 0., 1., 0.],\n",
       "         [0., 0., 0., 0.],\n",
       "         [0., 0., 0., 0.],\n",
       "         [1., 0., 0., 0.]],\n",
       " \n",
       "        [[0., 0., 0., 0.],\n",
       "         [0., 0., 0., 0.],\n",
       "         [0., 0., 0., 0.],\n",
       "         [0., 0., 0., 0.]],\n",
       " \n",
       "        [[0., 0., 0., 1.],\n",
       "         [0., 0., 0., 0.],\n",
       "         [0., 0., 0., 0.],\n",
       "         [0., 0., 0., 0.]]]),\n",
       " [array([0.  , 0.75, 1.5 , 2.25, 3.  ]),\n",
       "  array([2.  , 3.75, 5.5 , 7.25, 9.  ]),\n",
       "  array([0., 2., 4., 6., 8.])])"
      ]
     },
     "execution_count": 109,
     "metadata": {},
     "output_type": "execute_result"
    }
   ],
   "source": [
    "np.histogramdd(matrix_A.transpose(), bins=4)"
   ]
  },
  {
   "cell_type": "code",
   "execution_count": null,
   "id": "1779e973",
   "metadata": {},
   "outputs": [],
   "source": []
  }
 ],
 "metadata": {
  "kernelspec": {
   "display_name": "Python 3 (ipykernel)",
   "language": "python",
   "name": "python3"
  },
  "language_info": {
   "codemirror_mode": {
    "name": "ipython",
    "version": 3
   },
   "file_extension": ".py",
   "mimetype": "text/x-python",
   "name": "python",
   "nbconvert_exporter": "python",
   "pygments_lexer": "ipython3",
   "version": "3.9.12"
  }
 },
 "nbformat": 4,
 "nbformat_minor": 5
}
