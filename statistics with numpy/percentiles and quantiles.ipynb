{
 "cells": [
  {
   "cell_type": "code",
   "execution_count": 37,
   "id": "c27bf8f8",
   "metadata": {},
   "outputs": [],
   "source": [
    "import numpy as np"
   ]
  },
  {
   "cell_type": "code",
   "execution_count": 38,
   "id": "b2c75418",
   "metadata": {},
   "outputs": [
    {
     "data": {
      "text/plain": [
       "array([[1, 0, 0, 3, 1],\n",
       "       [3, 6, 6, 2, 9],\n",
       "       [4, 5, 3, 8, 0]])"
      ]
     },
     "execution_count": 38,
     "metadata": {},
     "output_type": "execute_result"
    }
   ],
   "source": [
    "matrix_A"
   ]
  },
  {
   "cell_type": "code",
   "execution_count": 45,
   "id": "8c113852",
   "metadata": {},
   "outputs": [],
   "source": [
    "# # np.ptp()\n",
    "\n",
    "# returns the difference between the highest and lowest within the matrix"
   ]
  },
  {
   "cell_type": "code",
   "execution_count": 41,
   "id": "acb47918",
   "metadata": {},
   "outputs": [
    {
     "data": {
      "text/plain": [
       "9"
      ]
     },
     "execution_count": 41,
     "metadata": {},
     "output_type": "execute_result"
    }
   ],
   "source": [
    "np.ptp(matrix_A)"
   ]
  },
  {
   "cell_type": "code",
   "execution_count": 42,
   "id": "00c87945",
   "metadata": {},
   "outputs": [
    {
     "data": {
      "text/plain": [
       "array([3, 6, 6, 6, 9])"
      ]
     },
     "execution_count": 42,
     "metadata": {},
     "output_type": "execute_result"
    }
   ],
   "source": [
    "np.ptp(matrix_A, axis =0)"
   ]
  },
  {
   "cell_type": "code",
   "execution_count": 43,
   "id": "131d9a60",
   "metadata": {},
   "outputs": [
    {
     "data": {
      "text/plain": [
       "array([3, 7, 8])"
      ]
     },
     "execution_count": 43,
     "metadata": {},
     "output_type": "execute_result"
    }
   ],
   "source": [
    "np.ptp(matrix_A, axis =1 )"
   ]
  },
  {
   "cell_type": "code",
   "execution_count": 47,
   "id": "82ab35c0",
   "metadata": {},
   "outputs": [],
   "source": [
    "# # # np.percentile()\n",
    "\n",
    "# # returns a specific percentile of a given set \n",
    "\n",
    "# # requires a second input the percentile\n",
    "\n",
    "# a value that is greater than the corresponding % of the dataset, the 70th percentile is greater than 70% of the data"
   ]
  },
  {
   "cell_type": "code",
   "execution_count": 48,
   "id": "c92cb65a",
   "metadata": {},
   "outputs": [
    {
     "data": {
      "text/plain": [
       "array([0, 0, 0, 1, 1, 2, 3, 3, 3, 4, 5, 6, 6, 8, 9])"
      ]
     },
     "execution_count": 48,
     "metadata": {},
     "output_type": "execute_result"
    }
   ],
   "source": [
    "np.sort(matrix_A,axis=None)\n"
   ]
  },
  {
   "cell_type": "code",
   "execution_count": 55,
   "id": "a4cd8f5e",
   "metadata": {},
   "outputs": [
    {
     "data": {
      "text/plain": [
       "5"
      ]
     },
     "execution_count": 55,
     "metadata": {},
     "output_type": "execute_result"
    }
   ],
   "source": [
    "np.percentile(matrix_A,70,method=\"higher\")"
   ]
  },
  {
   "cell_type": "code",
   "execution_count": 56,
   "id": "698c25a3",
   "metadata": {},
   "outputs": [
    {
     "data": {
      "text/plain": [
       "4.5"
      ]
     },
     "execution_count": 56,
     "metadata": {},
     "output_type": "execute_result"
    }
   ],
   "source": [
    "np.percentile(matrix_A,70,method=\"midpoint\")"
   ]
  },
  {
   "cell_type": "code",
   "execution_count": 57,
   "id": "cd68dd9e",
   "metadata": {},
   "outputs": [
    {
     "data": {
      "text/plain": [
       "5"
      ]
     },
     "execution_count": 57,
     "metadata": {},
     "output_type": "execute_result"
    }
   ],
   "source": [
    "np.percentile(matrix_A,70,method=\"nearest\")"
   ]
  },
  {
   "cell_type": "code",
   "execution_count": 58,
   "id": "92dd0c67",
   "metadata": {},
   "outputs": [
    {
     "data": {
      "text/plain": [
       "3.0"
      ]
     },
     "execution_count": 58,
     "metadata": {},
     "output_type": "execute_result"
    }
   ],
   "source": [
    "# 50 gives the median value\n",
    "\n",
    "np.percentile(matrix_A,50)"
   ]
  },
  {
   "cell_type": "code",
   "execution_count": 60,
   "id": "04129dc5",
   "metadata": {},
   "outputs": [],
   "source": [
    "# # quantile \n",
    "\n",
    "# a value that is greayte than the corresponding part of the dataset\n",
    "\n",
    "# 70 th percentile = 0.7 quantile"
   ]
  },
  {
   "cell_type": "code",
   "execution_count": 63,
   "id": "4d0a7f4c",
   "metadata": {},
   "outputs": [
    {
     "data": {
      "text/plain": [
       "5"
      ]
     },
     "execution_count": 63,
     "metadata": {},
     "output_type": "execute_result"
    }
   ],
   "source": [
    "np.quantile(matrix_A,0.7,method='nearest')"
   ]
  },
  {
   "cell_type": "code",
   "execution_count": null,
   "id": "3178f34e",
   "metadata": {},
   "outputs": [],
   "source": []
  }
 ],
 "metadata": {
  "kernelspec": {
   "display_name": "Python 3 (ipykernel)",
   "language": "python",
   "name": "python3"
  },
  "language_info": {
   "codemirror_mode": {
    "name": "ipython",
    "version": 3
   },
   "file_extension": ".py",
   "mimetype": "text/x-python",
   "name": "python",
   "nbconvert_exporter": "python",
   "pygments_lexer": "ipython3",
   "version": "3.9.12"
  }
 },
 "nbformat": 4,
 "nbformat_minor": 5
}
