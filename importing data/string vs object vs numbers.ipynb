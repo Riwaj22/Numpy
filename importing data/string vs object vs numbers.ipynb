{
 "cells": [
  {
   "cell_type": "code",
   "execution_count": 43,
   "id": "2e4d72b7",
   "metadata": {},
   "outputs": [],
   "source": [
    "import numpy as np"
   ]
  },
  {
   "cell_type": "code",
   "execution_count": 44,
   "id": "b9320dbe",
   "metadata": {},
   "outputs": [],
   "source": [
    "lending_co_lt = np.genfromtxt(r\"C:\\Users\\97798\\Desktop\\3.1 lending-co-LT.csv\",delimiter= ',')"
   ]
  },
  {
   "cell_type": "code",
   "execution_count": 45,
   "id": "f003c875",
   "metadata": {
    "scrolled": true
   },
   "outputs": [
    {
     "data": {
      "text/plain": [
       "array([[      nan,       nan,       nan, ...,       nan,       nan,\n",
       "              nan],\n",
       "       [1.000e+00,       nan,       nan, ...,       nan,       nan,\n",
       "        1.660e+04],\n",
       "       [2.000e+00,       nan,       nan, ...,       nan,       nan,\n",
       "        1.660e+04],\n",
       "       ...,\n",
       "       [1.041e+03,       nan,       nan, ...,       nan,       nan,\n",
       "        1.660e+04],\n",
       "       [1.042e+03,       nan,       nan, ...,       nan,       nan,\n",
       "        1.560e+04],\n",
       "       [1.043e+03,       nan,       nan, ...,       nan,       nan,\n",
       "        1.660e+04]])"
      ]
     },
     "execution_count": 45,
     "metadata": {},
     "output_type": "execute_result"
    }
   ],
   "source": [
    "lending_co_lt"
   ]
  },
  {
   "cell_type": "markdown",
   "id": "7c31bd6c",
   "metadata": {},
   "source": [
    "string vs object vs numbers\n"
   ]
  },
  {
   "cell_type": "code",
   "execution_count": 46,
   "id": "42b29011",
   "metadata": {
    "scrolled": true
   },
   "outputs": [
    {
     "name": "stdout",
     "output_type": "stream",
     "text": [
      "[[      nan       nan       nan ...       nan       nan       nan]\n",
      " [1.000e+00       nan       nan ...       nan       nan 1.660e+04]\n",
      " [2.000e+00       nan       nan ...       nan       nan 1.660e+04]\n",
      " ...\n",
      " [1.041e+03       nan       nan ...       nan       nan 1.660e+04]\n",
      " [1.042e+03       nan       nan ...       nan       nan 1.560e+04]\n",
      " [1.043e+03       nan       nan ...       nan       nan 1.660e+04]]\n"
     ]
    }
   ],
   "source": [
    "print(lending_co_lt)"
   ]
  },
  {
   "cell_type": "code",
   "execution_count": 49,
   "id": "129c8ebb",
   "metadata": {},
   "outputs": [
    {
     "name": "stdout",
     "output_type": "stream",
     "text": [
      "[[   -1    -1    -1 ...    -1    -1    -1]\n",
      " [    1    -1    -1 ...    -1    -1 16600]\n",
      " [    2    -1    -1 ...    -1    -1 16600]\n",
      " ...\n",
      " [ 1041    -1    -1 ...    -1    -1 16600]\n",
      " [ 1042    -1    -1 ...    -1    -1 15600]\n",
      " [ 1043    -1    -1 ...    -1    -1 16600]]\n"
     ]
    }
   ],
   "source": [
    "# import data as integers\n",
    "lending_co_lt = np.genfromtxt(r\"C:\\Users\\97798\\Desktop\\3.1 lending-co-LT.csv\",delimiter= ',',dtype = np.int32)\n",
    "print(lending_co_lt)"
   ]
  },
  {
   "cell_type": "code",
   "execution_count": 50,
   "id": "09197574",
   "metadata": {
    "scrolled": true
   },
   "outputs": [
    {
     "name": "stdout",
     "output_type": "stream",
     "text": [
      "[['LoanID' 'StringID' 'Product' ... 'Location' 'Region' 'TotalPrice']\n",
      " ['1' 'id_1' 'Product B' ... 'Location 2' 'Region 2' '16600.0']\n",
      " ['2' 'id_2' 'Product B' ... 'Location 3' '' '16600.0']\n",
      " ...\n",
      " ['1041' 'id_1041' 'Product B' ... 'Location 23' 'Region 4' '16600.0']\n",
      " ['1042' 'id_1042' 'Product C' ... 'Location 52' 'Region 6' '15600.0']\n",
      " ['1043' 'id_1043' 'Product B' ... 'Location 142' 'Region 6' '16600.0']]\n"
     ]
    }
   ],
   "source": [
    "# import dataset as text\n",
    "lending_co_lt = np.genfromtxt(r\"C:\\Users\\97798\\Desktop\\3.1 lending-co-LT.csv\",delimiter= ',',dtype = np.str_)\n",
    "print(lending_co_lt)"
   ]
  },
  {
   "cell_type": "code",
   "execution_count": 52,
   "id": "6d34e774",
   "metadata": {},
   "outputs": [
    {
     "name": "stdout",
     "output_type": "stream",
     "text": [
      "[[b'LoanID' b'StringID' b'Product' ... b'Location' b'Region'\n",
      "  b'TotalPrice']\n",
      " [b'1' b'id_1' b'Product B' ... b'Location 2' b'Region 2' b'16600.0']\n",
      " [b'2' b'id_2' b'Product B' ... b'Location 3' b'' b'16600.0']\n",
      " ...\n",
      " [b'1041' b'id_1041' b'Product B' ... b'Location 23' b'Region 4'\n",
      "  b'16600.0']\n",
      " [b'1042' b'id_1042' b'Product C' ... b'Location 52' b'Region 6'\n",
      "  b'15600.0']\n",
      " [b'1043' b'id_1043' b'Product B' ... b'Location 142' b'Region 6'\n",
      "  b'16600.0']]\n"
     ]
    }
   ],
   "source": [
    "# import dataset as object\n",
    "lending_co_lt = np.genfromtxt(r\"C:\\Users\\97798\\Desktop\\3.1 lending-co-LT.csv\",delimiter= ',',dtype = np.object_)\n",
    "print(lending_co_lt)"
   ]
  },
  {
   "cell_type": "code",
   "execution_count": 54,
   "id": "e8dde449",
   "metadata": {},
   "outputs": [
    {
     "name": "stdout",
     "output_type": "stream",
     "text": [
      "[(  -1, '', '', '', '', '',    -1) (   1, '', '', '', '', '', 16600)\n",
      " (   2, '', '', '', '', '', 16600) ... (1041, '', '', '', '', '', 16600)\n",
      " (1042, '', '', '', '', '', 15600) (1043, '', '', '', '', '', 16600)]\n"
     ]
    }
   ],
   "source": [
    "lending_co_lt = np.genfromtxt(r\"C:\\Users\\97798\\Desktop\\3.1 lending-co-LT.csv\",delimiter= ',',dtype = (np.int32,np.str_,np.str_,np.str_,np.str_,np.str_,np.int32))\n",
    "print(lending_co_lt)"
   ]
  },
  {
   "cell_type": "code",
   "execution_count": null,
   "id": "0b7090e2",
   "metadata": {},
   "outputs": [],
   "source": []
  }
 ],
 "metadata": {
  "kernelspec": {
   "display_name": "Python 3 (ipykernel)",
   "language": "python",
   "name": "python3"
  },
  "language_info": {
   "codemirror_mode": {
    "name": "ipython",
    "version": 3
   },
   "file_extension": ".py",
   "mimetype": "text/x-python",
   "name": "python",
   "nbconvert_exporter": "python",
   "pygments_lexer": "ipython3",
   "version": "3.9.12"
  }
 },
 "nbformat": 4,
 "nbformat_minor": 5
}
