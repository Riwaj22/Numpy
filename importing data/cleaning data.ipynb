{
 "cells": [
  {
   "cell_type": "code",
   "execution_count": 31,
   "id": "28885a27",
   "metadata": {},
   "outputs": [],
   "source": [
    "import numpy as np"
   ]
  },
  {
   "cell_type": "code",
   "execution_count": 34,
   "id": "cf32fc26",
   "metadata": {},
   "outputs": [
    {
     "data": {
      "text/plain": [
       "array([[ 2000.,    40.,   365.,  3121.,  4241., 13621.],\n",
       "       [ 2000.,    40.,   365.,  3061.,  4171., 15041.],\n",
       "       [ 1000.,    40.,   365.,  2160.,  3280., 15340.],\n",
       "       ...,\n",
       "       [   nan,    40.,   365.,  4201.,  5001., 16600.],\n",
       "       [ 1000.,    40.,   365.,  2080.,  3320., 15600.],\n",
       "       [ 2000.,    40.,   365.,  4601.,  4601., 16600.]])"
      ]
     },
     "execution_count": 34,
     "metadata": {},
     "output_type": "execute_result"
    }
   ],
   "source": [
    "lending_co_data_numeric_NAN = np.genfromtxt(r\"C:\\Users\\97798\\Desktop\\1.3 Lending-Company-Numeric-Data-NAN.csv\", delimiter=';',\n",
    "                                           )\n",
    "lending_co_data_numeric_NAN"
   ]
  },
  {
   "cell_type": "code",
   "execution_count": 33,
   "id": "20c7738a",
   "metadata": {},
   "outputs": [],
   "source": [
    "# partial cleaning while importing"
   ]
  },
  {
   "cell_type": "code",
   "execution_count": 35,
   "id": "ce7acc13",
   "metadata": {},
   "outputs": [
    {
     "data": {
      "text/plain": [
       "array([[ 1000.,    40.,   365.,  2160.,  3280., 15340.],\n",
       "       [ 2000.,    40.,   365.,  3041.,  4241., 15321.],\n",
       "       [ 2000.,    50.,   365.,  3470.,  4820., 13720.],\n",
       "       ...,\n",
       "       [   nan,    40.,   365.,  4201.,  5001., 16600.],\n",
       "       [ 1000.,    40.,   365.,  2080.,  3320., 15600.],\n",
       "       [ 2000.,    40.,   365.,  4601.,  4601., 16600.]])"
      ]
     },
     "execution_count": 35,
     "metadata": {},
     "output_type": "execute_result"
    }
   ],
   "source": [
    "# skips header removes from top of dataset\n",
    "\n",
    "lending_co_data_numeric_NAN = np.genfromtxt(r\"C:\\Users\\97798\\Desktop\\1.3 Lending-Company-Numeric-Data-NAN.csv\", delimiter=';',\n",
    "                                        skip_header=2   )\n",
    "lending_co_data_numeric_NAN"
   ]
  },
  {
   "cell_type": "code",
   "execution_count": 36,
   "id": "84a8e23f",
   "metadata": {},
   "outputs": [
    {
     "data": {
      "text/plain": [
       "array([[ 2000.,    40.,   365.,  3121.,  4241., 13621.],\n",
       "       [ 2000.,    40.,   365.,  3061.,  4171., 15041.],\n",
       "       [ 1000.,    40.,   365.,  2160.,  3280., 15340.],\n",
       "       ...,\n",
       "       [ 2000.,    40.,   365.,  3401.,    nan, 16600.],\n",
       "       [ 2000.,    40.,   365.,    nan,  5440., 16600.],\n",
       "       [   nan,    40.,   365.,  4201.,  5001., 16600.]])"
      ]
     },
     "execution_count": 36,
     "metadata": {},
     "output_type": "execute_result"
    }
   ],
   "source": [
    "# remove from bottom as defined by skip_footer\n",
    "\n",
    "lending_co_data_numeric_NAN = np.genfromtxt(r\"C:\\Users\\97798\\Desktop\\1.3 Lending-Company-Numeric-Data-NAN.csv\", delimiter=';',\n",
    "                                        skip_footer=2   )\n",
    "lending_co_data_numeric_NAN"
   ]
  },
  {
   "cell_type": "code",
   "execution_count": 37,
   "id": "b9c33edb",
   "metadata": {},
   "outputs": [
    {
     "data": {
      "text/plain": [
       "array([2000., 2000., 1000., ...,   nan, 1000., 2000.])"
      ]
     },
     "execution_count": 37,
     "metadata": {},
     "output_type": "execute_result"
    }
   ],
   "source": [
    "# discard columns\n",
    "# use only column 0\n",
    "\n",
    "lending_co_data_numeric_NAN = np.genfromtxt(r\"C:\\Users\\97798\\Desktop\\1.3 Lending-Company-Numeric-Data-NAN.csv\", delimiter=';',\n",
    "                                        usecols=0  )\n",
    "lending_co_data_numeric_NAN"
   ]
  },
  {
   "cell_type": "code",
   "execution_count": 38,
   "id": "c283b115",
   "metadata": {},
   "outputs": [
    {
     "data": {
      "text/plain": [
       "array([[  40.,  365., 3121., 4241.],\n",
       "       [  40.,  365., 3061., 4171.],\n",
       "       [  40.,  365., 2160., 3280.],\n",
       "       ...,\n",
       "       [  40.,  365., 4201., 5001.],\n",
       "       [  40.,  365., 2080., 3320.],\n",
       "       [  40.,  365., 4601., 4601.]])"
      ]
     },
     "execution_count": 38,
     "metadata": {},
     "output_type": "execute_result"
    }
   ],
   "source": [
    "#multiple columns\n",
    "\n",
    "lending_co_data_numeric_NAN = np.genfromtxt(r\"C:\\Users\\97798\\Desktop\\1.3 Lending-Company-Numeric-Data-NAN.csv\", delimiter=';',\n",
    "                                        usecols=(1,2,3,4)  )\n",
    "lending_co_data_numeric_NAN"
   ]
  },
  {
   "cell_type": "code",
   "execution_count": 39,
   "id": "a4761b1d",
   "metadata": {},
   "outputs": [
    {
     "data": {
      "text/plain": [
       "array([[  40.,  365., 2160., 3280.],\n",
       "       [  40.,  365., 3041., 4241.],\n",
       "       [  50.,  365., 3470., 4820.],\n",
       "       ...,\n",
       "       [  40.,  365., 3401.,   nan],\n",
       "       [  40.,  365.,   nan, 5440.],\n",
       "       [  40.,  365., 4201., 5001.]])"
      ]
     },
     "execution_count": 39,
     "metadata": {},
     "output_type": "execute_result"
    }
   ],
   "source": [
    "\n",
    "lending_co_data_numeric_NAN = np.genfromtxt(r\"C:\\Users\\97798\\Desktop\\1.3 Lending-Company-Numeric-Data-NAN.csv\", delimiter=';',\n",
    "                                        usecols=(1,2,3,4) ,skip_footer=2, skip_header=2 )\n",
    "lending_co_data_numeric_NAN"
   ]
  },
  {
   "cell_type": "code",
   "execution_count": 40,
   "id": "c3f850b6",
   "metadata": {},
   "outputs": [],
   "source": [
    "# splitting columns into variables\n"
   ]
  },
  {
   "cell_type": "code",
   "execution_count": 41,
   "id": "04167246",
   "metadata": {},
   "outputs": [
    {
     "data": {
      "text/plain": [
       "array([[  40.,  365., 2160., 3280.],\n",
       "       [  40.,  365., 3041., 4241.],\n",
       "       [  50.,  365., 3470., 4820.],\n",
       "       ...,\n",
       "       [  40.,  365., 3401.,   nan],\n",
       "       [  40.,  365.,   nan, 5440.],\n",
       "       [  40.,  365., 4201., 5001.]])"
      ]
     },
     "execution_count": 41,
     "metadata": {},
     "output_type": "execute_result"
    }
   ],
   "source": [
    "\n",
    "lending_co_data1,lending_co_data2,lending_co_data3, lending_data_4 = np.genfromtxt(r\"C:\\Users\\97798\\Desktop\\1.3 Lending-Company-Numeric-Data-NAN.csv\", delimiter=';',\n",
    "                                        usecols=(1,2,3,4) ,skip_footer=2, skip_header=2, unpack=True )\n",
    "lending_co_data_numeric_NAN"
   ]
  },
  {
   "cell_type": "code",
   "execution_count": 42,
   "id": "97bf5d3b",
   "metadata": {},
   "outputs": [
    {
     "name": "stdout",
     "output_type": "stream",
     "text": [
      "[40. 40. 50. ... 40. 40. 40.]\n",
      "[365. 365. 365. ... 365. 365. 365.]\n",
      "[2160. 3041. 3470. ... 3401.   nan 4201.]\n",
      "[3280. 4241. 4820. ...   nan 5440. 5001.]\n"
     ]
    }
   ],
   "source": [
    "print(lending_co_data1)\n",
    "print(lending_co_data2)\n",
    "print(lending_co_data3)\n",
    "print(lending_data_4)"
   ]
  },
  {
   "cell_type": "code",
   "execution_count": null,
   "id": "a5f395f9",
   "metadata": {},
   "outputs": [],
   "source": []
  }
 ],
 "metadata": {
  "kernelspec": {
   "display_name": "Python 3 (ipykernel)",
   "language": "python",
   "name": "python3"
  },
  "language_info": {
   "codemirror_mode": {
    "name": "ipython",
    "version": 3
   },
   "file_extension": ".py",
   "mimetype": "text/x-python",
   "name": "python",
   "nbconvert_exporter": "python",
   "pygments_lexer": "ipython3",
   "version": "3.9.12"
  }
 },
 "nbformat": 4,
 "nbformat_minor": 5
}
