{
 "cells": [
  {
   "cell_type": "code",
   "execution_count": 1,
   "id": "6d2b1d62",
   "metadata": {},
   "outputs": [],
   "source": [
    "import numpy as np"
   ]
  },
  {
   "cell_type": "code",
   "execution_count": 45,
   "id": "66ded164",
   "metadata": {},
   "outputs": [],
   "source": [
    "lending_co_data_numeric_NAN = np.genfromtxt(r\"C:\\Users\\97798\\Desktop\\manipulation of data\\1.4 Lending-company-Numeric-NAN.csv\",delimiter=';')"
   ]
  },
  {
   "cell_type": "code",
   "execution_count": 46,
   "id": "d09a10e9",
   "metadata": {},
   "outputs": [
    {
     "data": {
      "text/plain": [
       "array([[ 2000.,    40.,   365.,  3121.,  4241., 13621.],\n",
       "       [ 2000.,    40.,   365.,  3061.,  4171., 15041.],\n",
       "       [ 1000.,    40.,   365.,  2160.,  3280., 15340.],\n",
       "       ...,\n",
       "       [   nan,    40.,   365.,  4201.,  5001., 16600.],\n",
       "       [ 1000.,    40.,   365.,  2080.,  3320., 15600.],\n",
       "       [ 2000.,    40.,   365.,  4601.,  4601., 16600.]])"
      ]
     },
     "execution_count": 46,
     "metadata": {},
     "output_type": "execute_result"
    }
   ],
   "source": [
    "lending_co_data_numeric_NAN"
   ]
  },
  {
   "cell_type": "code",
   "execution_count": 48,
   "id": "54bdf53c",
   "metadata": {},
   "outputs": [
    {
     "data": {
      "text/plain": [
       "260"
      ]
     },
     "execution_count": 48,
     "metadata": {},
     "output_type": "execute_result"
    }
   ],
   "source": [
    "np.isnan(lending_co_data_numeric_NAN).sum()"
   ]
  },
  {
   "cell_type": "code",
   "execution_count": 49,
   "id": "42aa59ae",
   "metadata": {},
   "outputs": [],
   "source": [
    "lending_co_data_numeric_NAN = np.genfromtxt(r\"C:\\Users\\97798\\Desktop\\manipulation of data\\1.4 Lending-company-Numeric-NAN.csv\",delimiter=';',\n",
    "                                           filling_values= temporary_fill)"
   ]
  },
  {
   "cell_type": "code",
   "execution_count": 62,
   "id": "d5cad329",
   "metadata": {},
   "outputs": [
    {
     "data": {
      "text/plain": [
       "array([[ 2000.  ,    40.  ,   365.  ,  3121.  ,  4241.  , 13621.  ],\n",
       "       [ 2000.  ,    40.  ,   365.  ,  3061.  ,  4171.  , 15041.  ],\n",
       "       [ 1000.  ,    40.  ,   365.  ,  2160.  ,  3280.  , 15340.  ],\n",
       "       ...,\n",
       "       [ 2315.87,    40.  ,   365.  ,  4201.  ,  5001.  , 16600.  ],\n",
       "       [ 1000.  ,    40.  ,   365.  ,  2080.  ,  3320.  , 15600.  ],\n",
       "       [ 2000.  ,    40.  ,   365.  ,  4601.  ,  4601.  , 16600.  ]])"
      ]
     },
     "execution_count": 62,
     "metadata": {},
     "output_type": "execute_result"
    }
   ],
   "source": [
    "for i in range(lending_co_data_numeric_NAN.shape[1]):\n",
    "    lending_co_data_numeric_NAN[:,i] = np.where(\n",
    "    lending_co_data_numeric_NAN[:,i] == temporary_fill,\n",
    "    temporary_mean[i],\n",
    "    lending_co_data_numeric_NAN[:,i]\n",
    ")\n",
    "\n",
    "lending_co_data_numeric_NAN    \n",
    "    "
   ]
  },
  {
   "cell_type": "code",
   "execution_count": 63,
   "id": "54642833",
   "metadata": {},
   "outputs": [],
   "source": [
    "# np.coicatenate(): linking together objects in a chain\n",
    "    \n",
    "#     creating a new larger array by merging existing smaller arrays in "
   ]
  },
  {
   "cell_type": "code",
   "execution_count": 64,
   "id": "7a5b5b14",
   "metadata": {},
   "outputs": [
    {
     "data": {
      "text/plain": [
       "array([ 2000.,    40.,   365.,  3121.,  4241., 13621.])"
      ]
     },
     "execution_count": 64,
     "metadata": {},
     "output_type": "execute_result"
    }
   ],
   "source": [
    "lending_co_data_numeric_NAN[0,:]"
   ]
  },
  {
   "cell_type": "code",
   "execution_count": 66,
   "id": "c87cf534",
   "metadata": {},
   "outputs": [
    {
     "data": {
      "text/plain": [
       "array([ 2000.,    40.,   365.,  3061.,  4171., 15041.])"
      ]
     },
     "execution_count": 66,
     "metadata": {},
     "output_type": "execute_result"
    }
   ],
   "source": [
    "lending_co_data_numeric_NAN[1,:]"
   ]
  },
  {
   "cell_type": "code",
   "execution_count": 68,
   "id": "09548851",
   "metadata": {},
   "outputs": [
    {
     "data": {
      "text/plain": [
       "array([ 2000.,    40.,   365.,  3121.,  4241., 13621.,  2000.,    40.,\n",
       "         365.,  3061.,  4171., 15041.])"
      ]
     },
     "execution_count": 68,
     "metadata": {},
     "output_type": "execute_result"
    }
   ],
   "source": [
    "np.concatenate((lending_co_data_numeric_NAN[0,:],lending_co_data_numeric_NAN[1,:]))"
   ]
  },
  {
   "cell_type": "code",
   "execution_count": 73,
   "id": "021faf91",
   "metadata": {},
   "outputs": [
    {
     "data": {
      "text/plain": [
       "array([[ 2000.  ,    40.  ,   365.  , ...,  3121.  ,  4241.  , 13621.  ],\n",
       "       [ 2000.  ,    40.  ,   365.  , ...,  3061.  ,  4171.  , 15041.  ],\n",
       "       [ 1000.  ,    40.  ,   365.  , ...,  2160.  ,  3280.  , 15340.  ],\n",
       "       ...,\n",
       "       [ 2315.87,    40.  ,   365.  , ...,  4201.  ,  5001.  , 16600.  ],\n",
       "       [ 1000.  ,    40.  ,   365.  , ...,  2080.  ,  3320.  , 15600.  ],\n",
       "       [ 2000.  ,    40.  ,   365.  , ...,  4601.  ,  4601.  , 16600.  ]])"
      ]
     },
     "execution_count": 73,
     "metadata": {},
     "output_type": "execute_result"
    }
   ],
   "source": [
    "np.concatenate((lending_co_data_numeric_NAN,lending_co_data_numeric_NAN),axis =1 )"
   ]
  },
  {
   "cell_type": "code",
   "execution_count": 74,
   "id": "13fa4798",
   "metadata": {},
   "outputs": [
    {
     "data": {
      "text/plain": [
       "(1043, 12)"
      ]
     },
     "execution_count": 74,
     "metadata": {},
     "output_type": "execute_result"
    }
   ],
   "source": [
    "np.concatenate((lending_co_data_numeric_NAN,lending_co_data_numeric_NAN),axis =1 ).shape"
   ]
  },
  {
   "cell_type": "code",
   "execution_count": 75,
   "id": "a84e6be2",
   "metadata": {},
   "outputs": [
    {
     "data": {
      "text/plain": [
       "(1043, 6)"
      ]
     },
     "execution_count": 75,
     "metadata": {},
     "output_type": "execute_result"
    }
   ],
   "source": [
    "lending_co_data_numeric_NAN.shape"
   ]
  },
  {
   "cell_type": "code",
   "execution_count": 76,
   "id": "67a97533",
   "metadata": {},
   "outputs": [
    {
     "data": {
      "text/plain": [
       "array([[[ 1,  2,  3,  4],\n",
       "        [ 5,  6,  7,  8],\n",
       "        [ 9, 10, 11, 12],\n",
       "        [13, 14, 15, 16]]])"
      ]
     },
     "execution_count": 76,
     "metadata": {},
     "output_type": "execute_result"
    }
   ],
   "source": [
    "array_example_1"
   ]
  },
  {
   "cell_type": "code",
   "execution_count": 77,
   "id": "5296a649",
   "metadata": {},
   "outputs": [
    {
     "data": {
      "text/plain": [
       "array([[[ 2,  4,  6,  8],\n",
       "        [10, 12, 14, 16],\n",
       "        [18, 20, 22, 24],\n",
       "        [26, 28, 30, 32]]])"
      ]
     },
     "execution_count": 77,
     "metadata": {},
     "output_type": "execute_result"
    }
   ],
   "source": [
    "array_example_2"
   ]
  },
  {
   "cell_type": "code",
   "execution_count": 78,
   "id": "cdd20f2c",
   "metadata": {},
   "outputs": [
    {
     "data": {
      "text/plain": [
       "(1, 4, 4)"
      ]
     },
     "execution_count": 78,
     "metadata": {},
     "output_type": "execute_result"
    }
   ],
   "source": [
    "array_example_1.shape"
   ]
  },
  {
   "cell_type": "code",
   "execution_count": 79,
   "id": "cc0a6296",
   "metadata": {},
   "outputs": [
    {
     "data": {
      "text/plain": [
       "(1, 4, 4)"
      ]
     },
     "execution_count": 79,
     "metadata": {},
     "output_type": "execute_result"
    }
   ],
   "source": [
    "array_example_2.shape"
   ]
  },
  {
   "cell_type": "code",
   "execution_count": 80,
   "id": "094eff4d",
   "metadata": {},
   "outputs": [
    {
     "data": {
      "text/plain": [
       "array([[[ 1,  2,  3,  4],\n",
       "        [ 5,  6,  7,  8],\n",
       "        [ 9, 10, 11, 12],\n",
       "        [13, 14, 15, 16]],\n",
       "\n",
       "       [[ 2,  4,  6,  8],\n",
       "        [10, 12, 14, 16],\n",
       "        [18, 20, 22, 24],\n",
       "        [26, 28, 30, 32]]])"
      ]
     },
     "execution_count": 80,
     "metadata": {},
     "output_type": "execute_result"
    }
   ],
   "source": [
    "np.concatenate((array_example_1,array_example_2))"
   ]
  },
  {
   "cell_type": "code",
   "execution_count": 81,
   "id": "c9fb028c",
   "metadata": {},
   "outputs": [
    {
     "data": {
      "text/plain": [
       "array([[[ 1,  2,  3,  4],\n",
       "        [ 5,  6,  7,  8],\n",
       "        [ 9, 10, 11, 12],\n",
       "        [13, 14, 15, 16]],\n",
       "\n",
       "       [[ 2,  4,  6,  8],\n",
       "        [10, 12, 14, 16],\n",
       "        [18, 20, 22, 24],\n",
       "        [26, 28, 30, 32]]])"
      ]
     },
     "execution_count": 81,
     "metadata": {},
     "output_type": "execute_result"
    }
   ],
   "source": [
    "np.vstack((array_example_1,array_example_2))"
   ]
  },
  {
   "cell_type": "code",
   "execution_count": 82,
   "id": "80ba41bf",
   "metadata": {},
   "outputs": [
    {
     "data": {
      "text/plain": [
       "array([[[ 1,  2,  3,  4],\n",
       "        [ 5,  6,  7,  8],\n",
       "        [ 9, 10, 11, 12],\n",
       "        [13, 14, 15, 16],\n",
       "        [ 2,  4,  6,  8],\n",
       "        [10, 12, 14, 16],\n",
       "        [18, 20, 22, 24],\n",
       "        [26, 28, 30, 32]]])"
      ]
     },
     "execution_count": 82,
     "metadata": {},
     "output_type": "execute_result"
    }
   ],
   "source": [
    "np.hstack((array_example_1,array_example_2))"
   ]
  },
  {
   "cell_type": "code",
   "execution_count": 84,
   "id": "05c0f54a",
   "metadata": {},
   "outputs": [
    {
     "ename": "ValueError",
     "evalue": "all the input arrays must have same number of dimensions, but the array at index 0 has 2 dimension(s) and the array at index 1 has 1 dimension(s)",
     "output_type": "error",
     "traceback": [
      "\u001b[1;31m---------------------------------------------------------------------------\u001b[0m",
      "\u001b[1;31mValueError\u001b[0m                                Traceback (most recent call last)",
      "Input \u001b[1;32mIn [84]\u001b[0m, in \u001b[0;36m<cell line: 1>\u001b[1;34m()\u001b[0m\n\u001b[1;32m----> 1\u001b[0m \u001b[43mnp\u001b[49m\u001b[38;5;241;43m.\u001b[39;49m\u001b[43mconcatenate\u001b[49m\u001b[43m(\u001b[49m\u001b[43m(\u001b[49m\u001b[43mlending_co_data_numeric_NAN\u001b[49m\u001b[43m,\u001b[49m\u001b[43mlending_co_data_numeric_NAN\u001b[49m\u001b[43m[\u001b[49m\u001b[43m:\u001b[49m\u001b[43m,\u001b[49m\u001b[38;5;241;43m0\u001b[39;49m\u001b[43m]\u001b[49m\u001b[43m)\u001b[49m\u001b[43m,\u001b[49m\u001b[43maxis\u001b[49m\u001b[43m \u001b[49m\u001b[38;5;241;43m=\u001b[39;49m\u001b[38;5;241;43m1\u001b[39;49m\n\u001b[0;32m      2\u001b[0m \u001b[43m              \u001b[49m\u001b[43m)\u001b[49m\n",
      "File \u001b[1;32m<__array_function__ internals>:200\u001b[0m, in \u001b[0;36mconcatenate\u001b[1;34m(*args, **kwargs)\u001b[0m\n",
      "\u001b[1;31mValueError\u001b[0m: all the input arrays must have same number of dimensions, but the array at index 0 has 2 dimension(s) and the array at index 1 has 1 dimension(s)"
     ]
    }
   ],
   "source": []
  },
  {
   "cell_type": "code",
   "execution_count": null,
   "id": "37047839",
   "metadata": {},
   "outputs": [],
   "source": []
  }
 ],
 "metadata": {
  "kernelspec": {
   "display_name": "Python 3 (ipykernel)",
   "language": "python",
   "name": "python3"
  },
  "language_info": {
   "codemirror_mode": {
    "name": "ipython",
    "version": 3
   },
   "file_extension": ".py",
   "mimetype": "text/x-python",
   "name": "python",
   "nbconvert_exporter": "python",
   "pygments_lexer": "ipython3",
   "version": "3.9.12"
  }
 },
 "nbformat": 4,
 "nbformat_minor": 5
}
