{
 "cells": [
  {
   "cell_type": "code",
   "execution_count": 66,
   "id": "01234c96",
   "metadata": {},
   "outputs": [],
   "source": [
    "import numpy as np"
   ]
  },
  {
   "cell_type": "code",
   "execution_count": 200,
   "id": "562e7a33",
   "metadata": {},
   "outputs": [],
   "source": [
    "lending_co_data_numeric = np.loadtxt(r\"C:\\Users\\97798\\Desktop\\manipulation of data\\1.2 Lending-company-Numeric.csv\",delimiter=',')"
   ]
  },
  {
   "cell_type": "code",
   "execution_count": 201,
   "id": "a8a1c3ce",
   "metadata": {},
   "outputs": [
    {
     "data": {
      "text/plain": [
       "array([[ 2000.,    40.,   365.,  3121.,  4241., 13621.],\n",
       "       [ 2000.,    40.,   365.,  3061.,  4171., 15041.],\n",
       "       [ 1000.,    40.,   365.,  2160.,  3280., 15340.],\n",
       "       ...,\n",
       "       [ 2000.,    40.,   365.,  4201.,  5001., 16600.],\n",
       "       [ 1000.,    40.,   365.,  2080.,  3320., 15600.],\n",
       "       [ 2000.,    40.,   365.,  4601.,  4601., 16600.]])"
      ]
     },
     "execution_count": 201,
     "metadata": {},
     "output_type": "execute_result"
    }
   ],
   "source": [
    "lending_co_data_numeric"
   ]
  },
  {
   "cell_type": "code",
   "execution_count": 202,
   "id": "3ae48f9c",
   "metadata": {},
   "outputs": [],
   "source": [
    "# casting: taking an object with values of a certain datatypes and creating an identical\n",
    "#     objects that contain values of a different datatype"
   ]
  },
  {
   "cell_type": "code",
   "execution_count": 204,
   "id": "867840d6",
   "metadata": {},
   "outputs": [
    {
     "data": {
      "text/plain": [
       "array([[ 2000,    40,   365,  3121,  4241, 13621],\n",
       "       [ 2000,    40,   365,  3061,  4171, 15041],\n",
       "       [ 1000,    40,   365,  2160,  3280, 15340],\n",
       "       ...,\n",
       "       [ 2000,    40,   365,  4201,  5001, 16600],\n",
       "       [ 1000,    40,   365,  2080,  3320, 15600],\n",
       "       [ 2000,    40,   365,  4601,  4601, 16600]])"
      ]
     },
     "execution_count": 204,
     "metadata": {},
     "output_type": "execute_result"
    }
   ],
   "source": [
    "lending_co_data_numeric.astype(dtype = np.int32)"
   ]
  },
  {
   "cell_type": "code",
   "execution_count": 207,
   "id": "34b6617f",
   "metadata": {},
   "outputs": [],
   "source": [
    "lending_co_data_numeric = lending_co_data_numeric.astype(dtype = np.str_)"
   ]
  },
  {
   "cell_type": "code",
   "execution_count": 208,
   "id": "5dccd4f9",
   "metadata": {},
   "outputs": [
    {
     "data": {
      "text/plain": [
       "array([['2000.0', '40.0', '365.0', '3121.0', '4241.0', '13621.0'],\n",
       "       ['2000.0', '40.0', '365.0', '3061.0', '4171.0', '15041.0'],\n",
       "       ['1000.0', '40.0', '365.0', '2160.0', '3280.0', '15340.0'],\n",
       "       ...,\n",
       "       ['2000.0', '40.0', '365.0', '4201.0', '5001.0', '16600.0'],\n",
       "       ['1000.0', '40.0', '365.0', '2080.0', '3320.0', '15600.0'],\n",
       "       ['2000.0', '40.0', '365.0', '4601.0', '4601.0', '16600.0']],\n",
       "      dtype='<U32')"
      ]
     },
     "execution_count": 208,
     "metadata": {},
     "output_type": "execute_result"
    }
   ],
   "source": [
    "lending_co_data_numeric"
   ]
  },
  {
   "cell_type": "code",
   "execution_count": 209,
   "id": "418128a8",
   "metadata": {},
   "outputs": [
    {
     "data": {
      "text/plain": [
       "numpy.ndarray"
      ]
     },
     "execution_count": 209,
     "metadata": {},
     "output_type": "execute_result"
    }
   ],
   "source": [
    "type(lending_co_data_numeric)"
   ]
  },
  {
   "cell_type": "code",
   "execution_count": 214,
   "id": "6088c888",
   "metadata": {},
   "outputs": [],
   "source": [
    "lending_co_data_numeric = lending_co_data_numeric.astype(dtype = np.float32)"
   ]
  },
  {
   "cell_type": "code",
   "execution_count": 215,
   "id": "ebc131b4",
   "metadata": {},
   "outputs": [
    {
     "data": {
      "text/plain": [
       "array([[ 2000,    40,   365,  3121,  4241, 13621],\n",
       "       [ 2000,    40,   365,  3061,  4171, 15041],\n",
       "       [ 1000,    40,   365,  2160,  3280, 15340],\n",
       "       ...,\n",
       "       [ 2000,    40,   365,  4201,  5001, 16600],\n",
       "       [ 1000,    40,   365,  2080,  3320, 15600],\n",
       "       [ 2000,    40,   365,  4601,  4601, 16600]])"
      ]
     },
     "execution_count": 215,
     "metadata": {},
     "output_type": "execute_result"
    }
   ],
   "source": [
    "lending_co_data_numeric.astype(dtype = np.int32)"
   ]
  },
  {
   "cell_type": "code",
   "execution_count": 216,
   "id": "c4e8507b",
   "metadata": {},
   "outputs": [
    {
     "data": {
      "text/plain": [
       "array([[ 2000,    40,   365,  3121,  4241, 13621],\n",
       "       [ 2000,    40,   365,  3061,  4171, 15041],\n",
       "       [ 1000,    40,   365,  2160,  3280, 15340],\n",
       "       ...,\n",
       "       [ 2000,    40,   365,  4201,  5001, 16600],\n",
       "       [ 1000,    40,   365,  2080,  3320, 15600],\n",
       "       [ 2000,    40,   365,  4601,  4601, 16600]])"
      ]
     },
     "execution_count": 216,
     "metadata": {},
     "output_type": "execute_result"
    }
   ],
   "source": [
    "lending_co_data_numeric.astype(dtype = np.float32).astype(dtype = np.int32)"
   ]
  },
  {
   "cell_type": "code",
   "execution_count": 217,
   "id": "55d67642",
   "metadata": {},
   "outputs": [
    {
     "data": {
      "text/plain": [
       "array([[ 2000.,    40.,   365.,  3121.,  4241., 13621.],\n",
       "       [ 2000.,    40.,   365.,  3061.,  4171., 15041.],\n",
       "       [ 1000.,    40.,   365.,  2160.,  3280., 15340.],\n",
       "       ...,\n",
       "       [ 2000.,    40.,   365.,  4201.,  5001., 16600.],\n",
       "       [ 1000.,    40.,   365.,  2080.,  3320., 15600.],\n",
       "       [ 2000.,    40.,   365.,  4601.,  4601., 16600.]], dtype=float32)"
      ]
     },
     "execution_count": 217,
     "metadata": {},
     "output_type": "execute_result"
    }
   ],
   "source": [
    "lending_co_data_numeric"
   ]
  },
  {
   "cell_type": "code",
   "execution_count": null,
   "id": "5bb30de8",
   "metadata": {},
   "outputs": [],
   "source": []
  }
 ],
 "metadata": {
  "kernelspec": {
   "display_name": "Python 3 (ipykernel)",
   "language": "python",
   "name": "python3"
  },
  "language_info": {
   "codemirror_mode": {
    "name": "ipython",
    "version": 3
   },
   "file_extension": ".py",
   "mimetype": "text/x-python",
   "name": "python",
   "nbconvert_exporter": "python",
   "pygments_lexer": "ipython3",
   "version": "3.9.12"
  }
 },
 "nbformat": 4,
 "nbformat_minor": 5
}
