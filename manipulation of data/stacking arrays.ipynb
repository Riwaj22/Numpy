{
 "cells": [
  {
   "cell_type": "code",
   "execution_count": 1,
   "id": "97cc8c4f",
   "metadata": {},
   "outputs": [],
   "source": [
    "import numpy as np"
   ]
  },
  {
   "cell_type": "code",
   "execution_count": 8,
   "id": "270ec50c",
   "metadata": {},
   "outputs": [],
   "source": [
    "lending_co_data_numeric_NAN = np.genfromtxt(r\"C:\\Users\\97798\\Desktop\\manipulation of data\\1.4 Lending-company-Numeric-NAN.csv\",delimiter=';')"
   ]
  },
  {
   "cell_type": "code",
   "execution_count": 9,
   "id": "d898082d",
   "metadata": {},
   "outputs": [
    {
     "data": {
      "text/plain": [
       "array([[ 2000.,    40.,   365.,  3121.,  4241., 13621.],\n",
       "       [ 2000.,    40.,   365.,  3061.,  4171., 15041.],\n",
       "       [ 1000.,    40.,   365.,  2160.,  3280., 15340.],\n",
       "       ...,\n",
       "       [   nan,    40.,   365.,  4201.,  5001., 16600.],\n",
       "       [ 1000.,    40.,   365.,  2080.,  3320., 15600.],\n",
       "       [ 2000.,    40.,   365.,  4601.,  4601., 16600.]])"
      ]
     },
     "execution_count": 9,
     "metadata": {},
     "output_type": "execute_result"
    }
   ],
   "source": [
    "lending_co_data_numeric_NAN"
   ]
  },
  {
   "cell_type": "code",
   "execution_count": 10,
   "id": "341f049f",
   "metadata": {},
   "outputs": [
    {
     "data": {
      "text/plain": [
       "260"
      ]
     },
     "execution_count": 10,
     "metadata": {},
     "output_type": "execute_result"
    }
   ],
   "source": [
    "np.isnan(lending_co_data_numeric_NAN).sum()"
   ]
  },
  {
   "cell_type": "code",
   "execution_count": 15,
   "id": "aede11a4",
   "metadata": {},
   "outputs": [
    {
     "data": {
      "text/plain": [
       "array([[ 2000.  ,    40.  ,   365.  ,  3121.  ,  4241.  , 13621.  ],\n",
       "       [ 2000.  ,    40.  ,   365.  ,  3061.  ,  4171.  , 15041.  ],\n",
       "       [ 1000.  ,    40.  ,   365.  ,  2160.  ,  3280.  , 15340.  ],\n",
       "       ...,\n",
       "       [ 2315.87,    40.  ,   365.  ,  4201.  ,  5001.  , 16600.  ],\n",
       "       [ 1000.  ,    40.  ,   365.  ,  2080.  ,  3320.  , 15600.  ],\n",
       "       [ 2000.  ,    40.  ,   365.  ,  4601.  ,  4601.  , 16600.  ]])"
      ]
     },
     "execution_count": 15,
     "metadata": {},
     "output_type": "execute_result"
    }
   ],
   "source": [
    "temporary_fill = np.nanmax(lending_co_data_numeric_NAN).round(2)+1\n",
    "temporary_mean = np.nanmean(lending_co_data_numeric_NAN,axis =0).round(2)\n",
    "\n",
    "lending_co_data_numeric_NAN = np.genfromtxt(\n",
    "    r\"C:\\Users\\97798\\Desktop\\manipulation of data\\1.4 Lending-company-Numeric-NAN.csv\",\n",
    "    delimiter=';',\n",
    "    filling_values=temporary_fill\n",
    ")\n",
    "\n",
    "for i in range (lending_co_data_numeric_NAN.shape[1]):\n",
    "    lending_co_data_numeric_NAN[:,i] = np.where(lending_co_data_numeric_NAN[:,i] == temporary_fill,\n",
    "                                                temporary_mean[i],\n",
    "                                                lending_co_data_numeric_NAN[:,i])\n",
    "        \n",
    "        \n",
    "    \n",
    "    \n",
    "lending_co_data_numeric_NAN    "
   ]
  },
  {
   "cell_type": "code",
   "execution_count": 16,
   "id": "0eea9b94",
   "metadata": {},
   "outputs": [],
   "source": [
    "# stacking: placing multiple objects on top of one another to create a bigger object"
   ]
  },
  {
   "cell_type": "code",
   "execution_count": 18,
   "id": "07a31e96",
   "metadata": {},
   "outputs": [
    {
     "data": {
      "text/plain": [
       "array([[2000.  , 2000.  , 1000.  , ..., 2315.87, 1000.  , 2000.  ],\n",
       "       [  40.  ,   40.  ,   40.  , ...,   40.  ,   40.  ,   40.  ]])"
      ]
     },
     "execution_count": 18,
     "metadata": {},
     "output_type": "execute_result"
    }
   ],
   "source": [
    "np.stack((lending_co_data_numeric_NAN[:,0],lending_co_data_numeric_NAN[:,1]))"
   ]
  },
  {
   "cell_type": "code",
   "execution_count": 20,
   "id": "1efc28e8",
   "metadata": {},
   "outputs": [
    {
     "data": {
      "text/plain": [
       "array([[  40.  ,   40.  ,   40.  , ...,   40.  ,   40.  ,   40.  ],\n",
       "       [2000.  , 2000.  , 1000.  , ..., 2315.87, 1000.  , 2000.  ]])"
      ]
     },
     "execution_count": 20,
     "metadata": {},
     "output_type": "execute_result"
    }
   ],
   "source": [
    "np.stack((lending_co_data_numeric_NAN[:,1],lending_co_data_numeric_NAN[:,0]))"
   ]
  },
  {
   "cell_type": "code",
   "execution_count": 21,
   "id": "28031f3e",
   "metadata": {},
   "outputs": [
    {
     "data": {
      "text/plain": [
       "array([[  40.  , 2000.  ],\n",
       "       [  40.  , 2000.  ],\n",
       "       [  40.  , 1000.  ],\n",
       "       ...,\n",
       "       [  40.  , 2315.87],\n",
       "       [  40.  , 1000.  ],\n",
       "       [  40.  , 2000.  ]])"
      ]
     },
     "execution_count": 21,
     "metadata": {},
     "output_type": "execute_result"
    }
   ],
   "source": [
    "np.stack((lending_co_data_numeric_NAN[:,1],lending_co_data_numeric_NAN[:,0]),axis=1)"
   ]
  },
  {
   "cell_type": "code",
   "execution_count": 22,
   "id": "ee1286ec",
   "metadata": {},
   "outputs": [
    {
     "data": {
      "text/plain": [
       "array([[  40.  , 2000.  ,  365.  ],\n",
       "       [  40.  , 2000.  ,  365.  ],\n",
       "       [  40.  , 1000.  ,  365.  ],\n",
       "       ...,\n",
       "       [  40.  , 2315.87,  365.  ],\n",
       "       [  40.  , 1000.  ,  365.  ],\n",
       "       [  40.  , 2000.  ,  365.  ]])"
      ]
     },
     "execution_count": 22,
     "metadata": {},
     "output_type": "execute_result"
    }
   ],
   "source": [
    "np.stack((lending_co_data_numeric_NAN[:,1],lending_co_data_numeric_NAN[:,0],lending_co_data_numeric_NAN[:,2]),axis=1)"
   ]
  },
  {
   "cell_type": "code",
   "execution_count": 23,
   "id": "483afafd",
   "metadata": {},
   "outputs": [
    {
     "data": {
      "text/plain": [
       "(1043, 6)"
      ]
     },
     "execution_count": 23,
     "metadata": {},
     "output_type": "execute_result"
    }
   ],
   "source": [
    "lending_co_data_numeric_NAN.shape"
   ]
  },
  {
   "cell_type": "code",
   "execution_count": 27,
   "id": "6bdda224",
   "metadata": {},
   "outputs": [
    {
     "data": {
      "text/plain": [
       "(2, 1043)"
      ]
     },
     "execution_count": 27,
     "metadata": {},
     "output_type": "execute_result"
    }
   ],
   "source": [
    "# vertical stack\n",
    "np.vstack((lending_co_data_numeric_NAN[:,0],lending_co_data_numeric_NAN[:,1])).shape"
   ]
  },
  {
   "cell_type": "code",
   "execution_count": 29,
   "id": "669820f5",
   "metadata": {},
   "outputs": [
    {
     "data": {
      "text/plain": [
       "(1043, 12)"
      ]
     },
     "execution_count": 29,
     "metadata": {},
     "output_type": "execute_result"
    }
   ],
   "source": [
    "np.hstack((lending_co_data_numeric_NAN,lending_co_data_numeric_NAN)).shape"
   ]
  },
  {
   "cell_type": "code",
   "execution_count": 30,
   "id": "47813b28",
   "metadata": {},
   "outputs": [],
   "source": [
    "# dstack: we stack arrays in third dimension"
   ]
  },
  {
   "cell_type": "code",
   "execution_count": 36,
   "id": "ac1a44ae",
   "metadata": {},
   "outputs": [
    {
     "data": {
      "text/plain": [
       "array([[[ 2000.  ,  2000.  ],\n",
       "        [   40.  ,    40.  ],\n",
       "        [  365.  ,   365.  ],\n",
       "        [ 3121.  ,  3121.  ],\n",
       "        [ 4241.  ,  4241.  ],\n",
       "        [13621.  , 13621.  ]],\n",
       "\n",
       "       [[ 2000.  ,  2000.  ],\n",
       "        [   40.  ,    40.  ],\n",
       "        [  365.  ,   365.  ],\n",
       "        [ 3061.  ,  3061.  ],\n",
       "        [ 4171.  ,  4171.  ],\n",
       "        [15041.  , 15041.  ]],\n",
       "\n",
       "       [[ 1000.  ,  1000.  ],\n",
       "        [   40.  ,    40.  ],\n",
       "        [  365.  ,   365.  ],\n",
       "        [ 2160.  ,  2160.  ],\n",
       "        [ 3280.  ,  3280.  ],\n",
       "        [15340.  , 15340.  ]],\n",
       "\n",
       "       ...,\n",
       "\n",
       "       [[ 2315.87,  2315.87],\n",
       "        [   40.  ,    40.  ],\n",
       "        [  365.  ,   365.  ],\n",
       "        [ 4201.  ,  4201.  ],\n",
       "        [ 5001.  ,  5001.  ],\n",
       "        [16600.  , 16600.  ]],\n",
       "\n",
       "       [[ 1000.  ,  1000.  ],\n",
       "        [   40.  ,    40.  ],\n",
       "        [  365.  ,   365.  ],\n",
       "        [ 2080.  ,  2080.  ],\n",
       "        [ 3320.  ,  3320.  ],\n",
       "        [15600.  , 15600.  ]],\n",
       "\n",
       "       [[ 2000.  ,  2000.  ],\n",
       "        [   40.  ,    40.  ],\n",
       "        [  365.  ,   365.  ],\n",
       "        [ 4601.  ,  4601.  ],\n",
       "        [ 4601.  ,  4601.  ],\n",
       "        [16600.  , 16600.  ]]])"
      ]
     },
     "execution_count": 36,
     "metadata": {},
     "output_type": "execute_result"
    }
   ],
   "source": [
    "np.dstack((lending_co_data_numeric_NAN,lending_co_data_numeric_NAN))"
   ]
  },
  {
   "cell_type": "code",
   "execution_count": 37,
   "id": "efb61d35",
   "metadata": {},
   "outputs": [],
   "source": [
    "array_example_1 = np.array([[[1,2,3,4],[5,6,7,8],[9,10,11,12],[13,14,15,16]]])"
   ]
  },
  {
   "cell_type": "code",
   "execution_count": 38,
   "id": "e53b3122",
   "metadata": {},
   "outputs": [],
   "source": [
    "array_example_2 = array_example_1 * 2"
   ]
  },
  {
   "cell_type": "code",
   "execution_count": 42,
   "id": "9f5906be",
   "metadata": {},
   "outputs": [
    {
     "data": {
      "text/plain": [
       "(1, 4, 4)"
      ]
     },
     "execution_count": 42,
     "metadata": {},
     "output_type": "execute_result"
    }
   ],
   "source": [
    "array_example_1.shape"
   ]
  },
  {
   "cell_type": "code",
   "execution_count": 41,
   "id": "8e6f83c9",
   "metadata": {},
   "outputs": [
    {
     "data": {
      "text/plain": [
       "(1, 4, 4)"
      ]
     },
     "execution_count": 41,
     "metadata": {},
     "output_type": "execute_result"
    }
   ],
   "source": [
    "array_example_2.shape"
   ]
  },
  {
   "cell_type": "code",
   "execution_count": 44,
   "id": "aeef6878",
   "metadata": {},
   "outputs": [
    {
     "data": {
      "text/plain": [
       "(1, 4, 8)"
      ]
     },
     "execution_count": 44,
     "metadata": {},
     "output_type": "execute_result"
    }
   ],
   "source": [
    "np.dstack((array_example_1,array_example_2)).shape"
   ]
  },
  {
   "cell_type": "code",
   "execution_count": null,
   "id": "0efdd2e0",
   "metadata": {},
   "outputs": [],
   "source": []
  }
 ],
 "metadata": {
  "kernelspec": {
   "display_name": "Python 3 (ipykernel)",
   "language": "python",
   "name": "python3"
  },
  "language_info": {
   "codemirror_mode": {
    "name": "ipython",
    "version": 3
   },
   "file_extension": ".py",
   "mimetype": "text/x-python",
   "name": "python",
   "nbconvert_exporter": "python",
   "pygments_lexer": "ipython3",
   "version": "3.9.12"
  }
 },
 "nbformat": 4,
 "nbformat_minor": 5
}
