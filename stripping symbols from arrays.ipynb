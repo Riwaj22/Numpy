{
 "cells": [
  {
   "cell_type": "code",
   "execution_count": 66,
   "id": "e44e711c",
   "metadata": {},
   "outputs": [],
   "source": [
    "import numpy as np"
   ]
  },
  {
   "cell_type": "code",
   "execution_count": 218,
   "id": "d8a86a9a",
   "metadata": {},
   "outputs": [],
   "source": [
    "lending_co_total_price = np.genfromtxt(r\"C:\\Users\\97798\\Desktop\\10.1 Lending-Company-Total-Price.csv\",\n",
    "                                      delimiter=',',\n",
    "                                       dtype = np.str_,\n",
    "                                       skip_header=1,\n",
    "                                       usecols=[1,2,4]\n",
    "                                    \n",
    "                                      )"
   ]
  },
  {
   "cell_type": "code",
   "execution_count": 220,
   "id": "e37a9e4e",
   "metadata": {},
   "outputs": [
    {
     "data": {
      "text/plain": [
       "array([['id_1', 'Product B', 'Location 2'],\n",
       "       ['id_2', 'Product B', 'Location 3'],\n",
       "       ['id_3', 'Product C', 'Location 5'],\n",
       "       ...,\n",
       "       ['id_413', 'Product B', 'Location 135'],\n",
       "       ['id_414', 'Product C', 'Location 200'],\n",
       "       ['id_415', 'Product A', 'Location 8']], dtype='<U12')"
      ]
     },
     "execution_count": 220,
     "metadata": {},
     "output_type": "execute_result"
    }
   ],
   "source": [
    "# using only text data for stripping purpose\n",
    "lending_co_total_price"
   ]
  },
  {
   "cell_type": "code",
   "execution_count": 221,
   "id": "d1f50b8b",
   "metadata": {},
   "outputs": [
    {
     "data": {
      "text/plain": [
       "numpy.ndarray"
      ]
     },
     "execution_count": 221,
     "metadata": {},
     "output_type": "execute_result"
    }
   ],
   "source": [
    "type(lending_co_total_price)"
   ]
  },
  {
   "cell_type": "code",
   "execution_count": 225,
   "id": "fe41629b",
   "metadata": {},
   "outputs": [
    {
     "data": {
      "text/plain": [
       "array(['id_1', 'id_2', 'id_3', 'id_4', 'id_5', 'id_6', 'id_7', 'id_8',\n",
       "       'id_9', 'id_10', 'id_11', 'id_12', 'id_13', 'id_14', 'id_15',\n",
       "       'id_16', 'id_17', 'id_18', 'id_19', 'id_20', 'id_21', 'id_22',\n",
       "       'id_23', 'id_24', 'id_25', 'id_26', 'id_27', 'id_28', 'id_29',\n",
       "       'id_30', 'id_31', 'id_32', 'id_33', 'id_34', 'id_35', 'id_36',\n",
       "       'id_37', 'id_38', 'id_39', 'id_40', 'id_41', 'id_42', 'id_43',\n",
       "       'id_44', 'id_45', 'id_46', 'id_47', 'id_48', 'id_49', 'id_50',\n",
       "       'id_51', 'id_52', 'id_53', 'id_54', 'id_55', 'id_56', 'id_57',\n",
       "       'id_58', 'id_59', 'id_60', 'id_61', 'id_62', 'id_63', 'id_64',\n",
       "       'id_65', 'id_66', 'id_67', 'id_68', 'id_69', 'id_70', 'id_71',\n",
       "       'id_72', 'id_73', 'id_74', 'id_75', 'id_76', 'id_77', 'id_78',\n",
       "       'id_79', 'id_80', 'id_81', 'id_82', 'id_83', 'id_84', 'id_85',\n",
       "       'id_86', 'id_87', 'id_88', 'id_89', 'id_90', 'id_91', 'id_92',\n",
       "       'id_93', 'id_94', 'id_95', 'id_96', 'id_97', 'id_98', 'id_99',\n",
       "       'id_100', 'id_101', 'id_102', 'id_103', 'id_104', 'id_105',\n",
       "       'id_106', 'id_107', 'id_108', 'id_109', 'id_110', 'id_111',\n",
       "       'id_112', 'id_113', 'id_114', 'id_115', 'id_116', 'id_117',\n",
       "       'id_118', 'id_119', 'id_120', 'id_121', 'id_122', 'id_123',\n",
       "       'id_124', 'id_125', 'id_126', 'id_127', 'id_128', 'id_129',\n",
       "       'id_130', 'id_131', 'id_132', 'id_133', 'id_134', 'id_135',\n",
       "       'id_136', 'id_137', 'id_138', 'id_139', 'id_140', 'id_141',\n",
       "       'id_142', 'id_143', 'id_144', 'id_145', 'id_146', 'id_147',\n",
       "       'id_148', 'id_149', 'id_150', 'id_151', 'id_152', 'id_153',\n",
       "       'id_154', 'id_155', 'id_156', 'id_157', 'id_158', 'id_159',\n",
       "       'id_160', 'id_161', 'id_162', 'id_163', 'id_164', 'id_165',\n",
       "       'id_166', 'id_167', 'id_168', 'id_169', 'id_170', 'id_171',\n",
       "       'id_172', 'id_173', 'id_174', 'id_175', 'id_176', 'id_177',\n",
       "       'id_178', 'id_179', 'id_180', 'id_181', 'id_182', 'id_183',\n",
       "       'id_184', 'id_185', 'id_186', 'id_187', 'id_188', 'id_189',\n",
       "       'id_190', 'id_191', 'id_192', 'id_193', 'id_194', 'id_195',\n",
       "       'id_196', 'id_197', 'id_198', 'id_199', 'id_200', 'id_201',\n",
       "       'id_202', 'id_203', 'id_204', 'id_205', 'id_206', 'id_207',\n",
       "       'id_208', 'id_209', 'id_210', 'id_211', 'id_212', 'id_213',\n",
       "       'id_214', 'id_215', 'id_216', 'id_217', 'id_218', 'id_219',\n",
       "       'id_220', 'id_221', 'id_222', 'id_223', 'id_224', 'id_225',\n",
       "       'id_226', 'id_227', 'id_228', 'id_229', 'id_230', 'id_231',\n",
       "       'id_232', 'id_233', 'id_234', 'id_235', 'id_236', 'id_237',\n",
       "       'id_238', 'id_239', 'id_240', 'id_241', 'id_242', 'id_243',\n",
       "       'id_244', 'id_245', 'id_246', 'id_247', 'id_248', 'id_249',\n",
       "       'id_250', 'id_251', 'id_252', 'id_253', 'id_254', 'id_255',\n",
       "       'id_256', 'id_257', 'id_258', 'id_259', 'id_260', 'id_261',\n",
       "       'id_262', 'id_263', 'id_264', 'id_265', 'id_266', 'id_267',\n",
       "       'id_268', 'id_269', 'id_270', 'id_271', 'id_272', 'id_273',\n",
       "       'id_274', 'id_275', 'id_276', 'id_277', 'id_278', 'id_279',\n",
       "       'id_280', 'id_281', 'id_282', 'id_283', 'id_284', 'id_285',\n",
       "       'id_286', 'id_287', 'id_288', 'id_289', 'id_290', 'id_291',\n",
       "       'id_292', 'id_293', 'id_294', 'id_295', 'id_296', 'id_297',\n",
       "       'id_298', 'id_299', 'id_300', 'id_301', 'id_302', 'id_303',\n",
       "       'id_304', 'id_305', 'id_306', 'id_307', 'id_308', 'id_309',\n",
       "       'id_310', 'id_311', 'id_312', 'id_313', 'id_314', 'id_315',\n",
       "       'id_316', 'id_317', 'id_318', 'id_319', 'id_320', 'id_321',\n",
       "       'id_322', 'id_323', 'id_324', 'id_325', 'id_326', 'id_327',\n",
       "       'id_328', 'id_329', 'id_330', 'id_331', 'id_332', 'id_333',\n",
       "       'id_334', 'id_335', 'id_336', 'id_337', 'id_338', 'id_339',\n",
       "       'id_340', 'id_341', 'id_342', 'id_343', 'id_344', 'id_345',\n",
       "       'id_346', 'id_347', 'id_348', 'id_349', 'id_350', 'id_351',\n",
       "       'id_352', 'id_353', 'id_354', 'id_355', 'id_356', 'id_357',\n",
       "       'id_358', 'id_359', 'id_360', 'id_361', 'id_362', 'id_363',\n",
       "       'id_364', 'id_365', 'id_366', 'id_367', 'id_368', 'id_369',\n",
       "       'id_370', 'id_371', 'id_372', 'id_373', 'id_374', 'id_375',\n",
       "       'id_376', 'id_377', 'id_378', 'id_379', 'id_380', 'id_381',\n",
       "       'id_382', 'id_383', 'id_384', 'id_385', 'id_386', 'id_387',\n",
       "       'id_388', 'id_389', 'id_390', 'id_391', 'id_392', 'id_393',\n",
       "       'id_394', 'id_395', 'id_396', 'id_397', 'id_398', 'id_399',\n",
       "       'id_400', 'id_401', 'id_402', 'id_403', 'id_404', 'id_405',\n",
       "       'id_406', 'id_407', 'id_408', 'id_409', 'id_410', 'id_411',\n",
       "       'id_412', 'id_413', 'id_414', 'id_415'], dtype='<U12')"
      ]
     },
     "execution_count": 225,
     "metadata": {},
     "output_type": "execute_result"
    }
   ],
   "source": [
    "# stripping: removing specific parts of strings\n",
    "lending_co_total_price[:,0]"
   ]
  },
  {
   "cell_type": "code",
   "execution_count": 227,
   "id": "ff76d84d",
   "metadata": {},
   "outputs": [],
   "source": [
    "# stripping id_\n",
    "lending_co_total_price[:,0]=np.chararray.strip(lending_co_total_price[:,0],\"id_\")"
   ]
  },
  {
   "cell_type": "code",
   "execution_count": 228,
   "id": "745167a7",
   "metadata": {},
   "outputs": [
    {
     "data": {
      "text/plain": [
       "array([['1', 'Product B', 'Location 2'],\n",
       "       ['2', 'Product B', 'Location 3'],\n",
       "       ['3', 'Product C', 'Location 5'],\n",
       "       ...,\n",
       "       ['413', 'Product B', 'Location 135'],\n",
       "       ['414', 'Product C', 'Location 200'],\n",
       "       ['415', 'Product A', 'Location 8']], dtype='<U12')"
      ]
     },
     "execution_count": 228,
     "metadata": {},
     "output_type": "execute_result"
    }
   ],
   "source": [
    "lending_co_total_price\n"
   ]
  },
  {
   "cell_type": "code",
   "execution_count": 229,
   "id": "2810cc2e",
   "metadata": {},
   "outputs": [],
   "source": [
    "# stripping both product and location as well"
   ]
  },
  {
   "cell_type": "code",
   "execution_count": 230,
   "id": "438b3bdc",
   "metadata": {},
   "outputs": [],
   "source": [
    "lending_co_total_price[:,1] = np.chararray.strip(lending_co_total_price[:,1],\"Product \")"
   ]
  },
  {
   "cell_type": "code",
   "execution_count": 231,
   "id": "606e1e17",
   "metadata": {},
   "outputs": [
    {
     "data": {
      "text/plain": [
       "array([['1', 'B', 'Location 2'],\n",
       "       ['2', 'B', 'Location 3'],\n",
       "       ['3', 'C', 'Location 5'],\n",
       "       ...,\n",
       "       ['413', 'B', 'Location 135'],\n",
       "       ['414', 'C', 'Location 200'],\n",
       "       ['415', 'A', 'Location 8']], dtype='<U12')"
      ]
     },
     "execution_count": 231,
     "metadata": {},
     "output_type": "execute_result"
    }
   ],
   "source": [
    "lending_co_total_price"
   ]
  },
  {
   "cell_type": "code",
   "execution_count": 232,
   "id": "dd60f3e7",
   "metadata": {},
   "outputs": [],
   "source": [
    "lending_co_total_price[:,2] = np.chararray.strip(lending_co_total_price[:,2],\"Location \")"
   ]
  },
  {
   "cell_type": "code",
   "execution_count": 245,
   "id": "84f8210b",
   "metadata": {},
   "outputs": [
    {
     "data": {
      "text/plain": [
       "array([['1', '2', '2'],\n",
       "       ['2', '2', '3'],\n",
       "       ['3', '3', '5'],\n",
       "       ...,\n",
       "       ['413', '2', '135'],\n",
       "       ['414', '3', '200'],\n",
       "       ['415', '1', '8']], dtype='<U12')"
      ]
     },
     "execution_count": 245,
     "metadata": {},
     "output_type": "execute_result"
    }
   ],
   "source": [
    "lending_co_total_price"
   ]
  },
  {
   "cell_type": "code",
   "execution_count": 247,
   "id": "e43f16ce",
   "metadata": {},
   "outputs": [],
   "source": [
    "# conversion of categorical value into numbers\n",
    "\n",
    "lending_co_total_price[:,1] = np.where(lending_co_total_price[:,1] == 'A',1, lending_co_total_price[:,1])\n",
    "lending_co_total_price[:,1] = np.where(lending_co_total_price[:,1] == 'B',2, lending_co_total_price[:,1])\n",
    "lending_co_total_price[:,1] = np.where(lending_co_total_price[:,1] == 'C',3, lending_co_total_price[:,1])\n",
    "lending_co_total_price[:,1] = np.where(lending_co_total_price[:,1] == 'D',4, lending_co_total_price[:,1])\n",
    "lending_co_total_price[:,1] = np.where(lending_co_total_price[:,1] == 'E',5, lending_co_total_price[:,1])\n",
    "lending_co_total_price[:,1] = np.where(lending_co_total_price[:,1] == 'F',6, lending_co_total_price[:,1])"
   ]
  },
  {
   "cell_type": "code",
   "execution_count": 248,
   "id": "e6054faf",
   "metadata": {},
   "outputs": [],
   "source": [
    "lending_co_total_price = lending_co_total_price.astype(dtype = np.int32)"
   ]
  },
  {
   "cell_type": "code",
   "execution_count": 249,
   "id": "88b0e324",
   "metadata": {},
   "outputs": [
    {
     "data": {
      "text/plain": [
       "array([[  1,   2,   2],\n",
       "       [  2,   2,   3],\n",
       "       [  3,   3,   5],\n",
       "       ...,\n",
       "       [413,   2, 135],\n",
       "       [414,   3, 200],\n",
       "       [415,   1,   8]])"
      ]
     },
     "execution_count": 249,
     "metadata": {},
     "output_type": "execute_result"
    }
   ],
   "source": [
    "lending_co_total_price"
   ]
  },
  {
   "cell_type": "code",
   "execution_count": null,
   "id": "242d8f29",
   "metadata": {},
   "outputs": [],
   "source": []
  }
 ],
 "metadata": {
  "kernelspec": {
   "display_name": "Python 3 (ipykernel)",
   "language": "python",
   "name": "python3"
  },
  "language_info": {
   "codemirror_mode": {
    "name": "ipython",
    "version": 3
   },
   "file_extension": ".py",
   "mimetype": "text/x-python",
   "name": "python",
   "nbconvert_exporter": "python",
   "pygments_lexer": "ipython3",
   "version": "3.9.12"
  }
 },
 "nbformat": 4,
 "nbformat_minor": 5
}
