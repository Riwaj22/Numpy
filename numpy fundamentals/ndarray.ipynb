{
 "cells": [
  {
   "cell_type": "code",
   "execution_count": 2,
   "id": "2e62ce3d",
   "metadata": {},
   "outputs": [],
   "source": [
    "import numpy as np"
   ]
  },
  {
   "cell_type": "code",
   "execution_count": 4,
   "id": "f63d7507",
   "metadata": {},
   "outputs": [],
   "source": [
    "#  ndarray\n",
    "# a special datatype in python\n",
    "# element wise properties"
   ]
  },
  {
   "cell_type": "code",
   "execution_count": 7,
   "id": "abfb8bbd",
   "metadata": {},
   "outputs": [],
   "source": [
    "# declare an nd array\n",
    "\n",
    "array_a = np.array([1,2,3])\n"
   ]
  },
  {
   "cell_type": "code",
   "execution_count": 8,
   "id": "46daad88",
   "metadata": {},
   "outputs": [
    {
     "data": {
      "text/plain": [
       "array([1, 2, 3])"
      ]
     },
     "execution_count": 8,
     "metadata": {},
     "output_type": "execute_result"
    }
   ],
   "source": [
    "array_a"
   ]
  },
  {
   "cell_type": "code",
   "execution_count": 10,
   "id": "73313d37",
   "metadata": {},
   "outputs": [
    {
     "data": {
      "text/plain": [
       "numpy.ndarray"
      ]
     },
     "execution_count": 10,
     "metadata": {},
     "output_type": "execute_result"
    }
   ],
   "source": [
    "type(array_a)"
   ]
  },
  {
   "cell_type": "code",
   "execution_count": 11,
   "id": "7b6a2446",
   "metadata": {},
   "outputs": [],
   "source": [
    "# nd array is object of array(name of function)"
   ]
  },
  {
   "cell_type": "code",
   "execution_count": 13,
   "id": "81ffc0b1",
   "metadata": {},
   "outputs": [
    {
     "data": {
      "text/plain": [
       "(3,)"
      ]
     },
     "execution_count": 13,
     "metadata": {},
     "output_type": "execute_result"
    }
   ],
   "source": [
    "array_a.shape"
   ]
  },
  {
   "cell_type": "code",
   "execution_count": 15,
   "id": "4d7410b0",
   "metadata": {},
   "outputs": [],
   "source": [
    "array_b = np.array([[1,2,3],[4,5,6]])"
   ]
  },
  {
   "cell_type": "code",
   "execution_count": 16,
   "id": "cdc0667d",
   "metadata": {},
   "outputs": [
    {
     "data": {
      "text/plain": [
       "(2, 3)"
      ]
     },
     "execution_count": 16,
     "metadata": {},
     "output_type": "execute_result"
    }
   ],
   "source": [
    "array_b.shape"
   ]
  },
  {
   "cell_type": "code",
   "execution_count": 17,
   "id": "b0d011ea",
   "metadata": {},
   "outputs": [
    {
     "data": {
      "text/plain": [
       "numpy.ndarray"
      ]
     },
     "execution_count": 17,
     "metadata": {},
     "output_type": "execute_result"
    }
   ],
   "source": [
    "type(array_b)"
   ]
  },
  {
   "cell_type": "code",
   "execution_count": 19,
   "id": "9967ab10",
   "metadata": {},
   "outputs": [
    {
     "name": "stdout",
     "output_type": "stream",
     "text": [
      "[[1 2 3]\n",
      " [4 5 6]]\n"
     ]
    }
   ],
   "source": [
    "print(array_b)"
   ]
  },
  {
   "cell_type": "code",
   "execution_count": 20,
   "id": "77a0a454",
   "metadata": {},
   "outputs": [
    {
     "name": "stdout",
     "output_type": "stream",
     "text": [
      "[1 2 3]\n"
     ]
    }
   ],
   "source": [
    "print(array_a)"
   ]
  },
  {
   "cell_type": "code",
   "execution_count": 23,
   "id": "e020e23c",
   "metadata": {},
   "outputs": [],
   "source": [
    "array_c = np.array(14)"
   ]
  },
  {
   "cell_type": "code",
   "execution_count": 25,
   "id": "a67d72be",
   "metadata": {},
   "outputs": [
    {
     "data": {
      "text/plain": [
       "numpy.ndarray"
      ]
     },
     "execution_count": 25,
     "metadata": {},
     "output_type": "execute_result"
    }
   ],
   "source": [
    "type(array_c)"
   ]
  },
  {
   "cell_type": "code",
   "execution_count": 27,
   "id": "fe26c735",
   "metadata": {},
   "outputs": [
    {
     "data": {
      "text/plain": [
       "()"
      ]
     },
     "execution_count": 27,
     "metadata": {},
     "output_type": "execute_result"
    }
   ],
   "source": [
    "array_c.shape"
   ]
  },
  {
   "cell_type": "code",
   "execution_count": 29,
   "id": "29aba1cf",
   "metadata": {},
   "outputs": [],
   "source": [
    "array_d = np.array([15])"
   ]
  },
  {
   "cell_type": "code",
   "execution_count": 31,
   "id": "1cb856b5",
   "metadata": {},
   "outputs": [
    {
     "data": {
      "text/plain": [
       "numpy.ndarray"
      ]
     },
     "execution_count": 31,
     "metadata": {},
     "output_type": "execute_result"
    }
   ],
   "source": [
    "type(array_d)"
   ]
  },
  {
   "cell_type": "code",
   "execution_count": 33,
   "id": "fc37bc32",
   "metadata": {},
   "outputs": [
    {
     "name": "stdout",
     "output_type": "stream",
     "text": [
      "[15]\n"
     ]
    }
   ],
   "source": [
    "print(array_d)"
   ]
  },
  {
   "cell_type": "code",
   "execution_count": 34,
   "id": "f1785ce5",
   "metadata": {},
   "outputs": [
    {
     "data": {
      "text/plain": [
       "(1,)"
      ]
     },
     "execution_count": 34,
     "metadata": {},
     "output_type": "execute_result"
    }
   ],
   "source": [
    "array_d.shape"
   ]
  },
  {
   "cell_type": "code",
   "execution_count": null,
   "id": "0cef4a3b",
   "metadata": {},
   "outputs": [],
   "source": []
  }
 ],
 "metadata": {
  "kernelspec": {
   "display_name": "Python 3 (ipykernel)",
   "language": "python",
   "name": "python3"
  },
  "language_info": {
   "codemirror_mode": {
    "name": "ipython",
    "version": 3
   },
   "file_extension": ".py",
   "mimetype": "text/x-python",
   "name": "python",
   "nbconvert_exporter": "python",
   "pygments_lexer": "ipython3",
   "version": "3.9.12"
  }
 },
 "nbformat": 4,
 "nbformat_minor": 5
}
