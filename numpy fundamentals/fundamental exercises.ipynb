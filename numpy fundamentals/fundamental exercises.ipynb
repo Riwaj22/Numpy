{
 "cells": [
  {
   "cell_type": "code",
   "execution_count": 161,
   "id": "48985f23",
   "metadata": {},
   "outputs": [],
   "source": [
    "import numpy as np"
   ]
  },
  {
   "cell_type": "code",
   "execution_count": 162,
   "id": "c472ac9e",
   "metadata": {},
   "outputs": [
    {
     "data": {
      "text/plain": [
       "array([10, 11, 12, 13, 14])"
      ]
     },
     "execution_count": 162,
     "metadata": {},
     "output_type": "execute_result"
    }
   ],
   "source": [
    "array_1D = np.array([10,11,12,13, 14])\n",
    "array_1D"
   ]
  },
  {
   "cell_type": "code",
   "execution_count": 163,
   "id": "b6bab488",
   "metadata": {},
   "outputs": [
    {
     "data": {
      "text/plain": [
       "array([[20, 30, 40, 50, 60],\n",
       "       [43, 54, 65, 76, 87],\n",
       "       [11, 22, 33, 44, 55]])"
      ]
     },
     "execution_count": 163,
     "metadata": {},
     "output_type": "execute_result"
    }
   ],
   "source": [
    "array_2D = np.array([[20,30,40,50,60], [43,54,65,76,87], [11,22,33,44,55]])\n",
    "array_2D"
   ]
  },
  {
   "cell_type": "code",
   "execution_count": 164,
   "id": "84bc2a9f",
   "metadata": {},
   "outputs": [
    {
     "data": {
      "text/plain": [
       "array([[[ 1,  2,  3,  4,  5],\n",
       "        [11, 21, 31, 41, 51]],\n",
       "\n",
       "       [[11, 12, 13, 14, 15],\n",
       "        [51, 52, 53, 54,  5]]])"
      ]
     },
     "execution_count": 164,
     "metadata": {},
     "output_type": "execute_result"
    }
   ],
   "source": [
    "array_3D = np.array([[[1,2,3,4,5], [11,21,31,41,51]], [[11,12,13,14,15], [51,52,53,54,5]]])\n",
    "array_3D"
   ]
  },
  {
   "cell_type": "code",
   "execution_count": 165,
   "id": "e68983cc",
   "metadata": {},
   "outputs": [],
   "source": [
    "### 2. Display the first element (not necessarily individual element) for each of the 3 arrays we defined above."
   ]
  },
  {
   "cell_type": "code",
   "execution_count": 167,
   "id": "a820dd2c",
   "metadata": {},
   "outputs": [
    {
     "data": {
      "text/plain": [
       "10"
      ]
     },
     "execution_count": 167,
     "metadata": {},
     "output_type": "execute_result"
    }
   ],
   "source": [
    "array_1D[0]"
   ]
  },
  {
   "cell_type": "code",
   "execution_count": 171,
   "id": "602dc349",
   "metadata": {},
   "outputs": [
    {
     "data": {
      "text/plain": [
       "array([20, 30, 40, 50, 60])"
      ]
     },
     "execution_count": 171,
     "metadata": {},
     "output_type": "execute_result"
    }
   ],
   "source": [
    "array_2D[0]"
   ]
  },
  {
   "cell_type": "code",
   "execution_count": 173,
   "id": "7ad84df6",
   "metadata": {},
   "outputs": [
    {
     "data": {
      "text/plain": [
       "array([1, 2, 3, 4, 5])"
      ]
     },
     "execution_count": 173,
     "metadata": {},
     "output_type": "execute_result"
    }
   ],
   "source": [
    "array_3D[0][0]"
   ]
  },
  {
   "cell_type": "code",
   "execution_count": 174,
   "id": "10f06a35",
   "metadata": {},
   "outputs": [],
   "source": [
    "### 3. Call the first individual element of the each of the 3 arrays. "
   ]
  },
  {
   "cell_type": "code",
   "execution_count": 177,
   "id": "50907506",
   "metadata": {},
   "outputs": [
    {
     "data": {
      "text/plain": [
       "10"
      ]
     },
     "execution_count": 177,
     "metadata": {},
     "output_type": "execute_result"
    }
   ],
   "source": [
    "array_1D[0]"
   ]
  },
  {
   "cell_type": "code",
   "execution_count": 178,
   "id": "e0e0386b",
   "metadata": {},
   "outputs": [
    {
     "data": {
      "text/plain": [
       "20"
      ]
     },
     "execution_count": 178,
     "metadata": {},
     "output_type": "execute_result"
    }
   ],
   "source": [
    "array_2D[0][0]"
   ]
  },
  {
   "cell_type": "code",
   "execution_count": 179,
   "id": "2cef68cc",
   "metadata": {},
   "outputs": [
    {
     "data": {
      "text/plain": [
       "1"
      ]
     },
     "execution_count": 179,
     "metadata": {},
     "output_type": "execute_result"
    }
   ],
   "source": [
    "array_3D[0][0][0]"
   ]
  },
  {
   "cell_type": "code",
   "execution_count": 180,
   "id": "d8240871",
   "metadata": {},
   "outputs": [],
   "source": [
    "### 4. Uses negative indices to display the last element of each array."
   ]
  },
  {
   "cell_type": "code",
   "execution_count": 182,
   "id": "6bdba8e6",
   "metadata": {},
   "outputs": [
    {
     "data": {
      "text/plain": [
       "14"
      ]
     },
     "execution_count": 182,
     "metadata": {},
     "output_type": "execute_result"
    }
   ],
   "source": [
    "array_1D[-1]"
   ]
  },
  {
   "cell_type": "code",
   "execution_count": 185,
   "id": "ceb35e15",
   "metadata": {},
   "outputs": [
    {
     "data": {
      "text/plain": [
       "55"
      ]
     },
     "execution_count": 185,
     "metadata": {},
     "output_type": "execute_result"
    }
   ],
   "source": [
    "array_2D[-1][-1]"
   ]
  },
  {
   "cell_type": "code",
   "execution_count": 186,
   "id": "36edacd3",
   "metadata": {},
   "outputs": [
    {
     "data": {
      "text/plain": [
       "5"
      ]
     },
     "execution_count": 186,
     "metadata": {},
     "output_type": "execute_result"
    }
   ],
   "source": [
    "array_3D[-1][-1][-1]"
   ]
  },
  {
   "cell_type": "code",
   "execution_count": 187,
   "id": "0cec254f",
   "metadata": {},
   "outputs": [],
   "source": [
    "### 5. Set the penultimate (second-to-last) <i> individual </i> element of each array equal to 10. Then display the variables to check your work."
   ]
  },
  {
   "cell_type": "code",
   "execution_count": 191,
   "id": "af237041",
   "metadata": {},
   "outputs": [],
   "source": [
    "array_1D[-2] = 10"
   ]
  },
  {
   "cell_type": "code",
   "execution_count": 193,
   "id": "11b8ce8c",
   "metadata": {},
   "outputs": [
    {
     "data": {
      "text/plain": [
       "array([10, 11, 12, 10, 14])"
      ]
     },
     "execution_count": 193,
     "metadata": {},
     "output_type": "execute_result"
    }
   ],
   "source": [
    "array_1D"
   ]
  },
  {
   "cell_type": "code",
   "execution_count": 195,
   "id": "58d8c8d5",
   "metadata": {},
   "outputs": [],
   "source": [
    "array_2D[-1][-2]  = 10"
   ]
  },
  {
   "cell_type": "code",
   "execution_count": 196,
   "id": "434e5545",
   "metadata": {},
   "outputs": [
    {
     "data": {
      "text/plain": [
       "array([[20, 30, 40, 50, 60],\n",
       "       [43, 54, 65, 76, 87],\n",
       "       [11, 22, 33, 10, 55]])"
      ]
     },
     "execution_count": 196,
     "metadata": {},
     "output_type": "execute_result"
    }
   ],
   "source": [
    "array_2D"
   ]
  },
  {
   "cell_type": "code",
   "execution_count": 198,
   "id": "61fe2e5f",
   "metadata": {},
   "outputs": [],
   "source": [
    "array_3D[-1][-1][-2]  = 10"
   ]
  },
  {
   "cell_type": "code",
   "execution_count": 200,
   "id": "6d66f5da",
   "metadata": {},
   "outputs": [
    {
     "data": {
      "text/plain": [
       "array([[[ 1,  2,  3,  4,  5],\n",
       "        [11, 21, 31, 41, 51]],\n",
       "\n",
       "       [[11, 12, 13, 14, 15],\n",
       "        [51, 52, 53, 10,  5]]])"
      ]
     },
     "execution_count": 200,
     "metadata": {},
     "output_type": "execute_result"
    }
   ],
   "source": [
    "array_3D"
   ]
  },
  {
   "cell_type": "code",
   "execution_count": 201,
   "id": "7c77f7b7",
   "metadata": {},
   "outputs": [],
   "source": [
    "### 6. Set the last column of the 2-D array to 100. Then display the variables to check your work. "
   ]
  },
  {
   "cell_type": "code",
   "execution_count": 206,
   "id": "ffd03f91",
   "metadata": {},
   "outputs": [],
   "source": [
    "array_2D[:,4] = 100"
   ]
  },
  {
   "cell_type": "code",
   "execution_count": 207,
   "id": "7ecf0ceb",
   "metadata": {},
   "outputs": [
    {
     "data": {
      "text/plain": [
       "array([[ 20,  30,  40,  50, 100],\n",
       "       [ 43,  54,  65,  76, 100],\n",
       "       [ 11,  22,  33,  10, 100]])"
      ]
     },
     "execution_count": 207,
     "metadata": {},
     "output_type": "execute_result"
    }
   ],
   "source": [
    "array_2D"
   ]
  },
  {
   "cell_type": "code",
   "execution_count": 208,
   "id": "71c7329d",
   "metadata": {},
   "outputs": [],
   "source": [
    "### 7. Set all the values of the 3-D array to 1000. Then display the variables to check your work. "
   ]
  },
  {
   "cell_type": "code",
   "execution_count": 209,
   "id": "1c05f871",
   "metadata": {},
   "outputs": [],
   "source": [
    "array_3D[:,:]= 100"
   ]
  },
  {
   "cell_type": "code",
   "execution_count": 210,
   "id": "c41411ab",
   "metadata": {},
   "outputs": [
    {
     "data": {
      "text/plain": [
       "array([[[100, 100, 100, 100, 100],\n",
       "        [100, 100, 100, 100, 100]],\n",
       "\n",
       "       [[100, 100, 100, 100, 100],\n",
       "        [100, 100, 100, 100, 100]]])"
      ]
     },
     "execution_count": 210,
     "metadata": {},
     "output_type": "execute_result"
    }
   ],
   "source": [
    "array_3D"
   ]
  },
  {
   "cell_type": "code",
   "execution_count": 211,
   "id": "e09c0015",
   "metadata": {},
   "outputs": [
    {
     "data": {
      "text/plain": [
       "array([10, 11, 12, 13, 14])"
      ]
     },
     "execution_count": 211,
     "metadata": {},
     "output_type": "execute_result"
    }
   ],
   "source": [
    "array_1D = np.array([10,11,12,13,14])\n",
    "array_1D"
   ]
  },
  {
   "cell_type": "code",
   "execution_count": 212,
   "id": "1933fd41",
   "metadata": {},
   "outputs": [
    {
     "data": {
      "text/plain": [
       "array([[20, 30, 40, 50, 60],\n",
       "       [43, 54, 65, 76, 87],\n",
       "       [11, 22, 33, 44, 55]])"
      ]
     },
     "execution_count": 212,
     "metadata": {},
     "output_type": "execute_result"
    }
   ],
   "source": [
    "array_2D = np.array([[20,30,40,50,60], [43,54,65,76,87], [11,22,33,44,55]])\n",
    "array_2D"
   ]
  },
  {
   "cell_type": "code",
   "execution_count": 213,
   "id": "23a5b13d",
   "metadata": {},
   "outputs": [
    {
     "data": {
      "text/plain": [
       "array([[[ 1,  2,  3,  4,  5],\n",
       "        [11, 21, 31, 41, 51]],\n",
       "\n",
       "       [[11, 12, 13, 14, 15],\n",
       "        [51, 52, 53, 54,  5]]])"
      ]
     },
     "execution_count": 213,
     "metadata": {},
     "output_type": "execute_result"
    }
   ],
   "source": [
    "array_3D = np.array([[[1,2,3,4,5], [11,21,31,41,51]], [[11,12,13,14,15], [51,52,53,54,5]]])\n",
    "array_3D"
   ]
  },
  {
   "cell_type": "code",
   "execution_count": 216,
   "id": "28724636",
   "metadata": {},
   "outputs": [
    {
     "data": {
      "text/plain": [
       "array([[[ 3,  4,  5,  6,  7],\n",
       "        [13, 23, 33, 43, 53]],\n",
       "\n",
       "       [[13, 14, 15, 16, 17],\n",
       "        [53, 54, 55, 56,  7]]])"
      ]
     },
     "execution_count": 216,
     "metadata": {},
     "output_type": "execute_result"
    }
   ],
   "source": [
    "### 9. Add 2 to every element of the 3 arrays without overwriting their values.\n",
    "array_3D + 2"
   ]
  },
  {
   "cell_type": "code",
   "execution_count": 217,
   "id": "4fd9b5f0",
   "metadata": {},
   "outputs": [],
   "source": [
    "### 10. Multiply the values of each array by 100 without overwriting their values."
   ]
  },
  {
   "cell_type": "code",
   "execution_count": 219,
   "id": "e64df089",
   "metadata": {},
   "outputs": [
    {
     "data": {
      "text/plain": [
       "array([1000, 1100, 1200, 1300, 1400])"
      ]
     },
     "execution_count": 219,
     "metadata": {},
     "output_type": "execute_result"
    }
   ],
   "source": [
    "array_1D * 100"
   ]
  },
  {
   "cell_type": "code",
   "execution_count": 220,
   "id": "69b6f56b",
   "metadata": {},
   "outputs": [
    {
     "data": {
      "text/plain": [
       "array([[2000, 3000, 4000, 5000, 6000],\n",
       "       [4300, 5400, 6500, 7600, 8700],\n",
       "       [1100, 2200, 3300, 4400, 5500]])"
      ]
     },
     "execution_count": 220,
     "metadata": {},
     "output_type": "execute_result"
    }
   ],
   "source": [
    "array_2D*100"
   ]
  },
  {
   "cell_type": "code",
   "execution_count": 222,
   "id": "344cc76a",
   "metadata": {},
   "outputs": [
    {
     "data": {
      "text/plain": [
       "array([[[ 100,  200,  300,  400,  500],\n",
       "        [1100, 2100, 3100, 4100, 5100]],\n",
       "\n",
       "       [[1100, 1200, 1300, 1400, 1500],\n",
       "        [5100, 5200, 5300, 5400,  500]]])"
      ]
     },
     "execution_count": 222,
     "metadata": {},
     "output_type": "execute_result"
    }
   ],
   "source": [
    "array_3D * 100"
   ]
  },
  {
   "cell_type": "code",
   "execution_count": 223,
   "id": "fa469b56",
   "metadata": {},
   "outputs": [
    {
     "data": {
      "text/plain": [
       "array([30, 41, 52, 63, 74])"
      ]
     },
     "execution_count": 223,
     "metadata": {},
     "output_type": "execute_result"
    }
   ],
   "source": [
    "### 11. Add up <i>array_1D</i> and the first row of <i>array_2D</i>\n",
    "array_1D + array_2D[0]"
   ]
  },
  {
   "cell_type": "code",
   "execution_count": 224,
   "id": "7a3f7817",
   "metadata": {},
   "outputs": [],
   "source": [
    "### 12. Find the product of <i>array_1D</i> and the first row of <i>array_2D</i>"
   ]
  },
  {
   "cell_type": "code",
   "execution_count": 225,
   "id": "244dd5b5",
   "metadata": {},
   "outputs": [
    {
     "data": {
      "text/plain": [
       "array([200, 330, 480, 650, 840])"
      ]
     },
     "execution_count": 225,
     "metadata": {},
     "output_type": "execute_result"
    }
   ],
   "source": [
    "array_1D * array_2D[0]"
   ]
  },
  {
   "cell_type": "code",
   "execution_count": 226,
   "id": "0ac8fe38",
   "metadata": {},
   "outputs": [],
   "source": [
    "### 13. Find the product  of the first row of <i>array_2D</i> and the first row of the first array of <i> array_3D </i>"
   ]
  },
  {
   "cell_type": "code",
   "execution_count": 230,
   "id": "082e52fe",
   "metadata": {},
   "outputs": [
    {
     "data": {
      "text/plain": [
       "array([ 20,  60, 120, 200, 300])"
      ]
     },
     "execution_count": 230,
     "metadata": {},
     "output_type": "execute_result"
    }
   ],
   "source": [
    "array_2D[0] * array_3D[0][0]"
   ]
  },
  {
   "cell_type": "code",
   "execution_count": 235,
   "id": "f54ba0c0",
   "metadata": {},
   "outputs": [
    {
     "data": {
      "text/plain": [
       "array([10., 11., 12., 13., 14.], dtype=float32)"
      ]
     },
     "execution_count": 235,
     "metadata": {},
     "output_type": "execute_result"
    }
   ],
   "source": [
    "array_1D = np.array([10,11,12,13,14], dtype = np.float32)\n",
    "array_1D"
   ]
  },
  {
   "cell_type": "code",
   "execution_count": 236,
   "id": "ff04c1cc",
   "metadata": {},
   "outputs": [
    {
     "data": {
      "text/plain": [
       "array([[20., 30., 40., 50., 60.],\n",
       "       [43., 54., 65., 76., 87.],\n",
       "       [11., 22., 33., 44., 55.]], dtype=float32)"
      ]
     },
     "execution_count": 236,
     "metadata": {},
     "output_type": "execute_result"
    }
   ],
   "source": [
    "array_2D = np.array([[20,30,40,50,60], [43,54,65,76,87], [11,22,33,44,55]],dtype = np.float32)\n",
    "array_2D"
   ]
  },
  {
   "cell_type": "code",
   "execution_count": 237,
   "id": "609af473",
   "metadata": {},
   "outputs": [
    {
     "data": {
      "text/plain": [
       "array([[[ 1.,  2.,  3.,  4.,  5.],\n",
       "        [11., 21., 31., 41., 51.]],\n",
       "\n",
       "       [[11., 12., 13., 14., 15.],\n",
       "        [51., 52., 53., 54.,  5.]]], dtype=float32)"
      ]
     },
     "execution_count": 237,
     "metadata": {},
     "output_type": "execute_result"
    }
   ],
   "source": [
    "array_3D = np.array([[[1,2,3,4,5], [11,21,31,41,51]], [[11,12,13,14,15], [51,52,53,54,5]]], dtype = np.float32)\n",
    "array_3D"
   ]
  },
  {
   "cell_type": "code",
   "execution_count": 238,
   "id": "7059cf6c",
   "metadata": {},
   "outputs": [],
   "source": [
    "### 18. Use broadcasting to subtract  <i>array_1D</i> from every row of <i> array_2D </i> "
   ]
  },
  {
   "cell_type": "code",
   "execution_count": 239,
   "id": "bc90b859",
   "metadata": {},
   "outputs": [
    {
     "data": {
      "text/plain": [
       "array([[10., 19., 28., 37., 46.],\n",
       "       [33., 43., 53., 63., 73.],\n",
       "       [ 1., 11., 21., 31., 41.]], dtype=float32)"
      ]
     },
     "execution_count": 239,
     "metadata": {},
     "output_type": "execute_result"
    }
   ],
   "source": [
    "array_2D[:,:]- array_1D"
   ]
  },
  {
   "cell_type": "code",
   "execution_count": 240,
   "id": "487a01b2",
   "metadata": {},
   "outputs": [],
   "source": [
    "### 19. Use broadcasting to divide all rows of <i>array_3D</i> by <i> array_1D </i> "
   ]
  },
  {
   "cell_type": "code",
   "execution_count": 242,
   "id": "a495ff4e",
   "metadata": {},
   "outputs": [
    {
     "data": {
      "text/plain": [
       "array([[[ 1.,  2.,  3.,  4.,  5.],\n",
       "        [11., 21., 31., 41., 51.]],\n",
       "\n",
       "       [[11., 12., 13., 14., 15.],\n",
       "        [51., 52., 53., 54.,  5.]]], dtype=float32)"
      ]
     },
     "execution_count": 242,
     "metadata": {},
     "output_type": "execute_result"
    }
   ],
   "source": [
    "array_3D"
   ]
  },
  {
   "cell_type": "code",
   "execution_count": 244,
   "id": "b95c9da5",
   "metadata": {},
   "outputs": [
    {
     "data": {
      "text/plain": [
       "array([[[0.1       , 0.18181819, 0.25      , 0.30769232, 0.35714287],\n",
       "        [1.1       , 1.9090909 , 2.5833333 , 3.1538463 , 3.642857  ]],\n",
       "\n",
       "       [[1.1       , 1.0909091 , 1.0833334 , 1.0769231 , 1.0714285 ],\n",
       "        [5.1       , 4.7272725 , 4.4166665 , 4.1538463 , 0.35714287]]],\n",
       "      dtype=float32)"
      ]
     },
     "execution_count": 244,
     "metadata": {},
     "output_type": "execute_result"
    }
   ],
   "source": [
    "array_3D[:,:,:] / array_1D"
   ]
  },
  {
   "cell_type": "code",
   "execution_count": 249,
   "id": "aaf50ffe",
   "metadata": {},
   "outputs": [],
   "source": [
    "### 19. Use broadcasting to find the product of all rows of <i>array_3D</i>  and the last row of <i> array_2D </i> "
   ]
  },
  {
   "cell_type": "code",
   "execution_count": 250,
   "id": "3cb40c77",
   "metadata": {},
   "outputs": [
    {
     "data": {
      "text/plain": [
       "array([11., 22., 33., 44., 55.], dtype=float32)"
      ]
     },
     "execution_count": 250,
     "metadata": {},
     "output_type": "execute_result"
    }
   ],
   "source": [
    "array_2D[-1]"
   ]
  },
  {
   "cell_type": "code",
   "execution_count": 252,
   "id": "c7a146d4",
   "metadata": {},
   "outputs": [
    {
     "data": {
      "text/plain": [
       "array([[[  11.,   44.,   99.,  176.,  275.],\n",
       "        [ 121.,  462., 1023., 1804., 2805.]],\n",
       "\n",
       "       [[ 121.,  264.,  429.,  616.,  825.],\n",
       "        [ 561., 1144., 1749., 2376.,  275.]]], dtype=float32)"
      ]
     },
     "execution_count": 252,
     "metadata": {},
     "output_type": "execute_result"
    }
   ],
   "source": [
    "array_3D[:,:,:] * array_2D[-1]"
   ]
  },
  {
   "cell_type": "code",
   "execution_count": null,
   "id": "fef27c20",
   "metadata": {},
   "outputs": [],
   "source": []
  }
 ],
 "metadata": {
  "kernelspec": {
   "display_name": "Python 3 (ipykernel)",
   "language": "python",
   "name": "python3"
  },
  "language_info": {
   "codemirror_mode": {
    "name": "ipython",
    "version": 3
   },
   "file_extension": ".py",
   "mimetype": "text/x-python",
   "name": "python",
   "nbconvert_exporter": "python",
   "pygments_lexer": "ipython3",
   "version": "3.9.12"
  }
 },
 "nbformat": 4,
 "nbformat_minor": 5
}
