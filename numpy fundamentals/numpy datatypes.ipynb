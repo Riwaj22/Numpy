{
 "cells": [
  {
   "cell_type": "code",
   "execution_count": 126,
   "id": "c5666a52",
   "metadata": {},
   "outputs": [],
   "source": [
    "import numpy as np"
   ]
  },
  {
   "cell_type": "code",
   "execution_count": 127,
   "id": "2ccab822",
   "metadata": {},
   "outputs": [],
   "source": [
    "# numpy datatypes"
   ]
  },
  {
   "cell_type": "code",
   "execution_count": 128,
   "id": "6ec0da27",
   "metadata": {},
   "outputs": [],
   "source": [
    "array_a = np.array([[1,2,3],[4,5,6]])"
   ]
  },
  {
   "cell_type": "code",
   "execution_count": 129,
   "id": "a5f025e2",
   "metadata": {},
   "outputs": [
    {
     "data": {
      "text/plain": [
       "array([[1, 2, 3],\n",
       "       [4, 5, 6]])"
      ]
     },
     "execution_count": 129,
     "metadata": {},
     "output_type": "execute_result"
    }
   ],
   "source": [
    "array_a\n"
   ]
  },
  {
   "cell_type": "code",
   "execution_count": 131,
   "id": "bb5e5231",
   "metadata": {},
   "outputs": [],
   "source": [
    "array_a = np.array([[1,2,3],[4,5,6]], dtype = 'float32')"
   ]
  },
  {
   "cell_type": "code",
   "execution_count": 134,
   "id": "073fc136",
   "metadata": {},
   "outputs": [
    {
     "data": {
      "text/plain": [
       "numpy.ndarray"
      ]
     },
     "execution_count": 134,
     "metadata": {},
     "output_type": "execute_result"
    }
   ],
   "source": [
    "type(array_a\n",
    "    )"
   ]
  },
  {
   "cell_type": "code",
   "execution_count": 137,
   "id": "3773f5a4",
   "metadata": {},
   "outputs": [
    {
     "data": {
      "text/plain": [
       "array([[1., 2., 3.],\n",
       "       [4., 5., 6.]], dtype=float32)"
      ]
     },
     "execution_count": 137,
     "metadata": {},
     "output_type": "execute_result"
    }
   ],
   "source": [
    "array_a"
   ]
  },
  {
   "cell_type": "code",
   "execution_count": 139,
   "id": "1fddeaba",
   "metadata": {},
   "outputs": [],
   "source": [
    "array_a = np.array([[1,2,3],[4,5,6]], dtype = np.float32)"
   ]
  },
  {
   "cell_type": "code",
   "execution_count": 140,
   "id": "8508c534",
   "metadata": {},
   "outputs": [
    {
     "data": {
      "text/plain": [
       "(2, 3)"
      ]
     },
     "execution_count": 140,
     "metadata": {},
     "output_type": "execute_result"
    }
   ],
   "source": [
    "array_a.shape\n"
   ]
  },
  {
   "cell_type": "code",
   "execution_count": 141,
   "id": "37311921",
   "metadata": {},
   "outputs": [],
   "source": [
    "# complexnumbers"
   ]
  },
  {
   "cell_type": "code",
   "execution_count": 143,
   "id": "728b2ce6",
   "metadata": {},
   "outputs": [],
   "source": [
    "array_a = np.array([[1,2,3],[4,5,6]], dtype = np.complex64)"
   ]
  },
  {
   "cell_type": "code",
   "execution_count": 144,
   "id": "e42d4d67",
   "metadata": {},
   "outputs": [
    {
     "data": {
      "text/plain": [
       "array([[1.+0.j, 2.+0.j, 3.+0.j],\n",
       "       [4.+0.j, 5.+0.j, 6.+0.j]], dtype=complex64)"
      ]
     },
     "execution_count": 144,
     "metadata": {},
     "output_type": "execute_result"
    }
   ],
   "source": [
    "array_a"
   ]
  },
  {
   "cell_type": "code",
   "execution_count": 145,
   "id": "21715e0f",
   "metadata": {},
   "outputs": [],
   "source": [
    "# booleans "
   ]
  },
  {
   "cell_type": "code",
   "execution_count": 148,
   "id": "ff3b6521",
   "metadata": {},
   "outputs": [],
   "source": [
    "array_a = np.array([[1,2,3],[4,5,6]], dtype = 'bool')"
   ]
  },
  {
   "cell_type": "code",
   "execution_count": 150,
   "id": "dd9d92d8",
   "metadata": {},
   "outputs": [
    {
     "data": {
      "text/plain": [
       "array([[ True,  True,  True],\n",
       "       [ True,  True,  True]])"
      ]
     },
     "execution_count": 150,
     "metadata": {},
     "output_type": "execute_result"
    }
   ],
   "source": [
    "array_a"
   ]
  },
  {
   "cell_type": "code",
   "execution_count": 152,
   "id": "82f2b6e2",
   "metadata": {},
   "outputs": [],
   "source": [
    "# Text\n"
   ]
  },
  {
   "cell_type": "code",
   "execution_count": 157,
   "id": "5e0d6359",
   "metadata": {},
   "outputs": [],
   "source": [
    "array_a = np.array([[1,2,3],[4,5,6]], dtype=str)\n"
   ]
  },
  {
   "cell_type": "code",
   "execution_count": 159,
   "id": "9fa88274",
   "metadata": {},
   "outputs": [
    {
     "data": {
      "text/plain": [
       "array([['1', '2', '3'],\n",
       "       ['4', '5', '6']], dtype='<U1')"
      ]
     },
     "execution_count": 159,
     "metadata": {},
     "output_type": "execute_result"
    }
   ],
   "source": [
    "array_a"
   ]
  },
  {
   "cell_type": "code",
   "execution_count": null,
   "id": "5d45bac1",
   "metadata": {},
   "outputs": [],
   "source": []
  }
 ],
 "metadata": {
  "kernelspec": {
   "display_name": "Python 3 (ipykernel)",
   "language": "python",
   "name": "python3"
  },
  "language_info": {
   "codemirror_mode": {
    "name": "ipython",
    "version": 3
   },
   "file_extension": ".py",
   "mimetype": "text/x-python",
   "name": "python",
   "nbconvert_exporter": "python",
   "pygments_lexer": "ipython3",
   "version": "3.9.12"
  }
 },
 "nbformat": 4,
 "nbformat_minor": 5
}
